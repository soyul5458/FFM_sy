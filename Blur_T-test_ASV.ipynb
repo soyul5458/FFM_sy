{
 "cells": [
  {
   "cell_type": "markdown",
   "id": "b6f1bb14",
   "metadata": {},
   "source": [
    "## 2. LA"
   ]
  },
  {
   "cell_type": "code",
   "execution_count": 38,
   "id": "73400691",
   "metadata": {},
   "outputs": [],
   "source": [
    "import numpy as np\n",
    "import pandas as pd\n",
    "df_add = pd.read_excel(\"EER_ASV(mask, blur).xlsx\",engine=\"openpyxl\")"
   ]
  },
  {
   "cell_type": "code",
   "execution_count": 113,
   "id": "cfaa90da",
   "metadata": {},
   "outputs": [
    {
     "data": {
      "text/html": [
       "<div>\n",
       "<style scoped>\n",
       "    .dataframe tbody tr th:only-of-type {\n",
       "        vertical-align: middle;\n",
       "    }\n",
       "\n",
       "    .dataframe tbody tr th {\n",
       "        vertical-align: top;\n",
       "    }\n",
       "\n",
       "    .dataframe thead th {\n",
       "        text-align: right;\n",
       "    }\n",
       "</style>\n",
       "<table border=\"1\" class=\"dataframe\">\n",
       "  <thead>\n",
       "    <tr style=\"text-align: right;\">\n",
       "      <th></th>\n",
       "      <th>aug</th>\n",
       "      <th>model</th>\n",
       "      <th>beta_param</th>\n",
       "      <th>lowpass</th>\n",
       "      <th>highpass</th>\n",
       "      <th>ranfilter2</th>\n",
       "      <th>mask</th>\n",
       "      <th>blur</th>\n",
       "    </tr>\n",
       "  </thead>\n",
       "  <tbody>\n",
       "    <tr>\n",
       "      <th>0</th>\n",
       "      <td>Mixup, RF</td>\n",
       "      <td>BCResMax_LA_</td>\n",
       "      <td>0.7</td>\n",
       "      <td>False</td>\n",
       "      <td>False</td>\n",
       "      <td>[2, [8, 9, 10, 11, 12]]</td>\n",
       "      <td>5.84</td>\n",
       "      <td>4.54</td>\n",
       "    </tr>\n",
       "    <tr>\n",
       "      <th>1</th>\n",
       "      <td>Mixup, RF</td>\n",
       "      <td>BCResMax_LA_</td>\n",
       "      <td>0.7</td>\n",
       "      <td>False</td>\n",
       "      <td>False</td>\n",
       "      <td>[2, [8, 9, 10, 11, 12]]</td>\n",
       "      <td>5.15</td>\n",
       "      <td>5.17</td>\n",
       "    </tr>\n",
       "    <tr>\n",
       "      <th>2</th>\n",
       "      <td>Mixup, RF</td>\n",
       "      <td>BCResMax_LA_</td>\n",
       "      <td>0.7</td>\n",
       "      <td>False</td>\n",
       "      <td>False</td>\n",
       "      <td>[2, [8, 9, 10, 11, 12]]</td>\n",
       "      <td>4.53</td>\n",
       "      <td>5.36</td>\n",
       "    </tr>\n",
       "    <tr>\n",
       "      <th>3</th>\n",
       "      <td>Mixup, RF</td>\n",
       "      <td>DDWSseq_LA_</td>\n",
       "      <td>0.7</td>\n",
       "      <td>False</td>\n",
       "      <td>False</td>\n",
       "      <td>[2, [8, 9, 10, 11, 12]]</td>\n",
       "      <td>7.57</td>\n",
       "      <td>4.29</td>\n",
       "    </tr>\n",
       "    <tr>\n",
       "      <th>4</th>\n",
       "      <td>Mixup, RF</td>\n",
       "      <td>DDWSseq_LA_</td>\n",
       "      <td>0.7</td>\n",
       "      <td>False</td>\n",
       "      <td>False</td>\n",
       "      <td>[2, [8, 9, 10, 11, 12]]</td>\n",
       "      <td>6.55</td>\n",
       "      <td>4.17</td>\n",
       "    </tr>\n",
       "    <tr>\n",
       "      <th>...</th>\n",
       "      <td>...</td>\n",
       "      <td>...</td>\n",
       "      <td>...</td>\n",
       "      <td>...</td>\n",
       "      <td>...</td>\n",
       "      <td>...</td>\n",
       "      <td>...</td>\n",
       "      <td>...</td>\n",
       "    </tr>\n",
       "    <tr>\n",
       "      <th>79</th>\n",
       "      <td>Mixup, LF, HF, RF</td>\n",
       "      <td>LCNN_LA_</td>\n",
       "      <td>0.7</td>\n",
       "      <td>[[0.5, 0.5], [7, 8, 9, 10, 11, 12]]</td>\n",
       "      <td>[[0.5, 0.5], [80, 81, 82, 83, 84, 85, 86, 87]]</td>\n",
       "      <td>[2, [8, 9, 10, 11, 12]]</td>\n",
       "      <td>2.55</td>\n",
       "      <td>2.21</td>\n",
       "    </tr>\n",
       "    <tr>\n",
       "      <th>80</th>\n",
       "      <td>Mixup, LF, HF, RF</td>\n",
       "      <td>LCNN_LA_</td>\n",
       "      <td>0.7</td>\n",
       "      <td>[[0.5, 0.5], [7, 8, 9, 10, 11, 12]]</td>\n",
       "      <td>[[0.5, 0.5], [80, 81, 82, 83, 84, 85, 86, 87]]</td>\n",
       "      <td>[2, [8, 9, 10, 11, 12]]</td>\n",
       "      <td>2.17</td>\n",
       "      <td>2.43</td>\n",
       "    </tr>\n",
       "    <tr>\n",
       "      <th>81</th>\n",
       "      <td>Mixup, LF, HF, RF</td>\n",
       "      <td>ResMax_LA_</td>\n",
       "      <td>0.7</td>\n",
       "      <td>[[0.5, 0.5], [7, 8, 9, 10, 11, 12]]</td>\n",
       "      <td>[[0.5, 0.5], [80, 81, 82, 83, 84, 85, 86, 87]]</td>\n",
       "      <td>[2, [8, 9, 10, 11, 12]]</td>\n",
       "      <td>4.12</td>\n",
       "      <td>3.20</td>\n",
       "    </tr>\n",
       "    <tr>\n",
       "      <th>82</th>\n",
       "      <td>Mixup, LF, HF, RF</td>\n",
       "      <td>ResMax_LA_</td>\n",
       "      <td>0.7</td>\n",
       "      <td>[[0.5, 0.5], [7, 8, 9, 10, 11, 12]]</td>\n",
       "      <td>[[0.5, 0.5], [80, 81, 82, 83, 84, 85, 86, 87]]</td>\n",
       "      <td>[2, [8, 9, 10, 11, 12]]</td>\n",
       "      <td>3.71</td>\n",
       "      <td>3.40</td>\n",
       "    </tr>\n",
       "    <tr>\n",
       "      <th>83</th>\n",
       "      <td>Mixup, LF, HF, RF</td>\n",
       "      <td>ResMax_LA_</td>\n",
       "      <td>0.7</td>\n",
       "      <td>[[0.5, 0.5], [7, 8, 9, 10, 11, 12]]</td>\n",
       "      <td>[[0.5, 0.5], [80, 81, 82, 83, 84, 85, 86, 87]]</td>\n",
       "      <td>[2, [8, 9, 10, 11, 12]]</td>\n",
       "      <td>3.52</td>\n",
       "      <td>3.57</td>\n",
       "    </tr>\n",
       "  </tbody>\n",
       "</table>\n",
       "<p>84 rows × 8 columns</p>\n",
       "</div>"
      ],
      "text/plain": [
       "                  aug         model  beta_param  \\\n",
       "0           Mixup, RF  BCResMax_LA_         0.7   \n",
       "1           Mixup, RF  BCResMax_LA_         0.7   \n",
       "2           Mixup, RF  BCResMax_LA_         0.7   \n",
       "3           Mixup, RF   DDWSseq_LA_         0.7   \n",
       "4           Mixup, RF   DDWSseq_LA_         0.7   \n",
       "..                ...           ...         ...   \n",
       "79  Mixup, LF, HF, RF      LCNN_LA_         0.7   \n",
       "80  Mixup, LF, HF, RF      LCNN_LA_         0.7   \n",
       "81  Mixup, LF, HF, RF    ResMax_LA_         0.7   \n",
       "82  Mixup, LF, HF, RF    ResMax_LA_         0.7   \n",
       "83  Mixup, LF, HF, RF    ResMax_LA_         0.7   \n",
       "\n",
       "                                lowpass  \\\n",
       "0                                 False   \n",
       "1                                 False   \n",
       "2                                 False   \n",
       "3                                 False   \n",
       "4                                 False   \n",
       "..                                  ...   \n",
       "79  [[0.5, 0.5], [7, 8, 9, 10, 11, 12]]   \n",
       "80  [[0.5, 0.5], [7, 8, 9, 10, 11, 12]]   \n",
       "81  [[0.5, 0.5], [7, 8, 9, 10, 11, 12]]   \n",
       "82  [[0.5, 0.5], [7, 8, 9, 10, 11, 12]]   \n",
       "83  [[0.5, 0.5], [7, 8, 9, 10, 11, 12]]   \n",
       "\n",
       "                                          highpass               ranfilter2  \\\n",
       "0                                            False  [2, [8, 9, 10, 11, 12]]   \n",
       "1                                            False  [2, [8, 9, 10, 11, 12]]   \n",
       "2                                            False  [2, [8, 9, 10, 11, 12]]   \n",
       "3                                            False  [2, [8, 9, 10, 11, 12]]   \n",
       "4                                            False  [2, [8, 9, 10, 11, 12]]   \n",
       "..                                             ...                      ...   \n",
       "79  [[0.5, 0.5], [80, 81, 82, 83, 84, 85, 86, 87]]  [2, [8, 9, 10, 11, 12]]   \n",
       "80  [[0.5, 0.5], [80, 81, 82, 83, 84, 85, 86, 87]]  [2, [8, 9, 10, 11, 12]]   \n",
       "81  [[0.5, 0.5], [80, 81, 82, 83, 84, 85, 86, 87]]  [2, [8, 9, 10, 11, 12]]   \n",
       "82  [[0.5, 0.5], [80, 81, 82, 83, 84, 85, 86, 87]]  [2, [8, 9, 10, 11, 12]]   \n",
       "83  [[0.5, 0.5], [80, 81, 82, 83, 84, 85, 86, 87]]  [2, [8, 9, 10, 11, 12]]   \n",
       "\n",
       "    mask  blur  \n",
       "0   5.84  4.54  \n",
       "1   5.15  5.17  \n",
       "2   4.53  5.36  \n",
       "3   7.57  4.29  \n",
       "4   6.55  4.17  \n",
       "..   ...   ...  \n",
       "79  2.55  2.21  \n",
       "80  2.17  2.43  \n",
       "81  4.12  3.20  \n",
       "82  3.71  3.40  \n",
       "83  3.52  3.57  \n",
       "\n",
       "[84 rows x 8 columns]"
      ]
     },
     "execution_count": 113,
     "metadata": {},
     "output_type": "execute_result"
    }
   ],
   "source": [
    "df_add"
   ]
  },
  {
   "cell_type": "code",
   "execution_count": null,
   "id": "2c8de962",
   "metadata": {},
   "outputs": [],
   "source": []
  },
  {
   "cell_type": "markdown",
   "id": "e27c9344",
   "metadata": {},
   "source": [
    "## 전체"
   ]
  },
  {
   "cell_type": "code",
   "execution_count": 135,
   "id": "94d9006f",
   "metadata": {},
   "outputs": [
    {
     "name": "stdout",
     "output_type": "stream",
     "text": [
      "검정 통계치 : 0.062\n",
      "p값 : 0.951\n"
     ]
    }
   ],
   "source": [
    "from scipy.stats import ttest_ind, ttest_rel\n",
    "\n",
    "# welch's T-test 시행\n",
    "print(f'검정 통계치 : {np.round(ttest_ind(df_add[\"mask\"], df_add[\"blur\"], equal_var = False)[0],3)}\\np값 : {np.round(ttest_ind(df_add[\"mask\"], df_add[\"blur\"], equal_var = False)[1],4)}')"
   ]
  },
  {
   "cell_type": "code",
   "execution_count": 156,
   "id": "754c5029",
   "metadata": {},
   "outputs": [
    {
     "data": {
      "text/plain": [
       "Ttest_relResult(statistic=0.11071443370366112, pvalue=0.9121100794890012)"
      ]
     },
     "execution_count": 156,
     "metadata": {},
     "output_type": "execute_result"
    }
   ],
   "source": [
    "# paired t-test\n",
    "ttest_rel(df_add[\"mask\"],df_add[\"blur\"])"
   ]
  },
  {
   "cell_type": "markdown",
   "id": "80594d31",
   "metadata": {},
   "source": [
    "## BCResMax_LA_"
   ]
  },
  {
   "cell_type": "code",
   "execution_count": 225,
   "id": "285d6c95",
   "metadata": {},
   "outputs": [
    {
     "data": {
      "text/html": [
       "<div>\n",
       "<style scoped>\n",
       "    .dataframe tbody tr th:only-of-type {\n",
       "        vertical-align: middle;\n",
       "    }\n",
       "\n",
       "    .dataframe tbody tr th {\n",
       "        vertical-align: top;\n",
       "    }\n",
       "\n",
       "    .dataframe thead th {\n",
       "        text-align: right;\n",
       "    }\n",
       "</style>\n",
       "<table border=\"1\" class=\"dataframe\">\n",
       "  <thead>\n",
       "    <tr style=\"text-align: right;\">\n",
       "      <th></th>\n",
       "      <th>model</th>\n",
       "      <th>aug</th>\n",
       "      <th>beta_param</th>\n",
       "      <th>lowpass</th>\n",
       "      <th>highpass</th>\n",
       "      <th>ranfilter2</th>\n",
       "      <th>mask</th>\n",
       "      <th>blur</th>\n",
       "    </tr>\n",
       "  </thead>\n",
       "  <tbody>\n",
       "    <tr>\n",
       "      <th>0</th>\n",
       "      <td>BCResMax_LA_</td>\n",
       "      <td>Mixup, RF</td>\n",
       "      <td>0.7</td>\n",
       "      <td>False</td>\n",
       "      <td>False</td>\n",
       "      <td>[2, [8, 9, 10, 11, 12]]</td>\n",
       "      <td>5.84</td>\n",
       "      <td>4.54</td>\n",
       "    </tr>\n",
       "    <tr>\n",
       "      <th>1</th>\n",
       "      <td>BCResMax_LA_</td>\n",
       "      <td>Mixup, RF</td>\n",
       "      <td>0.7</td>\n",
       "      <td>False</td>\n",
       "      <td>False</td>\n",
       "      <td>[2, [8, 9, 10, 11, 12]]</td>\n",
       "      <td>5.15</td>\n",
       "      <td>5.17</td>\n",
       "    </tr>\n",
       "    <tr>\n",
       "      <th>2</th>\n",
       "      <td>BCResMax_LA_</td>\n",
       "      <td>Mixup, RF</td>\n",
       "      <td>0.7</td>\n",
       "      <td>False</td>\n",
       "      <td>False</td>\n",
       "      <td>[2, [8, 9, 10, 11, 12]]</td>\n",
       "      <td>4.53</td>\n",
       "      <td>5.36</td>\n",
       "    </tr>\n",
       "    <tr>\n",
       "      <th>12</th>\n",
       "      <td>BCResMax_LA_</td>\n",
       "      <td>Mixup, HF</td>\n",
       "      <td>0.7</td>\n",
       "      <td>False</td>\n",
       "      <td>[[0.5, 0.5], [80, 81, 82, 83, 84, 85, 86, 87]]</td>\n",
       "      <td>False</td>\n",
       "      <td>3.29</td>\n",
       "      <td>3.00</td>\n",
       "    </tr>\n",
       "    <tr>\n",
       "      <th>13</th>\n",
       "      <td>BCResMax_LA_</td>\n",
       "      <td>Mixup, HF</td>\n",
       "      <td>0.7</td>\n",
       "      <td>False</td>\n",
       "      <td>[[0.5, 0.5], [80, 81, 82, 83, 84, 85, 86, 87]]</td>\n",
       "      <td>False</td>\n",
       "      <td>2.53</td>\n",
       "      <td>3.29</td>\n",
       "    </tr>\n",
       "    <tr>\n",
       "      <th>14</th>\n",
       "      <td>BCResMax_LA_</td>\n",
       "      <td>Mixup, HF</td>\n",
       "      <td>0.7</td>\n",
       "      <td>False</td>\n",
       "      <td>[[0.5, 0.5], [80, 81, 82, 83, 84, 85, 86, 87]]</td>\n",
       "      <td>False</td>\n",
       "      <td>2.36</td>\n",
       "      <td>2.60</td>\n",
       "    </tr>\n",
       "    <tr>\n",
       "      <th>24</th>\n",
       "      <td>BCResMax_LA_</td>\n",
       "      <td>Mixup, HF, RF</td>\n",
       "      <td>0.7</td>\n",
       "      <td>False</td>\n",
       "      <td>[[0.5, 0.5], [80, 81, 82, 83, 84, 85, 86, 87]]</td>\n",
       "      <td>[2, [8, 9, 10, 11, 12]]</td>\n",
       "      <td>5.14</td>\n",
       "      <td>3.81</td>\n",
       "    </tr>\n",
       "    <tr>\n",
       "      <th>25</th>\n",
       "      <td>BCResMax_LA_</td>\n",
       "      <td>Mixup, HF, RF</td>\n",
       "      <td>0.7</td>\n",
       "      <td>False</td>\n",
       "      <td>[[0.5, 0.5], [80, 81, 82, 83, 84, 85, 86, 87]]</td>\n",
       "      <td>[2, [8, 9, 10, 11, 12]]</td>\n",
       "      <td>3.83</td>\n",
       "      <td>4.63</td>\n",
       "    </tr>\n",
       "    <tr>\n",
       "      <th>26</th>\n",
       "      <td>BCResMax_LA_</td>\n",
       "      <td>Mixup, HF, RF</td>\n",
       "      <td>0.7</td>\n",
       "      <td>False</td>\n",
       "      <td>[[0.5, 0.5], [80, 81, 82, 83, 84, 85, 86, 87]]</td>\n",
       "      <td>[2, [8, 9, 10, 11, 12]]</td>\n",
       "      <td>3.21</td>\n",
       "      <td>3.76</td>\n",
       "    </tr>\n",
       "    <tr>\n",
       "      <th>36</th>\n",
       "      <td>BCResMax_LA_</td>\n",
       "      <td>Mixup, LF</td>\n",
       "      <td>0.7</td>\n",
       "      <td>[[0.5, 0.5], [7, 8, 9, 10, 11, 12]]</td>\n",
       "      <td>False</td>\n",
       "      <td>False</td>\n",
       "      <td>3.69</td>\n",
       "      <td>3.24</td>\n",
       "    </tr>\n",
       "    <tr>\n",
       "      <th>37</th>\n",
       "      <td>BCResMax_LA_</td>\n",
       "      <td>Mixup, LF</td>\n",
       "      <td>0.7</td>\n",
       "      <td>[[0.5, 0.5], [7, 8, 9, 10, 11, 12]]</td>\n",
       "      <td>False</td>\n",
       "      <td>False</td>\n",
       "      <td>3.11</td>\n",
       "      <td>4.73</td>\n",
       "    </tr>\n",
       "    <tr>\n",
       "      <th>38</th>\n",
       "      <td>BCResMax_LA_</td>\n",
       "      <td>Mixup, LF</td>\n",
       "      <td>0.7</td>\n",
       "      <td>[[0.5, 0.5], [7, 8, 9, 10, 11, 12]]</td>\n",
       "      <td>False</td>\n",
       "      <td>False</td>\n",
       "      <td>2.81</td>\n",
       "      <td>3.90</td>\n",
       "    </tr>\n",
       "    <tr>\n",
       "      <th>48</th>\n",
       "      <td>BCResMax_LA_</td>\n",
       "      <td>Mixup, LF, RF</td>\n",
       "      <td>0.7</td>\n",
       "      <td>[[0.5, 0.5], [7, 8, 9, 10, 11, 12]]</td>\n",
       "      <td>False</td>\n",
       "      <td>[2, [8, 9, 10, 11, 12]]</td>\n",
       "      <td>5.23</td>\n",
       "      <td>5.99</td>\n",
       "    </tr>\n",
       "    <tr>\n",
       "      <th>49</th>\n",
       "      <td>BCResMax_LA_</td>\n",
       "      <td>Mixup, LF, RF</td>\n",
       "      <td>0.7</td>\n",
       "      <td>[[0.5, 0.5], [7, 8, 9, 10, 11, 12]]</td>\n",
       "      <td>False</td>\n",
       "      <td>[2, [8, 9, 10, 11, 12]]</td>\n",
       "      <td>4.89</td>\n",
       "      <td>5.63</td>\n",
       "    </tr>\n",
       "    <tr>\n",
       "      <th>50</th>\n",
       "      <td>BCResMax_LA_</td>\n",
       "      <td>Mixup, LF, RF</td>\n",
       "      <td>0.7</td>\n",
       "      <td>[[0.5, 0.5], [7, 8, 9, 10, 11, 12]]</td>\n",
       "      <td>False</td>\n",
       "      <td>[2, [8, 9, 10, 11, 12]]</td>\n",
       "      <td>4.84</td>\n",
       "      <td>5.66</td>\n",
       "    </tr>\n",
       "    <tr>\n",
       "      <th>60</th>\n",
       "      <td>BCResMax_LA_</td>\n",
       "      <td>Mixup, LF, HF</td>\n",
       "      <td>0.7</td>\n",
       "      <td>[[0.5, 0.5], [7, 8, 9, 10, 11, 12]]</td>\n",
       "      <td>[[0.5, 0.5], [80, 81, 82, 83, 84, 85, 86, 87]]</td>\n",
       "      <td>False</td>\n",
       "      <td>2.89</td>\n",
       "      <td>3.20</td>\n",
       "    </tr>\n",
       "    <tr>\n",
       "      <th>61</th>\n",
       "      <td>BCResMax_LA_</td>\n",
       "      <td>Mixup, LF, HF</td>\n",
       "      <td>0.7</td>\n",
       "      <td>[[0.5, 0.5], [7, 8, 9, 10, 11, 12]]</td>\n",
       "      <td>[[0.5, 0.5], [80, 81, 82, 83, 84, 85, 86, 87]]</td>\n",
       "      <td>False</td>\n",
       "      <td>2.41</td>\n",
       "      <td>2.76</td>\n",
       "    </tr>\n",
       "    <tr>\n",
       "      <th>62</th>\n",
       "      <td>BCResMax_LA_</td>\n",
       "      <td>Mixup, LF, HF</td>\n",
       "      <td>0.7</td>\n",
       "      <td>[[0.5, 0.5], [7, 8, 9, 10, 11, 12]]</td>\n",
       "      <td>[[0.5, 0.5], [80, 81, 82, 83, 84, 85, 86, 87]]</td>\n",
       "      <td>False</td>\n",
       "      <td>2.10</td>\n",
       "      <td>2.78</td>\n",
       "    </tr>\n",
       "    <tr>\n",
       "      <th>72</th>\n",
       "      <td>BCResMax_LA_</td>\n",
       "      <td>Mixup, LF, HF, RF</td>\n",
       "      <td>0.7</td>\n",
       "      <td>[[0.5, 0.5], [7, 8, 9, 10, 11, 12]]</td>\n",
       "      <td>[[0.5, 0.5], [80, 81, 82, 83, 84, 85, 86, 87]]</td>\n",
       "      <td>[2, [8, 9, 10, 11, 12]]</td>\n",
       "      <td>5.57</td>\n",
       "      <td>3.38</td>\n",
       "    </tr>\n",
       "    <tr>\n",
       "      <th>73</th>\n",
       "      <td>BCResMax_LA_</td>\n",
       "      <td>Mixup, LF, HF, RF</td>\n",
       "      <td>0.7</td>\n",
       "      <td>[[0.5, 0.5], [7, 8, 9, 10, 11, 12]]</td>\n",
       "      <td>[[0.5, 0.5], [80, 81, 82, 83, 84, 85, 86, 87]]</td>\n",
       "      <td>[2, [8, 9, 10, 11, 12]]</td>\n",
       "      <td>4.48</td>\n",
       "      <td>3.95</td>\n",
       "    </tr>\n",
       "    <tr>\n",
       "      <th>74</th>\n",
       "      <td>BCResMax_LA_</td>\n",
       "      <td>Mixup, LF, HF, RF</td>\n",
       "      <td>0.7</td>\n",
       "      <td>[[0.5, 0.5], [7, 8, 9, 10, 11, 12]]</td>\n",
       "      <td>[[0.5, 0.5], [80, 81, 82, 83, 84, 85, 86, 87]]</td>\n",
       "      <td>[2, [8, 9, 10, 11, 12]]</td>\n",
       "      <td>2.98</td>\n",
       "      <td>3.85</td>\n",
       "    </tr>\n",
       "  </tbody>\n",
       "</table>\n",
       "</div>"
      ],
      "text/plain": [
       "           model                aug  beta_param  \\\n",
       "0   BCResMax_LA_          Mixup, RF         0.7   \n",
       "1   BCResMax_LA_          Mixup, RF         0.7   \n",
       "2   BCResMax_LA_          Mixup, RF         0.7   \n",
       "12  BCResMax_LA_          Mixup, HF         0.7   \n",
       "13  BCResMax_LA_          Mixup, HF         0.7   \n",
       "14  BCResMax_LA_          Mixup, HF         0.7   \n",
       "24  BCResMax_LA_      Mixup, HF, RF         0.7   \n",
       "25  BCResMax_LA_      Mixup, HF, RF         0.7   \n",
       "26  BCResMax_LA_      Mixup, HF, RF         0.7   \n",
       "36  BCResMax_LA_          Mixup, LF         0.7   \n",
       "37  BCResMax_LA_          Mixup, LF         0.7   \n",
       "38  BCResMax_LA_          Mixup, LF         0.7   \n",
       "48  BCResMax_LA_      Mixup, LF, RF         0.7   \n",
       "49  BCResMax_LA_      Mixup, LF, RF         0.7   \n",
       "50  BCResMax_LA_      Mixup, LF, RF         0.7   \n",
       "60  BCResMax_LA_      Mixup, LF, HF         0.7   \n",
       "61  BCResMax_LA_      Mixup, LF, HF         0.7   \n",
       "62  BCResMax_LA_      Mixup, LF, HF         0.7   \n",
       "72  BCResMax_LA_  Mixup, LF, HF, RF         0.7   \n",
       "73  BCResMax_LA_  Mixup, LF, HF, RF         0.7   \n",
       "74  BCResMax_LA_  Mixup, LF, HF, RF         0.7   \n",
       "\n",
       "                                lowpass  \\\n",
       "0                                 False   \n",
       "1                                 False   \n",
       "2                                 False   \n",
       "12                                False   \n",
       "13                                False   \n",
       "14                                False   \n",
       "24                                False   \n",
       "25                                False   \n",
       "26                                False   \n",
       "36  [[0.5, 0.5], [7, 8, 9, 10, 11, 12]]   \n",
       "37  [[0.5, 0.5], [7, 8, 9, 10, 11, 12]]   \n",
       "38  [[0.5, 0.5], [7, 8, 9, 10, 11, 12]]   \n",
       "48  [[0.5, 0.5], [7, 8, 9, 10, 11, 12]]   \n",
       "49  [[0.5, 0.5], [7, 8, 9, 10, 11, 12]]   \n",
       "50  [[0.5, 0.5], [7, 8, 9, 10, 11, 12]]   \n",
       "60  [[0.5, 0.5], [7, 8, 9, 10, 11, 12]]   \n",
       "61  [[0.5, 0.5], [7, 8, 9, 10, 11, 12]]   \n",
       "62  [[0.5, 0.5], [7, 8, 9, 10, 11, 12]]   \n",
       "72  [[0.5, 0.5], [7, 8, 9, 10, 11, 12]]   \n",
       "73  [[0.5, 0.5], [7, 8, 9, 10, 11, 12]]   \n",
       "74  [[0.5, 0.5], [7, 8, 9, 10, 11, 12]]   \n",
       "\n",
       "                                          highpass               ranfilter2  \\\n",
       "0                                            False  [2, [8, 9, 10, 11, 12]]   \n",
       "1                                            False  [2, [8, 9, 10, 11, 12]]   \n",
       "2                                            False  [2, [8, 9, 10, 11, 12]]   \n",
       "12  [[0.5, 0.5], [80, 81, 82, 83, 84, 85, 86, 87]]                    False   \n",
       "13  [[0.5, 0.5], [80, 81, 82, 83, 84, 85, 86, 87]]                    False   \n",
       "14  [[0.5, 0.5], [80, 81, 82, 83, 84, 85, 86, 87]]                    False   \n",
       "24  [[0.5, 0.5], [80, 81, 82, 83, 84, 85, 86, 87]]  [2, [8, 9, 10, 11, 12]]   \n",
       "25  [[0.5, 0.5], [80, 81, 82, 83, 84, 85, 86, 87]]  [2, [8, 9, 10, 11, 12]]   \n",
       "26  [[0.5, 0.5], [80, 81, 82, 83, 84, 85, 86, 87]]  [2, [8, 9, 10, 11, 12]]   \n",
       "36                                           False                    False   \n",
       "37                                           False                    False   \n",
       "38                                           False                    False   \n",
       "48                                           False  [2, [8, 9, 10, 11, 12]]   \n",
       "49                                           False  [2, [8, 9, 10, 11, 12]]   \n",
       "50                                           False  [2, [8, 9, 10, 11, 12]]   \n",
       "60  [[0.5, 0.5], [80, 81, 82, 83, 84, 85, 86, 87]]                    False   \n",
       "61  [[0.5, 0.5], [80, 81, 82, 83, 84, 85, 86, 87]]                    False   \n",
       "62  [[0.5, 0.5], [80, 81, 82, 83, 84, 85, 86, 87]]                    False   \n",
       "72  [[0.5, 0.5], [80, 81, 82, 83, 84, 85, 86, 87]]  [2, [8, 9, 10, 11, 12]]   \n",
       "73  [[0.5, 0.5], [80, 81, 82, 83, 84, 85, 86, 87]]  [2, [8, 9, 10, 11, 12]]   \n",
       "74  [[0.5, 0.5], [80, 81, 82, 83, 84, 85, 86, 87]]  [2, [8, 9, 10, 11, 12]]   \n",
       "\n",
       "    mask  blur  \n",
       "0   5.84  4.54  \n",
       "1   5.15  5.17  \n",
       "2   4.53  5.36  \n",
       "12  3.29  3.00  \n",
       "13  2.53  3.29  \n",
       "14  2.36  2.60  \n",
       "24  5.14  3.81  \n",
       "25  3.83  4.63  \n",
       "26  3.21  3.76  \n",
       "36  3.69  3.24  \n",
       "37  3.11  4.73  \n",
       "38  2.81  3.90  \n",
       "48  5.23  5.99  \n",
       "49  4.89  5.63  \n",
       "50  4.84  5.66  \n",
       "60  2.89  3.20  \n",
       "61  2.41  2.76  \n",
       "62  2.10  2.78  \n",
       "72  5.57  3.38  \n",
       "73  4.48  3.95  \n",
       "74  2.98  3.85  "
      ]
     },
     "execution_count": 225,
     "metadata": {},
     "output_type": "execute_result"
    }
   ],
   "source": [
    "bcresmax = df_add[df_add.model==\"BCResMax_LA_\"][['model','aug','beta_param','lowpass','highpass','ranfilter2','mask','blur']]\n",
    "bcresmax"
   ]
  },
  {
   "cell_type": "code",
   "execution_count": 226,
   "id": "47e7d438",
   "metadata": {},
   "outputs": [
    {
     "data": {
      "text/plain": [
       "Ttest_indResult(statistic=-0.5990721211727147, pvalue=0.5525028447953414)"
      ]
     },
     "execution_count": 226,
     "metadata": {},
     "output_type": "execute_result"
    }
   ],
   "source": [
    "# n이 작아서 p-value가 크게나옴\n",
    "# t-test\n",
    "ttest_ind(bcresmax[\"mask\"],bcresmax[\"blur\"],equal_var=True)\n"
   ]
  },
  {
   "cell_type": "code",
   "execution_count": 227,
   "id": "3c77612b",
   "metadata": {},
   "outputs": [
    {
     "data": {
      "text/plain": [
       "Ttest_relResult(statistic=-1.022518008334992, pvalue=0.31874561533615664)"
      ]
     },
     "execution_count": 227,
     "metadata": {},
     "output_type": "execute_result"
    }
   ],
   "source": [
    "# paired t-test\n",
    "ttest_rel(bcresmax[\"mask\"],bcresmax[\"blur\"])"
   ]
  },
  {
   "cell_type": "markdown",
   "id": "f62d3eab",
   "metadata": {},
   "source": [
    "### 1. (Mixup,LF), 차이없음"
   ]
  },
  {
   "cell_type": "code",
   "execution_count": 157,
   "id": "0bce2b2c",
   "metadata": {},
   "outputs": [
    {
     "name": "stderr",
     "output_type": "stream",
     "text": [
      "/home/ubuntu/anaconda3/envs/tensorflow2.4_p37/lib/python3.7/site-packages/ipykernel/__main__.py:1: UserWarning: Boolean Series key will be reindexed to match DataFrame index.\n",
      "  if __name__ == '__main__':\n"
     ]
    },
    {
     "data": {
      "text/html": [
       "<div>\n",
       "<style scoped>\n",
       "    .dataframe tbody tr th:only-of-type {\n",
       "        vertical-align: middle;\n",
       "    }\n",
       "\n",
       "    .dataframe tbody tr th {\n",
       "        vertical-align: top;\n",
       "    }\n",
       "\n",
       "    .dataframe thead th {\n",
       "        text-align: right;\n",
       "    }\n",
       "</style>\n",
       "<table border=\"1\" class=\"dataframe\">\n",
       "  <thead>\n",
       "    <tr style=\"text-align: right;\">\n",
       "      <th></th>\n",
       "      <th>model</th>\n",
       "      <th>aug</th>\n",
       "      <th>beta_param</th>\n",
       "      <th>lowpass</th>\n",
       "      <th>highpass</th>\n",
       "      <th>ranfilter2</th>\n",
       "      <th>mask</th>\n",
       "      <th>blur</th>\n",
       "    </tr>\n",
       "  </thead>\n",
       "  <tbody>\n",
       "    <tr>\n",
       "      <th>36</th>\n",
       "      <td>BCResMax_LA_</td>\n",
       "      <td>Mixup, LF</td>\n",
       "      <td>0.7</td>\n",
       "      <td>[[0.5, 0.5], [7, 8, 9, 10, 11, 12]]</td>\n",
       "      <td>False</td>\n",
       "      <td>False</td>\n",
       "      <td>3.69</td>\n",
       "      <td>3.24</td>\n",
       "    </tr>\n",
       "    <tr>\n",
       "      <th>37</th>\n",
       "      <td>BCResMax_LA_</td>\n",
       "      <td>Mixup, LF</td>\n",
       "      <td>0.7</td>\n",
       "      <td>[[0.5, 0.5], [7, 8, 9, 10, 11, 12]]</td>\n",
       "      <td>False</td>\n",
       "      <td>False</td>\n",
       "      <td>3.11</td>\n",
       "      <td>4.73</td>\n",
       "    </tr>\n",
       "    <tr>\n",
       "      <th>38</th>\n",
       "      <td>BCResMax_LA_</td>\n",
       "      <td>Mixup, LF</td>\n",
       "      <td>0.7</td>\n",
       "      <td>[[0.5, 0.5], [7, 8, 9, 10, 11, 12]]</td>\n",
       "      <td>False</td>\n",
       "      <td>False</td>\n",
       "      <td>2.81</td>\n",
       "      <td>3.90</td>\n",
       "    </tr>\n",
       "  </tbody>\n",
       "</table>\n",
       "</div>"
      ],
      "text/plain": [
       "           model        aug  beta_param                              lowpass  \\\n",
       "36  BCResMax_LA_  Mixup, LF         0.7  [[0.5, 0.5], [7, 8, 9, 10, 11, 12]]   \n",
       "37  BCResMax_LA_  Mixup, LF         0.7  [[0.5, 0.5], [7, 8, 9, 10, 11, 12]]   \n",
       "38  BCResMax_LA_  Mixup, LF         0.7  [[0.5, 0.5], [7, 8, 9, 10, 11, 12]]   \n",
       "\n",
       "   highpass ranfilter2  mask  blur  \n",
       "36    False      False  3.69  3.24  \n",
       "37    False      False  3.11  4.73  \n",
       "38    False      False  2.81  3.90  "
      ]
     },
     "execution_count": 157,
     "metadata": {},
     "output_type": "execute_result"
    }
   ],
   "source": [
    "bcresmax = df_add[df_add.model==\"BCResMax_LA_\"][df_add.aug==\"Mixup, LF\"][['model','aug','beta_param','lowpass','highpass','ranfilter2','mask','blur']]\n",
    "bcresmax"
   ]
  },
  {
   "cell_type": "code",
   "execution_count": 158,
   "id": "64bc9179",
   "metadata": {},
   "outputs": [
    {
     "data": {
      "text/plain": [
       "Ttest_indResult(statistic=-1.4991234000080265, pvalue=0.2082155465568318)"
      ]
     },
     "execution_count": 158,
     "metadata": {},
     "output_type": "execute_result"
    }
   ],
   "source": [
    "# n이 작아서 p-value가 크게나옴\n",
    "ttest_ind(bcresmax[\"mask\"],bcresmax[\"blur\"],equal_var=True)\n"
   ]
  },
  {
   "cell_type": "code",
   "execution_count": 159,
   "id": "12a44f51",
   "metadata": {},
   "outputs": [
    {
     "data": {
      "text/plain": [
       "Ttest_relResult(statistic=-1.2134588935081554, pvalue=0.3488140269934925)"
      ]
     },
     "execution_count": 159,
     "metadata": {},
     "output_type": "execute_result"
    }
   ],
   "source": [
    "ttest_rel(bcresmax[\"mask\"],bcresmax[\"blur\"])"
   ]
  },
  {
   "cell_type": "markdown",
   "id": "8f8fea9c",
   "metadata": {},
   "source": [
    "### 2. (Mixup, HF), 차이없음"
   ]
  },
  {
   "cell_type": "code",
   "execution_count": 160,
   "id": "f2e3e00f",
   "metadata": {},
   "outputs": [
    {
     "name": "stderr",
     "output_type": "stream",
     "text": [
      "/home/ubuntu/anaconda3/envs/tensorflow2.4_p37/lib/python3.7/site-packages/ipykernel/__main__.py:1: UserWarning: Boolean Series key will be reindexed to match DataFrame index.\n",
      "  if __name__ == '__main__':\n"
     ]
    },
    {
     "data": {
      "text/html": [
       "<div>\n",
       "<style scoped>\n",
       "    .dataframe tbody tr th:only-of-type {\n",
       "        vertical-align: middle;\n",
       "    }\n",
       "\n",
       "    .dataframe tbody tr th {\n",
       "        vertical-align: top;\n",
       "    }\n",
       "\n",
       "    .dataframe thead th {\n",
       "        text-align: right;\n",
       "    }\n",
       "</style>\n",
       "<table border=\"1\" class=\"dataframe\">\n",
       "  <thead>\n",
       "    <tr style=\"text-align: right;\">\n",
       "      <th></th>\n",
       "      <th>model</th>\n",
       "      <th>aug</th>\n",
       "      <th>beta_param</th>\n",
       "      <th>lowpass</th>\n",
       "      <th>highpass</th>\n",
       "      <th>ranfilter2</th>\n",
       "      <th>mask</th>\n",
       "      <th>blur</th>\n",
       "    </tr>\n",
       "  </thead>\n",
       "  <tbody>\n",
       "    <tr>\n",
       "      <th>12</th>\n",
       "      <td>BCResMax_LA_</td>\n",
       "      <td>Mixup, HF</td>\n",
       "      <td>0.7</td>\n",
       "      <td>False</td>\n",
       "      <td>[[0.5, 0.5], [80, 81, 82, 83, 84, 85, 86, 87]]</td>\n",
       "      <td>False</td>\n",
       "      <td>3.29</td>\n",
       "      <td>3.00</td>\n",
       "    </tr>\n",
       "    <tr>\n",
       "      <th>13</th>\n",
       "      <td>BCResMax_LA_</td>\n",
       "      <td>Mixup, HF</td>\n",
       "      <td>0.7</td>\n",
       "      <td>False</td>\n",
       "      <td>[[0.5, 0.5], [80, 81, 82, 83, 84, 85, 86, 87]]</td>\n",
       "      <td>False</td>\n",
       "      <td>2.53</td>\n",
       "      <td>3.29</td>\n",
       "    </tr>\n",
       "    <tr>\n",
       "      <th>14</th>\n",
       "      <td>BCResMax_LA_</td>\n",
       "      <td>Mixup, HF</td>\n",
       "      <td>0.7</td>\n",
       "      <td>False</td>\n",
       "      <td>[[0.5, 0.5], [80, 81, 82, 83, 84, 85, 86, 87]]</td>\n",
       "      <td>False</td>\n",
       "      <td>2.36</td>\n",
       "      <td>2.60</td>\n",
       "    </tr>\n",
       "  </tbody>\n",
       "</table>\n",
       "</div>"
      ],
      "text/plain": [
       "           model        aug  beta_param lowpass  \\\n",
       "12  BCResMax_LA_  Mixup, HF         0.7   False   \n",
       "13  BCResMax_LA_  Mixup, HF         0.7   False   \n",
       "14  BCResMax_LA_  Mixup, HF         0.7   False   \n",
       "\n",
       "                                          highpass ranfilter2  mask  blur  \n",
       "12  [[0.5, 0.5], [80, 81, 82, 83, 84, 85, 86, 87]]      False  3.29  3.00  \n",
       "13  [[0.5, 0.5], [80, 81, 82, 83, 84, 85, 86, 87]]      False  2.53  3.29  \n",
       "14  [[0.5, 0.5], [80, 81, 82, 83, 84, 85, 86, 87]]      False  2.36  2.60  "
      ]
     },
     "execution_count": 160,
     "metadata": {},
     "output_type": "execute_result"
    }
   ],
   "source": [
    "bcresmax = df_add[df_add.model==\"BCResMax_LA_\"][df_add.aug==\"Mixup, HF\"][['model','aug','beta_param','lowpass','highpass','ranfilter2','mask','blur']]\n",
    "bcresmax"
   ]
  },
  {
   "cell_type": "code",
   "execution_count": 161,
   "id": "10ffd6dd",
   "metadata": {},
   "outputs": [
    {
     "data": {
      "text/plain": [
       "Ttest_indResult(statistic=-0.6782545262725485, pvalue=0.5348204347837516)"
      ]
     },
     "execution_count": 161,
     "metadata": {},
     "output_type": "execute_result"
    }
   ],
   "source": [
    "# n이 작아서 p-value가 크게나옴\n",
    "ttest_ind(bcresmax[\"mask\"],bcresmax[\"blur\"],equal_var=True)\n"
   ]
  },
  {
   "cell_type": "code",
   "execution_count": 162,
   "id": "a664908a",
   "metadata": {},
   "outputs": [
    {
     "data": {
      "text/plain": [
       "Ttest_relResult(statistic=-0.7807857037324527, pvalue=0.5166711809744671)"
      ]
     },
     "execution_count": 162,
     "metadata": {},
     "output_type": "execute_result"
    }
   ],
   "source": [
    "ttest_rel(bcresmax[\"mask\"],bcresmax[\"blur\"])"
   ]
  },
  {
   "cell_type": "markdown",
   "id": "abd01b73",
   "metadata": {},
   "source": [
    "### 3. (Mixup, RF), 차이없음"
   ]
  },
  {
   "cell_type": "code",
   "execution_count": 163,
   "id": "0fcbca5d",
   "metadata": {},
   "outputs": [
    {
     "name": "stderr",
     "output_type": "stream",
     "text": [
      "/home/ubuntu/anaconda3/envs/tensorflow2.4_p37/lib/python3.7/site-packages/ipykernel/__main__.py:1: UserWarning: Boolean Series key will be reindexed to match DataFrame index.\n",
      "  if __name__ == '__main__':\n"
     ]
    },
    {
     "data": {
      "text/html": [
       "<div>\n",
       "<style scoped>\n",
       "    .dataframe tbody tr th:only-of-type {\n",
       "        vertical-align: middle;\n",
       "    }\n",
       "\n",
       "    .dataframe tbody tr th {\n",
       "        vertical-align: top;\n",
       "    }\n",
       "\n",
       "    .dataframe thead th {\n",
       "        text-align: right;\n",
       "    }\n",
       "</style>\n",
       "<table border=\"1\" class=\"dataframe\">\n",
       "  <thead>\n",
       "    <tr style=\"text-align: right;\">\n",
       "      <th></th>\n",
       "      <th>model</th>\n",
       "      <th>aug</th>\n",
       "      <th>beta_param</th>\n",
       "      <th>lowpass</th>\n",
       "      <th>highpass</th>\n",
       "      <th>ranfilter2</th>\n",
       "      <th>mask</th>\n",
       "      <th>blur</th>\n",
       "    </tr>\n",
       "  </thead>\n",
       "  <tbody>\n",
       "    <tr>\n",
       "      <th>0</th>\n",
       "      <td>BCResMax_LA_</td>\n",
       "      <td>Mixup, RF</td>\n",
       "      <td>0.7</td>\n",
       "      <td>False</td>\n",
       "      <td>False</td>\n",
       "      <td>[2, [8, 9, 10, 11, 12]]</td>\n",
       "      <td>5.84</td>\n",
       "      <td>4.54</td>\n",
       "    </tr>\n",
       "    <tr>\n",
       "      <th>1</th>\n",
       "      <td>BCResMax_LA_</td>\n",
       "      <td>Mixup, RF</td>\n",
       "      <td>0.7</td>\n",
       "      <td>False</td>\n",
       "      <td>False</td>\n",
       "      <td>[2, [8, 9, 10, 11, 12]]</td>\n",
       "      <td>5.15</td>\n",
       "      <td>5.17</td>\n",
       "    </tr>\n",
       "    <tr>\n",
       "      <th>2</th>\n",
       "      <td>BCResMax_LA_</td>\n",
       "      <td>Mixup, RF</td>\n",
       "      <td>0.7</td>\n",
       "      <td>False</td>\n",
       "      <td>False</td>\n",
       "      <td>[2, [8, 9, 10, 11, 12]]</td>\n",
       "      <td>4.53</td>\n",
       "      <td>5.36</td>\n",
       "    </tr>\n",
       "  </tbody>\n",
       "</table>\n",
       "</div>"
      ],
      "text/plain": [
       "          model        aug  beta_param lowpass highpass  \\\n",
       "0  BCResMax_LA_  Mixup, RF         0.7   False    False   \n",
       "1  BCResMax_LA_  Mixup, RF         0.7   False    False   \n",
       "2  BCResMax_LA_  Mixup, RF         0.7   False    False   \n",
       "\n",
       "                ranfilter2  mask  blur  \n",
       "0  [2, [8, 9, 10, 11, 12]]  5.84  4.54  \n",
       "1  [2, [8, 9, 10, 11, 12]]  5.15  5.17  \n",
       "2  [2, [8, 9, 10, 11, 12]]  4.53  5.36  "
      ]
     },
     "execution_count": 163,
     "metadata": {},
     "output_type": "execute_result"
    }
   ],
   "source": [
    "bcresmax = df_add[df_add.model==\"BCResMax_LA_\"][df_add.aug==\"Mixup, RF\"][['model','aug','beta_param','lowpass','highpass','ranfilter2','mask','blur']]\n",
    "bcresmax"
   ]
  },
  {
   "cell_type": "code",
   "execution_count": 164,
   "id": "8008afb7",
   "metadata": {},
   "outputs": [
    {
     "data": {
      "text/plain": [
       "Ttest_indResult(statistic=0.33165429014181674, pvalue=0.7567994393303659)"
      ]
     },
     "execution_count": 164,
     "metadata": {},
     "output_type": "execute_result"
    }
   ],
   "source": [
    "# n이 작아서 p-value가 크게나옴\n",
    "ttest_ind(bcresmax[\"mask\"],bcresmax[\"blur\"],equal_var=True)\n"
   ]
  },
  {
   "cell_type": "code",
   "execution_count": 165,
   "id": "610980f4",
   "metadata": {},
   "outputs": [
    {
     "data": {
      "text/plain": [
       "Ttest_relResult(statistic=0.24165275711661305, pvalue=0.8315669611867573)"
      ]
     },
     "execution_count": 165,
     "metadata": {},
     "output_type": "execute_result"
    }
   ],
   "source": [
    "ttest_rel(bcresmax[\"mask\"],bcresmax[\"blur\"])"
   ]
  },
  {
   "cell_type": "markdown",
   "id": "2171c13c",
   "metadata": {},
   "source": [
    "### 4. (Mixup, LF, HF), 차이없음"
   ]
  },
  {
   "cell_type": "code",
   "execution_count": 166,
   "id": "5e750c29",
   "metadata": {},
   "outputs": [
    {
     "name": "stderr",
     "output_type": "stream",
     "text": [
      "/home/ubuntu/anaconda3/envs/tensorflow2.4_p37/lib/python3.7/site-packages/ipykernel/__main__.py:1: UserWarning: Boolean Series key will be reindexed to match DataFrame index.\n",
      "  if __name__ == '__main__':\n"
     ]
    },
    {
     "data": {
      "text/html": [
       "<div>\n",
       "<style scoped>\n",
       "    .dataframe tbody tr th:only-of-type {\n",
       "        vertical-align: middle;\n",
       "    }\n",
       "\n",
       "    .dataframe tbody tr th {\n",
       "        vertical-align: top;\n",
       "    }\n",
       "\n",
       "    .dataframe thead th {\n",
       "        text-align: right;\n",
       "    }\n",
       "</style>\n",
       "<table border=\"1\" class=\"dataframe\">\n",
       "  <thead>\n",
       "    <tr style=\"text-align: right;\">\n",
       "      <th></th>\n",
       "      <th>model</th>\n",
       "      <th>aug</th>\n",
       "      <th>beta_param</th>\n",
       "      <th>lowpass</th>\n",
       "      <th>highpass</th>\n",
       "      <th>ranfilter2</th>\n",
       "      <th>mask</th>\n",
       "      <th>blur</th>\n",
       "    </tr>\n",
       "  </thead>\n",
       "  <tbody>\n",
       "    <tr>\n",
       "      <th>60</th>\n",
       "      <td>BCResMax_LA_</td>\n",
       "      <td>Mixup, LF, HF</td>\n",
       "      <td>0.7</td>\n",
       "      <td>[[0.5, 0.5], [7, 8, 9, 10, 11, 12]]</td>\n",
       "      <td>[[0.5, 0.5], [80, 81, 82, 83, 84, 85, 86, 87]]</td>\n",
       "      <td>False</td>\n",
       "      <td>2.89</td>\n",
       "      <td>3.20</td>\n",
       "    </tr>\n",
       "    <tr>\n",
       "      <th>61</th>\n",
       "      <td>BCResMax_LA_</td>\n",
       "      <td>Mixup, LF, HF</td>\n",
       "      <td>0.7</td>\n",
       "      <td>[[0.5, 0.5], [7, 8, 9, 10, 11, 12]]</td>\n",
       "      <td>[[0.5, 0.5], [80, 81, 82, 83, 84, 85, 86, 87]]</td>\n",
       "      <td>False</td>\n",
       "      <td>2.41</td>\n",
       "      <td>2.76</td>\n",
       "    </tr>\n",
       "    <tr>\n",
       "      <th>62</th>\n",
       "      <td>BCResMax_LA_</td>\n",
       "      <td>Mixup, LF, HF</td>\n",
       "      <td>0.7</td>\n",
       "      <td>[[0.5, 0.5], [7, 8, 9, 10, 11, 12]]</td>\n",
       "      <td>[[0.5, 0.5], [80, 81, 82, 83, 84, 85, 86, 87]]</td>\n",
       "      <td>False</td>\n",
       "      <td>2.10</td>\n",
       "      <td>2.78</td>\n",
       "    </tr>\n",
       "  </tbody>\n",
       "</table>\n",
       "</div>"
      ],
      "text/plain": [
       "           model            aug  beta_param  \\\n",
       "60  BCResMax_LA_  Mixup, LF, HF         0.7   \n",
       "61  BCResMax_LA_  Mixup, LF, HF         0.7   \n",
       "62  BCResMax_LA_  Mixup, LF, HF         0.7   \n",
       "\n",
       "                                lowpass  \\\n",
       "60  [[0.5, 0.5], [7, 8, 9, 10, 11, 12]]   \n",
       "61  [[0.5, 0.5], [7, 8, 9, 10, 11, 12]]   \n",
       "62  [[0.5, 0.5], [7, 8, 9, 10, 11, 12]]   \n",
       "\n",
       "                                          highpass ranfilter2  mask  blur  \n",
       "60  [[0.5, 0.5], [80, 81, 82, 83, 84, 85, 86, 87]]      False  2.89  3.20  \n",
       "61  [[0.5, 0.5], [80, 81, 82, 83, 84, 85, 86, 87]]      False  2.41  2.76  \n",
       "62  [[0.5, 0.5], [80, 81, 82, 83, 84, 85, 86, 87]]      False  2.10  2.78  "
      ]
     },
     "execution_count": 166,
     "metadata": {},
     "output_type": "execute_result"
    }
   ],
   "source": [
    "bcresmax = df_add[df_add.model==\"BCResMax_LA_\"][df_add.aug==\"Mixup, LF, HF\"][['model','aug','beta_param','lowpass','highpass','ranfilter2','mask','blur']]\n",
    "bcresmax"
   ]
  },
  {
   "cell_type": "code",
   "execution_count": 167,
   "id": "b0c119ba",
   "metadata": {},
   "outputs": [
    {
     "data": {
      "text/plain": [
       "Ttest_indResult(statistic=-1.6488015513213428, pvalue=0.17453344482158534)"
      ]
     },
     "execution_count": 167,
     "metadata": {},
     "output_type": "execute_result"
    }
   ],
   "source": [
    "# n이 작아서 p-value가 크게나옴\n",
    "ttest_ind(bcresmax[\"mask\"],bcresmax[\"blur\"],equal_var=True)\n"
   ]
  },
  {
   "cell_type": "code",
   "execution_count": 168,
   "id": "d530e0d2",
   "metadata": {},
   "outputs": [
    {
     "data": {
      "text/plain": [
       "Ttest_relResult(statistic=-3.8099558980424297, pvalue=0.06250142764017985)"
      ]
     },
     "execution_count": 168,
     "metadata": {},
     "output_type": "execute_result"
    }
   ],
   "source": [
    "ttest_rel(bcresmax[\"mask\"],bcresmax[\"blur\"])"
   ]
  },
  {
   "cell_type": "markdown",
   "id": "f551fcbb",
   "metadata": {},
   "source": [
    "### 5. (Mixup, LF, RF), 차이있음*, 차이있음*"
   ]
  },
  {
   "cell_type": "code",
   "execution_count": 169,
   "id": "3a74f875",
   "metadata": {},
   "outputs": [
    {
     "name": "stderr",
     "output_type": "stream",
     "text": [
      "/home/ubuntu/anaconda3/envs/tensorflow2.4_p37/lib/python3.7/site-packages/ipykernel/__main__.py:1: UserWarning: Boolean Series key will be reindexed to match DataFrame index.\n",
      "  if __name__ == '__main__':\n"
     ]
    },
    {
     "data": {
      "text/html": [
       "<div>\n",
       "<style scoped>\n",
       "    .dataframe tbody tr th:only-of-type {\n",
       "        vertical-align: middle;\n",
       "    }\n",
       "\n",
       "    .dataframe tbody tr th {\n",
       "        vertical-align: top;\n",
       "    }\n",
       "\n",
       "    .dataframe thead th {\n",
       "        text-align: right;\n",
       "    }\n",
       "</style>\n",
       "<table border=\"1\" class=\"dataframe\">\n",
       "  <thead>\n",
       "    <tr style=\"text-align: right;\">\n",
       "      <th></th>\n",
       "      <th>model</th>\n",
       "      <th>aug</th>\n",
       "      <th>beta_param</th>\n",
       "      <th>lowpass</th>\n",
       "      <th>highpass</th>\n",
       "      <th>ranfilter2</th>\n",
       "      <th>mask</th>\n",
       "      <th>blur</th>\n",
       "    </tr>\n",
       "  </thead>\n",
       "  <tbody>\n",
       "    <tr>\n",
       "      <th>48</th>\n",
       "      <td>BCResMax_LA_</td>\n",
       "      <td>Mixup, LF, RF</td>\n",
       "      <td>0.7</td>\n",
       "      <td>[[0.5, 0.5], [7, 8, 9, 10, 11, 12]]</td>\n",
       "      <td>False</td>\n",
       "      <td>[2, [8, 9, 10, 11, 12]]</td>\n",
       "      <td>5.23</td>\n",
       "      <td>5.99</td>\n",
       "    </tr>\n",
       "    <tr>\n",
       "      <th>49</th>\n",
       "      <td>BCResMax_LA_</td>\n",
       "      <td>Mixup, LF, RF</td>\n",
       "      <td>0.7</td>\n",
       "      <td>[[0.5, 0.5], [7, 8, 9, 10, 11, 12]]</td>\n",
       "      <td>False</td>\n",
       "      <td>[2, [8, 9, 10, 11, 12]]</td>\n",
       "      <td>4.89</td>\n",
       "      <td>5.63</td>\n",
       "    </tr>\n",
       "    <tr>\n",
       "      <th>50</th>\n",
       "      <td>BCResMax_LA_</td>\n",
       "      <td>Mixup, LF, RF</td>\n",
       "      <td>0.7</td>\n",
       "      <td>[[0.5, 0.5], [7, 8, 9, 10, 11, 12]]</td>\n",
       "      <td>False</td>\n",
       "      <td>[2, [8, 9, 10, 11, 12]]</td>\n",
       "      <td>4.84</td>\n",
       "      <td>5.66</td>\n",
       "    </tr>\n",
       "  </tbody>\n",
       "</table>\n",
       "</div>"
      ],
      "text/plain": [
       "           model            aug  beta_param  \\\n",
       "48  BCResMax_LA_  Mixup, LF, RF         0.7   \n",
       "49  BCResMax_LA_  Mixup, LF, RF         0.7   \n",
       "50  BCResMax_LA_  Mixup, LF, RF         0.7   \n",
       "\n",
       "                                lowpass highpass               ranfilter2  \\\n",
       "48  [[0.5, 0.5], [7, 8, 9, 10, 11, 12]]    False  [2, [8, 9, 10, 11, 12]]   \n",
       "49  [[0.5, 0.5], [7, 8, 9, 10, 11, 12]]    False  [2, [8, 9, 10, 11, 12]]   \n",
       "50  [[0.5, 0.5], [7, 8, 9, 10, 11, 12]]    False  [2, [8, 9, 10, 11, 12]]   \n",
       "\n",
       "    mask  blur  \n",
       "48  5.23  5.99  \n",
       "49  4.89  5.63  \n",
       "50  4.84  5.66  "
      ]
     },
     "execution_count": 169,
     "metadata": {},
     "output_type": "execute_result"
    }
   ],
   "source": [
    "bcresmax = df_add[df_add.model==\"BCResMax_LA_\"][df_add.aug==\"Mixup, LF, RF\"][['model','aug','beta_param','lowpass','highpass','ranfilter2','mask','blur']]\n",
    "bcresmax"
   ]
  },
  {
   "cell_type": "code",
   "execution_count": 170,
   "id": "08b3409e",
   "metadata": {},
   "outputs": [
    {
     "data": {
      "text/plain": [
       "Ttest_indResult(statistic=-4.596087340151894, pvalue=0.010060519906219817)"
      ]
     },
     "execution_count": 170,
     "metadata": {},
     "output_type": "execute_result"
    }
   ],
   "source": [
    "# n이 작아서 p-value가 크게나옴\n",
    "ttest_ind(bcresmax[\"mask\"],bcresmax[\"blur\"],equal_var=True)\n"
   ]
  },
  {
   "cell_type": "code",
   "execution_count": 171,
   "id": "0bd1cff3",
   "metadata": {},
   "outputs": [
    {
     "data": {
      "text/plain": [
       "Ttest_relResult(statistic=-32.172611381063206, pvalue=0.0009647139643165084)"
      ]
     },
     "execution_count": 171,
     "metadata": {},
     "output_type": "execute_result"
    }
   ],
   "source": [
    "ttest_rel(bcresmax[\"mask\"],bcresmax[\"blur\"])"
   ]
  },
  {
   "cell_type": "markdown",
   "id": "e06acd1e",
   "metadata": {},
   "source": [
    "### 6. (Mixup, HF, RF), 차이없음"
   ]
  },
  {
   "cell_type": "code",
   "execution_count": 172,
   "id": "1bc8b12b",
   "metadata": {},
   "outputs": [
    {
     "name": "stderr",
     "output_type": "stream",
     "text": [
      "/home/ubuntu/anaconda3/envs/tensorflow2.4_p37/lib/python3.7/site-packages/ipykernel/__main__.py:1: UserWarning: Boolean Series key will be reindexed to match DataFrame index.\n",
      "  if __name__ == '__main__':\n"
     ]
    },
    {
     "data": {
      "text/html": [
       "<div>\n",
       "<style scoped>\n",
       "    .dataframe tbody tr th:only-of-type {\n",
       "        vertical-align: middle;\n",
       "    }\n",
       "\n",
       "    .dataframe tbody tr th {\n",
       "        vertical-align: top;\n",
       "    }\n",
       "\n",
       "    .dataframe thead th {\n",
       "        text-align: right;\n",
       "    }\n",
       "</style>\n",
       "<table border=\"1\" class=\"dataframe\">\n",
       "  <thead>\n",
       "    <tr style=\"text-align: right;\">\n",
       "      <th></th>\n",
       "      <th>model</th>\n",
       "      <th>aug</th>\n",
       "      <th>beta_param</th>\n",
       "      <th>lowpass</th>\n",
       "      <th>highpass</th>\n",
       "      <th>ranfilter2</th>\n",
       "      <th>mask</th>\n",
       "      <th>blur</th>\n",
       "    </tr>\n",
       "  </thead>\n",
       "  <tbody>\n",
       "    <tr>\n",
       "      <th>24</th>\n",
       "      <td>BCResMax_LA_</td>\n",
       "      <td>Mixup, HF, RF</td>\n",
       "      <td>0.7</td>\n",
       "      <td>False</td>\n",
       "      <td>[[0.5, 0.5], [80, 81, 82, 83, 84, 85, 86, 87]]</td>\n",
       "      <td>[2, [8, 9, 10, 11, 12]]</td>\n",
       "      <td>5.14</td>\n",
       "      <td>3.81</td>\n",
       "    </tr>\n",
       "    <tr>\n",
       "      <th>25</th>\n",
       "      <td>BCResMax_LA_</td>\n",
       "      <td>Mixup, HF, RF</td>\n",
       "      <td>0.7</td>\n",
       "      <td>False</td>\n",
       "      <td>[[0.5, 0.5], [80, 81, 82, 83, 84, 85, 86, 87]]</td>\n",
       "      <td>[2, [8, 9, 10, 11, 12]]</td>\n",
       "      <td>3.83</td>\n",
       "      <td>4.63</td>\n",
       "    </tr>\n",
       "    <tr>\n",
       "      <th>26</th>\n",
       "      <td>BCResMax_LA_</td>\n",
       "      <td>Mixup, HF, RF</td>\n",
       "      <td>0.7</td>\n",
       "      <td>False</td>\n",
       "      <td>[[0.5, 0.5], [80, 81, 82, 83, 84, 85, 86, 87]]</td>\n",
       "      <td>[2, [8, 9, 10, 11, 12]]</td>\n",
       "      <td>3.21</td>\n",
       "      <td>3.76</td>\n",
       "    </tr>\n",
       "  </tbody>\n",
       "</table>\n",
       "</div>"
      ],
      "text/plain": [
       "           model            aug  beta_param lowpass  \\\n",
       "24  BCResMax_LA_  Mixup, HF, RF         0.7   False   \n",
       "25  BCResMax_LA_  Mixup, HF, RF         0.7   False   \n",
       "26  BCResMax_LA_  Mixup, HF, RF         0.7   False   \n",
       "\n",
       "                                          highpass               ranfilter2  \\\n",
       "24  [[0.5, 0.5], [80, 81, 82, 83, 84, 85, 86, 87]]  [2, [8, 9, 10, 11, 12]]   \n",
       "25  [[0.5, 0.5], [80, 81, 82, 83, 84, 85, 86, 87]]  [2, [8, 9, 10, 11, 12]]   \n",
       "26  [[0.5, 0.5], [80, 81, 82, 83, 84, 85, 86, 87]]  [2, [8, 9, 10, 11, 12]]   \n",
       "\n",
       "    mask  blur  \n",
       "24  5.14  3.81  \n",
       "25  3.83  4.63  \n",
       "26  3.21  3.76  "
      ]
     },
     "execution_count": 172,
     "metadata": {},
     "output_type": "execute_result"
    }
   ],
   "source": [
    "bcresmax = df_add[df_add.model==\"BCResMax_LA_\"][df_add.aug==\"Mixup, HF, RF\"][['model','aug','beta_param','lowpass','highpass','ranfilter2','mask','blur']]\n",
    "bcresmax"
   ]
  },
  {
   "cell_type": "code",
   "execution_count": 173,
   "id": "80511476",
   "metadata": {},
   "outputs": [
    {
     "data": {
      "text/plain": [
       "Ttest_indResult(statistic=-0.010499302475762124, pvalue=0.9921257039808064)"
      ]
     },
     "execution_count": 173,
     "metadata": {},
     "output_type": "execute_result"
    }
   ],
   "source": [
    "# n이 작아서 p-value가 크게나옴\n",
    "ttest_ind(bcresmax[\"mask\"],bcresmax[\"blur\"],equal_var=True)\n"
   ]
  },
  {
   "cell_type": "code",
   "execution_count": 174,
   "id": "bad12650",
   "metadata": {},
   "outputs": [
    {
     "data": {
      "text/plain": [
       "Ttest_relResult(statistic=-0.009917409561842273, pvalue=0.9929875048734085)"
      ]
     },
     "execution_count": 174,
     "metadata": {},
     "output_type": "execute_result"
    }
   ],
   "source": [
    "ttest_rel(bcresmax[\"mask\"],bcresmax[\"blur\"])"
   ]
  },
  {
   "cell_type": "markdown",
   "id": "7f4fcad2",
   "metadata": {},
   "source": [
    "### 7. (Mixup, LF, HF, RF), 차이없음"
   ]
  },
  {
   "cell_type": "code",
   "execution_count": 175,
   "id": "5d7b6350",
   "metadata": {},
   "outputs": [
    {
     "name": "stderr",
     "output_type": "stream",
     "text": [
      "/home/ubuntu/anaconda3/envs/tensorflow2.4_p37/lib/python3.7/site-packages/ipykernel/__main__.py:1: UserWarning: Boolean Series key will be reindexed to match DataFrame index.\n",
      "  if __name__ == '__main__':\n"
     ]
    },
    {
     "data": {
      "text/html": [
       "<div>\n",
       "<style scoped>\n",
       "    .dataframe tbody tr th:only-of-type {\n",
       "        vertical-align: middle;\n",
       "    }\n",
       "\n",
       "    .dataframe tbody tr th {\n",
       "        vertical-align: top;\n",
       "    }\n",
       "\n",
       "    .dataframe thead th {\n",
       "        text-align: right;\n",
       "    }\n",
       "</style>\n",
       "<table border=\"1\" class=\"dataframe\">\n",
       "  <thead>\n",
       "    <tr style=\"text-align: right;\">\n",
       "      <th></th>\n",
       "      <th>model</th>\n",
       "      <th>aug</th>\n",
       "      <th>beta_param</th>\n",
       "      <th>lowpass</th>\n",
       "      <th>highpass</th>\n",
       "      <th>ranfilter2</th>\n",
       "      <th>mask</th>\n",
       "      <th>blur</th>\n",
       "    </tr>\n",
       "  </thead>\n",
       "  <tbody>\n",
       "    <tr>\n",
       "      <th>72</th>\n",
       "      <td>BCResMax_LA_</td>\n",
       "      <td>Mixup, LF, HF, RF</td>\n",
       "      <td>0.7</td>\n",
       "      <td>[[0.5, 0.5], [7, 8, 9, 10, 11, 12]]</td>\n",
       "      <td>[[0.5, 0.5], [80, 81, 82, 83, 84, 85, 86, 87]]</td>\n",
       "      <td>[2, [8, 9, 10, 11, 12]]</td>\n",
       "      <td>5.57</td>\n",
       "      <td>3.38</td>\n",
       "    </tr>\n",
       "    <tr>\n",
       "      <th>73</th>\n",
       "      <td>BCResMax_LA_</td>\n",
       "      <td>Mixup, LF, HF, RF</td>\n",
       "      <td>0.7</td>\n",
       "      <td>[[0.5, 0.5], [7, 8, 9, 10, 11, 12]]</td>\n",
       "      <td>[[0.5, 0.5], [80, 81, 82, 83, 84, 85, 86, 87]]</td>\n",
       "      <td>[2, [8, 9, 10, 11, 12]]</td>\n",
       "      <td>4.48</td>\n",
       "      <td>3.95</td>\n",
       "    </tr>\n",
       "    <tr>\n",
       "      <th>74</th>\n",
       "      <td>BCResMax_LA_</td>\n",
       "      <td>Mixup, LF, HF, RF</td>\n",
       "      <td>0.7</td>\n",
       "      <td>[[0.5, 0.5], [7, 8, 9, 10, 11, 12]]</td>\n",
       "      <td>[[0.5, 0.5], [80, 81, 82, 83, 84, 85, 86, 87]]</td>\n",
       "      <td>[2, [8, 9, 10, 11, 12]]</td>\n",
       "      <td>2.98</td>\n",
       "      <td>3.85</td>\n",
       "    </tr>\n",
       "  </tbody>\n",
       "</table>\n",
       "</div>"
      ],
      "text/plain": [
       "           model                aug  beta_param  \\\n",
       "72  BCResMax_LA_  Mixup, LF, HF, RF         0.7   \n",
       "73  BCResMax_LA_  Mixup, LF, HF, RF         0.7   \n",
       "74  BCResMax_LA_  Mixup, LF, HF, RF         0.7   \n",
       "\n",
       "                                lowpass  \\\n",
       "72  [[0.5, 0.5], [7, 8, 9, 10, 11, 12]]   \n",
       "73  [[0.5, 0.5], [7, 8, 9, 10, 11, 12]]   \n",
       "74  [[0.5, 0.5], [7, 8, 9, 10, 11, 12]]   \n",
       "\n",
       "                                          highpass               ranfilter2  \\\n",
       "72  [[0.5, 0.5], [80, 81, 82, 83, 84, 85, 86, 87]]  [2, [8, 9, 10, 11, 12]]   \n",
       "73  [[0.5, 0.5], [80, 81, 82, 83, 84, 85, 86, 87]]  [2, [8, 9, 10, 11, 12]]   \n",
       "74  [[0.5, 0.5], [80, 81, 82, 83, 84, 85, 86, 87]]  [2, [8, 9, 10, 11, 12]]   \n",
       "\n",
       "    mask  blur  \n",
       "72  5.57  3.38  \n",
       "73  4.48  3.95  \n",
       "74  2.98  3.85  "
      ]
     },
     "execution_count": 175,
     "metadata": {},
     "output_type": "execute_result"
    }
   ],
   "source": [
    "bcresmax = df_add[df_add.model==\"BCResMax_LA_\"][df_add.aug==\"Mixup, LF, HF, RF\"][['model','aug','beta_param','lowpass','highpass','ranfilter2','mask','blur']]\n",
    "bcresmax"
   ]
  },
  {
   "cell_type": "code",
   "execution_count": 176,
   "id": "a116a192",
   "metadata": {},
   "outputs": [
    {
     "data": {
      "text/plain": [
       "Ttest_indResult(statistic=0.7997500076601335, pvalue=0.4686565223070019)"
      ]
     },
     "execution_count": 176,
     "metadata": {},
     "output_type": "execute_result"
    }
   ],
   "source": [
    "# n이 작아서 p-value가 크게나옴\n",
    "ttest_ind(bcresmax[\"mask\"],bcresmax[\"blur\"],equal_var=True)\n"
   ]
  },
  {
   "cell_type": "code",
   "execution_count": 177,
   "id": "bf5a3df1",
   "metadata": {},
   "outputs": [
    {
     "data": {
      "text/plain": [
       "Ttest_relResult(statistic=0.6972647932763594, pvalue=0.5577868929470113)"
      ]
     },
     "execution_count": 177,
     "metadata": {},
     "output_type": "execute_result"
    }
   ],
   "source": [
    "ttest_rel(bcresmax[\"mask\"],bcresmax[\"blur\"])"
   ]
  },
  {
   "cell_type": "markdown",
   "id": "f80458bd",
   "metadata": {},
   "source": [
    "---------------"
   ]
  },
  {
   "cell_type": "markdown",
   "id": "631f332e",
   "metadata": {},
   "source": [
    "## DDWSseq_LA_"
   ]
  },
  {
   "cell_type": "code",
   "execution_count": 228,
   "id": "640fd1d2",
   "metadata": {},
   "outputs": [
    {
     "data": {
      "text/html": [
       "<div>\n",
       "<style scoped>\n",
       "    .dataframe tbody tr th:only-of-type {\n",
       "        vertical-align: middle;\n",
       "    }\n",
       "\n",
       "    .dataframe tbody tr th {\n",
       "        vertical-align: top;\n",
       "    }\n",
       "\n",
       "    .dataframe thead th {\n",
       "        text-align: right;\n",
       "    }\n",
       "</style>\n",
       "<table border=\"1\" class=\"dataframe\">\n",
       "  <thead>\n",
       "    <tr style=\"text-align: right;\">\n",
       "      <th></th>\n",
       "      <th>model</th>\n",
       "      <th>aug</th>\n",
       "      <th>beta_param</th>\n",
       "      <th>lowpass</th>\n",
       "      <th>highpass</th>\n",
       "      <th>ranfilter2</th>\n",
       "      <th>mask</th>\n",
       "      <th>blur</th>\n",
       "    </tr>\n",
       "  </thead>\n",
       "  <tbody>\n",
       "    <tr>\n",
       "      <th>3</th>\n",
       "      <td>DDWSseq_LA_</td>\n",
       "      <td>Mixup, RF</td>\n",
       "      <td>0.7</td>\n",
       "      <td>False</td>\n",
       "      <td>False</td>\n",
       "      <td>[2, [8, 9, 10, 11, 12]]</td>\n",
       "      <td>7.57</td>\n",
       "      <td>4.29</td>\n",
       "    </tr>\n",
       "    <tr>\n",
       "      <th>4</th>\n",
       "      <td>DDWSseq_LA_</td>\n",
       "      <td>Mixup, RF</td>\n",
       "      <td>0.7</td>\n",
       "      <td>False</td>\n",
       "      <td>False</td>\n",
       "      <td>[2, [8, 9, 10, 11, 12]]</td>\n",
       "      <td>6.55</td>\n",
       "      <td>4.17</td>\n",
       "    </tr>\n",
       "    <tr>\n",
       "      <th>5</th>\n",
       "      <td>DDWSseq_LA_</td>\n",
       "      <td>Mixup, RF</td>\n",
       "      <td>0.7</td>\n",
       "      <td>False</td>\n",
       "      <td>False</td>\n",
       "      <td>[2, [8, 9, 10, 11, 12]]</td>\n",
       "      <td>5.82</td>\n",
       "      <td>3.46</td>\n",
       "    </tr>\n",
       "    <tr>\n",
       "      <th>15</th>\n",
       "      <td>DDWSseq_LA_</td>\n",
       "      <td>Mixup, HF</td>\n",
       "      <td>0.7</td>\n",
       "      <td>False</td>\n",
       "      <td>[[0.5, 0.5], [80, 81, 82, 83, 84, 85, 86, 87]]</td>\n",
       "      <td>False</td>\n",
       "      <td>3.03</td>\n",
       "      <td>3.09</td>\n",
       "    </tr>\n",
       "    <tr>\n",
       "      <th>16</th>\n",
       "      <td>DDWSseq_LA_</td>\n",
       "      <td>Mixup, HF</td>\n",
       "      <td>0.7</td>\n",
       "      <td>False</td>\n",
       "      <td>[[0.5, 0.5], [80, 81, 82, 83, 84, 85, 86, 87]]</td>\n",
       "      <td>False</td>\n",
       "      <td>2.56</td>\n",
       "      <td>2.85</td>\n",
       "    </tr>\n",
       "    <tr>\n",
       "      <th>17</th>\n",
       "      <td>DDWSseq_LA_</td>\n",
       "      <td>Mixup, HF</td>\n",
       "      <td>0.7</td>\n",
       "      <td>False</td>\n",
       "      <td>[[0.5, 0.5], [80, 81, 82, 83, 84, 85, 86, 87]]</td>\n",
       "      <td>False</td>\n",
       "      <td>2.40</td>\n",
       "      <td>2.62</td>\n",
       "    </tr>\n",
       "    <tr>\n",
       "      <th>27</th>\n",
       "      <td>DDWSseq_LA_</td>\n",
       "      <td>Mixup, HF, RF</td>\n",
       "      <td>0.7</td>\n",
       "      <td>False</td>\n",
       "      <td>[[0.5, 0.5], [80, 81, 82, 83, 84, 85, 86, 87]]</td>\n",
       "      <td>[2, [8, 9, 10, 11, 12]]</td>\n",
       "      <td>5.46</td>\n",
       "      <td>3.56</td>\n",
       "    </tr>\n",
       "    <tr>\n",
       "      <th>28</th>\n",
       "      <td>DDWSseq_LA_</td>\n",
       "      <td>Mixup, HF, RF</td>\n",
       "      <td>0.7</td>\n",
       "      <td>False</td>\n",
       "      <td>[[0.5, 0.5], [80, 81, 82, 83, 84, 85, 86, 87]]</td>\n",
       "      <td>[2, [8, 9, 10, 11, 12]]</td>\n",
       "      <td>4.91</td>\n",
       "      <td>4.08</td>\n",
       "    </tr>\n",
       "    <tr>\n",
       "      <th>29</th>\n",
       "      <td>DDWSseq_LA_</td>\n",
       "      <td>Mixup, HF, RF</td>\n",
       "      <td>0.7</td>\n",
       "      <td>False</td>\n",
       "      <td>[[0.5, 0.5], [80, 81, 82, 83, 84, 85, 86, 87]]</td>\n",
       "      <td>[2, [8, 9, 10, 11, 12]]</td>\n",
       "      <td>3.98</td>\n",
       "      <td>4.59</td>\n",
       "    </tr>\n",
       "    <tr>\n",
       "      <th>39</th>\n",
       "      <td>DDWSseq_LA_</td>\n",
       "      <td>Mixup, LF</td>\n",
       "      <td>0.7</td>\n",
       "      <td>[[0.5, 0.5], [7, 8, 9, 10, 11, 12]]</td>\n",
       "      <td>False</td>\n",
       "      <td>False</td>\n",
       "      <td>3.72</td>\n",
       "      <td>3.90</td>\n",
       "    </tr>\n",
       "    <tr>\n",
       "      <th>40</th>\n",
       "      <td>DDWSseq_LA_</td>\n",
       "      <td>Mixup, LF</td>\n",
       "      <td>0.7</td>\n",
       "      <td>[[0.5, 0.5], [7, 8, 9, 10, 11, 12]]</td>\n",
       "      <td>False</td>\n",
       "      <td>False</td>\n",
       "      <td>3.11</td>\n",
       "      <td>4.03</td>\n",
       "    </tr>\n",
       "    <tr>\n",
       "      <th>41</th>\n",
       "      <td>DDWSseq_LA_</td>\n",
       "      <td>Mixup, LF</td>\n",
       "      <td>0.7</td>\n",
       "      <td>[[0.5, 0.5], [7, 8, 9, 10, 11, 12]]</td>\n",
       "      <td>False</td>\n",
       "      <td>False</td>\n",
       "      <td>3.00</td>\n",
       "      <td>3.17</td>\n",
       "    </tr>\n",
       "    <tr>\n",
       "      <th>51</th>\n",
       "      <td>DDWSseq_LA_</td>\n",
       "      <td>Mixup, LF, RF</td>\n",
       "      <td>0.7</td>\n",
       "      <td>[[0.5, 0.5], [7, 8, 9, 10, 11, 12]]</td>\n",
       "      <td>False</td>\n",
       "      <td>[2, [8, 9, 10, 11, 12]]</td>\n",
       "      <td>4.09</td>\n",
       "      <td>5.42</td>\n",
       "    </tr>\n",
       "    <tr>\n",
       "      <th>52</th>\n",
       "      <td>DDWSseq_LA_</td>\n",
       "      <td>Mixup, LF, RF</td>\n",
       "      <td>0.7</td>\n",
       "      <td>[[0.5, 0.5], [7, 8, 9, 10, 11, 12]]</td>\n",
       "      <td>False</td>\n",
       "      <td>[2, [8, 9, 10, 11, 12]]</td>\n",
       "      <td>4.74</td>\n",
       "      <td>6.76</td>\n",
       "    </tr>\n",
       "    <tr>\n",
       "      <th>53</th>\n",
       "      <td>DDWSseq_LA_</td>\n",
       "      <td>Mixup, LF, RF</td>\n",
       "      <td>0.7</td>\n",
       "      <td>[[0.5, 0.5], [7, 8, 9, 10, 11, 12]]</td>\n",
       "      <td>False</td>\n",
       "      <td>[2, [8, 9, 10, 11, 12]]</td>\n",
       "      <td>4.57</td>\n",
       "      <td>4.00</td>\n",
       "    </tr>\n",
       "    <tr>\n",
       "      <th>63</th>\n",
       "      <td>DDWSseq_LA_</td>\n",
       "      <td>Mixup, LF, HF</td>\n",
       "      <td>0.7</td>\n",
       "      <td>[[0.5, 0.5], [7, 8, 9, 10, 11, 12]]</td>\n",
       "      <td>[[0.5, 0.5], [80, 81, 82, 83, 84, 85, 86, 87]]</td>\n",
       "      <td>False</td>\n",
       "      <td>2.62</td>\n",
       "      <td>3.14</td>\n",
       "    </tr>\n",
       "    <tr>\n",
       "      <th>64</th>\n",
       "      <td>DDWSseq_LA_</td>\n",
       "      <td>Mixup, LF, HF</td>\n",
       "      <td>0.7</td>\n",
       "      <td>[[0.5, 0.5], [7, 8, 9, 10, 11, 12]]</td>\n",
       "      <td>[[0.5, 0.5], [80, 81, 82, 83, 84, 85, 86, 87]]</td>\n",
       "      <td>False</td>\n",
       "      <td>2.57</td>\n",
       "      <td>2.62</td>\n",
       "    </tr>\n",
       "    <tr>\n",
       "      <th>65</th>\n",
       "      <td>DDWSseq_LA_</td>\n",
       "      <td>Mixup, LF, HF</td>\n",
       "      <td>0.7</td>\n",
       "      <td>[[0.5, 0.5], [7, 8, 9, 10, 11, 12]]</td>\n",
       "      <td>[[0.5, 0.5], [80, 81, 82, 83, 84, 85, 86, 87]]</td>\n",
       "      <td>False</td>\n",
       "      <td>2.15</td>\n",
       "      <td>2.44</td>\n",
       "    </tr>\n",
       "    <tr>\n",
       "      <th>75</th>\n",
       "      <td>DDWSseq_LA_</td>\n",
       "      <td>Mixup, LF, HF, RF</td>\n",
       "      <td>0.7</td>\n",
       "      <td>[[0.5, 0.5], [7, 8, 9, 10, 11, 12]]</td>\n",
       "      <td>[[0.5, 0.5], [80, 81, 82, 83, 84, 85, 86, 87]]</td>\n",
       "      <td>[2, [8, 9, 10, 11, 12]]</td>\n",
       "      <td>5.04</td>\n",
       "      <td>3.49</td>\n",
       "    </tr>\n",
       "    <tr>\n",
       "      <th>76</th>\n",
       "      <td>DDWSseq_LA_</td>\n",
       "      <td>Mixup, LF, HF, RF</td>\n",
       "      <td>0.7</td>\n",
       "      <td>[[0.5, 0.5], [7, 8, 9, 10, 11, 12]]</td>\n",
       "      <td>[[0.5, 0.5], [80, 81, 82, 83, 84, 85, 86, 87]]</td>\n",
       "      <td>[2, [8, 9, 10, 11, 12]]</td>\n",
       "      <td>4.14</td>\n",
       "      <td>5.30</td>\n",
       "    </tr>\n",
       "    <tr>\n",
       "      <th>77</th>\n",
       "      <td>DDWSseq_LA_</td>\n",
       "      <td>Mixup, LF, HF, RF</td>\n",
       "      <td>0.7</td>\n",
       "      <td>[[0.5, 0.5], [7, 8, 9, 10, 11, 12]]</td>\n",
       "      <td>[[0.5, 0.5], [80, 81, 82, 83, 84, 85, 86, 87]]</td>\n",
       "      <td>[2, [8, 9, 10, 11, 12]]</td>\n",
       "      <td>3.81</td>\n",
       "      <td>3.35</td>\n",
       "    </tr>\n",
       "  </tbody>\n",
       "</table>\n",
       "</div>"
      ],
      "text/plain": [
       "          model                aug  beta_param  \\\n",
       "3   DDWSseq_LA_          Mixup, RF         0.7   \n",
       "4   DDWSseq_LA_          Mixup, RF         0.7   \n",
       "5   DDWSseq_LA_          Mixup, RF         0.7   \n",
       "15  DDWSseq_LA_          Mixup, HF         0.7   \n",
       "16  DDWSseq_LA_          Mixup, HF         0.7   \n",
       "17  DDWSseq_LA_          Mixup, HF         0.7   \n",
       "27  DDWSseq_LA_      Mixup, HF, RF         0.7   \n",
       "28  DDWSseq_LA_      Mixup, HF, RF         0.7   \n",
       "29  DDWSseq_LA_      Mixup, HF, RF         0.7   \n",
       "39  DDWSseq_LA_          Mixup, LF         0.7   \n",
       "40  DDWSseq_LA_          Mixup, LF         0.7   \n",
       "41  DDWSseq_LA_          Mixup, LF         0.7   \n",
       "51  DDWSseq_LA_      Mixup, LF, RF         0.7   \n",
       "52  DDWSseq_LA_      Mixup, LF, RF         0.7   \n",
       "53  DDWSseq_LA_      Mixup, LF, RF         0.7   \n",
       "63  DDWSseq_LA_      Mixup, LF, HF         0.7   \n",
       "64  DDWSseq_LA_      Mixup, LF, HF         0.7   \n",
       "65  DDWSseq_LA_      Mixup, LF, HF         0.7   \n",
       "75  DDWSseq_LA_  Mixup, LF, HF, RF         0.7   \n",
       "76  DDWSseq_LA_  Mixup, LF, HF, RF         0.7   \n",
       "77  DDWSseq_LA_  Mixup, LF, HF, RF         0.7   \n",
       "\n",
       "                                lowpass  \\\n",
       "3                                 False   \n",
       "4                                 False   \n",
       "5                                 False   \n",
       "15                                False   \n",
       "16                                False   \n",
       "17                                False   \n",
       "27                                False   \n",
       "28                                False   \n",
       "29                                False   \n",
       "39  [[0.5, 0.5], [7, 8, 9, 10, 11, 12]]   \n",
       "40  [[0.5, 0.5], [7, 8, 9, 10, 11, 12]]   \n",
       "41  [[0.5, 0.5], [7, 8, 9, 10, 11, 12]]   \n",
       "51  [[0.5, 0.5], [7, 8, 9, 10, 11, 12]]   \n",
       "52  [[0.5, 0.5], [7, 8, 9, 10, 11, 12]]   \n",
       "53  [[0.5, 0.5], [7, 8, 9, 10, 11, 12]]   \n",
       "63  [[0.5, 0.5], [7, 8, 9, 10, 11, 12]]   \n",
       "64  [[0.5, 0.5], [7, 8, 9, 10, 11, 12]]   \n",
       "65  [[0.5, 0.5], [7, 8, 9, 10, 11, 12]]   \n",
       "75  [[0.5, 0.5], [7, 8, 9, 10, 11, 12]]   \n",
       "76  [[0.5, 0.5], [7, 8, 9, 10, 11, 12]]   \n",
       "77  [[0.5, 0.5], [7, 8, 9, 10, 11, 12]]   \n",
       "\n",
       "                                          highpass               ranfilter2  \\\n",
       "3                                            False  [2, [8, 9, 10, 11, 12]]   \n",
       "4                                            False  [2, [8, 9, 10, 11, 12]]   \n",
       "5                                            False  [2, [8, 9, 10, 11, 12]]   \n",
       "15  [[0.5, 0.5], [80, 81, 82, 83, 84, 85, 86, 87]]                    False   \n",
       "16  [[0.5, 0.5], [80, 81, 82, 83, 84, 85, 86, 87]]                    False   \n",
       "17  [[0.5, 0.5], [80, 81, 82, 83, 84, 85, 86, 87]]                    False   \n",
       "27  [[0.5, 0.5], [80, 81, 82, 83, 84, 85, 86, 87]]  [2, [8, 9, 10, 11, 12]]   \n",
       "28  [[0.5, 0.5], [80, 81, 82, 83, 84, 85, 86, 87]]  [2, [8, 9, 10, 11, 12]]   \n",
       "29  [[0.5, 0.5], [80, 81, 82, 83, 84, 85, 86, 87]]  [2, [8, 9, 10, 11, 12]]   \n",
       "39                                           False                    False   \n",
       "40                                           False                    False   \n",
       "41                                           False                    False   \n",
       "51                                           False  [2, [8, 9, 10, 11, 12]]   \n",
       "52                                           False  [2, [8, 9, 10, 11, 12]]   \n",
       "53                                           False  [2, [8, 9, 10, 11, 12]]   \n",
       "63  [[0.5, 0.5], [80, 81, 82, 83, 84, 85, 86, 87]]                    False   \n",
       "64  [[0.5, 0.5], [80, 81, 82, 83, 84, 85, 86, 87]]                    False   \n",
       "65  [[0.5, 0.5], [80, 81, 82, 83, 84, 85, 86, 87]]                    False   \n",
       "75  [[0.5, 0.5], [80, 81, 82, 83, 84, 85, 86, 87]]  [2, [8, 9, 10, 11, 12]]   \n",
       "76  [[0.5, 0.5], [80, 81, 82, 83, 84, 85, 86, 87]]  [2, [8, 9, 10, 11, 12]]   \n",
       "77  [[0.5, 0.5], [80, 81, 82, 83, 84, 85, 86, 87]]  [2, [8, 9, 10, 11, 12]]   \n",
       "\n",
       "    mask  blur  \n",
       "3   7.57  4.29  \n",
       "4   6.55  4.17  \n",
       "5   5.82  3.46  \n",
       "15  3.03  3.09  \n",
       "16  2.56  2.85  \n",
       "17  2.40  2.62  \n",
       "27  5.46  3.56  \n",
       "28  4.91  4.08  \n",
       "29  3.98  4.59  \n",
       "39  3.72  3.90  \n",
       "40  3.11  4.03  \n",
       "41  3.00  3.17  \n",
       "51  4.09  5.42  \n",
       "52  4.74  6.76  \n",
       "53  4.57  4.00  \n",
       "63  2.62  3.14  \n",
       "64  2.57  2.62  \n",
       "65  2.15  2.44  \n",
       "75  5.04  3.49  \n",
       "76  4.14  5.30  \n",
       "77  3.81  3.35  "
      ]
     },
     "execution_count": 228,
     "metadata": {},
     "output_type": "execute_result"
    }
   ],
   "source": [
    "ddws = df_add[df_add.model==\"DDWSseq_LA_\"][['model','aug','beta_param','lowpass','highpass','ranfilter2','mask','blur']]\n",
    "ddws"
   ]
  },
  {
   "cell_type": "code",
   "execution_count": 229,
   "id": "305d413e",
   "metadata": {},
   "outputs": [
    {
     "data": {
      "text/plain": [
       "Ttest_indResult(statistic=0.670353556507963, pvalue=0.5064845363713962)"
      ]
     },
     "execution_count": 229,
     "metadata": {},
     "output_type": "execute_result"
    }
   ],
   "source": [
    "# n이 작아서 p-value가 크게나옴\n",
    "ttest_ind(ddws[\"mask\"],ddws[\"blur\"],equal_var=True)\n"
   ]
  },
  {
   "cell_type": "code",
   "execution_count": 230,
   "id": "a14b0c06",
   "metadata": {},
   "outputs": [
    {
     "data": {
      "text/plain": [
       "Ttest_relResult(statistic=0.886980780747763, pvalue=0.3856313166468328)"
      ]
     },
     "execution_count": 230,
     "metadata": {},
     "output_type": "execute_result"
    }
   ],
   "source": [
    "ttest_rel(ddws[\"mask\"],ddws[\"blur\"])"
   ]
  },
  {
   "cell_type": "markdown",
   "id": "fa06a5fa",
   "metadata": {},
   "source": [
    "### 1. (Mixup,LF), 차이없음"
   ]
  },
  {
   "cell_type": "code",
   "execution_count": 178,
   "id": "cf4aaaa3",
   "metadata": {},
   "outputs": [
    {
     "name": "stderr",
     "output_type": "stream",
     "text": [
      "/home/ubuntu/anaconda3/envs/tensorflow2.4_p37/lib/python3.7/site-packages/ipykernel/__main__.py:1: UserWarning: Boolean Series key will be reindexed to match DataFrame index.\n",
      "  if __name__ == '__main__':\n"
     ]
    },
    {
     "data": {
      "text/html": [
       "<div>\n",
       "<style scoped>\n",
       "    .dataframe tbody tr th:only-of-type {\n",
       "        vertical-align: middle;\n",
       "    }\n",
       "\n",
       "    .dataframe tbody tr th {\n",
       "        vertical-align: top;\n",
       "    }\n",
       "\n",
       "    .dataframe thead th {\n",
       "        text-align: right;\n",
       "    }\n",
       "</style>\n",
       "<table border=\"1\" class=\"dataframe\">\n",
       "  <thead>\n",
       "    <tr style=\"text-align: right;\">\n",
       "      <th></th>\n",
       "      <th>model</th>\n",
       "      <th>aug</th>\n",
       "      <th>beta_param</th>\n",
       "      <th>lowpass</th>\n",
       "      <th>highpass</th>\n",
       "      <th>ranfilter2</th>\n",
       "      <th>mask</th>\n",
       "      <th>blur</th>\n",
       "    </tr>\n",
       "  </thead>\n",
       "  <tbody>\n",
       "    <tr>\n",
       "      <th>39</th>\n",
       "      <td>DDWSseq_LA_</td>\n",
       "      <td>Mixup, LF</td>\n",
       "      <td>0.7</td>\n",
       "      <td>[[0.5, 0.5], [7, 8, 9, 10, 11, 12]]</td>\n",
       "      <td>False</td>\n",
       "      <td>False</td>\n",
       "      <td>3.72</td>\n",
       "      <td>3.90</td>\n",
       "    </tr>\n",
       "    <tr>\n",
       "      <th>40</th>\n",
       "      <td>DDWSseq_LA_</td>\n",
       "      <td>Mixup, LF</td>\n",
       "      <td>0.7</td>\n",
       "      <td>[[0.5, 0.5], [7, 8, 9, 10, 11, 12]]</td>\n",
       "      <td>False</td>\n",
       "      <td>False</td>\n",
       "      <td>3.11</td>\n",
       "      <td>4.03</td>\n",
       "    </tr>\n",
       "    <tr>\n",
       "      <th>41</th>\n",
       "      <td>DDWSseq_LA_</td>\n",
       "      <td>Mixup, LF</td>\n",
       "      <td>0.7</td>\n",
       "      <td>[[0.5, 0.5], [7, 8, 9, 10, 11, 12]]</td>\n",
       "      <td>False</td>\n",
       "      <td>False</td>\n",
       "      <td>3.00</td>\n",
       "      <td>3.17</td>\n",
       "    </tr>\n",
       "  </tbody>\n",
       "</table>\n",
       "</div>"
      ],
      "text/plain": [
       "          model        aug  beta_param                              lowpass  \\\n",
       "39  DDWSseq_LA_  Mixup, LF         0.7  [[0.5, 0.5], [7, 8, 9, 10, 11, 12]]   \n",
       "40  DDWSseq_LA_  Mixup, LF         0.7  [[0.5, 0.5], [7, 8, 9, 10, 11, 12]]   \n",
       "41  DDWSseq_LA_  Mixup, LF         0.7  [[0.5, 0.5], [7, 8, 9, 10, 11, 12]]   \n",
       "\n",
       "   highpass ranfilter2  mask  blur  \n",
       "39    False      False  3.72  3.90  \n",
       "40    False      False  3.11  4.03  \n",
       "41    False      False  3.00  3.17  "
      ]
     },
     "execution_count": 178,
     "metadata": {},
     "output_type": "execute_result"
    }
   ],
   "source": [
    "ddws = df_add[df_add.model==\"DDWSseq_LA_\"][df_add.aug==\"Mixup, LF\"][['model','aug','beta_param','lowpass','highpass','ranfilter2','mask','blur']]\n",
    "ddws"
   ]
  },
  {
   "cell_type": "code",
   "execution_count": 179,
   "id": "6ba79ae1",
   "metadata": {},
   "outputs": [
    {
     "data": {
      "text/plain": [
       "Ttest_indResult(statistic=-1.2131051428426296, pvalue=0.29182746706076634)"
      ]
     },
     "execution_count": 179,
     "metadata": {},
     "output_type": "execute_result"
    }
   ],
   "source": [
    "# n이 작아서 p-value가 크게나옴\n",
    "ttest_ind(ddws[\"mask\"],ddws[\"blur\"],equal_var=True)\n"
   ]
  },
  {
   "cell_type": "code",
   "execution_count": 180,
   "id": "6c13d5b3",
   "metadata": {},
   "outputs": [
    {
     "data": {
      "text/plain": [
       "Ttest_relResult(statistic=-1.7045828211404632, pvalue=0.23038783137966048)"
      ]
     },
     "execution_count": 180,
     "metadata": {},
     "output_type": "execute_result"
    }
   ],
   "source": [
    "ttest_rel(ddws[\"mask\"],ddws[\"blur\"])"
   ]
  },
  {
   "cell_type": "markdown",
   "id": "45eb6d04",
   "metadata": {},
   "source": [
    "### 2. (Mixup, HF), 차이없음"
   ]
  },
  {
   "cell_type": "code",
   "execution_count": 182,
   "id": "33727a9c",
   "metadata": {},
   "outputs": [
    {
     "name": "stderr",
     "output_type": "stream",
     "text": [
      "/home/ubuntu/anaconda3/envs/tensorflow2.4_p37/lib/python3.7/site-packages/ipykernel/__main__.py:1: UserWarning: Boolean Series key will be reindexed to match DataFrame index.\n",
      "  if __name__ == '__main__':\n"
     ]
    },
    {
     "data": {
      "text/html": [
       "<div>\n",
       "<style scoped>\n",
       "    .dataframe tbody tr th:only-of-type {\n",
       "        vertical-align: middle;\n",
       "    }\n",
       "\n",
       "    .dataframe tbody tr th {\n",
       "        vertical-align: top;\n",
       "    }\n",
       "\n",
       "    .dataframe thead th {\n",
       "        text-align: right;\n",
       "    }\n",
       "</style>\n",
       "<table border=\"1\" class=\"dataframe\">\n",
       "  <thead>\n",
       "    <tr style=\"text-align: right;\">\n",
       "      <th></th>\n",
       "      <th>model</th>\n",
       "      <th>aug</th>\n",
       "      <th>beta_param</th>\n",
       "      <th>lowpass</th>\n",
       "      <th>highpass</th>\n",
       "      <th>ranfilter2</th>\n",
       "      <th>mask</th>\n",
       "      <th>blur</th>\n",
       "    </tr>\n",
       "  </thead>\n",
       "  <tbody>\n",
       "    <tr>\n",
       "      <th>15</th>\n",
       "      <td>DDWSseq_LA_</td>\n",
       "      <td>Mixup, HF</td>\n",
       "      <td>0.7</td>\n",
       "      <td>False</td>\n",
       "      <td>[[0.5, 0.5], [80, 81, 82, 83, 84, 85, 86, 87]]</td>\n",
       "      <td>False</td>\n",
       "      <td>3.03</td>\n",
       "      <td>3.09</td>\n",
       "    </tr>\n",
       "    <tr>\n",
       "      <th>16</th>\n",
       "      <td>DDWSseq_LA_</td>\n",
       "      <td>Mixup, HF</td>\n",
       "      <td>0.7</td>\n",
       "      <td>False</td>\n",
       "      <td>[[0.5, 0.5], [80, 81, 82, 83, 84, 85, 86, 87]]</td>\n",
       "      <td>False</td>\n",
       "      <td>2.56</td>\n",
       "      <td>2.85</td>\n",
       "    </tr>\n",
       "    <tr>\n",
       "      <th>17</th>\n",
       "      <td>DDWSseq_LA_</td>\n",
       "      <td>Mixup, HF</td>\n",
       "      <td>0.7</td>\n",
       "      <td>False</td>\n",
       "      <td>[[0.5, 0.5], [80, 81, 82, 83, 84, 85, 86, 87]]</td>\n",
       "      <td>False</td>\n",
       "      <td>2.40</td>\n",
       "      <td>2.62</td>\n",
       "    </tr>\n",
       "  </tbody>\n",
       "</table>\n",
       "</div>"
      ],
      "text/plain": [
       "          model        aug  beta_param lowpass  \\\n",
       "15  DDWSseq_LA_  Mixup, HF         0.7   False   \n",
       "16  DDWSseq_LA_  Mixup, HF         0.7   False   \n",
       "17  DDWSseq_LA_  Mixup, HF         0.7   False   \n",
       "\n",
       "                                          highpass ranfilter2  mask  blur  \n",
       "15  [[0.5, 0.5], [80, 81, 82, 83, 84, 85, 86, 87]]      False  3.03  3.09  \n",
       "16  [[0.5, 0.5], [80, 81, 82, 83, 84, 85, 86, 87]]      False  2.56  2.85  \n",
       "17  [[0.5, 0.5], [80, 81, 82, 83, 84, 85, 86, 87]]      False  2.40  2.62  "
      ]
     },
     "execution_count": 182,
     "metadata": {},
     "output_type": "execute_result"
    }
   ],
   "source": [
    "ddws = df_add[df_add.model==\"DDWSseq_LA_\"][df_add.aug==\"Mixup, HF\"][['model','aug','beta_param','lowpass','highpass','ranfilter2','mask','blur']]\n",
    "ddws"
   ]
  },
  {
   "cell_type": "code",
   "execution_count": 183,
   "id": "7e8b4446",
   "metadata": {},
   "outputs": [
    {
     "data": {
      "text/plain": [
       "Ttest_indResult(statistic=-0.81645469964325, pvalue=0.46007211879544857)"
      ]
     },
     "execution_count": 183,
     "metadata": {},
     "output_type": "execute_result"
    }
   ],
   "source": [
    "# n이 작아서 p-value가 크게나옴\n",
    "ttest_ind(ddws[\"mask\"],ddws[\"blur\"],equal_var=True)\n"
   ]
  },
  {
   "cell_type": "code",
   "execution_count": 184,
   "id": "f53401b3",
   "metadata": {},
   "outputs": [
    {
     "data": {
      "text/plain": [
       "Ttest_relResult(statistic=-2.7913020091840344, pvalue=0.10795828145386313)"
      ]
     },
     "execution_count": 184,
     "metadata": {},
     "output_type": "execute_result"
    }
   ],
   "source": [
    "ttest_rel(ddws[\"mask\"],ddws[\"blur\"])"
   ]
  },
  {
   "cell_type": "markdown",
   "id": "5642f1d8",
   "metadata": {},
   "source": [
    "### 3. (Mixup, RF), 차이있음"
   ]
  },
  {
   "cell_type": "code",
   "execution_count": 188,
   "id": "e6646357",
   "metadata": {},
   "outputs": [
    {
     "name": "stderr",
     "output_type": "stream",
     "text": [
      "/home/ubuntu/anaconda3/envs/tensorflow2.4_p37/lib/python3.7/site-packages/ipykernel/__main__.py:1: UserWarning: Boolean Series key will be reindexed to match DataFrame index.\n",
      "  if __name__ == '__main__':\n"
     ]
    },
    {
     "data": {
      "text/html": [
       "<div>\n",
       "<style scoped>\n",
       "    .dataframe tbody tr th:only-of-type {\n",
       "        vertical-align: middle;\n",
       "    }\n",
       "\n",
       "    .dataframe tbody tr th {\n",
       "        vertical-align: top;\n",
       "    }\n",
       "\n",
       "    .dataframe thead th {\n",
       "        text-align: right;\n",
       "    }\n",
       "</style>\n",
       "<table border=\"1\" class=\"dataframe\">\n",
       "  <thead>\n",
       "    <tr style=\"text-align: right;\">\n",
       "      <th></th>\n",
       "      <th>model</th>\n",
       "      <th>aug</th>\n",
       "      <th>beta_param</th>\n",
       "      <th>lowpass</th>\n",
       "      <th>highpass</th>\n",
       "      <th>ranfilter2</th>\n",
       "      <th>mask</th>\n",
       "      <th>blur</th>\n",
       "    </tr>\n",
       "  </thead>\n",
       "  <tbody>\n",
       "    <tr>\n",
       "      <th>3</th>\n",
       "      <td>DDWSseq_LA_</td>\n",
       "      <td>Mixup, RF</td>\n",
       "      <td>0.7</td>\n",
       "      <td>False</td>\n",
       "      <td>False</td>\n",
       "      <td>[2, [8, 9, 10, 11, 12]]</td>\n",
       "      <td>7.57</td>\n",
       "      <td>4.29</td>\n",
       "    </tr>\n",
       "    <tr>\n",
       "      <th>4</th>\n",
       "      <td>DDWSseq_LA_</td>\n",
       "      <td>Mixup, RF</td>\n",
       "      <td>0.7</td>\n",
       "      <td>False</td>\n",
       "      <td>False</td>\n",
       "      <td>[2, [8, 9, 10, 11, 12]]</td>\n",
       "      <td>6.55</td>\n",
       "      <td>4.17</td>\n",
       "    </tr>\n",
       "    <tr>\n",
       "      <th>5</th>\n",
       "      <td>DDWSseq_LA_</td>\n",
       "      <td>Mixup, RF</td>\n",
       "      <td>0.7</td>\n",
       "      <td>False</td>\n",
       "      <td>False</td>\n",
       "      <td>[2, [8, 9, 10, 11, 12]]</td>\n",
       "      <td>5.82</td>\n",
       "      <td>3.46</td>\n",
       "    </tr>\n",
       "  </tbody>\n",
       "</table>\n",
       "</div>"
      ],
      "text/plain": [
       "         model        aug  beta_param lowpass highpass  \\\n",
       "3  DDWSseq_LA_  Mixup, RF         0.7   False    False   \n",
       "4  DDWSseq_LA_  Mixup, RF         0.7   False    False   \n",
       "5  DDWSseq_LA_  Mixup, RF         0.7   False    False   \n",
       "\n",
       "                ranfilter2  mask  blur  \n",
       "3  [2, [8, 9, 10, 11, 12]]  7.57  4.29  \n",
       "4  [2, [8, 9, 10, 11, 12]]  6.55  4.17  \n",
       "5  [2, [8, 9, 10, 11, 12]]  5.82  3.46  "
      ]
     },
     "execution_count": 188,
     "metadata": {},
     "output_type": "execute_result"
    }
   ],
   "source": [
    "ddws = df_add[df_add.model==\"DDWSseq_LA_\"][df_add.aug==\"Mixup, RF\"][['model','aug','beta_param','lowpass','highpass','ranfilter2','mask','blur']]\n",
    "ddws"
   ]
  },
  {
   "cell_type": "code",
   "execution_count": 189,
   "id": "17434360",
   "metadata": {},
   "outputs": [
    {
     "data": {
      "text/plain": [
       "Ttest_indResult(statistic=4.692064681439113, pvalue=0.009363377265461988)"
      ]
     },
     "execution_count": 189,
     "metadata": {},
     "output_type": "execute_result"
    }
   ],
   "source": [
    "# n이 작아서 p-value가 크게나옴\n",
    "ttest_ind(ddws[\"mask\"],ddws[\"blur\"],equal_var=True)\n"
   ]
  },
  {
   "cell_type": "code",
   "execution_count": 190,
   "id": "811b0ed2",
   "metadata": {},
   "outputs": [
    {
     "data": {
      "text/plain": [
       "Ttest_relResult(statistic=8.81159084779543, pvalue=0.012635682868656139)"
      ]
     },
     "execution_count": 190,
     "metadata": {},
     "output_type": "execute_result"
    }
   ],
   "source": [
    "ttest_rel(ddws[\"mask\"],ddws[\"blur\"])"
   ]
  },
  {
   "cell_type": "markdown",
   "id": "67dde073",
   "metadata": {},
   "source": [
    "### 4. (Mixup, LF, HF), 차이없음"
   ]
  },
  {
   "cell_type": "code",
   "execution_count": 191,
   "id": "ff5974a5",
   "metadata": {},
   "outputs": [
    {
     "name": "stderr",
     "output_type": "stream",
     "text": [
      "/home/ubuntu/anaconda3/envs/tensorflow2.4_p37/lib/python3.7/site-packages/ipykernel/__main__.py:1: UserWarning: Boolean Series key will be reindexed to match DataFrame index.\n",
      "  if __name__ == '__main__':\n"
     ]
    },
    {
     "data": {
      "text/html": [
       "<div>\n",
       "<style scoped>\n",
       "    .dataframe tbody tr th:only-of-type {\n",
       "        vertical-align: middle;\n",
       "    }\n",
       "\n",
       "    .dataframe tbody tr th {\n",
       "        vertical-align: top;\n",
       "    }\n",
       "\n",
       "    .dataframe thead th {\n",
       "        text-align: right;\n",
       "    }\n",
       "</style>\n",
       "<table border=\"1\" class=\"dataframe\">\n",
       "  <thead>\n",
       "    <tr style=\"text-align: right;\">\n",
       "      <th></th>\n",
       "      <th>model</th>\n",
       "      <th>aug</th>\n",
       "      <th>beta_param</th>\n",
       "      <th>lowpass</th>\n",
       "      <th>highpass</th>\n",
       "      <th>ranfilter2</th>\n",
       "      <th>mask</th>\n",
       "      <th>blur</th>\n",
       "    </tr>\n",
       "  </thead>\n",
       "  <tbody>\n",
       "    <tr>\n",
       "      <th>63</th>\n",
       "      <td>DDWSseq_LA_</td>\n",
       "      <td>Mixup, LF, HF</td>\n",
       "      <td>0.7</td>\n",
       "      <td>[[0.5, 0.5], [7, 8, 9, 10, 11, 12]]</td>\n",
       "      <td>[[0.5, 0.5], [80, 81, 82, 83, 84, 85, 86, 87]]</td>\n",
       "      <td>False</td>\n",
       "      <td>2.62</td>\n",
       "      <td>3.14</td>\n",
       "    </tr>\n",
       "    <tr>\n",
       "      <th>64</th>\n",
       "      <td>DDWSseq_LA_</td>\n",
       "      <td>Mixup, LF, HF</td>\n",
       "      <td>0.7</td>\n",
       "      <td>[[0.5, 0.5], [7, 8, 9, 10, 11, 12]]</td>\n",
       "      <td>[[0.5, 0.5], [80, 81, 82, 83, 84, 85, 86, 87]]</td>\n",
       "      <td>False</td>\n",
       "      <td>2.57</td>\n",
       "      <td>2.62</td>\n",
       "    </tr>\n",
       "    <tr>\n",
       "      <th>65</th>\n",
       "      <td>DDWSseq_LA_</td>\n",
       "      <td>Mixup, LF, HF</td>\n",
       "      <td>0.7</td>\n",
       "      <td>[[0.5, 0.5], [7, 8, 9, 10, 11, 12]]</td>\n",
       "      <td>[[0.5, 0.5], [80, 81, 82, 83, 84, 85, 86, 87]]</td>\n",
       "      <td>False</td>\n",
       "      <td>2.15</td>\n",
       "      <td>2.44</td>\n",
       "    </tr>\n",
       "  </tbody>\n",
       "</table>\n",
       "</div>"
      ],
      "text/plain": [
       "          model            aug  beta_param  \\\n",
       "63  DDWSseq_LA_  Mixup, LF, HF         0.7   \n",
       "64  DDWSseq_LA_  Mixup, LF, HF         0.7   \n",
       "65  DDWSseq_LA_  Mixup, LF, HF         0.7   \n",
       "\n",
       "                                lowpass  \\\n",
       "63  [[0.5, 0.5], [7, 8, 9, 10, 11, 12]]   \n",
       "64  [[0.5, 0.5], [7, 8, 9, 10, 11, 12]]   \n",
       "65  [[0.5, 0.5], [7, 8, 9, 10, 11, 12]]   \n",
       "\n",
       "                                          highpass ranfilter2  mask  blur  \n",
       "63  [[0.5, 0.5], [80, 81, 82, 83, 84, 85, 86, 87]]      False  2.62  3.14  \n",
       "64  [[0.5, 0.5], [80, 81, 82, 83, 84, 85, 86, 87]]      False  2.57  2.62  \n",
       "65  [[0.5, 0.5], [80, 81, 82, 83, 84, 85, 86, 87]]      False  2.15  2.44  "
      ]
     },
     "execution_count": 191,
     "metadata": {},
     "output_type": "execute_result"
    }
   ],
   "source": [
    "ddws = df_add[df_add.model==\"DDWSseq_LA_\"][df_add.aug==\"Mixup, LF, HF\"][['model','aug','beta_param','lowpass','highpass','ranfilter2','mask','blur']]\n",
    "ddws"
   ]
  },
  {
   "cell_type": "code",
   "execution_count": 192,
   "id": "0efb38b5",
   "metadata": {},
   "outputs": [
    {
     "data": {
      "text/plain": [
       "Ttest_indResult(statistic=-1.1136944273654492, pvalue=0.3278171936714859)"
      ]
     },
     "execution_count": 192,
     "metadata": {},
     "output_type": "execute_result"
    }
   ],
   "source": [
    "# n이 작아서 p-value가 크게나옴\n",
    "ttest_ind(ddws[\"mask\"],ddws[\"blur\"],equal_var=True)\n"
   ]
  },
  {
   "cell_type": "code",
   "execution_count": 193,
   "id": "5c720b6a",
   "metadata": {},
   "outputs": [
    {
     "data": {
      "text/plain": [
       "Ttest_relResult(statistic=-2.112696909578874, pvalue=0.16899484889815697)"
      ]
     },
     "execution_count": 193,
     "metadata": {},
     "output_type": "execute_result"
    }
   ],
   "source": [
    "ttest_rel(ddws[\"mask\"],ddws[\"blur\"])"
   ]
  },
  {
   "cell_type": "markdown",
   "id": "d70bdfe9",
   "metadata": {},
   "source": [
    "### 5. (Mixup, LF, RF), 차이없음"
   ]
  },
  {
   "cell_type": "code",
   "execution_count": 194,
   "id": "462a24a6",
   "metadata": {},
   "outputs": [
    {
     "name": "stderr",
     "output_type": "stream",
     "text": [
      "/home/ubuntu/anaconda3/envs/tensorflow2.4_p37/lib/python3.7/site-packages/ipykernel/__main__.py:1: UserWarning: Boolean Series key will be reindexed to match DataFrame index.\n",
      "  if __name__ == '__main__':\n"
     ]
    },
    {
     "data": {
      "text/html": [
       "<div>\n",
       "<style scoped>\n",
       "    .dataframe tbody tr th:only-of-type {\n",
       "        vertical-align: middle;\n",
       "    }\n",
       "\n",
       "    .dataframe tbody tr th {\n",
       "        vertical-align: top;\n",
       "    }\n",
       "\n",
       "    .dataframe thead th {\n",
       "        text-align: right;\n",
       "    }\n",
       "</style>\n",
       "<table border=\"1\" class=\"dataframe\">\n",
       "  <thead>\n",
       "    <tr style=\"text-align: right;\">\n",
       "      <th></th>\n",
       "      <th>model</th>\n",
       "      <th>aug</th>\n",
       "      <th>beta_param</th>\n",
       "      <th>lowpass</th>\n",
       "      <th>highpass</th>\n",
       "      <th>ranfilter2</th>\n",
       "      <th>mask</th>\n",
       "      <th>blur</th>\n",
       "    </tr>\n",
       "  </thead>\n",
       "  <tbody>\n",
       "    <tr>\n",
       "      <th>51</th>\n",
       "      <td>DDWSseq_LA_</td>\n",
       "      <td>Mixup, LF, RF</td>\n",
       "      <td>0.7</td>\n",
       "      <td>[[0.5, 0.5], [7, 8, 9, 10, 11, 12]]</td>\n",
       "      <td>False</td>\n",
       "      <td>[2, [8, 9, 10, 11, 12]]</td>\n",
       "      <td>4.09</td>\n",
       "      <td>5.42</td>\n",
       "    </tr>\n",
       "    <tr>\n",
       "      <th>52</th>\n",
       "      <td>DDWSseq_LA_</td>\n",
       "      <td>Mixup, LF, RF</td>\n",
       "      <td>0.7</td>\n",
       "      <td>[[0.5, 0.5], [7, 8, 9, 10, 11, 12]]</td>\n",
       "      <td>False</td>\n",
       "      <td>[2, [8, 9, 10, 11, 12]]</td>\n",
       "      <td>4.74</td>\n",
       "      <td>6.76</td>\n",
       "    </tr>\n",
       "    <tr>\n",
       "      <th>53</th>\n",
       "      <td>DDWSseq_LA_</td>\n",
       "      <td>Mixup, LF, RF</td>\n",
       "      <td>0.7</td>\n",
       "      <td>[[0.5, 0.5], [7, 8, 9, 10, 11, 12]]</td>\n",
       "      <td>False</td>\n",
       "      <td>[2, [8, 9, 10, 11, 12]]</td>\n",
       "      <td>4.57</td>\n",
       "      <td>4.00</td>\n",
       "    </tr>\n",
       "  </tbody>\n",
       "</table>\n",
       "</div>"
      ],
      "text/plain": [
       "          model            aug  beta_param  \\\n",
       "51  DDWSseq_LA_  Mixup, LF, RF         0.7   \n",
       "52  DDWSseq_LA_  Mixup, LF, RF         0.7   \n",
       "53  DDWSseq_LA_  Mixup, LF, RF         0.7   \n",
       "\n",
       "                                lowpass highpass               ranfilter2  \\\n",
       "51  [[0.5, 0.5], [7, 8, 9, 10, 11, 12]]    False  [2, [8, 9, 10, 11, 12]]   \n",
       "52  [[0.5, 0.5], [7, 8, 9, 10, 11, 12]]    False  [2, [8, 9, 10, 11, 12]]   \n",
       "53  [[0.5, 0.5], [7, 8, 9, 10, 11, 12]]    False  [2, [8, 9, 10, 11, 12]]   \n",
       "\n",
       "    mask  blur  \n",
       "51  4.09  5.42  \n",
       "52  4.74  6.76  \n",
       "53  4.57  4.00  "
      ]
     },
     "execution_count": 194,
     "metadata": {},
     "output_type": "execute_result"
    }
   ],
   "source": [
    "ddws = df_add[df_add.model==\"DDWSseq_LA_\"][df_add.aug==\"Mixup, LF, RF\"][['model','aug','beta_param','lowpass','highpass','ranfilter2','mask','blur']]\n",
    "ddws"
   ]
  },
  {
   "cell_type": "code",
   "execution_count": 195,
   "id": "d4d48096",
   "metadata": {},
   "outputs": [
    {
     "data": {
      "text/plain": [
       "Ttest_indResult(statistic=-1.1296986763561923, pvalue=0.3217588192182012)"
      ]
     },
     "execution_count": 195,
     "metadata": {},
     "output_type": "execute_result"
    }
   ],
   "source": [
    "# n이 작아서 p-value가 크게나옴\n",
    "ttest_ind(ddws[\"mask\"],ddws[\"blur\"],equal_var=True)\n"
   ]
  },
  {
   "cell_type": "code",
   "execution_count": 196,
   "id": "5df671ed",
   "metadata": {},
   "outputs": [
    {
     "data": {
      "text/plain": [
       "Ttest_relResult(statistic=-1.1966428864221144, pvalue=0.3540575567881017)"
      ]
     },
     "execution_count": 196,
     "metadata": {},
     "output_type": "execute_result"
    }
   ],
   "source": [
    "ttest_rel(ddws[\"mask\"],ddws[\"blur\"])"
   ]
  },
  {
   "cell_type": "markdown",
   "id": "2d751afb",
   "metadata": {},
   "source": [
    "### 6. (Mixup, HF, RF), 차이없음"
   ]
  },
  {
   "cell_type": "code",
   "execution_count": 197,
   "id": "901cf6be",
   "metadata": {},
   "outputs": [
    {
     "name": "stderr",
     "output_type": "stream",
     "text": [
      "/home/ubuntu/anaconda3/envs/tensorflow2.4_p37/lib/python3.7/site-packages/ipykernel/__main__.py:1: UserWarning: Boolean Series key will be reindexed to match DataFrame index.\n",
      "  if __name__ == '__main__':\n"
     ]
    },
    {
     "data": {
      "text/html": [
       "<div>\n",
       "<style scoped>\n",
       "    .dataframe tbody tr th:only-of-type {\n",
       "        vertical-align: middle;\n",
       "    }\n",
       "\n",
       "    .dataframe tbody tr th {\n",
       "        vertical-align: top;\n",
       "    }\n",
       "\n",
       "    .dataframe thead th {\n",
       "        text-align: right;\n",
       "    }\n",
       "</style>\n",
       "<table border=\"1\" class=\"dataframe\">\n",
       "  <thead>\n",
       "    <tr style=\"text-align: right;\">\n",
       "      <th></th>\n",
       "      <th>model</th>\n",
       "      <th>aug</th>\n",
       "      <th>beta_param</th>\n",
       "      <th>lowpass</th>\n",
       "      <th>highpass</th>\n",
       "      <th>ranfilter2</th>\n",
       "      <th>mask</th>\n",
       "      <th>blur</th>\n",
       "    </tr>\n",
       "  </thead>\n",
       "  <tbody>\n",
       "    <tr>\n",
       "      <th>27</th>\n",
       "      <td>DDWSseq_LA_</td>\n",
       "      <td>Mixup, HF, RF</td>\n",
       "      <td>0.7</td>\n",
       "      <td>False</td>\n",
       "      <td>[[0.5, 0.5], [80, 81, 82, 83, 84, 85, 86, 87]]</td>\n",
       "      <td>[2, [8, 9, 10, 11, 12]]</td>\n",
       "      <td>5.46</td>\n",
       "      <td>3.56</td>\n",
       "    </tr>\n",
       "    <tr>\n",
       "      <th>28</th>\n",
       "      <td>DDWSseq_LA_</td>\n",
       "      <td>Mixup, HF, RF</td>\n",
       "      <td>0.7</td>\n",
       "      <td>False</td>\n",
       "      <td>[[0.5, 0.5], [80, 81, 82, 83, 84, 85, 86, 87]]</td>\n",
       "      <td>[2, [8, 9, 10, 11, 12]]</td>\n",
       "      <td>4.91</td>\n",
       "      <td>4.08</td>\n",
       "    </tr>\n",
       "    <tr>\n",
       "      <th>29</th>\n",
       "      <td>DDWSseq_LA_</td>\n",
       "      <td>Mixup, HF, RF</td>\n",
       "      <td>0.7</td>\n",
       "      <td>False</td>\n",
       "      <td>[[0.5, 0.5], [80, 81, 82, 83, 84, 85, 86, 87]]</td>\n",
       "      <td>[2, [8, 9, 10, 11, 12]]</td>\n",
       "      <td>3.98</td>\n",
       "      <td>4.59</td>\n",
       "    </tr>\n",
       "  </tbody>\n",
       "</table>\n",
       "</div>"
      ],
      "text/plain": [
       "          model            aug  beta_param lowpass  \\\n",
       "27  DDWSseq_LA_  Mixup, HF, RF         0.7   False   \n",
       "28  DDWSseq_LA_  Mixup, HF, RF         0.7   False   \n",
       "29  DDWSseq_LA_  Mixup, HF, RF         0.7   False   \n",
       "\n",
       "                                          highpass               ranfilter2  \\\n",
       "27  [[0.5, 0.5], [80, 81, 82, 83, 84, 85, 86, 87]]  [2, [8, 9, 10, 11, 12]]   \n",
       "28  [[0.5, 0.5], [80, 81, 82, 83, 84, 85, 86, 87]]  [2, [8, 9, 10, 11, 12]]   \n",
       "29  [[0.5, 0.5], [80, 81, 82, 83, 84, 85, 86, 87]]  [2, [8, 9, 10, 11, 12]]   \n",
       "\n",
       "    mask  blur  \n",
       "27  5.46  3.56  \n",
       "28  4.91  4.08  \n",
       "29  3.98  4.59  "
      ]
     },
     "execution_count": 197,
     "metadata": {},
     "output_type": "execute_result"
    }
   ],
   "source": [
    "ddws = df_add[df_add.model==\"DDWSseq_LA_\"][df_add.aug==\"Mixup, HF, RF\"][['model','aug','beta_param','lowpass','highpass','ranfilter2','mask','blur']]\n",
    "ddws"
   ]
  },
  {
   "cell_type": "code",
   "execution_count": 198,
   "id": "dd16fa09",
   "metadata": {},
   "outputs": [
    {
     "data": {
      "text/plain": [
       "Ttest_indResult(statistic=1.3476693664426302, pvalue=0.2490356784968652)"
      ]
     },
     "execution_count": 198,
     "metadata": {},
     "output_type": "execute_result"
    }
   ],
   "source": [
    "# n이 작아서 p-value가 크게나옴\n",
    "ttest_ind(ddws[\"mask\"],ddws[\"blur\"],equal_var=True)\n"
   ]
  },
  {
   "cell_type": "code",
   "execution_count": 199,
   "id": "e97ce400",
   "metadata": {},
   "outputs": [
    {
     "data": {
      "text/plain": [
       "Ttest_relResult(statistic=0.9717718632905529, pvalue=0.433669045506216)"
      ]
     },
     "execution_count": 199,
     "metadata": {},
     "output_type": "execute_result"
    }
   ],
   "source": [
    "ttest_rel(ddws[\"mask\"],ddws[\"blur\"])"
   ]
  },
  {
   "cell_type": "markdown",
   "id": "54ca5edd",
   "metadata": {},
   "source": [
    "### 7. (Mixup, LF, HF, RF), 차이없음"
   ]
  },
  {
   "cell_type": "code",
   "execution_count": 200,
   "id": "37c92d2d",
   "metadata": {},
   "outputs": [
    {
     "name": "stderr",
     "output_type": "stream",
     "text": [
      "/home/ubuntu/anaconda3/envs/tensorflow2.4_p37/lib/python3.7/site-packages/ipykernel/__main__.py:1: UserWarning: Boolean Series key will be reindexed to match DataFrame index.\n",
      "  if __name__ == '__main__':\n"
     ]
    },
    {
     "data": {
      "text/html": [
       "<div>\n",
       "<style scoped>\n",
       "    .dataframe tbody tr th:only-of-type {\n",
       "        vertical-align: middle;\n",
       "    }\n",
       "\n",
       "    .dataframe tbody tr th {\n",
       "        vertical-align: top;\n",
       "    }\n",
       "\n",
       "    .dataframe thead th {\n",
       "        text-align: right;\n",
       "    }\n",
       "</style>\n",
       "<table border=\"1\" class=\"dataframe\">\n",
       "  <thead>\n",
       "    <tr style=\"text-align: right;\">\n",
       "      <th></th>\n",
       "      <th>model</th>\n",
       "      <th>aug</th>\n",
       "      <th>beta_param</th>\n",
       "      <th>lowpass</th>\n",
       "      <th>highpass</th>\n",
       "      <th>ranfilter2</th>\n",
       "      <th>mask</th>\n",
       "      <th>blur</th>\n",
       "    </tr>\n",
       "  </thead>\n",
       "  <tbody>\n",
       "    <tr>\n",
       "      <th>75</th>\n",
       "      <td>DDWSseq_LA_</td>\n",
       "      <td>Mixup, LF, HF, RF</td>\n",
       "      <td>0.7</td>\n",
       "      <td>[[0.5, 0.5], [7, 8, 9, 10, 11, 12]]</td>\n",
       "      <td>[[0.5, 0.5], [80, 81, 82, 83, 84, 85, 86, 87]]</td>\n",
       "      <td>[2, [8, 9, 10, 11, 12]]</td>\n",
       "      <td>5.04</td>\n",
       "      <td>3.49</td>\n",
       "    </tr>\n",
       "    <tr>\n",
       "      <th>76</th>\n",
       "      <td>DDWSseq_LA_</td>\n",
       "      <td>Mixup, LF, HF, RF</td>\n",
       "      <td>0.7</td>\n",
       "      <td>[[0.5, 0.5], [7, 8, 9, 10, 11, 12]]</td>\n",
       "      <td>[[0.5, 0.5], [80, 81, 82, 83, 84, 85, 86, 87]]</td>\n",
       "      <td>[2, [8, 9, 10, 11, 12]]</td>\n",
       "      <td>4.14</td>\n",
       "      <td>5.30</td>\n",
       "    </tr>\n",
       "    <tr>\n",
       "      <th>77</th>\n",
       "      <td>DDWSseq_LA_</td>\n",
       "      <td>Mixup, LF, HF, RF</td>\n",
       "      <td>0.7</td>\n",
       "      <td>[[0.5, 0.5], [7, 8, 9, 10, 11, 12]]</td>\n",
       "      <td>[[0.5, 0.5], [80, 81, 82, 83, 84, 85, 86, 87]]</td>\n",
       "      <td>[2, [8, 9, 10, 11, 12]]</td>\n",
       "      <td>3.81</td>\n",
       "      <td>3.35</td>\n",
       "    </tr>\n",
       "  </tbody>\n",
       "</table>\n",
       "</div>"
      ],
      "text/plain": [
       "          model                aug  beta_param  \\\n",
       "75  DDWSseq_LA_  Mixup, LF, HF, RF         0.7   \n",
       "76  DDWSseq_LA_  Mixup, LF, HF, RF         0.7   \n",
       "77  DDWSseq_LA_  Mixup, LF, HF, RF         0.7   \n",
       "\n",
       "                                lowpass  \\\n",
       "75  [[0.5, 0.5], [7, 8, 9, 10, 11, 12]]   \n",
       "76  [[0.5, 0.5], [7, 8, 9, 10, 11, 12]]   \n",
       "77  [[0.5, 0.5], [7, 8, 9, 10, 11, 12]]   \n",
       "\n",
       "                                          highpass               ranfilter2  \\\n",
       "75  [[0.5, 0.5], [80, 81, 82, 83, 84, 85, 86, 87]]  [2, [8, 9, 10, 11, 12]]   \n",
       "76  [[0.5, 0.5], [80, 81, 82, 83, 84, 85, 86, 87]]  [2, [8, 9, 10, 11, 12]]   \n",
       "77  [[0.5, 0.5], [80, 81, 82, 83, 84, 85, 86, 87]]  [2, [8, 9, 10, 11, 12]]   \n",
       "\n",
       "    mask  blur  \n",
       "75  5.04  3.49  \n",
       "76  4.14  5.30  \n",
       "77  3.81  3.35  "
      ]
     },
     "execution_count": 200,
     "metadata": {},
     "output_type": "execute_result"
    }
   ],
   "source": [
    "ddws = df_add[df_add.model==\"DDWSseq_LA_\"][df_add.aug==\"Mixup, LF, HF, RF\"][['model','aug','beta_param','lowpass','highpass','ranfilter2','mask','blur']]\n",
    "ddws"
   ]
  },
  {
   "cell_type": "code",
   "execution_count": 201,
   "id": "52fdfa57",
   "metadata": {},
   "outputs": [
    {
     "data": {
      "text/plain": [
       "Ttest_indResult(statistic=0.3893924020986709, pvalue=0.7168281851763201)"
      ]
     },
     "execution_count": 201,
     "metadata": {},
     "output_type": "execute_result"
    }
   ],
   "source": [
    "# n이 작아서 p-value가 크게나옴\n",
    "ttest_ind(ddws[\"mask\"],ddws[\"blur\"],equal_var=True)\n"
   ]
  },
  {
   "cell_type": "code",
   "execution_count": 202,
   "id": "f2cdc8fb",
   "metadata": {},
   "outputs": [
    {
     "data": {
      "text/plain": [
       "Ttest_relResult(statistic=0.35988851907114794, pvalue=0.7533806455769501)"
      ]
     },
     "execution_count": 202,
     "metadata": {},
     "output_type": "execute_result"
    }
   ],
   "source": [
    "ttest_rel(ddws[\"mask\"],ddws[\"blur\"])"
   ]
  },
  {
   "cell_type": "markdown",
   "id": "f4973012",
   "metadata": {},
   "source": [
    "---------------"
   ]
  },
  {
   "cell_type": "markdown",
   "id": "e5e4a8db",
   "metadata": {},
   "source": [
    "## LCNN_LA_"
   ]
  },
  {
   "cell_type": "code",
   "execution_count": 231,
   "id": "b171faa1",
   "metadata": {},
   "outputs": [
    {
     "data": {
      "text/html": [
       "<div>\n",
       "<style scoped>\n",
       "    .dataframe tbody tr th:only-of-type {\n",
       "        vertical-align: middle;\n",
       "    }\n",
       "\n",
       "    .dataframe tbody tr th {\n",
       "        vertical-align: top;\n",
       "    }\n",
       "\n",
       "    .dataframe thead th {\n",
       "        text-align: right;\n",
       "    }\n",
       "</style>\n",
       "<table border=\"1\" class=\"dataframe\">\n",
       "  <thead>\n",
       "    <tr style=\"text-align: right;\">\n",
       "      <th></th>\n",
       "      <th>model</th>\n",
       "      <th>aug</th>\n",
       "      <th>beta_param</th>\n",
       "      <th>lowpass</th>\n",
       "      <th>highpass</th>\n",
       "      <th>ranfilter2</th>\n",
       "      <th>mask</th>\n",
       "      <th>blur</th>\n",
       "    </tr>\n",
       "  </thead>\n",
       "  <tbody>\n",
       "    <tr>\n",
       "      <th>3</th>\n",
       "      <td>DDWSseq_LA_</td>\n",
       "      <td>Mixup, RF</td>\n",
       "      <td>0.7</td>\n",
       "      <td>False</td>\n",
       "      <td>False</td>\n",
       "      <td>[2, [8, 9, 10, 11, 12]]</td>\n",
       "      <td>7.57</td>\n",
       "      <td>4.29</td>\n",
       "    </tr>\n",
       "    <tr>\n",
       "      <th>4</th>\n",
       "      <td>DDWSseq_LA_</td>\n",
       "      <td>Mixup, RF</td>\n",
       "      <td>0.7</td>\n",
       "      <td>False</td>\n",
       "      <td>False</td>\n",
       "      <td>[2, [8, 9, 10, 11, 12]]</td>\n",
       "      <td>6.55</td>\n",
       "      <td>4.17</td>\n",
       "    </tr>\n",
       "    <tr>\n",
       "      <th>5</th>\n",
       "      <td>DDWSseq_LA_</td>\n",
       "      <td>Mixup, RF</td>\n",
       "      <td>0.7</td>\n",
       "      <td>False</td>\n",
       "      <td>False</td>\n",
       "      <td>[2, [8, 9, 10, 11, 12]]</td>\n",
       "      <td>5.82</td>\n",
       "      <td>3.46</td>\n",
       "    </tr>\n",
       "    <tr>\n",
       "      <th>15</th>\n",
       "      <td>DDWSseq_LA_</td>\n",
       "      <td>Mixup, HF</td>\n",
       "      <td>0.7</td>\n",
       "      <td>False</td>\n",
       "      <td>[[0.5, 0.5], [80, 81, 82, 83, 84, 85, 86, 87]]</td>\n",
       "      <td>False</td>\n",
       "      <td>3.03</td>\n",
       "      <td>3.09</td>\n",
       "    </tr>\n",
       "    <tr>\n",
       "      <th>16</th>\n",
       "      <td>DDWSseq_LA_</td>\n",
       "      <td>Mixup, HF</td>\n",
       "      <td>0.7</td>\n",
       "      <td>False</td>\n",
       "      <td>[[0.5, 0.5], [80, 81, 82, 83, 84, 85, 86, 87]]</td>\n",
       "      <td>False</td>\n",
       "      <td>2.56</td>\n",
       "      <td>2.85</td>\n",
       "    </tr>\n",
       "    <tr>\n",
       "      <th>17</th>\n",
       "      <td>DDWSseq_LA_</td>\n",
       "      <td>Mixup, HF</td>\n",
       "      <td>0.7</td>\n",
       "      <td>False</td>\n",
       "      <td>[[0.5, 0.5], [80, 81, 82, 83, 84, 85, 86, 87]]</td>\n",
       "      <td>False</td>\n",
       "      <td>2.40</td>\n",
       "      <td>2.62</td>\n",
       "    </tr>\n",
       "    <tr>\n",
       "      <th>27</th>\n",
       "      <td>DDWSseq_LA_</td>\n",
       "      <td>Mixup, HF, RF</td>\n",
       "      <td>0.7</td>\n",
       "      <td>False</td>\n",
       "      <td>[[0.5, 0.5], [80, 81, 82, 83, 84, 85, 86, 87]]</td>\n",
       "      <td>[2, [8, 9, 10, 11, 12]]</td>\n",
       "      <td>5.46</td>\n",
       "      <td>3.56</td>\n",
       "    </tr>\n",
       "    <tr>\n",
       "      <th>28</th>\n",
       "      <td>DDWSseq_LA_</td>\n",
       "      <td>Mixup, HF, RF</td>\n",
       "      <td>0.7</td>\n",
       "      <td>False</td>\n",
       "      <td>[[0.5, 0.5], [80, 81, 82, 83, 84, 85, 86, 87]]</td>\n",
       "      <td>[2, [8, 9, 10, 11, 12]]</td>\n",
       "      <td>4.91</td>\n",
       "      <td>4.08</td>\n",
       "    </tr>\n",
       "    <tr>\n",
       "      <th>29</th>\n",
       "      <td>DDWSseq_LA_</td>\n",
       "      <td>Mixup, HF, RF</td>\n",
       "      <td>0.7</td>\n",
       "      <td>False</td>\n",
       "      <td>[[0.5, 0.5], [80, 81, 82, 83, 84, 85, 86, 87]]</td>\n",
       "      <td>[2, [8, 9, 10, 11, 12]]</td>\n",
       "      <td>3.98</td>\n",
       "      <td>4.59</td>\n",
       "    </tr>\n",
       "    <tr>\n",
       "      <th>39</th>\n",
       "      <td>DDWSseq_LA_</td>\n",
       "      <td>Mixup, LF</td>\n",
       "      <td>0.7</td>\n",
       "      <td>[[0.5, 0.5], [7, 8, 9, 10, 11, 12]]</td>\n",
       "      <td>False</td>\n",
       "      <td>False</td>\n",
       "      <td>3.72</td>\n",
       "      <td>3.90</td>\n",
       "    </tr>\n",
       "    <tr>\n",
       "      <th>40</th>\n",
       "      <td>DDWSseq_LA_</td>\n",
       "      <td>Mixup, LF</td>\n",
       "      <td>0.7</td>\n",
       "      <td>[[0.5, 0.5], [7, 8, 9, 10, 11, 12]]</td>\n",
       "      <td>False</td>\n",
       "      <td>False</td>\n",
       "      <td>3.11</td>\n",
       "      <td>4.03</td>\n",
       "    </tr>\n",
       "    <tr>\n",
       "      <th>41</th>\n",
       "      <td>DDWSseq_LA_</td>\n",
       "      <td>Mixup, LF</td>\n",
       "      <td>0.7</td>\n",
       "      <td>[[0.5, 0.5], [7, 8, 9, 10, 11, 12]]</td>\n",
       "      <td>False</td>\n",
       "      <td>False</td>\n",
       "      <td>3.00</td>\n",
       "      <td>3.17</td>\n",
       "    </tr>\n",
       "    <tr>\n",
       "      <th>51</th>\n",
       "      <td>DDWSseq_LA_</td>\n",
       "      <td>Mixup, LF, RF</td>\n",
       "      <td>0.7</td>\n",
       "      <td>[[0.5, 0.5], [7, 8, 9, 10, 11, 12]]</td>\n",
       "      <td>False</td>\n",
       "      <td>[2, [8, 9, 10, 11, 12]]</td>\n",
       "      <td>4.09</td>\n",
       "      <td>5.42</td>\n",
       "    </tr>\n",
       "    <tr>\n",
       "      <th>52</th>\n",
       "      <td>DDWSseq_LA_</td>\n",
       "      <td>Mixup, LF, RF</td>\n",
       "      <td>0.7</td>\n",
       "      <td>[[0.5, 0.5], [7, 8, 9, 10, 11, 12]]</td>\n",
       "      <td>False</td>\n",
       "      <td>[2, [8, 9, 10, 11, 12]]</td>\n",
       "      <td>4.74</td>\n",
       "      <td>6.76</td>\n",
       "    </tr>\n",
       "    <tr>\n",
       "      <th>53</th>\n",
       "      <td>DDWSseq_LA_</td>\n",
       "      <td>Mixup, LF, RF</td>\n",
       "      <td>0.7</td>\n",
       "      <td>[[0.5, 0.5], [7, 8, 9, 10, 11, 12]]</td>\n",
       "      <td>False</td>\n",
       "      <td>[2, [8, 9, 10, 11, 12]]</td>\n",
       "      <td>4.57</td>\n",
       "      <td>4.00</td>\n",
       "    </tr>\n",
       "    <tr>\n",
       "      <th>63</th>\n",
       "      <td>DDWSseq_LA_</td>\n",
       "      <td>Mixup, LF, HF</td>\n",
       "      <td>0.7</td>\n",
       "      <td>[[0.5, 0.5], [7, 8, 9, 10, 11, 12]]</td>\n",
       "      <td>[[0.5, 0.5], [80, 81, 82, 83, 84, 85, 86, 87]]</td>\n",
       "      <td>False</td>\n",
       "      <td>2.62</td>\n",
       "      <td>3.14</td>\n",
       "    </tr>\n",
       "    <tr>\n",
       "      <th>64</th>\n",
       "      <td>DDWSseq_LA_</td>\n",
       "      <td>Mixup, LF, HF</td>\n",
       "      <td>0.7</td>\n",
       "      <td>[[0.5, 0.5], [7, 8, 9, 10, 11, 12]]</td>\n",
       "      <td>[[0.5, 0.5], [80, 81, 82, 83, 84, 85, 86, 87]]</td>\n",
       "      <td>False</td>\n",
       "      <td>2.57</td>\n",
       "      <td>2.62</td>\n",
       "    </tr>\n",
       "    <tr>\n",
       "      <th>65</th>\n",
       "      <td>DDWSseq_LA_</td>\n",
       "      <td>Mixup, LF, HF</td>\n",
       "      <td>0.7</td>\n",
       "      <td>[[0.5, 0.5], [7, 8, 9, 10, 11, 12]]</td>\n",
       "      <td>[[0.5, 0.5], [80, 81, 82, 83, 84, 85, 86, 87]]</td>\n",
       "      <td>False</td>\n",
       "      <td>2.15</td>\n",
       "      <td>2.44</td>\n",
       "    </tr>\n",
       "    <tr>\n",
       "      <th>75</th>\n",
       "      <td>DDWSseq_LA_</td>\n",
       "      <td>Mixup, LF, HF, RF</td>\n",
       "      <td>0.7</td>\n",
       "      <td>[[0.5, 0.5], [7, 8, 9, 10, 11, 12]]</td>\n",
       "      <td>[[0.5, 0.5], [80, 81, 82, 83, 84, 85, 86, 87]]</td>\n",
       "      <td>[2, [8, 9, 10, 11, 12]]</td>\n",
       "      <td>5.04</td>\n",
       "      <td>3.49</td>\n",
       "    </tr>\n",
       "    <tr>\n",
       "      <th>76</th>\n",
       "      <td>DDWSseq_LA_</td>\n",
       "      <td>Mixup, LF, HF, RF</td>\n",
       "      <td>0.7</td>\n",
       "      <td>[[0.5, 0.5], [7, 8, 9, 10, 11, 12]]</td>\n",
       "      <td>[[0.5, 0.5], [80, 81, 82, 83, 84, 85, 86, 87]]</td>\n",
       "      <td>[2, [8, 9, 10, 11, 12]]</td>\n",
       "      <td>4.14</td>\n",
       "      <td>5.30</td>\n",
       "    </tr>\n",
       "    <tr>\n",
       "      <th>77</th>\n",
       "      <td>DDWSseq_LA_</td>\n",
       "      <td>Mixup, LF, HF, RF</td>\n",
       "      <td>0.7</td>\n",
       "      <td>[[0.5, 0.5], [7, 8, 9, 10, 11, 12]]</td>\n",
       "      <td>[[0.5, 0.5], [80, 81, 82, 83, 84, 85, 86, 87]]</td>\n",
       "      <td>[2, [8, 9, 10, 11, 12]]</td>\n",
       "      <td>3.81</td>\n",
       "      <td>3.35</td>\n",
       "    </tr>\n",
       "  </tbody>\n",
       "</table>\n",
       "</div>"
      ],
      "text/plain": [
       "          model                aug  beta_param  \\\n",
       "3   DDWSseq_LA_          Mixup, RF         0.7   \n",
       "4   DDWSseq_LA_          Mixup, RF         0.7   \n",
       "5   DDWSseq_LA_          Mixup, RF         0.7   \n",
       "15  DDWSseq_LA_          Mixup, HF         0.7   \n",
       "16  DDWSseq_LA_          Mixup, HF         0.7   \n",
       "17  DDWSseq_LA_          Mixup, HF         0.7   \n",
       "27  DDWSseq_LA_      Mixup, HF, RF         0.7   \n",
       "28  DDWSseq_LA_      Mixup, HF, RF         0.7   \n",
       "29  DDWSseq_LA_      Mixup, HF, RF         0.7   \n",
       "39  DDWSseq_LA_          Mixup, LF         0.7   \n",
       "40  DDWSseq_LA_          Mixup, LF         0.7   \n",
       "41  DDWSseq_LA_          Mixup, LF         0.7   \n",
       "51  DDWSseq_LA_      Mixup, LF, RF         0.7   \n",
       "52  DDWSseq_LA_      Mixup, LF, RF         0.7   \n",
       "53  DDWSseq_LA_      Mixup, LF, RF         0.7   \n",
       "63  DDWSseq_LA_      Mixup, LF, HF         0.7   \n",
       "64  DDWSseq_LA_      Mixup, LF, HF         0.7   \n",
       "65  DDWSseq_LA_      Mixup, LF, HF         0.7   \n",
       "75  DDWSseq_LA_  Mixup, LF, HF, RF         0.7   \n",
       "76  DDWSseq_LA_  Mixup, LF, HF, RF         0.7   \n",
       "77  DDWSseq_LA_  Mixup, LF, HF, RF         0.7   \n",
       "\n",
       "                                lowpass  \\\n",
       "3                                 False   \n",
       "4                                 False   \n",
       "5                                 False   \n",
       "15                                False   \n",
       "16                                False   \n",
       "17                                False   \n",
       "27                                False   \n",
       "28                                False   \n",
       "29                                False   \n",
       "39  [[0.5, 0.5], [7, 8, 9, 10, 11, 12]]   \n",
       "40  [[0.5, 0.5], [7, 8, 9, 10, 11, 12]]   \n",
       "41  [[0.5, 0.5], [7, 8, 9, 10, 11, 12]]   \n",
       "51  [[0.5, 0.5], [7, 8, 9, 10, 11, 12]]   \n",
       "52  [[0.5, 0.5], [7, 8, 9, 10, 11, 12]]   \n",
       "53  [[0.5, 0.5], [7, 8, 9, 10, 11, 12]]   \n",
       "63  [[0.5, 0.5], [7, 8, 9, 10, 11, 12]]   \n",
       "64  [[0.5, 0.5], [7, 8, 9, 10, 11, 12]]   \n",
       "65  [[0.5, 0.5], [7, 8, 9, 10, 11, 12]]   \n",
       "75  [[0.5, 0.5], [7, 8, 9, 10, 11, 12]]   \n",
       "76  [[0.5, 0.5], [7, 8, 9, 10, 11, 12]]   \n",
       "77  [[0.5, 0.5], [7, 8, 9, 10, 11, 12]]   \n",
       "\n",
       "                                          highpass               ranfilter2  \\\n",
       "3                                            False  [2, [8, 9, 10, 11, 12]]   \n",
       "4                                            False  [2, [8, 9, 10, 11, 12]]   \n",
       "5                                            False  [2, [8, 9, 10, 11, 12]]   \n",
       "15  [[0.5, 0.5], [80, 81, 82, 83, 84, 85, 86, 87]]                    False   \n",
       "16  [[0.5, 0.5], [80, 81, 82, 83, 84, 85, 86, 87]]                    False   \n",
       "17  [[0.5, 0.5], [80, 81, 82, 83, 84, 85, 86, 87]]                    False   \n",
       "27  [[0.5, 0.5], [80, 81, 82, 83, 84, 85, 86, 87]]  [2, [8, 9, 10, 11, 12]]   \n",
       "28  [[0.5, 0.5], [80, 81, 82, 83, 84, 85, 86, 87]]  [2, [8, 9, 10, 11, 12]]   \n",
       "29  [[0.5, 0.5], [80, 81, 82, 83, 84, 85, 86, 87]]  [2, [8, 9, 10, 11, 12]]   \n",
       "39                                           False                    False   \n",
       "40                                           False                    False   \n",
       "41                                           False                    False   \n",
       "51                                           False  [2, [8, 9, 10, 11, 12]]   \n",
       "52                                           False  [2, [8, 9, 10, 11, 12]]   \n",
       "53                                           False  [2, [8, 9, 10, 11, 12]]   \n",
       "63  [[0.5, 0.5], [80, 81, 82, 83, 84, 85, 86, 87]]                    False   \n",
       "64  [[0.5, 0.5], [80, 81, 82, 83, 84, 85, 86, 87]]                    False   \n",
       "65  [[0.5, 0.5], [80, 81, 82, 83, 84, 85, 86, 87]]                    False   \n",
       "75  [[0.5, 0.5], [80, 81, 82, 83, 84, 85, 86, 87]]  [2, [8, 9, 10, 11, 12]]   \n",
       "76  [[0.5, 0.5], [80, 81, 82, 83, 84, 85, 86, 87]]  [2, [8, 9, 10, 11, 12]]   \n",
       "77  [[0.5, 0.5], [80, 81, 82, 83, 84, 85, 86, 87]]  [2, [8, 9, 10, 11, 12]]   \n",
       "\n",
       "    mask  blur  \n",
       "3   7.57  4.29  \n",
       "4   6.55  4.17  \n",
       "5   5.82  3.46  \n",
       "15  3.03  3.09  \n",
       "16  2.56  2.85  \n",
       "17  2.40  2.62  \n",
       "27  5.46  3.56  \n",
       "28  4.91  4.08  \n",
       "29  3.98  4.59  \n",
       "39  3.72  3.90  \n",
       "40  3.11  4.03  \n",
       "41  3.00  3.17  \n",
       "51  4.09  5.42  \n",
       "52  4.74  6.76  \n",
       "53  4.57  4.00  \n",
       "63  2.62  3.14  \n",
       "64  2.57  2.62  \n",
       "65  2.15  2.44  \n",
       "75  5.04  3.49  \n",
       "76  4.14  5.30  \n",
       "77  3.81  3.35  "
      ]
     },
     "execution_count": 231,
     "metadata": {},
     "output_type": "execute_result"
    }
   ],
   "source": [
    "lcnn = df_add[df_add.model==\"DDWSseq_LA_\"][['model','aug','beta_param','lowpass','highpass','ranfilter2','mask','blur']]\n",
    "lcnn"
   ]
  },
  {
   "cell_type": "code",
   "execution_count": 232,
   "id": "7a84469f",
   "metadata": {},
   "outputs": [
    {
     "data": {
      "text/plain": [
       "Ttest_indResult(statistic=0.670353556507963, pvalue=0.5064845363713962)"
      ]
     },
     "execution_count": 232,
     "metadata": {},
     "output_type": "execute_result"
    }
   ],
   "source": [
    "# n이 작아서 p-value가 크게나옴\n",
    "ttest_ind(lcnn[\"mask\"],lcnn[\"blur\"],equal_var=True)\n"
   ]
  },
  {
   "cell_type": "code",
   "execution_count": 233,
   "id": "32a803e7",
   "metadata": {},
   "outputs": [
    {
     "data": {
      "text/plain": [
       "Ttest_relResult(statistic=0.886980780747763, pvalue=0.3856313166468328)"
      ]
     },
     "execution_count": 233,
     "metadata": {},
     "output_type": "execute_result"
    }
   ],
   "source": [
    "ttest_rel(lcnn[\"mask\"],lcnn[\"blur\"])"
   ]
  },
  {
   "cell_type": "markdown",
   "id": "c74747a9",
   "metadata": {},
   "source": [
    "### 1. LCNN_LA_(Mixup, LF), 차이없음"
   ]
  },
  {
   "cell_type": "code",
   "execution_count": 203,
   "id": "4fdd2ce6",
   "metadata": {},
   "outputs": [
    {
     "name": "stderr",
     "output_type": "stream",
     "text": [
      "/home/ubuntu/anaconda3/envs/tensorflow2.4_p37/lib/python3.7/site-packages/ipykernel/__main__.py:1: UserWarning: Boolean Series key will be reindexed to match DataFrame index.\n",
      "  if __name__ == '__main__':\n"
     ]
    },
    {
     "data": {
      "text/html": [
       "<div>\n",
       "<style scoped>\n",
       "    .dataframe tbody tr th:only-of-type {\n",
       "        vertical-align: middle;\n",
       "    }\n",
       "\n",
       "    .dataframe tbody tr th {\n",
       "        vertical-align: top;\n",
       "    }\n",
       "\n",
       "    .dataframe thead th {\n",
       "        text-align: right;\n",
       "    }\n",
       "</style>\n",
       "<table border=\"1\" class=\"dataframe\">\n",
       "  <thead>\n",
       "    <tr style=\"text-align: right;\">\n",
       "      <th></th>\n",
       "      <th>model</th>\n",
       "      <th>aug</th>\n",
       "      <th>beta_param</th>\n",
       "      <th>lowpass</th>\n",
       "      <th>highpass</th>\n",
       "      <th>ranfilter2</th>\n",
       "      <th>mask</th>\n",
       "      <th>blur</th>\n",
       "    </tr>\n",
       "  </thead>\n",
       "  <tbody>\n",
       "    <tr>\n",
       "      <th>42</th>\n",
       "      <td>LCNN_LA_</td>\n",
       "      <td>Mixup, LF</td>\n",
       "      <td>0.7</td>\n",
       "      <td>[[0.5, 0.5], [7, 8, 9, 10, 11, 12]]</td>\n",
       "      <td>False</td>\n",
       "      <td>False</td>\n",
       "      <td>3.28</td>\n",
       "      <td>2.77</td>\n",
       "    </tr>\n",
       "    <tr>\n",
       "      <th>43</th>\n",
       "      <td>LCNN_LA_</td>\n",
       "      <td>Mixup, LF</td>\n",
       "      <td>0.7</td>\n",
       "      <td>[[0.5, 0.5], [7, 8, 9, 10, 11, 12]]</td>\n",
       "      <td>False</td>\n",
       "      <td>False</td>\n",
       "      <td>2.74</td>\n",
       "      <td>2.94</td>\n",
       "    </tr>\n",
       "    <tr>\n",
       "      <th>44</th>\n",
       "      <td>LCNN_LA_</td>\n",
       "      <td>Mixup, LF</td>\n",
       "      <td>0.7</td>\n",
       "      <td>[[0.5, 0.5], [7, 8, 9, 10, 11, 12]]</td>\n",
       "      <td>False</td>\n",
       "      <td>False</td>\n",
       "      <td>2.63</td>\n",
       "      <td>2.90</td>\n",
       "    </tr>\n",
       "  </tbody>\n",
       "</table>\n",
       "</div>"
      ],
      "text/plain": [
       "       model        aug  beta_param                              lowpass  \\\n",
       "42  LCNN_LA_  Mixup, LF         0.7  [[0.5, 0.5], [7, 8, 9, 10, 11, 12]]   \n",
       "43  LCNN_LA_  Mixup, LF         0.7  [[0.5, 0.5], [7, 8, 9, 10, 11, 12]]   \n",
       "44  LCNN_LA_  Mixup, LF         0.7  [[0.5, 0.5], [7, 8, 9, 10, 11, 12]]   \n",
       "\n",
       "   highpass ranfilter2  mask  blur  \n",
       "42    False      False  3.28  2.77  \n",
       "43    False      False  2.74  2.94  \n",
       "44    False      False  2.63  2.90  "
      ]
     },
     "execution_count": 203,
     "metadata": {},
     "output_type": "execute_result"
    }
   ],
   "source": [
    "lcnn = df_add[df_add.model==\"LCNN_LA_\"][df_add.aug==\"Mixup, LF\"][['model','aug','beta_param','lowpass','highpass','ranfilter2','mask','blur']]\n",
    "lcnn"
   ]
  },
  {
   "cell_type": "code",
   "execution_count": 204,
   "id": "3a21834f",
   "metadata": {},
   "outputs": [
    {
     "data": {
      "text/plain": [
       "Ttest_indResult(statistic=0.0643156641384325, pvalue=0.9518047758784625)"
      ]
     },
     "execution_count": 204,
     "metadata": {},
     "output_type": "execute_result"
    }
   ],
   "source": [
    "# n이 작아서 p-value가 크게나옴\n",
    "ttest_ind(lcnn[\"mask\"],lcnn[\"blur\"],equal_var=True)\n"
   ]
  },
  {
   "cell_type": "code",
   "execution_count": 206,
   "id": "a1e6cef8",
   "metadata": {},
   "outputs": [
    {
     "data": {
      "text/plain": [
       "Ttest_relResult(statistic=0.05351439940110652, pvalue=0.9621866679775288)"
      ]
     },
     "execution_count": 206,
     "metadata": {},
     "output_type": "execute_result"
    }
   ],
   "source": [
    "# paried\n",
    "ttest_rel(lcnn[\"mask\"],lcnn[\"blur\"])"
   ]
  },
  {
   "cell_type": "markdown",
   "id": "fdc11224",
   "metadata": {},
   "source": [
    "### 2. LCNN_LA_(Mixup, HF), 차이없음"
   ]
  },
  {
   "cell_type": "code",
   "execution_count": 207,
   "id": "32607efc",
   "metadata": {},
   "outputs": [
    {
     "name": "stderr",
     "output_type": "stream",
     "text": [
      "/home/ubuntu/anaconda3/envs/tensorflow2.4_p37/lib/python3.7/site-packages/ipykernel/__main__.py:1: UserWarning: Boolean Series key will be reindexed to match DataFrame index.\n",
      "  if __name__ == '__main__':\n"
     ]
    },
    {
     "data": {
      "text/html": [
       "<div>\n",
       "<style scoped>\n",
       "    .dataframe tbody tr th:only-of-type {\n",
       "        vertical-align: middle;\n",
       "    }\n",
       "\n",
       "    .dataframe tbody tr th {\n",
       "        vertical-align: top;\n",
       "    }\n",
       "\n",
       "    .dataframe thead th {\n",
       "        text-align: right;\n",
       "    }\n",
       "</style>\n",
       "<table border=\"1\" class=\"dataframe\">\n",
       "  <thead>\n",
       "    <tr style=\"text-align: right;\">\n",
       "      <th></th>\n",
       "      <th>model</th>\n",
       "      <th>aug</th>\n",
       "      <th>beta_param</th>\n",
       "      <th>lowpass</th>\n",
       "      <th>highpass</th>\n",
       "      <th>ranfilter2</th>\n",
       "      <th>mask</th>\n",
       "      <th>blur</th>\n",
       "    </tr>\n",
       "  </thead>\n",
       "  <tbody>\n",
       "    <tr>\n",
       "      <th>18</th>\n",
       "      <td>LCNN_LA_</td>\n",
       "      <td>Mixup, HF</td>\n",
       "      <td>0.7</td>\n",
       "      <td>False</td>\n",
       "      <td>[[0.5, 0.5], [80, 81, 82, 83, 84, 85, 86, 87]]</td>\n",
       "      <td>False</td>\n",
       "      <td>2.25</td>\n",
       "      <td>1.77</td>\n",
       "    </tr>\n",
       "    <tr>\n",
       "      <th>19</th>\n",
       "      <td>LCNN_LA_</td>\n",
       "      <td>Mixup, HF</td>\n",
       "      <td>0.7</td>\n",
       "      <td>False</td>\n",
       "      <td>[[0.5, 0.5], [80, 81, 82, 83, 84, 85, 86, 87]]</td>\n",
       "      <td>False</td>\n",
       "      <td>1.99</td>\n",
       "      <td>1.79</td>\n",
       "    </tr>\n",
       "    <tr>\n",
       "      <th>20</th>\n",
       "      <td>LCNN_LA_</td>\n",
       "      <td>Mixup, HF</td>\n",
       "      <td>0.7</td>\n",
       "      <td>False</td>\n",
       "      <td>[[0.5, 0.5], [80, 81, 82, 83, 84, 85, 86, 87]]</td>\n",
       "      <td>False</td>\n",
       "      <td>1.87</td>\n",
       "      <td>1.92</td>\n",
       "    </tr>\n",
       "  </tbody>\n",
       "</table>\n",
       "</div>"
      ],
      "text/plain": [
       "       model        aug  beta_param lowpass  \\\n",
       "18  LCNN_LA_  Mixup, HF         0.7   False   \n",
       "19  LCNN_LA_  Mixup, HF         0.7   False   \n",
       "20  LCNN_LA_  Mixup, HF         0.7   False   \n",
       "\n",
       "                                          highpass ranfilter2  mask  blur  \n",
       "18  [[0.5, 0.5], [80, 81, 82, 83, 84, 85, 86, 87]]      False  2.25  1.77  \n",
       "19  [[0.5, 0.5], [80, 81, 82, 83, 84, 85, 86, 87]]      False  1.99  1.79  \n",
       "20  [[0.5, 0.5], [80, 81, 82, 83, 84, 85, 86, 87]]      False  1.87  1.92  "
      ]
     },
     "execution_count": 207,
     "metadata": {},
     "output_type": "execute_result"
    }
   ],
   "source": [
    "lcnn = df_add[df_add.model==\"LCNN_LA_\"][df_add.aug==\"Mixup, HF\"][['model','aug','beta_param','lowpass','highpass','ranfilter2','mask','blur']]\n",
    "lcnn"
   ]
  },
  {
   "cell_type": "code",
   "execution_count": 208,
   "id": "75540093",
   "metadata": {},
   "outputs": [
    {
     "data": {
      "text/plain": [
       "Ttest_indResult(statistic=1.7268377007635536, pvalue=0.15927062056198604)"
      ]
     },
     "execution_count": 208,
     "metadata": {},
     "output_type": "execute_result"
    }
   ],
   "source": [
    "# n이 작아서 p-value가 크게나옴\n",
    "ttest_ind(lcnn[\"mask\"],lcnn[\"blur\"],equal_var=True)\n"
   ]
  },
  {
   "cell_type": "code",
   "execution_count": 209,
   "id": "125e962a",
   "metadata": {},
   "outputs": [
    {
     "data": {
      "text/plain": [
       "Ttest_relResult(statistic=1.3718362023744286, pvalue=0.3037292448653005)"
      ]
     },
     "execution_count": 209,
     "metadata": {},
     "output_type": "execute_result"
    }
   ],
   "source": [
    "ttest_rel(lcnn[\"mask\"],lcnn[\"blur\"])"
   ]
  },
  {
   "cell_type": "markdown",
   "id": "c52d0e84",
   "metadata": {},
   "source": [
    "### 3. LCNN_LA_(Mixup, RF), 차이없음"
   ]
  },
  {
   "cell_type": "code",
   "execution_count": 210,
   "id": "7787514d",
   "metadata": {},
   "outputs": [
    {
     "name": "stderr",
     "output_type": "stream",
     "text": [
      "/home/ubuntu/anaconda3/envs/tensorflow2.4_p37/lib/python3.7/site-packages/ipykernel/__main__.py:1: UserWarning: Boolean Series key will be reindexed to match DataFrame index.\n",
      "  if __name__ == '__main__':\n"
     ]
    },
    {
     "data": {
      "text/html": [
       "<div>\n",
       "<style scoped>\n",
       "    .dataframe tbody tr th:only-of-type {\n",
       "        vertical-align: middle;\n",
       "    }\n",
       "\n",
       "    .dataframe tbody tr th {\n",
       "        vertical-align: top;\n",
       "    }\n",
       "\n",
       "    .dataframe thead th {\n",
       "        text-align: right;\n",
       "    }\n",
       "</style>\n",
       "<table border=\"1\" class=\"dataframe\">\n",
       "  <thead>\n",
       "    <tr style=\"text-align: right;\">\n",
       "      <th></th>\n",
       "      <th>model</th>\n",
       "      <th>aug</th>\n",
       "      <th>beta_param</th>\n",
       "      <th>lowpass</th>\n",
       "      <th>highpass</th>\n",
       "      <th>ranfilter2</th>\n",
       "      <th>mask</th>\n",
       "      <th>blur</th>\n",
       "    </tr>\n",
       "  </thead>\n",
       "  <tbody>\n",
       "    <tr>\n",
       "      <th>6</th>\n",
       "      <td>LCNN_LA_</td>\n",
       "      <td>Mixup, RF</td>\n",
       "      <td>0.7</td>\n",
       "      <td>False</td>\n",
       "      <td>False</td>\n",
       "      <td>[2, [8, 9, 10, 11, 12]]</td>\n",
       "      <td>3.76</td>\n",
       "      <td>3.34</td>\n",
       "    </tr>\n",
       "    <tr>\n",
       "      <th>7</th>\n",
       "      <td>LCNN_LA_</td>\n",
       "      <td>Mixup, RF</td>\n",
       "      <td>0.7</td>\n",
       "      <td>False</td>\n",
       "      <td>False</td>\n",
       "      <td>[2, [8, 9, 10, 11, 12]]</td>\n",
       "      <td>3.55</td>\n",
       "      <td>3.86</td>\n",
       "    </tr>\n",
       "    <tr>\n",
       "      <th>8</th>\n",
       "      <td>LCNN_LA_</td>\n",
       "      <td>Mixup, RF</td>\n",
       "      <td>0.7</td>\n",
       "      <td>False</td>\n",
       "      <td>False</td>\n",
       "      <td>[2, [8, 9, 10, 11, 12]]</td>\n",
       "      <td>3.25</td>\n",
       "      <td>4.17</td>\n",
       "    </tr>\n",
       "  </tbody>\n",
       "</table>\n",
       "</div>"
      ],
      "text/plain": [
       "      model        aug  beta_param lowpass highpass               ranfilter2  \\\n",
       "6  LCNN_LA_  Mixup, RF         0.7   False    False  [2, [8, 9, 10, 11, 12]]   \n",
       "7  LCNN_LA_  Mixup, RF         0.7   False    False  [2, [8, 9, 10, 11, 12]]   \n",
       "8  LCNN_LA_  Mixup, RF         0.7   False    False  [2, [8, 9, 10, 11, 12]]   \n",
       "\n",
       "   mask  blur  \n",
       "6  3.76  3.34  \n",
       "7  3.55  3.86  \n",
       "8  3.25  4.17  "
      ]
     },
     "execution_count": 210,
     "metadata": {},
     "output_type": "execute_result"
    }
   ],
   "source": [
    "lcnn = df_add[df_add.model==\"LCNN_LA_\"][df_add.aug==\"Mixup, RF\"][['model','aug','beta_param','lowpass','highpass','ranfilter2','mask','blur']]\n",
    "lcnn"
   ]
  },
  {
   "cell_type": "code",
   "execution_count": 211,
   "id": "768c8cdd",
   "metadata": {},
   "outputs": [
    {
     "data": {
      "text/plain": [
       "Ttest_indResult(statistic=-0.9514279961132527, pvalue=0.3952636920481758)"
      ]
     },
     "execution_count": 211,
     "metadata": {},
     "output_type": "execute_result"
    }
   ],
   "source": [
    "# n이 작아서 p-value가 크게나옴\n",
    "ttest_ind(lcnn[\"mask\"],lcnn[\"blur\"],equal_var=True)\n"
   ]
  },
  {
   "cell_type": "code",
   "execution_count": 212,
   "id": "b76b0c1e",
   "metadata": {},
   "outputs": [
    {
     "data": {
      "text/plain": [
       "Ttest_relResult(statistic=-0.6970595555579653, pvalue=0.5578916121408395)"
      ]
     },
     "execution_count": 212,
     "metadata": {},
     "output_type": "execute_result"
    }
   ],
   "source": [
    "ttest_rel(lcnn[\"mask\"],lcnn[\"blur\"])"
   ]
  },
  {
   "cell_type": "markdown",
   "id": "2b4d53f4",
   "metadata": {},
   "source": [
    "### 4. LCNN_LA_(Mixup, LF, HF), 차이없음"
   ]
  },
  {
   "cell_type": "code",
   "execution_count": 213,
   "id": "8ae95e16",
   "metadata": {
    "scrolled": true
   },
   "outputs": [
    {
     "name": "stderr",
     "output_type": "stream",
     "text": [
      "/home/ubuntu/anaconda3/envs/tensorflow2.4_p37/lib/python3.7/site-packages/ipykernel/__main__.py:1: UserWarning: Boolean Series key will be reindexed to match DataFrame index.\n",
      "  if __name__ == '__main__':\n"
     ]
    },
    {
     "data": {
      "text/html": [
       "<div>\n",
       "<style scoped>\n",
       "    .dataframe tbody tr th:only-of-type {\n",
       "        vertical-align: middle;\n",
       "    }\n",
       "\n",
       "    .dataframe tbody tr th {\n",
       "        vertical-align: top;\n",
       "    }\n",
       "\n",
       "    .dataframe thead th {\n",
       "        text-align: right;\n",
       "    }\n",
       "</style>\n",
       "<table border=\"1\" class=\"dataframe\">\n",
       "  <thead>\n",
       "    <tr style=\"text-align: right;\">\n",
       "      <th></th>\n",
       "      <th>model</th>\n",
       "      <th>aug</th>\n",
       "      <th>beta_param</th>\n",
       "      <th>lowpass</th>\n",
       "      <th>highpass</th>\n",
       "      <th>ranfilter2</th>\n",
       "      <th>mask</th>\n",
       "      <th>blur</th>\n",
       "    </tr>\n",
       "  </thead>\n",
       "  <tbody>\n",
       "    <tr>\n",
       "      <th>66</th>\n",
       "      <td>LCNN_LA_</td>\n",
       "      <td>Mixup, LF, HF</td>\n",
       "      <td>0.7</td>\n",
       "      <td>[[0.5, 0.5], [7, 8, 9, 10, 11, 12]]</td>\n",
       "      <td>[[0.5, 0.5], [80, 81, 82, 83, 84, 85, 86, 87]]</td>\n",
       "      <td>False</td>\n",
       "      <td>2.12</td>\n",
       "      <td>1.98</td>\n",
       "    </tr>\n",
       "    <tr>\n",
       "      <th>67</th>\n",
       "      <td>LCNN_LA_</td>\n",
       "      <td>Mixup, LF, HF</td>\n",
       "      <td>0.7</td>\n",
       "      <td>[[0.5, 0.5], [7, 8, 9, 10, 11, 12]]</td>\n",
       "      <td>[[0.5, 0.5], [80, 81, 82, 83, 84, 85, 86, 87]]</td>\n",
       "      <td>False</td>\n",
       "      <td>1.94</td>\n",
       "      <td>1.72</td>\n",
       "    </tr>\n",
       "    <tr>\n",
       "      <th>68</th>\n",
       "      <td>LCNN_LA_</td>\n",
       "      <td>Mixup, LF, HF</td>\n",
       "      <td>0.7</td>\n",
       "      <td>[[0.5, 0.5], [7, 8, 9, 10, 11, 12]]</td>\n",
       "      <td>[[0.5, 0.5], [80, 81, 82, 83, 84, 85, 86, 87]]</td>\n",
       "      <td>False</td>\n",
       "      <td>1.72</td>\n",
       "      <td>1.93</td>\n",
       "    </tr>\n",
       "  </tbody>\n",
       "</table>\n",
       "</div>"
      ],
      "text/plain": [
       "       model            aug  beta_param                              lowpass  \\\n",
       "66  LCNN_LA_  Mixup, LF, HF         0.7  [[0.5, 0.5], [7, 8, 9, 10, 11, 12]]   \n",
       "67  LCNN_LA_  Mixup, LF, HF         0.7  [[0.5, 0.5], [7, 8, 9, 10, 11, 12]]   \n",
       "68  LCNN_LA_  Mixup, LF, HF         0.7  [[0.5, 0.5], [7, 8, 9, 10, 11, 12]]   \n",
       "\n",
       "                                          highpass ranfilter2  mask  blur  \n",
       "66  [[0.5, 0.5], [80, 81, 82, 83, 84, 85, 86, 87]]      False  2.12  1.98  \n",
       "67  [[0.5, 0.5], [80, 81, 82, 83, 84, 85, 86, 87]]      False  1.94  1.72  \n",
       "68  [[0.5, 0.5], [80, 81, 82, 83, 84, 85, 86, 87]]      False  1.72  1.93  "
      ]
     },
     "execution_count": 213,
     "metadata": {},
     "output_type": "execute_result"
    }
   ],
   "source": [
    "lcnn = df_add[df_add.model==\"LCNN_LA_\"][df_add.aug==\"Mixup, LF, HF\"][['model','aug','beta_param','lowpass','highpass','ranfilter2','mask','blur']]\n",
    "lcnn"
   ]
  },
  {
   "cell_type": "code",
   "execution_count": 214,
   "id": "af0ccda3",
   "metadata": {},
   "outputs": [
    {
     "data": {
      "text/plain": [
       "Ttest_indResult(statistic=0.35603449745815624, pvalue=0.7397989281988849)"
      ]
     },
     "execution_count": 214,
     "metadata": {},
     "output_type": "execute_result"
    }
   ],
   "source": [
    "# n이 작아서 p-value가 크게나옴\n",
    "ttest_ind(lcnn[\"mask\"],lcnn[\"blur\"],equal_var=True)\n"
   ]
  },
  {
   "cell_type": "code",
   "execution_count": 215,
   "id": "5a7d56de",
   "metadata": {},
   "outputs": [
    {
     "data": {
      "text/plain": [
       "Ttest_relResult(statistic=0.3786864688401219, pvalue=0.7413408623122572)"
      ]
     },
     "execution_count": 215,
     "metadata": {},
     "output_type": "execute_result"
    }
   ],
   "source": [
    "ttest_rel(lcnn[\"mask\"],lcnn[\"blur\"])"
   ]
  },
  {
   "cell_type": "markdown",
   "id": "005d331d",
   "metadata": {},
   "source": [
    "### 5. LCNN_LA_(Mixup, LF, RF), 차이없음"
   ]
  },
  {
   "cell_type": "code",
   "execution_count": 216,
   "id": "20205fdd",
   "metadata": {},
   "outputs": [
    {
     "name": "stderr",
     "output_type": "stream",
     "text": [
      "/home/ubuntu/anaconda3/envs/tensorflow2.4_p37/lib/python3.7/site-packages/ipykernel/__main__.py:1: UserWarning: Boolean Series key will be reindexed to match DataFrame index.\n",
      "  if __name__ == '__main__':\n"
     ]
    },
    {
     "data": {
      "text/html": [
       "<div>\n",
       "<style scoped>\n",
       "    .dataframe tbody tr th:only-of-type {\n",
       "        vertical-align: middle;\n",
       "    }\n",
       "\n",
       "    .dataframe tbody tr th {\n",
       "        vertical-align: top;\n",
       "    }\n",
       "\n",
       "    .dataframe thead th {\n",
       "        text-align: right;\n",
       "    }\n",
       "</style>\n",
       "<table border=\"1\" class=\"dataframe\">\n",
       "  <thead>\n",
       "    <tr style=\"text-align: right;\">\n",
       "      <th></th>\n",
       "      <th>model</th>\n",
       "      <th>aug</th>\n",
       "      <th>beta_param</th>\n",
       "      <th>lowpass</th>\n",
       "      <th>highpass</th>\n",
       "      <th>ranfilter2</th>\n",
       "      <th>mask</th>\n",
       "      <th>blur</th>\n",
       "    </tr>\n",
       "  </thead>\n",
       "  <tbody>\n",
       "    <tr>\n",
       "      <th>54</th>\n",
       "      <td>LCNN_LA_</td>\n",
       "      <td>Mixup, LF, RF</td>\n",
       "      <td>0.7</td>\n",
       "      <td>[[0.5, 0.5], [7, 8, 9, 10, 11, 12]]</td>\n",
       "      <td>False</td>\n",
       "      <td>[2, [8, 9, 10, 11, 12]]</td>\n",
       "      <td>3.72</td>\n",
       "      <td>3.53</td>\n",
       "    </tr>\n",
       "    <tr>\n",
       "      <th>55</th>\n",
       "      <td>LCNN_LA_</td>\n",
       "      <td>Mixup, LF, RF</td>\n",
       "      <td>0.7</td>\n",
       "      <td>[[0.5, 0.5], [7, 8, 9, 10, 11, 12]]</td>\n",
       "      <td>False</td>\n",
       "      <td>[2, [8, 9, 10, 11, 12]]</td>\n",
       "      <td>3.13</td>\n",
       "      <td>4.22</td>\n",
       "    </tr>\n",
       "    <tr>\n",
       "      <th>56</th>\n",
       "      <td>LCNN_LA_</td>\n",
       "      <td>Mixup, LF, RF</td>\n",
       "      <td>0.7</td>\n",
       "      <td>[[0.5, 0.5], [7, 8, 9, 10, 11, 12]]</td>\n",
       "      <td>False</td>\n",
       "      <td>[2, [8, 9, 10, 11, 12]]</td>\n",
       "      <td>3.04</td>\n",
       "      <td>3.40</td>\n",
       "    </tr>\n",
       "  </tbody>\n",
       "</table>\n",
       "</div>"
      ],
      "text/plain": [
       "       model            aug  beta_param                              lowpass  \\\n",
       "54  LCNN_LA_  Mixup, LF, RF         0.7  [[0.5, 0.5], [7, 8, 9, 10, 11, 12]]   \n",
       "55  LCNN_LA_  Mixup, LF, RF         0.7  [[0.5, 0.5], [7, 8, 9, 10, 11, 12]]   \n",
       "56  LCNN_LA_  Mixup, LF, RF         0.7  [[0.5, 0.5], [7, 8, 9, 10, 11, 12]]   \n",
       "\n",
       "   highpass               ranfilter2  mask  blur  \n",
       "54    False  [2, [8, 9, 10, 11, 12]]  3.72  3.53  \n",
       "55    False  [2, [8, 9, 10, 11, 12]]  3.13  4.22  \n",
       "56    False  [2, [8, 9, 10, 11, 12]]  3.04  3.40  "
      ]
     },
     "execution_count": 216,
     "metadata": {},
     "output_type": "execute_result"
    }
   ],
   "source": [
    "lcnn = df_add[df_add.model==\"LCNN_LA_\"][df_add.aug==\"Mixup, LF, RF\"][['model','aug','beta_param','lowpass','highpass','ranfilter2','mask','blur']]\n",
    "lcnn"
   ]
  },
  {
   "cell_type": "code",
   "execution_count": 217,
   "id": "b98a138e",
   "metadata": {},
   "outputs": [
    {
     "data": {
      "text/plain": [
       "Ttest_indResult(statistic=-1.2650704430214355, pvalue=0.2745250904422947)"
      ]
     },
     "execution_count": 217,
     "metadata": {},
     "output_type": "execute_result"
    }
   ],
   "source": [
    "# n이 작아서 p-value가 크게나옴\n",
    "ttest_ind(lcnn[\"mask\"],lcnn[\"blur\"],equal_var=True)\n"
   ]
  },
  {
   "cell_type": "code",
   "execution_count": 218,
   "id": "95f8c291",
   "metadata": {},
   "outputs": [
    {
     "data": {
      "text/plain": [
       "Ttest_relResult(statistic=-1.1329304520437606, pvalue=0.37478028680938835)"
      ]
     },
     "execution_count": 218,
     "metadata": {},
     "output_type": "execute_result"
    }
   ],
   "source": [
    "ttest_rel(lcnn[\"mask\"],lcnn[\"blur\"])"
   ]
  },
  {
   "cell_type": "markdown",
   "id": "6c193790",
   "metadata": {},
   "source": [
    "### 6. LCNN_LA_(Mixup, HF, RF), 차이없음"
   ]
  },
  {
   "cell_type": "code",
   "execution_count": 219,
   "id": "233b849a",
   "metadata": {},
   "outputs": [
    {
     "name": "stderr",
     "output_type": "stream",
     "text": [
      "/home/ubuntu/anaconda3/envs/tensorflow2.4_p37/lib/python3.7/site-packages/ipykernel/__main__.py:1: UserWarning: Boolean Series key will be reindexed to match DataFrame index.\n",
      "  if __name__ == '__main__':\n"
     ]
    },
    {
     "data": {
      "text/html": [
       "<div>\n",
       "<style scoped>\n",
       "    .dataframe tbody tr th:only-of-type {\n",
       "        vertical-align: middle;\n",
       "    }\n",
       "\n",
       "    .dataframe tbody tr th {\n",
       "        vertical-align: top;\n",
       "    }\n",
       "\n",
       "    .dataframe thead th {\n",
       "        text-align: right;\n",
       "    }\n",
       "</style>\n",
       "<table border=\"1\" class=\"dataframe\">\n",
       "  <thead>\n",
       "    <tr style=\"text-align: right;\">\n",
       "      <th></th>\n",
       "      <th>model</th>\n",
       "      <th>aug</th>\n",
       "      <th>beta_param</th>\n",
       "      <th>lowpass</th>\n",
       "      <th>highpass</th>\n",
       "      <th>ranfilter2</th>\n",
       "      <th>mask</th>\n",
       "      <th>blur</th>\n",
       "    </tr>\n",
       "  </thead>\n",
       "  <tbody>\n",
       "    <tr>\n",
       "      <th>30</th>\n",
       "      <td>LCNN_LA_</td>\n",
       "      <td>Mixup, HF, RF</td>\n",
       "      <td>0.7</td>\n",
       "      <td>False</td>\n",
       "      <td>[[0.5, 0.5], [80, 81, 82, 83, 84, 85, 86, 87]]</td>\n",
       "      <td>[2, [8, 9, 10, 11, 12]]</td>\n",
       "      <td>2.88</td>\n",
       "      <td>2.90</td>\n",
       "    </tr>\n",
       "    <tr>\n",
       "      <th>31</th>\n",
       "      <td>LCNN_LA_</td>\n",
       "      <td>Mixup, HF, RF</td>\n",
       "      <td>0.7</td>\n",
       "      <td>False</td>\n",
       "      <td>[[0.5, 0.5], [80, 81, 82, 83, 84, 85, 86, 87]]</td>\n",
       "      <td>[2, [8, 9, 10, 11, 12]]</td>\n",
       "      <td>2.59</td>\n",
       "      <td>2.78</td>\n",
       "    </tr>\n",
       "    <tr>\n",
       "      <th>32</th>\n",
       "      <td>LCNN_LA_</td>\n",
       "      <td>Mixup, HF, RF</td>\n",
       "      <td>0.7</td>\n",
       "      <td>False</td>\n",
       "      <td>[[0.5, 0.5], [80, 81, 82, 83, 84, 85, 86, 87]]</td>\n",
       "      <td>[2, [8, 9, 10, 11, 12]]</td>\n",
       "      <td>2.21</td>\n",
       "      <td>2.58</td>\n",
       "    </tr>\n",
       "  </tbody>\n",
       "</table>\n",
       "</div>"
      ],
      "text/plain": [
       "       model            aug  beta_param lowpass  \\\n",
       "30  LCNN_LA_  Mixup, HF, RF         0.7   False   \n",
       "31  LCNN_LA_  Mixup, HF, RF         0.7   False   \n",
       "32  LCNN_LA_  Mixup, HF, RF         0.7   False   \n",
       "\n",
       "                                          highpass               ranfilter2  \\\n",
       "30  [[0.5, 0.5], [80, 81, 82, 83, 84, 85, 86, 87]]  [2, [8, 9, 10, 11, 12]]   \n",
       "31  [[0.5, 0.5], [80, 81, 82, 83, 84, 85, 86, 87]]  [2, [8, 9, 10, 11, 12]]   \n",
       "32  [[0.5, 0.5], [80, 81, 82, 83, 84, 85, 86, 87]]  [2, [8, 9, 10, 11, 12]]   \n",
       "\n",
       "    mask  blur  \n",
       "30  2.88  2.90  \n",
       "31  2.59  2.78  \n",
       "32  2.21  2.58  "
      ]
     },
     "execution_count": 219,
     "metadata": {},
     "output_type": "execute_result"
    }
   ],
   "source": [
    "lcnn = df_add[df_add.model==\"LCNN_LA_\"][df_add.aug==\"Mixup, HF, RF\"][['model','aug','beta_param','lowpass','highpass','ranfilter2','mask','blur']]\n",
    "lcnn"
   ]
  },
  {
   "cell_type": "code",
   "execution_count": 220,
   "id": "68a8b4b3",
   "metadata": {},
   "outputs": [
    {
     "data": {
      "text/plain": [
       "Ttest_indResult(statistic=-0.8980652637383042, pvalue=0.4199214512258185)"
      ]
     },
     "execution_count": 220,
     "metadata": {},
     "output_type": "execute_result"
    }
   ],
   "source": [
    "# n이 작아서 p-value가 크게나옴\n",
    "ttest_ind(lcnn[\"mask\"],lcnn[\"blur\"],equal_var=True)\n"
   ]
  },
  {
   "cell_type": "code",
   "execution_count": 221,
   "id": "df467ff0",
   "metadata": {},
   "outputs": [
    {
     "data": {
      "text/plain": [
       "Ttest_relResult(statistic=-1.913243461786722, pvalue=0.1958393468858871)"
      ]
     },
     "execution_count": 221,
     "metadata": {},
     "output_type": "execute_result"
    }
   ],
   "source": [
    "ttest_rel(lcnn[\"mask\"],lcnn[\"blur\"])"
   ]
  },
  {
   "cell_type": "markdown",
   "id": "f667e0fd",
   "metadata": {},
   "source": [
    "### 7. LCNN_LA_(Mixup, LF, HF, RF), 차이없음"
   ]
  },
  {
   "cell_type": "code",
   "execution_count": 222,
   "id": "2c75a53d",
   "metadata": {},
   "outputs": [
    {
     "name": "stderr",
     "output_type": "stream",
     "text": [
      "/home/ubuntu/anaconda3/envs/tensorflow2.4_p37/lib/python3.7/site-packages/ipykernel/__main__.py:1: UserWarning: Boolean Series key will be reindexed to match DataFrame index.\n",
      "  if __name__ == '__main__':\n"
     ]
    },
    {
     "data": {
      "text/html": [
       "<div>\n",
       "<style scoped>\n",
       "    .dataframe tbody tr th:only-of-type {\n",
       "        vertical-align: middle;\n",
       "    }\n",
       "\n",
       "    .dataframe tbody tr th {\n",
       "        vertical-align: top;\n",
       "    }\n",
       "\n",
       "    .dataframe thead th {\n",
       "        text-align: right;\n",
       "    }\n",
       "</style>\n",
       "<table border=\"1\" class=\"dataframe\">\n",
       "  <thead>\n",
       "    <tr style=\"text-align: right;\">\n",
       "      <th></th>\n",
       "      <th>model</th>\n",
       "      <th>aug</th>\n",
       "      <th>beta_param</th>\n",
       "      <th>lowpass</th>\n",
       "      <th>highpass</th>\n",
       "      <th>ranfilter2</th>\n",
       "      <th>mask</th>\n",
       "      <th>blur</th>\n",
       "    </tr>\n",
       "  </thead>\n",
       "  <tbody>\n",
       "    <tr>\n",
       "      <th>78</th>\n",
       "      <td>LCNN_LA_</td>\n",
       "      <td>Mixup, LF, HF, RF</td>\n",
       "      <td>0.7</td>\n",
       "      <td>[[0.5, 0.5], [7, 8, 9, 10, 11, 12]]</td>\n",
       "      <td>[[0.5, 0.5], [80, 81, 82, 83, 84, 85, 86, 87]]</td>\n",
       "      <td>[2, [8, 9, 10, 11, 12]]</td>\n",
       "      <td>2.62</td>\n",
       "      <td>2.25</td>\n",
       "    </tr>\n",
       "    <tr>\n",
       "      <th>79</th>\n",
       "      <td>LCNN_LA_</td>\n",
       "      <td>Mixup, LF, HF, RF</td>\n",
       "      <td>0.7</td>\n",
       "      <td>[[0.5, 0.5], [7, 8, 9, 10, 11, 12]]</td>\n",
       "      <td>[[0.5, 0.5], [80, 81, 82, 83, 84, 85, 86, 87]]</td>\n",
       "      <td>[2, [8, 9, 10, 11, 12]]</td>\n",
       "      <td>2.55</td>\n",
       "      <td>2.21</td>\n",
       "    </tr>\n",
       "    <tr>\n",
       "      <th>80</th>\n",
       "      <td>LCNN_LA_</td>\n",
       "      <td>Mixup, LF, HF, RF</td>\n",
       "      <td>0.7</td>\n",
       "      <td>[[0.5, 0.5], [7, 8, 9, 10, 11, 12]]</td>\n",
       "      <td>[[0.5, 0.5], [80, 81, 82, 83, 84, 85, 86, 87]]</td>\n",
       "      <td>[2, [8, 9, 10, 11, 12]]</td>\n",
       "      <td>2.17</td>\n",
       "      <td>2.43</td>\n",
       "    </tr>\n",
       "  </tbody>\n",
       "</table>\n",
       "</div>"
      ],
      "text/plain": [
       "       model                aug  beta_param  \\\n",
       "78  LCNN_LA_  Mixup, LF, HF, RF         0.7   \n",
       "79  LCNN_LA_  Mixup, LF, HF, RF         0.7   \n",
       "80  LCNN_LA_  Mixup, LF, HF, RF         0.7   \n",
       "\n",
       "                                lowpass  \\\n",
       "78  [[0.5, 0.5], [7, 8, 9, 10, 11, 12]]   \n",
       "79  [[0.5, 0.5], [7, 8, 9, 10, 11, 12]]   \n",
       "80  [[0.5, 0.5], [7, 8, 9, 10, 11, 12]]   \n",
       "\n",
       "                                          highpass               ranfilter2  \\\n",
       "78  [[0.5, 0.5], [80, 81, 82, 83, 84, 85, 86, 87]]  [2, [8, 9, 10, 11, 12]]   \n",
       "79  [[0.5, 0.5], [80, 81, 82, 83, 84, 85, 86, 87]]  [2, [8, 9, 10, 11, 12]]   \n",
       "80  [[0.5, 0.5], [80, 81, 82, 83, 84, 85, 86, 87]]  [2, [8, 9, 10, 11, 12]]   \n",
       "\n",
       "    mask  blur  \n",
       "78  2.62  2.25  \n",
       "79  2.55  2.21  \n",
       "80  2.17  2.43  "
      ]
     },
     "execution_count": 222,
     "metadata": {},
     "output_type": "execute_result"
    }
   ],
   "source": [
    "lcnn = df_add[df_add.model==\"LCNN_LA_\"][df_add.aug==\"Mixup, LF, HF, RF\"][['model','aug','beta_param','lowpass','highpass','ranfilter2','mask','blur']]\n",
    "lcnn"
   ]
  },
  {
   "cell_type": "code",
   "execution_count": 223,
   "id": "2d0a7ed2",
   "metadata": {},
   "outputs": [
    {
     "data": {
      "text/plain": [
       "Ttest_indResult(statistic=0.9657897725932345, pvalue=0.38884060589211616)"
      ]
     },
     "execution_count": 223,
     "metadata": {},
     "output_type": "execute_result"
    }
   ],
   "source": [
    "# n이 작아서 p-value가 크게나옴\n",
    "ttest_ind(lcnn[\"mask\"],lcnn[\"blur\"],equal_var=True)\n"
   ]
  },
  {
   "cell_type": "code",
   "execution_count": 224,
   "id": "ad071a89",
   "metadata": {},
   "outputs": [
    {
     "data": {
      "text/plain": [
       "Ttest_relResult(statistic=0.7310552682428684, pvalue=0.5407924188080301)"
      ]
     },
     "execution_count": 224,
     "metadata": {},
     "output_type": "execute_result"
    }
   ],
   "source": [
    "ttest_rel(lcnn[\"mask\"],lcnn[\"blur\"])"
   ]
  },
  {
   "cell_type": "markdown",
   "id": "d6a63d67",
   "metadata": {},
   "source": [
    "----------------------"
   ]
  },
  {
   "cell_type": "markdown",
   "id": "02696d78",
   "metadata": {},
   "source": [
    "## ResMax_LA_"
   ]
  },
  {
   "cell_type": "code",
   "execution_count": 234,
   "id": "7f444d20",
   "metadata": {},
   "outputs": [
    {
     "data": {
      "text/html": [
       "<div>\n",
       "<style scoped>\n",
       "    .dataframe tbody tr th:only-of-type {\n",
       "        vertical-align: middle;\n",
       "    }\n",
       "\n",
       "    .dataframe tbody tr th {\n",
       "        vertical-align: top;\n",
       "    }\n",
       "\n",
       "    .dataframe thead th {\n",
       "        text-align: right;\n",
       "    }\n",
       "</style>\n",
       "<table border=\"1\" class=\"dataframe\">\n",
       "  <thead>\n",
       "    <tr style=\"text-align: right;\">\n",
       "      <th></th>\n",
       "      <th>model</th>\n",
       "      <th>aug</th>\n",
       "      <th>beta_param</th>\n",
       "      <th>lowpass</th>\n",
       "      <th>highpass</th>\n",
       "      <th>ranfilter2</th>\n",
       "      <th>mask</th>\n",
       "      <th>blur</th>\n",
       "    </tr>\n",
       "  </thead>\n",
       "  <tbody>\n",
       "    <tr>\n",
       "      <th>9</th>\n",
       "      <td>ResMax_LA_</td>\n",
       "      <td>Mixup, RF</td>\n",
       "      <td>0.7</td>\n",
       "      <td>False</td>\n",
       "      <td>False</td>\n",
       "      <td>[2, [8, 9, 10, 11, 12]]</td>\n",
       "      <td>5.25</td>\n",
       "      <td>3.50</td>\n",
       "    </tr>\n",
       "    <tr>\n",
       "      <th>10</th>\n",
       "      <td>ResMax_LA_</td>\n",
       "      <td>Mixup, RF</td>\n",
       "      <td>0.7</td>\n",
       "      <td>False</td>\n",
       "      <td>False</td>\n",
       "      <td>[2, [8, 9, 10, 11, 12]]</td>\n",
       "      <td>4.53</td>\n",
       "      <td>4.31</td>\n",
       "    </tr>\n",
       "    <tr>\n",
       "      <th>11</th>\n",
       "      <td>ResMax_LA_</td>\n",
       "      <td>Mixup, RF</td>\n",
       "      <td>0.7</td>\n",
       "      <td>False</td>\n",
       "      <td>False</td>\n",
       "      <td>[2, [8, 9, 10, 11, 12]]</td>\n",
       "      <td>3.92</td>\n",
       "      <td>4.47</td>\n",
       "    </tr>\n",
       "    <tr>\n",
       "      <th>21</th>\n",
       "      <td>ResMax_LA_</td>\n",
       "      <td>Mixup, HF</td>\n",
       "      <td>0.7</td>\n",
       "      <td>False</td>\n",
       "      <td>[[0.5, 0.5], [80, 81, 82, 83, 84, 85, 86, 87]]</td>\n",
       "      <td>False</td>\n",
       "      <td>2.15</td>\n",
       "      <td>2.16</td>\n",
       "    </tr>\n",
       "    <tr>\n",
       "      <th>22</th>\n",
       "      <td>ResMax_LA_</td>\n",
       "      <td>Mixup, HF</td>\n",
       "      <td>0.7</td>\n",
       "      <td>False</td>\n",
       "      <td>[[0.5, 0.5], [80, 81, 82, 83, 84, 85, 86, 87]]</td>\n",
       "      <td>False</td>\n",
       "      <td>2.15</td>\n",
       "      <td>2.38</td>\n",
       "    </tr>\n",
       "    <tr>\n",
       "      <th>23</th>\n",
       "      <td>ResMax_LA_</td>\n",
       "      <td>Mixup, HF</td>\n",
       "      <td>0.7</td>\n",
       "      <td>False</td>\n",
       "      <td>[[0.5, 0.5], [80, 81, 82, 83, 84, 85, 86, 87]]</td>\n",
       "      <td>False</td>\n",
       "      <td>1.94</td>\n",
       "      <td>2.65</td>\n",
       "    </tr>\n",
       "    <tr>\n",
       "      <th>33</th>\n",
       "      <td>ResMax_LA_</td>\n",
       "      <td>Mixup, HF, RF</td>\n",
       "      <td>0.7</td>\n",
       "      <td>False</td>\n",
       "      <td>[[0.5, 0.5], [80, 81, 82, 83, 84, 85, 86, 87]]</td>\n",
       "      <td>[2, [8, 9, 10, 11, 12]]</td>\n",
       "      <td>3.77</td>\n",
       "      <td>3.13</td>\n",
       "    </tr>\n",
       "    <tr>\n",
       "      <th>34</th>\n",
       "      <td>ResMax_LA_</td>\n",
       "      <td>Mixup, HF, RF</td>\n",
       "      <td>0.7</td>\n",
       "      <td>False</td>\n",
       "      <td>[[0.5, 0.5], [80, 81, 82, 83, 84, 85, 86, 87]]</td>\n",
       "      <td>[2, [8, 9, 10, 11, 12]]</td>\n",
       "      <td>3.28</td>\n",
       "      <td>2.88</td>\n",
       "    </tr>\n",
       "    <tr>\n",
       "      <th>35</th>\n",
       "      <td>ResMax_LA_</td>\n",
       "      <td>Mixup, HF, RF</td>\n",
       "      <td>0.7</td>\n",
       "      <td>False</td>\n",
       "      <td>[[0.5, 0.5], [80, 81, 82, 83, 84, 85, 86, 87]]</td>\n",
       "      <td>[2, [8, 9, 10, 11, 12]]</td>\n",
       "      <td>2.57</td>\n",
       "      <td>3.72</td>\n",
       "    </tr>\n",
       "    <tr>\n",
       "      <th>45</th>\n",
       "      <td>ResMax_LA_</td>\n",
       "      <td>Mixup, LF</td>\n",
       "      <td>0.7</td>\n",
       "      <td>[[0.5, 0.5], [7, 8, 9, 10, 11, 12]]</td>\n",
       "      <td>False</td>\n",
       "      <td>False</td>\n",
       "      <td>3.86</td>\n",
       "      <td>3.80</td>\n",
       "    </tr>\n",
       "    <tr>\n",
       "      <th>46</th>\n",
       "      <td>ResMax_LA_</td>\n",
       "      <td>Mixup, LF</td>\n",
       "      <td>0.7</td>\n",
       "      <td>[[0.5, 0.5], [7, 8, 9, 10, 11, 12]]</td>\n",
       "      <td>False</td>\n",
       "      <td>False</td>\n",
       "      <td>3.71</td>\n",
       "      <td>3.83</td>\n",
       "    </tr>\n",
       "    <tr>\n",
       "      <th>47</th>\n",
       "      <td>ResMax_LA_</td>\n",
       "      <td>Mixup, LF</td>\n",
       "      <td>0.7</td>\n",
       "      <td>[[0.5, 0.5], [7, 8, 9, 10, 11, 12]]</td>\n",
       "      <td>False</td>\n",
       "      <td>False</td>\n",
       "      <td>3.22</td>\n",
       "      <td>3.78</td>\n",
       "    </tr>\n",
       "    <tr>\n",
       "      <th>57</th>\n",
       "      <td>ResMax_LA_</td>\n",
       "      <td>Mixup, LF, RF</td>\n",
       "      <td>0.7</td>\n",
       "      <td>[[0.5, 0.5], [7, 8, 9, 10, 11, 12]]</td>\n",
       "      <td>False</td>\n",
       "      <td>[2, [8, 9, 10, 11, 12]]</td>\n",
       "      <td>5.72</td>\n",
       "      <td>5.00</td>\n",
       "    </tr>\n",
       "    <tr>\n",
       "      <th>58</th>\n",
       "      <td>ResMax_LA_</td>\n",
       "      <td>Mixup, LF, RF</td>\n",
       "      <td>0.7</td>\n",
       "      <td>[[0.5, 0.5], [7, 8, 9, 10, 11, 12]]</td>\n",
       "      <td>False</td>\n",
       "      <td>[2, [8, 9, 10, 11, 12]]</td>\n",
       "      <td>4.83</td>\n",
       "      <td>4.91</td>\n",
       "    </tr>\n",
       "    <tr>\n",
       "      <th>59</th>\n",
       "      <td>ResMax_LA_</td>\n",
       "      <td>Mixup, LF, RF</td>\n",
       "      <td>0.7</td>\n",
       "      <td>[[0.5, 0.5], [7, 8, 9, 10, 11, 12]]</td>\n",
       "      <td>False</td>\n",
       "      <td>[2, [8, 9, 10, 11, 12]]</td>\n",
       "      <td>4.36</td>\n",
       "      <td>4.30</td>\n",
       "    </tr>\n",
       "    <tr>\n",
       "      <th>69</th>\n",
       "      <td>ResMax_LA_</td>\n",
       "      <td>Mixup, LF, HF</td>\n",
       "      <td>0.7</td>\n",
       "      <td>[[0.5, 0.5], [7, 8, 9, 10, 11, 12]]</td>\n",
       "      <td>[[0.5, 0.5], [80, 81, 82, 83, 84, 85, 86, 87]]</td>\n",
       "      <td>False</td>\n",
       "      <td>2.55</td>\n",
       "      <td>2.33</td>\n",
       "    </tr>\n",
       "    <tr>\n",
       "      <th>70</th>\n",
       "      <td>ResMax_LA_</td>\n",
       "      <td>Mixup, LF, HF</td>\n",
       "      <td>0.7</td>\n",
       "      <td>[[0.5, 0.5], [7, 8, 9, 10, 11, 12]]</td>\n",
       "      <td>[[0.5, 0.5], [80, 81, 82, 83, 84, 85, 86, 87]]</td>\n",
       "      <td>False</td>\n",
       "      <td>2.05</td>\n",
       "      <td>2.07</td>\n",
       "    </tr>\n",
       "    <tr>\n",
       "      <th>71</th>\n",
       "      <td>ResMax_LA_</td>\n",
       "      <td>Mixup, LF, HF</td>\n",
       "      <td>0.7</td>\n",
       "      <td>[[0.5, 0.5], [7, 8, 9, 10, 11, 12]]</td>\n",
       "      <td>[[0.5, 0.5], [80, 81, 82, 83, 84, 85, 86, 87]]</td>\n",
       "      <td>False</td>\n",
       "      <td>1.84</td>\n",
       "      <td>2.52</td>\n",
       "    </tr>\n",
       "    <tr>\n",
       "      <th>81</th>\n",
       "      <td>ResMax_LA_</td>\n",
       "      <td>Mixup, LF, HF, RF</td>\n",
       "      <td>0.7</td>\n",
       "      <td>[[0.5, 0.5], [7, 8, 9, 10, 11, 12]]</td>\n",
       "      <td>[[0.5, 0.5], [80, 81, 82, 83, 84, 85, 86, 87]]</td>\n",
       "      <td>[2, [8, 9, 10, 11, 12]]</td>\n",
       "      <td>4.12</td>\n",
       "      <td>3.20</td>\n",
       "    </tr>\n",
       "    <tr>\n",
       "      <th>82</th>\n",
       "      <td>ResMax_LA_</td>\n",
       "      <td>Mixup, LF, HF, RF</td>\n",
       "      <td>0.7</td>\n",
       "      <td>[[0.5, 0.5], [7, 8, 9, 10, 11, 12]]</td>\n",
       "      <td>[[0.5, 0.5], [80, 81, 82, 83, 84, 85, 86, 87]]</td>\n",
       "      <td>[2, [8, 9, 10, 11, 12]]</td>\n",
       "      <td>3.71</td>\n",
       "      <td>3.40</td>\n",
       "    </tr>\n",
       "    <tr>\n",
       "      <th>83</th>\n",
       "      <td>ResMax_LA_</td>\n",
       "      <td>Mixup, LF, HF, RF</td>\n",
       "      <td>0.7</td>\n",
       "      <td>[[0.5, 0.5], [7, 8, 9, 10, 11, 12]]</td>\n",
       "      <td>[[0.5, 0.5], [80, 81, 82, 83, 84, 85, 86, 87]]</td>\n",
       "      <td>[2, [8, 9, 10, 11, 12]]</td>\n",
       "      <td>3.52</td>\n",
       "      <td>3.57</td>\n",
       "    </tr>\n",
       "  </tbody>\n",
       "</table>\n",
       "</div>"
      ],
      "text/plain": [
       "         model                aug  beta_param  \\\n",
       "9   ResMax_LA_          Mixup, RF         0.7   \n",
       "10  ResMax_LA_          Mixup, RF         0.7   \n",
       "11  ResMax_LA_          Mixup, RF         0.7   \n",
       "21  ResMax_LA_          Mixup, HF         0.7   \n",
       "22  ResMax_LA_          Mixup, HF         0.7   \n",
       "23  ResMax_LA_          Mixup, HF         0.7   \n",
       "33  ResMax_LA_      Mixup, HF, RF         0.7   \n",
       "34  ResMax_LA_      Mixup, HF, RF         0.7   \n",
       "35  ResMax_LA_      Mixup, HF, RF         0.7   \n",
       "45  ResMax_LA_          Mixup, LF         0.7   \n",
       "46  ResMax_LA_          Mixup, LF         0.7   \n",
       "47  ResMax_LA_          Mixup, LF         0.7   \n",
       "57  ResMax_LA_      Mixup, LF, RF         0.7   \n",
       "58  ResMax_LA_      Mixup, LF, RF         0.7   \n",
       "59  ResMax_LA_      Mixup, LF, RF         0.7   \n",
       "69  ResMax_LA_      Mixup, LF, HF         0.7   \n",
       "70  ResMax_LA_      Mixup, LF, HF         0.7   \n",
       "71  ResMax_LA_      Mixup, LF, HF         0.7   \n",
       "81  ResMax_LA_  Mixup, LF, HF, RF         0.7   \n",
       "82  ResMax_LA_  Mixup, LF, HF, RF         0.7   \n",
       "83  ResMax_LA_  Mixup, LF, HF, RF         0.7   \n",
       "\n",
       "                                lowpass  \\\n",
       "9                                 False   \n",
       "10                                False   \n",
       "11                                False   \n",
       "21                                False   \n",
       "22                                False   \n",
       "23                                False   \n",
       "33                                False   \n",
       "34                                False   \n",
       "35                                False   \n",
       "45  [[0.5, 0.5], [7, 8, 9, 10, 11, 12]]   \n",
       "46  [[0.5, 0.5], [7, 8, 9, 10, 11, 12]]   \n",
       "47  [[0.5, 0.5], [7, 8, 9, 10, 11, 12]]   \n",
       "57  [[0.5, 0.5], [7, 8, 9, 10, 11, 12]]   \n",
       "58  [[0.5, 0.5], [7, 8, 9, 10, 11, 12]]   \n",
       "59  [[0.5, 0.5], [7, 8, 9, 10, 11, 12]]   \n",
       "69  [[0.5, 0.5], [7, 8, 9, 10, 11, 12]]   \n",
       "70  [[0.5, 0.5], [7, 8, 9, 10, 11, 12]]   \n",
       "71  [[0.5, 0.5], [7, 8, 9, 10, 11, 12]]   \n",
       "81  [[0.5, 0.5], [7, 8, 9, 10, 11, 12]]   \n",
       "82  [[0.5, 0.5], [7, 8, 9, 10, 11, 12]]   \n",
       "83  [[0.5, 0.5], [7, 8, 9, 10, 11, 12]]   \n",
       "\n",
       "                                          highpass               ranfilter2  \\\n",
       "9                                            False  [2, [8, 9, 10, 11, 12]]   \n",
       "10                                           False  [2, [8, 9, 10, 11, 12]]   \n",
       "11                                           False  [2, [8, 9, 10, 11, 12]]   \n",
       "21  [[0.5, 0.5], [80, 81, 82, 83, 84, 85, 86, 87]]                    False   \n",
       "22  [[0.5, 0.5], [80, 81, 82, 83, 84, 85, 86, 87]]                    False   \n",
       "23  [[0.5, 0.5], [80, 81, 82, 83, 84, 85, 86, 87]]                    False   \n",
       "33  [[0.5, 0.5], [80, 81, 82, 83, 84, 85, 86, 87]]  [2, [8, 9, 10, 11, 12]]   \n",
       "34  [[0.5, 0.5], [80, 81, 82, 83, 84, 85, 86, 87]]  [2, [8, 9, 10, 11, 12]]   \n",
       "35  [[0.5, 0.5], [80, 81, 82, 83, 84, 85, 86, 87]]  [2, [8, 9, 10, 11, 12]]   \n",
       "45                                           False                    False   \n",
       "46                                           False                    False   \n",
       "47                                           False                    False   \n",
       "57                                           False  [2, [8, 9, 10, 11, 12]]   \n",
       "58                                           False  [2, [8, 9, 10, 11, 12]]   \n",
       "59                                           False  [2, [8, 9, 10, 11, 12]]   \n",
       "69  [[0.5, 0.5], [80, 81, 82, 83, 84, 85, 86, 87]]                    False   \n",
       "70  [[0.5, 0.5], [80, 81, 82, 83, 84, 85, 86, 87]]                    False   \n",
       "71  [[0.5, 0.5], [80, 81, 82, 83, 84, 85, 86, 87]]                    False   \n",
       "81  [[0.5, 0.5], [80, 81, 82, 83, 84, 85, 86, 87]]  [2, [8, 9, 10, 11, 12]]   \n",
       "82  [[0.5, 0.5], [80, 81, 82, 83, 84, 85, 86, 87]]  [2, [8, 9, 10, 11, 12]]   \n",
       "83  [[0.5, 0.5], [80, 81, 82, 83, 84, 85, 86, 87]]  [2, [8, 9, 10, 11, 12]]   \n",
       "\n",
       "    mask  blur  \n",
       "9   5.25  3.50  \n",
       "10  4.53  4.31  \n",
       "11  3.92  4.47  \n",
       "21  2.15  2.16  \n",
       "22  2.15  2.38  \n",
       "23  1.94  2.65  \n",
       "33  3.77  3.13  \n",
       "34  3.28  2.88  \n",
       "35  2.57  3.72  \n",
       "45  3.86  3.80  \n",
       "46  3.71  3.83  \n",
       "47  3.22  3.78  \n",
       "57  5.72  5.00  \n",
       "58  4.83  4.91  \n",
       "59  4.36  4.30  \n",
       "69  2.55  2.33  \n",
       "70  2.05  2.07  \n",
       "71  1.84  2.52  \n",
       "81  4.12  3.20  \n",
       "82  3.71  3.40  \n",
       "83  3.52  3.57  "
      ]
     },
     "execution_count": 234,
     "metadata": {},
     "output_type": "execute_result"
    }
   ],
   "source": [
    "resmax = df_add[df_add.model==\"ResMax_LA_\"][['model','aug','beta_param','lowpass','highpass','ranfilter2','mask','blur']]\n",
    "resmax"
   ]
  },
  {
   "cell_type": "code",
   "execution_count": 235,
   "id": "609d239f",
   "metadata": {},
   "outputs": [
    {
     "data": {
      "text/plain": [
       "Ttest_indResult(statistic=0.17441490157898507, pvalue=0.8624192007179635)"
      ]
     },
     "execution_count": 235,
     "metadata": {},
     "output_type": "execute_result"
    }
   ],
   "source": [
    "# n이 작아서 p-value가 크게나옴\n",
    "ttest_ind(resmax[\"mask\"],resmax[\"blur\"],equal_var=True)\n"
   ]
  },
  {
   "cell_type": "code",
   "execution_count": 236,
   "id": "3bc3e955",
   "metadata": {},
   "outputs": [
    {
     "data": {
      "text/plain": [
       "Ttest_relResult(statistic=0.39049432064304435, pvalue=0.7002992100608778)"
      ]
     },
     "execution_count": 236,
     "metadata": {},
     "output_type": "execute_result"
    }
   ],
   "source": [
    "ttest_rel(resmax[\"mask\"],resmax[\"blur\"])"
   ]
  },
  {
   "cell_type": "markdown",
   "id": "aab40eb2",
   "metadata": {},
   "source": [
    "### 1. (Mixup,LF), 차이없음"
   ]
  },
  {
   "cell_type": "code",
   "execution_count": 132,
   "id": "d2df5746",
   "metadata": {},
   "outputs": [
    {
     "name": "stderr",
     "output_type": "stream",
     "text": [
      "/home/ubuntu/anaconda3/envs/tensorflow2.4_p37/lib/python3.7/site-packages/ipykernel/__main__.py:1: UserWarning: Boolean Series key will be reindexed to match DataFrame index.\n",
      "  if __name__ == '__main__':\n"
     ]
    },
    {
     "data": {
      "text/html": [
       "<div>\n",
       "<style scoped>\n",
       "    .dataframe tbody tr th:only-of-type {\n",
       "        vertical-align: middle;\n",
       "    }\n",
       "\n",
       "    .dataframe tbody tr th {\n",
       "        vertical-align: top;\n",
       "    }\n",
       "\n",
       "    .dataframe thead th {\n",
       "        text-align: right;\n",
       "    }\n",
       "</style>\n",
       "<table border=\"1\" class=\"dataframe\">\n",
       "  <thead>\n",
       "    <tr style=\"text-align: right;\">\n",
       "      <th></th>\n",
       "      <th>model</th>\n",
       "      <th>aug</th>\n",
       "      <th>beta_param</th>\n",
       "      <th>lowpass</th>\n",
       "      <th>highpass</th>\n",
       "      <th>ranfilter2</th>\n",
       "      <th>mask</th>\n",
       "      <th>blur</th>\n",
       "    </tr>\n",
       "  </thead>\n",
       "  <tbody>\n",
       "    <tr>\n",
       "      <th>45</th>\n",
       "      <td>ResMax_LA_</td>\n",
       "      <td>Mixup, LF</td>\n",
       "      <td>0.7</td>\n",
       "      <td>[[0.5, 0.5], [7, 8, 9, 10, 11, 12]]</td>\n",
       "      <td>False</td>\n",
       "      <td>False</td>\n",
       "      <td>3.86</td>\n",
       "      <td>3.80</td>\n",
       "    </tr>\n",
       "    <tr>\n",
       "      <th>46</th>\n",
       "      <td>ResMax_LA_</td>\n",
       "      <td>Mixup, LF</td>\n",
       "      <td>0.7</td>\n",
       "      <td>[[0.5, 0.5], [7, 8, 9, 10, 11, 12]]</td>\n",
       "      <td>False</td>\n",
       "      <td>False</td>\n",
       "      <td>3.71</td>\n",
       "      <td>3.83</td>\n",
       "    </tr>\n",
       "    <tr>\n",
       "      <th>47</th>\n",
       "      <td>ResMax_LA_</td>\n",
       "      <td>Mixup, LF</td>\n",
       "      <td>0.7</td>\n",
       "      <td>[[0.5, 0.5], [7, 8, 9, 10, 11, 12]]</td>\n",
       "      <td>False</td>\n",
       "      <td>False</td>\n",
       "      <td>3.22</td>\n",
       "      <td>3.78</td>\n",
       "    </tr>\n",
       "  </tbody>\n",
       "</table>\n",
       "</div>"
      ],
      "text/plain": [
       "         model        aug  beta_param                              lowpass  \\\n",
       "45  ResMax_LA_  Mixup, LF         0.7  [[0.5, 0.5], [7, 8, 9, 10, 11, 12]]   \n",
       "46  ResMax_LA_  Mixup, LF         0.7  [[0.5, 0.5], [7, 8, 9, 10, 11, 12]]   \n",
       "47  ResMax_LA_  Mixup, LF         0.7  [[0.5, 0.5], [7, 8, 9, 10, 11, 12]]   \n",
       "\n",
       "   highpass ranfilter2  mask  blur  \n",
       "45    False      False  3.86  3.80  \n",
       "46    False      False  3.71  3.83  \n",
       "47    False      False  3.22  3.78  "
      ]
     },
     "execution_count": 132,
     "metadata": {},
     "output_type": "execute_result"
    }
   ],
   "source": [
    "resmax = df_add[df_add.model==\"ResMax_LA_\"][df_add.aug==\"Mixup, LF\"][['model','aug','beta_param','lowpass','highpass','ranfilter2','mask','blur']]\n",
    "resmax"
   ]
  },
  {
   "cell_type": "code",
   "execution_count": 133,
   "id": "48322bff",
   "metadata": {},
   "outputs": [
    {
     "data": {
      "text/plain": [
       "Ttest_indResult(statistic=-1.0664324200383588, pvalue=0.3463182750065228)"
      ]
     },
     "execution_count": 133,
     "metadata": {},
     "output_type": "execute_result"
    }
   ],
   "source": [
    "# n이 작아서 p-value가 크게나옴\n",
    "ttest_ind(resmax[\"mask\"],resmax[\"blur\"],equal_var=True)\n"
   ]
  },
  {
   "cell_type": "code",
   "execution_count": 137,
   "id": "8379f5ef",
   "metadata": {},
   "outputs": [
    {
     "data": {
      "text/plain": [
       "Ttest_relResult(statistic=-1.1222753520967947, pvalue=0.3783816858326623)"
      ]
     },
     "execution_count": 137,
     "metadata": {},
     "output_type": "execute_result"
    }
   ],
   "source": [
    "ttest_rel(resmax[\"mask\"],resmax[\"blur\"])"
   ]
  },
  {
   "cell_type": "markdown",
   "id": "389e1411",
   "metadata": {},
   "source": [
    "### 2. (Mixup, HF), 차이없음"
   ]
  },
  {
   "cell_type": "code",
   "execution_count": 138,
   "id": "117c776f",
   "metadata": {},
   "outputs": [
    {
     "name": "stderr",
     "output_type": "stream",
     "text": [
      "/home/ubuntu/anaconda3/envs/tensorflow2.4_p37/lib/python3.7/site-packages/ipykernel/__main__.py:1: UserWarning: Boolean Series key will be reindexed to match DataFrame index.\n",
      "  if __name__ == '__main__':\n"
     ]
    },
    {
     "data": {
      "text/html": [
       "<div>\n",
       "<style scoped>\n",
       "    .dataframe tbody tr th:only-of-type {\n",
       "        vertical-align: middle;\n",
       "    }\n",
       "\n",
       "    .dataframe tbody tr th {\n",
       "        vertical-align: top;\n",
       "    }\n",
       "\n",
       "    .dataframe thead th {\n",
       "        text-align: right;\n",
       "    }\n",
       "</style>\n",
       "<table border=\"1\" class=\"dataframe\">\n",
       "  <thead>\n",
       "    <tr style=\"text-align: right;\">\n",
       "      <th></th>\n",
       "      <th>model</th>\n",
       "      <th>aug</th>\n",
       "      <th>beta_param</th>\n",
       "      <th>lowpass</th>\n",
       "      <th>highpass</th>\n",
       "      <th>ranfilter2</th>\n",
       "      <th>mask</th>\n",
       "      <th>blur</th>\n",
       "    </tr>\n",
       "  </thead>\n",
       "  <tbody>\n",
       "    <tr>\n",
       "      <th>21</th>\n",
       "      <td>ResMax_LA_</td>\n",
       "      <td>Mixup, HF</td>\n",
       "      <td>0.7</td>\n",
       "      <td>False</td>\n",
       "      <td>[[0.5, 0.5], [80, 81, 82, 83, 84, 85, 86, 87]]</td>\n",
       "      <td>False</td>\n",
       "      <td>2.15</td>\n",
       "      <td>2.16</td>\n",
       "    </tr>\n",
       "    <tr>\n",
       "      <th>22</th>\n",
       "      <td>ResMax_LA_</td>\n",
       "      <td>Mixup, HF</td>\n",
       "      <td>0.7</td>\n",
       "      <td>False</td>\n",
       "      <td>[[0.5, 0.5], [80, 81, 82, 83, 84, 85, 86, 87]]</td>\n",
       "      <td>False</td>\n",
       "      <td>2.15</td>\n",
       "      <td>2.38</td>\n",
       "    </tr>\n",
       "    <tr>\n",
       "      <th>23</th>\n",
       "      <td>ResMax_LA_</td>\n",
       "      <td>Mixup, HF</td>\n",
       "      <td>0.7</td>\n",
       "      <td>False</td>\n",
       "      <td>[[0.5, 0.5], [80, 81, 82, 83, 84, 85, 86, 87]]</td>\n",
       "      <td>False</td>\n",
       "      <td>1.94</td>\n",
       "      <td>2.65</td>\n",
       "    </tr>\n",
       "  </tbody>\n",
       "</table>\n",
       "</div>"
      ],
      "text/plain": [
       "         model        aug  beta_param lowpass  \\\n",
       "21  ResMax_LA_  Mixup, HF         0.7   False   \n",
       "22  ResMax_LA_  Mixup, HF         0.7   False   \n",
       "23  ResMax_LA_  Mixup, HF         0.7   False   \n",
       "\n",
       "                                          highpass ranfilter2  mask  blur  \n",
       "21  [[0.5, 0.5], [80, 81, 82, 83, 84, 85, 86, 87]]      False  2.15  2.16  \n",
       "22  [[0.5, 0.5], [80, 81, 82, 83, 84, 85, 86, 87]]      False  2.15  2.38  \n",
       "23  [[0.5, 0.5], [80, 81, 82, 83, 84, 85, 86, 87]]      False  1.94  2.65  "
      ]
     },
     "execution_count": 138,
     "metadata": {},
     "output_type": "execute_result"
    }
   ],
   "source": [
    "resmax = df_add[df_add.model==\"ResMax_LA_\"][df_add.aug==\"Mixup, HF\"][['model','aug','beta_param','lowpass','highpass','ranfilter2','mask','blur']]\n",
    "resmax"
   ]
  },
  {
   "cell_type": "code",
   "execution_count": 139,
   "id": "7177819a",
   "metadata": {},
   "outputs": [
    {
     "data": {
      "text/plain": [
       "Ttest_indResult(statistic=-2.003666567895589, pvalue=0.115631513001251)"
      ]
     },
     "execution_count": 139,
     "metadata": {},
     "output_type": "execute_result"
    }
   ],
   "source": [
    "# n이 작아서 p-value가 크게나옴\n",
    "ttest_ind(resmax[\"mask\"],resmax[\"blur\"],equal_var=True)"
   ]
  },
  {
   "cell_type": "code",
   "execution_count": 140,
   "id": "a4e6b31f",
   "metadata": {},
   "outputs": [
    {
     "data": {
      "text/plain": [
       "Ttest_relResult(statistic=-1.5322580645161297, pvalue=0.2651538913985106)"
      ]
     },
     "execution_count": 140,
     "metadata": {},
     "output_type": "execute_result"
    }
   ],
   "source": [
    "ttest_rel(resmax[\"mask\"],resmax[\"blur\"])"
   ]
  },
  {
   "cell_type": "markdown",
   "id": "6280520d",
   "metadata": {},
   "source": [
    "### 3. (Mixup, RF), 차이없음"
   ]
  },
  {
   "cell_type": "code",
   "execution_count": 141,
   "id": "f84f8538",
   "metadata": {},
   "outputs": [
    {
     "name": "stderr",
     "output_type": "stream",
     "text": [
      "/home/ubuntu/anaconda3/envs/tensorflow2.4_p37/lib/python3.7/site-packages/ipykernel/__main__.py:1: UserWarning: Boolean Series key will be reindexed to match DataFrame index.\n",
      "  if __name__ == '__main__':\n"
     ]
    },
    {
     "data": {
      "text/html": [
       "<div>\n",
       "<style scoped>\n",
       "    .dataframe tbody tr th:only-of-type {\n",
       "        vertical-align: middle;\n",
       "    }\n",
       "\n",
       "    .dataframe tbody tr th {\n",
       "        vertical-align: top;\n",
       "    }\n",
       "\n",
       "    .dataframe thead th {\n",
       "        text-align: right;\n",
       "    }\n",
       "</style>\n",
       "<table border=\"1\" class=\"dataframe\">\n",
       "  <thead>\n",
       "    <tr style=\"text-align: right;\">\n",
       "      <th></th>\n",
       "      <th>model</th>\n",
       "      <th>aug</th>\n",
       "      <th>beta_param</th>\n",
       "      <th>lowpass</th>\n",
       "      <th>highpass</th>\n",
       "      <th>ranfilter2</th>\n",
       "      <th>mask</th>\n",
       "      <th>blur</th>\n",
       "    </tr>\n",
       "  </thead>\n",
       "  <tbody>\n",
       "    <tr>\n",
       "      <th>9</th>\n",
       "      <td>ResMax_LA_</td>\n",
       "      <td>Mixup, RF</td>\n",
       "      <td>0.7</td>\n",
       "      <td>False</td>\n",
       "      <td>False</td>\n",
       "      <td>[2, [8, 9, 10, 11, 12]]</td>\n",
       "      <td>5.25</td>\n",
       "      <td>3.50</td>\n",
       "    </tr>\n",
       "    <tr>\n",
       "      <th>10</th>\n",
       "      <td>ResMax_LA_</td>\n",
       "      <td>Mixup, RF</td>\n",
       "      <td>0.7</td>\n",
       "      <td>False</td>\n",
       "      <td>False</td>\n",
       "      <td>[2, [8, 9, 10, 11, 12]]</td>\n",
       "      <td>4.53</td>\n",
       "      <td>4.31</td>\n",
       "    </tr>\n",
       "    <tr>\n",
       "      <th>11</th>\n",
       "      <td>ResMax_LA_</td>\n",
       "      <td>Mixup, RF</td>\n",
       "      <td>0.7</td>\n",
       "      <td>False</td>\n",
       "      <td>False</td>\n",
       "      <td>[2, [8, 9, 10, 11, 12]]</td>\n",
       "      <td>3.92</td>\n",
       "      <td>4.47</td>\n",
       "    </tr>\n",
       "  </tbody>\n",
       "</table>\n",
       "</div>"
      ],
      "text/plain": [
       "         model        aug  beta_param lowpass highpass  \\\n",
       "9   ResMax_LA_  Mixup, RF         0.7   False    False   \n",
       "10  ResMax_LA_  Mixup, RF         0.7   False    False   \n",
       "11  ResMax_LA_  Mixup, RF         0.7   False    False   \n",
       "\n",
       "                 ranfilter2  mask  blur  \n",
       "9   [2, [8, 9, 10, 11, 12]]  5.25  3.50  \n",
       "10  [2, [8, 9, 10, 11, 12]]  4.53  4.31  \n",
       "11  [2, [8, 9, 10, 11, 12]]  3.92  4.47  "
      ]
     },
     "execution_count": 141,
     "metadata": {},
     "output_type": "execute_result"
    }
   ],
   "source": [
    "resmax = df_add[df_add.model==\"ResMax_LA_\"][df_add.aug==\"Mixup, RF\"][['model','aug','beta_param','lowpass','highpass','ranfilter2','mask','blur']]\n",
    "resmax"
   ]
  },
  {
   "cell_type": "code",
   "execution_count": 142,
   "id": "ecc62979",
   "metadata": {},
   "outputs": [
    {
     "data": {
      "text/plain": [
       "Ttest_indResult(statistic=0.9704652986289972, pvalue=0.38676891739166297)"
      ]
     },
     "execution_count": 142,
     "metadata": {},
     "output_type": "execute_result"
    }
   ],
   "source": [
    "# n이 작아서 p-value가 크게나옴\n",
    "ttest_ind(resmax[\"mask\"],resmax[\"blur\"],equal_var=True)"
   ]
  },
  {
   "cell_type": "code",
   "execution_count": 143,
   "id": "05c9cf05",
   "metadata": {},
   "outputs": [
    {
     "data": {
      "text/plain": [
       "Ttest_relResult(statistic=0.7002725008362235, pvalue=0.5562543334326157)"
      ]
     },
     "execution_count": 143,
     "metadata": {},
     "output_type": "execute_result"
    }
   ],
   "source": [
    "ttest_rel(resmax[\"mask\"],resmax[\"blur\"])"
   ]
  },
  {
   "cell_type": "markdown",
   "id": "305c9a5b",
   "metadata": {},
   "source": [
    "### 4. (Mixup, LF, HF), 차이없음"
   ]
  },
  {
   "cell_type": "code",
   "execution_count": 144,
   "id": "12c568aa",
   "metadata": {},
   "outputs": [
    {
     "name": "stderr",
     "output_type": "stream",
     "text": [
      "/home/ubuntu/anaconda3/envs/tensorflow2.4_p37/lib/python3.7/site-packages/ipykernel/__main__.py:1: UserWarning: Boolean Series key will be reindexed to match DataFrame index.\n",
      "  if __name__ == '__main__':\n"
     ]
    },
    {
     "data": {
      "text/html": [
       "<div>\n",
       "<style scoped>\n",
       "    .dataframe tbody tr th:only-of-type {\n",
       "        vertical-align: middle;\n",
       "    }\n",
       "\n",
       "    .dataframe tbody tr th {\n",
       "        vertical-align: top;\n",
       "    }\n",
       "\n",
       "    .dataframe thead th {\n",
       "        text-align: right;\n",
       "    }\n",
       "</style>\n",
       "<table border=\"1\" class=\"dataframe\">\n",
       "  <thead>\n",
       "    <tr style=\"text-align: right;\">\n",
       "      <th></th>\n",
       "      <th>model</th>\n",
       "      <th>aug</th>\n",
       "      <th>beta_param</th>\n",
       "      <th>lowpass</th>\n",
       "      <th>highpass</th>\n",
       "      <th>ranfilter2</th>\n",
       "      <th>mask</th>\n",
       "      <th>blur</th>\n",
       "    </tr>\n",
       "  </thead>\n",
       "  <tbody>\n",
       "    <tr>\n",
       "      <th>69</th>\n",
       "      <td>ResMax_LA_</td>\n",
       "      <td>Mixup, LF, HF</td>\n",
       "      <td>0.7</td>\n",
       "      <td>[[0.5, 0.5], [7, 8, 9, 10, 11, 12]]</td>\n",
       "      <td>[[0.5, 0.5], [80, 81, 82, 83, 84, 85, 86, 87]]</td>\n",
       "      <td>False</td>\n",
       "      <td>2.55</td>\n",
       "      <td>2.33</td>\n",
       "    </tr>\n",
       "    <tr>\n",
       "      <th>70</th>\n",
       "      <td>ResMax_LA_</td>\n",
       "      <td>Mixup, LF, HF</td>\n",
       "      <td>0.7</td>\n",
       "      <td>[[0.5, 0.5], [7, 8, 9, 10, 11, 12]]</td>\n",
       "      <td>[[0.5, 0.5], [80, 81, 82, 83, 84, 85, 86, 87]]</td>\n",
       "      <td>False</td>\n",
       "      <td>2.05</td>\n",
       "      <td>2.07</td>\n",
       "    </tr>\n",
       "    <tr>\n",
       "      <th>71</th>\n",
       "      <td>ResMax_LA_</td>\n",
       "      <td>Mixup, LF, HF</td>\n",
       "      <td>0.7</td>\n",
       "      <td>[[0.5, 0.5], [7, 8, 9, 10, 11, 12]]</td>\n",
       "      <td>[[0.5, 0.5], [80, 81, 82, 83, 84, 85, 86, 87]]</td>\n",
       "      <td>False</td>\n",
       "      <td>1.84</td>\n",
       "      <td>2.52</td>\n",
       "    </tr>\n",
       "  </tbody>\n",
       "</table>\n",
       "</div>"
      ],
      "text/plain": [
       "         model            aug  beta_param  \\\n",
       "69  ResMax_LA_  Mixup, LF, HF         0.7   \n",
       "70  ResMax_LA_  Mixup, LF, HF         0.7   \n",
       "71  ResMax_LA_  Mixup, LF, HF         0.7   \n",
       "\n",
       "                                lowpass  \\\n",
       "69  [[0.5, 0.5], [7, 8, 9, 10, 11, 12]]   \n",
       "70  [[0.5, 0.5], [7, 8, 9, 10, 11, 12]]   \n",
       "71  [[0.5, 0.5], [7, 8, 9, 10, 11, 12]]   \n",
       "\n",
       "                                          highpass ranfilter2  mask  blur  \n",
       "69  [[0.5, 0.5], [80, 81, 82, 83, 84, 85, 86, 87]]      False  2.55  2.33  \n",
       "70  [[0.5, 0.5], [80, 81, 82, 83, 84, 85, 86, 87]]      False  2.05  2.07  \n",
       "71  [[0.5, 0.5], [80, 81, 82, 83, 84, 85, 86, 87]]      False  1.84  2.52  "
      ]
     },
     "execution_count": 144,
     "metadata": {},
     "output_type": "execute_result"
    }
   ],
   "source": [
    "resmax = df_add[df_add.model==\"ResMax_LA_\"][df_add.aug==\"Mixup, LF, HF\"][['model','aug','beta_param','lowpass','highpass','ranfilter2','mask','blur']]\n",
    "resmax"
   ]
  },
  {
   "cell_type": "code",
   "execution_count": 145,
   "id": "9f44ac0a",
   "metadata": {},
   "outputs": [
    {
     "data": {
      "text/plain": [
       "Ttest_indResult(statistic=-0.6459412747204979, pvalue=0.5535068367095517)"
      ]
     },
     "execution_count": 145,
     "metadata": {},
     "output_type": "execute_result"
    }
   ],
   "source": [
    "# n이 작아서 p-value가 크게나옴\n",
    "ttest_ind(resmax[\"mask\"],resmax[\"blur\"],equal_var=True)\n"
   ]
  },
  {
   "cell_type": "code",
   "execution_count": 146,
   "id": "c21aec90",
   "metadata": {},
   "outputs": [
    {
     "data": {
      "text/plain": [
       "Ttest_relResult(statistic=-0.5946353169977334, pvalue=0.6123987335107925)"
      ]
     },
     "execution_count": 146,
     "metadata": {},
     "output_type": "execute_result"
    }
   ],
   "source": [
    "ttest_rel(resmax[\"mask\"],resmax[\"blur\"])"
   ]
  },
  {
   "cell_type": "markdown",
   "id": "4116444f",
   "metadata": {},
   "source": [
    "### 5. (Mixup, LF, RF), 차이없음"
   ]
  },
  {
   "cell_type": "code",
   "execution_count": 147,
   "id": "7f7c9782",
   "metadata": {},
   "outputs": [
    {
     "name": "stderr",
     "output_type": "stream",
     "text": [
      "/home/ubuntu/anaconda3/envs/tensorflow2.4_p37/lib/python3.7/site-packages/ipykernel/__main__.py:1: UserWarning: Boolean Series key will be reindexed to match DataFrame index.\n",
      "  if __name__ == '__main__':\n"
     ]
    },
    {
     "data": {
      "text/html": [
       "<div>\n",
       "<style scoped>\n",
       "    .dataframe tbody tr th:only-of-type {\n",
       "        vertical-align: middle;\n",
       "    }\n",
       "\n",
       "    .dataframe tbody tr th {\n",
       "        vertical-align: top;\n",
       "    }\n",
       "\n",
       "    .dataframe thead th {\n",
       "        text-align: right;\n",
       "    }\n",
       "</style>\n",
       "<table border=\"1\" class=\"dataframe\">\n",
       "  <thead>\n",
       "    <tr style=\"text-align: right;\">\n",
       "      <th></th>\n",
       "      <th>model</th>\n",
       "      <th>aug</th>\n",
       "      <th>beta_param</th>\n",
       "      <th>lowpass</th>\n",
       "      <th>highpass</th>\n",
       "      <th>ranfilter2</th>\n",
       "      <th>mask</th>\n",
       "      <th>blur</th>\n",
       "    </tr>\n",
       "  </thead>\n",
       "  <tbody>\n",
       "    <tr>\n",
       "      <th>57</th>\n",
       "      <td>ResMax_LA_</td>\n",
       "      <td>Mixup, LF, RF</td>\n",
       "      <td>0.7</td>\n",
       "      <td>[[0.5, 0.5], [7, 8, 9, 10, 11, 12]]</td>\n",
       "      <td>False</td>\n",
       "      <td>[2, [8, 9, 10, 11, 12]]</td>\n",
       "      <td>5.72</td>\n",
       "      <td>5.00</td>\n",
       "    </tr>\n",
       "    <tr>\n",
       "      <th>58</th>\n",
       "      <td>ResMax_LA_</td>\n",
       "      <td>Mixup, LF, RF</td>\n",
       "      <td>0.7</td>\n",
       "      <td>[[0.5, 0.5], [7, 8, 9, 10, 11, 12]]</td>\n",
       "      <td>False</td>\n",
       "      <td>[2, [8, 9, 10, 11, 12]]</td>\n",
       "      <td>4.83</td>\n",
       "      <td>4.91</td>\n",
       "    </tr>\n",
       "    <tr>\n",
       "      <th>59</th>\n",
       "      <td>ResMax_LA_</td>\n",
       "      <td>Mixup, LF, RF</td>\n",
       "      <td>0.7</td>\n",
       "      <td>[[0.5, 0.5], [7, 8, 9, 10, 11, 12]]</td>\n",
       "      <td>False</td>\n",
       "      <td>[2, [8, 9, 10, 11, 12]]</td>\n",
       "      <td>4.36</td>\n",
       "      <td>4.30</td>\n",
       "    </tr>\n",
       "  </tbody>\n",
       "</table>\n",
       "</div>"
      ],
      "text/plain": [
       "         model            aug  beta_param  \\\n",
       "57  ResMax_LA_  Mixup, LF, RF         0.7   \n",
       "58  ResMax_LA_  Mixup, LF, RF         0.7   \n",
       "59  ResMax_LA_  Mixup, LF, RF         0.7   \n",
       "\n",
       "                                lowpass highpass               ranfilter2  \\\n",
       "57  [[0.5, 0.5], [7, 8, 9, 10, 11, 12]]    False  [2, [8, 9, 10, 11, 12]]   \n",
       "58  [[0.5, 0.5], [7, 8, 9, 10, 11, 12]]    False  [2, [8, 9, 10, 11, 12]]   \n",
       "59  [[0.5, 0.5], [7, 8, 9, 10, 11, 12]]    False  [2, [8, 9, 10, 11, 12]]   \n",
       "\n",
       "    mask  blur  \n",
       "57  5.72  5.00  \n",
       "58  4.83  4.91  \n",
       "59  4.36  4.30  "
      ]
     },
     "execution_count": 147,
     "metadata": {},
     "output_type": "execute_result"
    }
   ],
   "source": [
    "resmax = df_add[df_add.model==\"ResMax_LA_\"][df_add.aug==\"Mixup, LF, RF\"][['model','aug','beta_param','lowpass','highpass','ranfilter2','mask','blur']]\n",
    "resmax"
   ]
  },
  {
   "cell_type": "code",
   "execution_count": 148,
   "id": "fb9fb757",
   "metadata": {},
   "outputs": [
    {
     "data": {
      "text/plain": [
       "Ttest_indResult(statistic=0.5123841384722078, pvalue=0.6353773047717626)"
      ]
     },
     "execution_count": 148,
     "metadata": {},
     "output_type": "execute_result"
    }
   ],
   "source": [
    "# n이 작아서 p-value가 크게나옴\n",
    "ttest_ind(resmax[\"mask\"],resmax[\"blur\"],equal_var=True)\n"
   ]
  },
  {
   "cell_type": "code",
   "execution_count": 149,
   "id": "f659cd8d",
   "metadata": {},
   "outputs": [
    {
     "data": {
      "text/plain": [
       "Ttest_relResult(statistic=0.9459459459459466, pvalue=0.4440240466880645)"
      ]
     },
     "execution_count": 149,
     "metadata": {},
     "output_type": "execute_result"
    }
   ],
   "source": [
    "ttest_rel(resmax[\"mask\"],resmax[\"blur\"])"
   ]
  },
  {
   "cell_type": "markdown",
   "id": "22df0844",
   "metadata": {},
   "source": [
    "### 6. (Mixup, HF, RF), 차이없음"
   ]
  },
  {
   "cell_type": "code",
   "execution_count": 150,
   "id": "c51671e7",
   "metadata": {},
   "outputs": [
    {
     "name": "stderr",
     "output_type": "stream",
     "text": [
      "/home/ubuntu/anaconda3/envs/tensorflow2.4_p37/lib/python3.7/site-packages/ipykernel/__main__.py:1: UserWarning: Boolean Series key will be reindexed to match DataFrame index.\n",
      "  if __name__ == '__main__':\n"
     ]
    },
    {
     "data": {
      "text/html": [
       "<div>\n",
       "<style scoped>\n",
       "    .dataframe tbody tr th:only-of-type {\n",
       "        vertical-align: middle;\n",
       "    }\n",
       "\n",
       "    .dataframe tbody tr th {\n",
       "        vertical-align: top;\n",
       "    }\n",
       "\n",
       "    .dataframe thead th {\n",
       "        text-align: right;\n",
       "    }\n",
       "</style>\n",
       "<table border=\"1\" class=\"dataframe\">\n",
       "  <thead>\n",
       "    <tr style=\"text-align: right;\">\n",
       "      <th></th>\n",
       "      <th>model</th>\n",
       "      <th>aug</th>\n",
       "      <th>beta_param</th>\n",
       "      <th>lowpass</th>\n",
       "      <th>highpass</th>\n",
       "      <th>ranfilter2</th>\n",
       "      <th>mask</th>\n",
       "      <th>blur</th>\n",
       "    </tr>\n",
       "  </thead>\n",
       "  <tbody>\n",
       "    <tr>\n",
       "      <th>33</th>\n",
       "      <td>ResMax_LA_</td>\n",
       "      <td>Mixup, HF, RF</td>\n",
       "      <td>0.7</td>\n",
       "      <td>False</td>\n",
       "      <td>[[0.5, 0.5], [80, 81, 82, 83, 84, 85, 86, 87]]</td>\n",
       "      <td>[2, [8, 9, 10, 11, 12]]</td>\n",
       "      <td>3.77</td>\n",
       "      <td>3.13</td>\n",
       "    </tr>\n",
       "    <tr>\n",
       "      <th>34</th>\n",
       "      <td>ResMax_LA_</td>\n",
       "      <td>Mixup, HF, RF</td>\n",
       "      <td>0.7</td>\n",
       "      <td>False</td>\n",
       "      <td>[[0.5, 0.5], [80, 81, 82, 83, 84, 85, 86, 87]]</td>\n",
       "      <td>[2, [8, 9, 10, 11, 12]]</td>\n",
       "      <td>3.28</td>\n",
       "      <td>2.88</td>\n",
       "    </tr>\n",
       "    <tr>\n",
       "      <th>35</th>\n",
       "      <td>ResMax_LA_</td>\n",
       "      <td>Mixup, HF, RF</td>\n",
       "      <td>0.7</td>\n",
       "      <td>False</td>\n",
       "      <td>[[0.5, 0.5], [80, 81, 82, 83, 84, 85, 86, 87]]</td>\n",
       "      <td>[2, [8, 9, 10, 11, 12]]</td>\n",
       "      <td>2.57</td>\n",
       "      <td>3.72</td>\n",
       "    </tr>\n",
       "  </tbody>\n",
       "</table>\n",
       "</div>"
      ],
      "text/plain": [
       "         model            aug  beta_param lowpass  \\\n",
       "33  ResMax_LA_  Mixup, HF, RF         0.7   False   \n",
       "34  ResMax_LA_  Mixup, HF, RF         0.7   False   \n",
       "35  ResMax_LA_  Mixup, HF, RF         0.7   False   \n",
       "\n",
       "                                          highpass               ranfilter2  \\\n",
       "33  [[0.5, 0.5], [80, 81, 82, 83, 84, 85, 86, 87]]  [2, [8, 9, 10, 11, 12]]   \n",
       "34  [[0.5, 0.5], [80, 81, 82, 83, 84, 85, 86, 87]]  [2, [8, 9, 10, 11, 12]]   \n",
       "35  [[0.5, 0.5], [80, 81, 82, 83, 84, 85, 86, 87]]  [2, [8, 9, 10, 11, 12]]   \n",
       "\n",
       "    mask  blur  \n",
       "33  3.77  3.13  \n",
       "34  3.28  2.88  \n",
       "35  2.57  3.72  "
      ]
     },
     "execution_count": 150,
     "metadata": {},
     "output_type": "execute_result"
    }
   ],
   "source": [
    "resmax = df_add[df_add.model==\"ResMax_LA_\"][df_add.aug==\"Mixup, HF, RF\"][['model','aug','beta_param','lowpass','highpass','ranfilter2','mask','blur']]\n",
    "resmax"
   ]
  },
  {
   "cell_type": "code",
   "execution_count": 151,
   "id": "3e29d0a9",
   "metadata": {},
   "outputs": [
    {
     "data": {
      "text/plain": [
       "Ttest_indResult(statistic=-0.08562969433657726, pvalue=0.9358756462541005)"
      ]
     },
     "execution_count": 151,
     "metadata": {},
     "output_type": "execute_result"
    }
   ],
   "source": [
    "# n이 작아서 p-value가 크게나옴\n",
    "ttest_ind(resmax[\"mask\"],resmax[\"blur\"],equal_var=True)"
   ]
  },
  {
   "cell_type": "code",
   "execution_count": 152,
   "id": "51f4380a",
   "metadata": {},
   "outputs": [
    {
     "data": {
      "text/plain": [
       "Ttest_relResult(statistic=-0.06536396565983006, pvalue=0.9538299850750059)"
      ]
     },
     "execution_count": 152,
     "metadata": {},
     "output_type": "execute_result"
    }
   ],
   "source": [
    "ttest_rel(resmax[\"mask\"],resmax[\"blur\"])"
   ]
  },
  {
   "cell_type": "markdown",
   "id": "dc9f0c78",
   "metadata": {},
   "source": [
    "### 7. (Mixup, LF, HF, RF), 차이없음"
   ]
  },
  {
   "cell_type": "code",
   "execution_count": 153,
   "id": "1a0b1f96",
   "metadata": {},
   "outputs": [
    {
     "name": "stderr",
     "output_type": "stream",
     "text": [
      "/home/ubuntu/anaconda3/envs/tensorflow2.4_p37/lib/python3.7/site-packages/ipykernel/__main__.py:1: UserWarning: Boolean Series key will be reindexed to match DataFrame index.\n",
      "  if __name__ == '__main__':\n"
     ]
    },
    {
     "data": {
      "text/html": [
       "<div>\n",
       "<style scoped>\n",
       "    .dataframe tbody tr th:only-of-type {\n",
       "        vertical-align: middle;\n",
       "    }\n",
       "\n",
       "    .dataframe tbody tr th {\n",
       "        vertical-align: top;\n",
       "    }\n",
       "\n",
       "    .dataframe thead th {\n",
       "        text-align: right;\n",
       "    }\n",
       "</style>\n",
       "<table border=\"1\" class=\"dataframe\">\n",
       "  <thead>\n",
       "    <tr style=\"text-align: right;\">\n",
       "      <th></th>\n",
       "      <th>model</th>\n",
       "      <th>aug</th>\n",
       "      <th>beta_param</th>\n",
       "      <th>lowpass</th>\n",
       "      <th>highpass</th>\n",
       "      <th>ranfilter2</th>\n",
       "      <th>mask</th>\n",
       "      <th>blur</th>\n",
       "    </tr>\n",
       "  </thead>\n",
       "  <tbody>\n",
       "    <tr>\n",
       "      <th>81</th>\n",
       "      <td>ResMax_LA_</td>\n",
       "      <td>Mixup, LF, HF, RF</td>\n",
       "      <td>0.7</td>\n",
       "      <td>[[0.5, 0.5], [7, 8, 9, 10, 11, 12]]</td>\n",
       "      <td>[[0.5, 0.5], [80, 81, 82, 83, 84, 85, 86, 87]]</td>\n",
       "      <td>[2, [8, 9, 10, 11, 12]]</td>\n",
       "      <td>4.12</td>\n",
       "      <td>3.20</td>\n",
       "    </tr>\n",
       "    <tr>\n",
       "      <th>82</th>\n",
       "      <td>ResMax_LA_</td>\n",
       "      <td>Mixup, LF, HF, RF</td>\n",
       "      <td>0.7</td>\n",
       "      <td>[[0.5, 0.5], [7, 8, 9, 10, 11, 12]]</td>\n",
       "      <td>[[0.5, 0.5], [80, 81, 82, 83, 84, 85, 86, 87]]</td>\n",
       "      <td>[2, [8, 9, 10, 11, 12]]</td>\n",
       "      <td>3.71</td>\n",
       "      <td>3.40</td>\n",
       "    </tr>\n",
       "    <tr>\n",
       "      <th>83</th>\n",
       "      <td>ResMax_LA_</td>\n",
       "      <td>Mixup, LF, HF, RF</td>\n",
       "      <td>0.7</td>\n",
       "      <td>[[0.5, 0.5], [7, 8, 9, 10, 11, 12]]</td>\n",
       "      <td>[[0.5, 0.5], [80, 81, 82, 83, 84, 85, 86, 87]]</td>\n",
       "      <td>[2, [8, 9, 10, 11, 12]]</td>\n",
       "      <td>3.52</td>\n",
       "      <td>3.57</td>\n",
       "    </tr>\n",
       "  </tbody>\n",
       "</table>\n",
       "</div>"
      ],
      "text/plain": [
       "         model                aug  beta_param  \\\n",
       "81  ResMax_LA_  Mixup, LF, HF, RF         0.7   \n",
       "82  ResMax_LA_  Mixup, LF, HF, RF         0.7   \n",
       "83  ResMax_LA_  Mixup, LF, HF, RF         0.7   \n",
       "\n",
       "                                lowpass  \\\n",
       "81  [[0.5, 0.5], [7, 8, 9, 10, 11, 12]]   \n",
       "82  [[0.5, 0.5], [7, 8, 9, 10, 11, 12]]   \n",
       "83  [[0.5, 0.5], [7, 8, 9, 10, 11, 12]]   \n",
       "\n",
       "                                          highpass               ranfilter2  \\\n",
       "81  [[0.5, 0.5], [80, 81, 82, 83, 84, 85, 86, 87]]  [2, [8, 9, 10, 11, 12]]   \n",
       "82  [[0.5, 0.5], [80, 81, 82, 83, 84, 85, 86, 87]]  [2, [8, 9, 10, 11, 12]]   \n",
       "83  [[0.5, 0.5], [80, 81, 82, 83, 84, 85, 86, 87]]  [2, [8, 9, 10, 11, 12]]   \n",
       "\n",
       "    mask  blur  \n",
       "81  4.12  3.20  \n",
       "82  3.71  3.40  \n",
       "83  3.52  3.57  "
      ]
     },
     "execution_count": 153,
     "metadata": {},
     "output_type": "execute_result"
    }
   ],
   "source": [
    "resmax = df_add[df_add.model==\"ResMax_LA_\"][df_add.aug==\"Mixup, LF, HF, RF\"][['model','aug','beta_param','lowpass','highpass','ranfilter2','mask','blur']]\n",
    "resmax"
   ]
  },
  {
   "cell_type": "code",
   "execution_count": 154,
   "id": "1db4cddc",
   "metadata": {},
   "outputs": [
    {
     "data": {
      "text/plain": [
       "Ttest_indResult(statistic=1.9017421950998967, pvalue=0.12997741165546464)"
      ]
     },
     "execution_count": 154,
     "metadata": {},
     "output_type": "execute_result"
    }
   ],
   "source": [
    "# n이 작아서 p-value가 크게나옴\n",
    "ttest_ind(resmax[\"mask\"],resmax[\"blur\"],equal_var=True)"
   ]
  },
  {
   "cell_type": "code",
   "execution_count": 155,
   "id": "25cdafbf",
   "metadata": {},
   "outputs": [
    {
     "data": {
      "text/plain": [
       "Ttest_relResult(statistic=1.389389591956309, pvalue=0.29918163231853145)"
      ]
     },
     "execution_count": 155,
     "metadata": {},
     "output_type": "execute_result"
    }
   ],
   "source": [
    "ttest_rel(resmax[\"mask\"],resmax[\"blur\"])"
   ]
  },
  {
   "cell_type": "markdown",
   "id": "2aba6199",
   "metadata": {},
   "source": [
    "----------------\n",
    "## aug별로"
   ]
  },
  {
   "cell_type": "markdown",
   "id": "0663d388",
   "metadata": {},
   "source": [
    "### 1. Mixup, LF"
   ]
  },
  {
   "cell_type": "code",
   "execution_count": 237,
   "id": "d058f8eb",
   "metadata": {},
   "outputs": [
    {
     "data": {
      "text/html": [
       "<div>\n",
       "<style scoped>\n",
       "    .dataframe tbody tr th:only-of-type {\n",
       "        vertical-align: middle;\n",
       "    }\n",
       "\n",
       "    .dataframe tbody tr th {\n",
       "        vertical-align: top;\n",
       "    }\n",
       "\n",
       "    .dataframe thead th {\n",
       "        text-align: right;\n",
       "    }\n",
       "</style>\n",
       "<table border=\"1\" class=\"dataframe\">\n",
       "  <thead>\n",
       "    <tr style=\"text-align: right;\">\n",
       "      <th></th>\n",
       "      <th>model</th>\n",
       "      <th>aug</th>\n",
       "      <th>beta_param</th>\n",
       "      <th>lowpass</th>\n",
       "      <th>highpass</th>\n",
       "      <th>ranfilter2</th>\n",
       "      <th>mask</th>\n",
       "      <th>blur</th>\n",
       "    </tr>\n",
       "  </thead>\n",
       "  <tbody>\n",
       "    <tr>\n",
       "      <th>36</th>\n",
       "      <td>BCResMax_LA_</td>\n",
       "      <td>Mixup, LF</td>\n",
       "      <td>0.7</td>\n",
       "      <td>[[0.5, 0.5], [7, 8, 9, 10, 11, 12]]</td>\n",
       "      <td>False</td>\n",
       "      <td>False</td>\n",
       "      <td>3.69</td>\n",
       "      <td>3.24</td>\n",
       "    </tr>\n",
       "    <tr>\n",
       "      <th>37</th>\n",
       "      <td>BCResMax_LA_</td>\n",
       "      <td>Mixup, LF</td>\n",
       "      <td>0.7</td>\n",
       "      <td>[[0.5, 0.5], [7, 8, 9, 10, 11, 12]]</td>\n",
       "      <td>False</td>\n",
       "      <td>False</td>\n",
       "      <td>3.11</td>\n",
       "      <td>4.73</td>\n",
       "    </tr>\n",
       "    <tr>\n",
       "      <th>38</th>\n",
       "      <td>BCResMax_LA_</td>\n",
       "      <td>Mixup, LF</td>\n",
       "      <td>0.7</td>\n",
       "      <td>[[0.5, 0.5], [7, 8, 9, 10, 11, 12]]</td>\n",
       "      <td>False</td>\n",
       "      <td>False</td>\n",
       "      <td>2.81</td>\n",
       "      <td>3.90</td>\n",
       "    </tr>\n",
       "    <tr>\n",
       "      <th>39</th>\n",
       "      <td>DDWSseq_LA_</td>\n",
       "      <td>Mixup, LF</td>\n",
       "      <td>0.7</td>\n",
       "      <td>[[0.5, 0.5], [7, 8, 9, 10, 11, 12]]</td>\n",
       "      <td>False</td>\n",
       "      <td>False</td>\n",
       "      <td>3.72</td>\n",
       "      <td>3.90</td>\n",
       "    </tr>\n",
       "    <tr>\n",
       "      <th>40</th>\n",
       "      <td>DDWSseq_LA_</td>\n",
       "      <td>Mixup, LF</td>\n",
       "      <td>0.7</td>\n",
       "      <td>[[0.5, 0.5], [7, 8, 9, 10, 11, 12]]</td>\n",
       "      <td>False</td>\n",
       "      <td>False</td>\n",
       "      <td>3.11</td>\n",
       "      <td>4.03</td>\n",
       "    </tr>\n",
       "    <tr>\n",
       "      <th>41</th>\n",
       "      <td>DDWSseq_LA_</td>\n",
       "      <td>Mixup, LF</td>\n",
       "      <td>0.7</td>\n",
       "      <td>[[0.5, 0.5], [7, 8, 9, 10, 11, 12]]</td>\n",
       "      <td>False</td>\n",
       "      <td>False</td>\n",
       "      <td>3.00</td>\n",
       "      <td>3.17</td>\n",
       "    </tr>\n",
       "    <tr>\n",
       "      <th>42</th>\n",
       "      <td>LCNN_LA_</td>\n",
       "      <td>Mixup, LF</td>\n",
       "      <td>0.7</td>\n",
       "      <td>[[0.5, 0.5], [7, 8, 9, 10, 11, 12]]</td>\n",
       "      <td>False</td>\n",
       "      <td>False</td>\n",
       "      <td>3.28</td>\n",
       "      <td>2.77</td>\n",
       "    </tr>\n",
       "    <tr>\n",
       "      <th>43</th>\n",
       "      <td>LCNN_LA_</td>\n",
       "      <td>Mixup, LF</td>\n",
       "      <td>0.7</td>\n",
       "      <td>[[0.5, 0.5], [7, 8, 9, 10, 11, 12]]</td>\n",
       "      <td>False</td>\n",
       "      <td>False</td>\n",
       "      <td>2.74</td>\n",
       "      <td>2.94</td>\n",
       "    </tr>\n",
       "    <tr>\n",
       "      <th>44</th>\n",
       "      <td>LCNN_LA_</td>\n",
       "      <td>Mixup, LF</td>\n",
       "      <td>0.7</td>\n",
       "      <td>[[0.5, 0.5], [7, 8, 9, 10, 11, 12]]</td>\n",
       "      <td>False</td>\n",
       "      <td>False</td>\n",
       "      <td>2.63</td>\n",
       "      <td>2.90</td>\n",
       "    </tr>\n",
       "    <tr>\n",
       "      <th>45</th>\n",
       "      <td>ResMax_LA_</td>\n",
       "      <td>Mixup, LF</td>\n",
       "      <td>0.7</td>\n",
       "      <td>[[0.5, 0.5], [7, 8, 9, 10, 11, 12]]</td>\n",
       "      <td>False</td>\n",
       "      <td>False</td>\n",
       "      <td>3.86</td>\n",
       "      <td>3.80</td>\n",
       "    </tr>\n",
       "    <tr>\n",
       "      <th>46</th>\n",
       "      <td>ResMax_LA_</td>\n",
       "      <td>Mixup, LF</td>\n",
       "      <td>0.7</td>\n",
       "      <td>[[0.5, 0.5], [7, 8, 9, 10, 11, 12]]</td>\n",
       "      <td>False</td>\n",
       "      <td>False</td>\n",
       "      <td>3.71</td>\n",
       "      <td>3.83</td>\n",
       "    </tr>\n",
       "    <tr>\n",
       "      <th>47</th>\n",
       "      <td>ResMax_LA_</td>\n",
       "      <td>Mixup, LF</td>\n",
       "      <td>0.7</td>\n",
       "      <td>[[0.5, 0.5], [7, 8, 9, 10, 11, 12]]</td>\n",
       "      <td>False</td>\n",
       "      <td>False</td>\n",
       "      <td>3.22</td>\n",
       "      <td>3.78</td>\n",
       "    </tr>\n",
       "  </tbody>\n",
       "</table>\n",
       "</div>"
      ],
      "text/plain": [
       "           model        aug  beta_param                              lowpass  \\\n",
       "36  BCResMax_LA_  Mixup, LF         0.7  [[0.5, 0.5], [7, 8, 9, 10, 11, 12]]   \n",
       "37  BCResMax_LA_  Mixup, LF         0.7  [[0.5, 0.5], [7, 8, 9, 10, 11, 12]]   \n",
       "38  BCResMax_LA_  Mixup, LF         0.7  [[0.5, 0.5], [7, 8, 9, 10, 11, 12]]   \n",
       "39   DDWSseq_LA_  Mixup, LF         0.7  [[0.5, 0.5], [7, 8, 9, 10, 11, 12]]   \n",
       "40   DDWSseq_LA_  Mixup, LF         0.7  [[0.5, 0.5], [7, 8, 9, 10, 11, 12]]   \n",
       "41   DDWSseq_LA_  Mixup, LF         0.7  [[0.5, 0.5], [7, 8, 9, 10, 11, 12]]   \n",
       "42      LCNN_LA_  Mixup, LF         0.7  [[0.5, 0.5], [7, 8, 9, 10, 11, 12]]   \n",
       "43      LCNN_LA_  Mixup, LF         0.7  [[0.5, 0.5], [7, 8, 9, 10, 11, 12]]   \n",
       "44      LCNN_LA_  Mixup, LF         0.7  [[0.5, 0.5], [7, 8, 9, 10, 11, 12]]   \n",
       "45    ResMax_LA_  Mixup, LF         0.7  [[0.5, 0.5], [7, 8, 9, 10, 11, 12]]   \n",
       "46    ResMax_LA_  Mixup, LF         0.7  [[0.5, 0.5], [7, 8, 9, 10, 11, 12]]   \n",
       "47    ResMax_LA_  Mixup, LF         0.7  [[0.5, 0.5], [7, 8, 9, 10, 11, 12]]   \n",
       "\n",
       "   highpass ranfilter2  mask  blur  \n",
       "36    False      False  3.69  3.24  \n",
       "37    False      False  3.11  4.73  \n",
       "38    False      False  2.81  3.90  \n",
       "39    False      False  3.72  3.90  \n",
       "40    False      False  3.11  4.03  \n",
       "41    False      False  3.00  3.17  \n",
       "42    False      False  3.28  2.77  \n",
       "43    False      False  2.74  2.94  \n",
       "44    False      False  2.63  2.90  \n",
       "45    False      False  3.86  3.80  \n",
       "46    False      False  3.71  3.83  \n",
       "47    False      False  3.22  3.78  "
      ]
     },
     "execution_count": 237,
     "metadata": {},
     "output_type": "execute_result"
    }
   ],
   "source": [
    "aug = df_add[df_add.aug==\"Mixup, LF\"][['model','aug','beta_param','lowpass','highpass','ranfilter2','mask','blur']]\n",
    "aug"
   ]
  },
  {
   "cell_type": "code",
   "execution_count": 238,
   "id": "01d8a6d2",
   "metadata": {},
   "outputs": [
    {
     "data": {
      "text/plain": [
       "Ttest_indResult(statistic=-1.6582645389432495, pvalue=0.11145568777454687)"
      ]
     },
     "execution_count": 238,
     "metadata": {},
     "output_type": "execute_result"
    }
   ],
   "source": [
    "# n이 작아서 p-value가 크게나옴\n",
    "ttest_ind(aug[\"mask\"],aug[\"blur\"],equal_var=True)"
   ]
  },
  {
   "cell_type": "code",
   "execution_count": 239,
   "id": "64d66bb2",
   "metadata": {},
   "outputs": [
    {
     "data": {
      "text/plain": [
       "Ttest_relResult(statistic=-1.9156255154962996, pvalue=0.08175722428410881)"
      ]
     },
     "execution_count": 239,
     "metadata": {},
     "output_type": "execute_result"
    }
   ],
   "source": [
    "ttest_rel(aug[\"mask\"],aug[\"blur\"])"
   ]
  },
  {
   "cell_type": "markdown",
   "id": "cbb90496",
   "metadata": {},
   "source": [
    "### 2. Mixup, HF"
   ]
  },
  {
   "cell_type": "code",
   "execution_count": 240,
   "id": "dd81fce7",
   "metadata": {},
   "outputs": [
    {
     "data": {
      "text/html": [
       "<div>\n",
       "<style scoped>\n",
       "    .dataframe tbody tr th:only-of-type {\n",
       "        vertical-align: middle;\n",
       "    }\n",
       "\n",
       "    .dataframe tbody tr th {\n",
       "        vertical-align: top;\n",
       "    }\n",
       "\n",
       "    .dataframe thead th {\n",
       "        text-align: right;\n",
       "    }\n",
       "</style>\n",
       "<table border=\"1\" class=\"dataframe\">\n",
       "  <thead>\n",
       "    <tr style=\"text-align: right;\">\n",
       "      <th></th>\n",
       "      <th>model</th>\n",
       "      <th>aug</th>\n",
       "      <th>beta_param</th>\n",
       "      <th>lowpass</th>\n",
       "      <th>highpass</th>\n",
       "      <th>ranfilter2</th>\n",
       "      <th>mask</th>\n",
       "      <th>blur</th>\n",
       "    </tr>\n",
       "  </thead>\n",
       "  <tbody>\n",
       "    <tr>\n",
       "      <th>12</th>\n",
       "      <td>BCResMax_LA_</td>\n",
       "      <td>Mixup, HF</td>\n",
       "      <td>0.7</td>\n",
       "      <td>False</td>\n",
       "      <td>[[0.5, 0.5], [80, 81, 82, 83, 84, 85, 86, 87]]</td>\n",
       "      <td>False</td>\n",
       "      <td>3.29</td>\n",
       "      <td>3.00</td>\n",
       "    </tr>\n",
       "    <tr>\n",
       "      <th>13</th>\n",
       "      <td>BCResMax_LA_</td>\n",
       "      <td>Mixup, HF</td>\n",
       "      <td>0.7</td>\n",
       "      <td>False</td>\n",
       "      <td>[[0.5, 0.5], [80, 81, 82, 83, 84, 85, 86, 87]]</td>\n",
       "      <td>False</td>\n",
       "      <td>2.53</td>\n",
       "      <td>3.29</td>\n",
       "    </tr>\n",
       "    <tr>\n",
       "      <th>14</th>\n",
       "      <td>BCResMax_LA_</td>\n",
       "      <td>Mixup, HF</td>\n",
       "      <td>0.7</td>\n",
       "      <td>False</td>\n",
       "      <td>[[0.5, 0.5], [80, 81, 82, 83, 84, 85, 86, 87]]</td>\n",
       "      <td>False</td>\n",
       "      <td>2.36</td>\n",
       "      <td>2.60</td>\n",
       "    </tr>\n",
       "    <tr>\n",
       "      <th>15</th>\n",
       "      <td>DDWSseq_LA_</td>\n",
       "      <td>Mixup, HF</td>\n",
       "      <td>0.7</td>\n",
       "      <td>False</td>\n",
       "      <td>[[0.5, 0.5], [80, 81, 82, 83, 84, 85, 86, 87]]</td>\n",
       "      <td>False</td>\n",
       "      <td>3.03</td>\n",
       "      <td>3.09</td>\n",
       "    </tr>\n",
       "    <tr>\n",
       "      <th>16</th>\n",
       "      <td>DDWSseq_LA_</td>\n",
       "      <td>Mixup, HF</td>\n",
       "      <td>0.7</td>\n",
       "      <td>False</td>\n",
       "      <td>[[0.5, 0.5], [80, 81, 82, 83, 84, 85, 86, 87]]</td>\n",
       "      <td>False</td>\n",
       "      <td>2.56</td>\n",
       "      <td>2.85</td>\n",
       "    </tr>\n",
       "    <tr>\n",
       "      <th>17</th>\n",
       "      <td>DDWSseq_LA_</td>\n",
       "      <td>Mixup, HF</td>\n",
       "      <td>0.7</td>\n",
       "      <td>False</td>\n",
       "      <td>[[0.5, 0.5], [80, 81, 82, 83, 84, 85, 86, 87]]</td>\n",
       "      <td>False</td>\n",
       "      <td>2.40</td>\n",
       "      <td>2.62</td>\n",
       "    </tr>\n",
       "    <tr>\n",
       "      <th>18</th>\n",
       "      <td>LCNN_LA_</td>\n",
       "      <td>Mixup, HF</td>\n",
       "      <td>0.7</td>\n",
       "      <td>False</td>\n",
       "      <td>[[0.5, 0.5], [80, 81, 82, 83, 84, 85, 86, 87]]</td>\n",
       "      <td>False</td>\n",
       "      <td>2.25</td>\n",
       "      <td>1.77</td>\n",
       "    </tr>\n",
       "    <tr>\n",
       "      <th>19</th>\n",
       "      <td>LCNN_LA_</td>\n",
       "      <td>Mixup, HF</td>\n",
       "      <td>0.7</td>\n",
       "      <td>False</td>\n",
       "      <td>[[0.5, 0.5], [80, 81, 82, 83, 84, 85, 86, 87]]</td>\n",
       "      <td>False</td>\n",
       "      <td>1.99</td>\n",
       "      <td>1.79</td>\n",
       "    </tr>\n",
       "    <tr>\n",
       "      <th>20</th>\n",
       "      <td>LCNN_LA_</td>\n",
       "      <td>Mixup, HF</td>\n",
       "      <td>0.7</td>\n",
       "      <td>False</td>\n",
       "      <td>[[0.5, 0.5], [80, 81, 82, 83, 84, 85, 86, 87]]</td>\n",
       "      <td>False</td>\n",
       "      <td>1.87</td>\n",
       "      <td>1.92</td>\n",
       "    </tr>\n",
       "    <tr>\n",
       "      <th>21</th>\n",
       "      <td>ResMax_LA_</td>\n",
       "      <td>Mixup, HF</td>\n",
       "      <td>0.7</td>\n",
       "      <td>False</td>\n",
       "      <td>[[0.5, 0.5], [80, 81, 82, 83, 84, 85, 86, 87]]</td>\n",
       "      <td>False</td>\n",
       "      <td>2.15</td>\n",
       "      <td>2.16</td>\n",
       "    </tr>\n",
       "    <tr>\n",
       "      <th>22</th>\n",
       "      <td>ResMax_LA_</td>\n",
       "      <td>Mixup, HF</td>\n",
       "      <td>0.7</td>\n",
       "      <td>False</td>\n",
       "      <td>[[0.5, 0.5], [80, 81, 82, 83, 84, 85, 86, 87]]</td>\n",
       "      <td>False</td>\n",
       "      <td>2.15</td>\n",
       "      <td>2.38</td>\n",
       "    </tr>\n",
       "    <tr>\n",
       "      <th>23</th>\n",
       "      <td>ResMax_LA_</td>\n",
       "      <td>Mixup, HF</td>\n",
       "      <td>0.7</td>\n",
       "      <td>False</td>\n",
       "      <td>[[0.5, 0.5], [80, 81, 82, 83, 84, 85, 86, 87]]</td>\n",
       "      <td>False</td>\n",
       "      <td>1.94</td>\n",
       "      <td>2.65</td>\n",
       "    </tr>\n",
       "  </tbody>\n",
       "</table>\n",
       "</div>"
      ],
      "text/plain": [
       "           model        aug  beta_param lowpass  \\\n",
       "12  BCResMax_LA_  Mixup, HF         0.7   False   \n",
       "13  BCResMax_LA_  Mixup, HF         0.7   False   \n",
       "14  BCResMax_LA_  Mixup, HF         0.7   False   \n",
       "15   DDWSseq_LA_  Mixup, HF         0.7   False   \n",
       "16   DDWSseq_LA_  Mixup, HF         0.7   False   \n",
       "17   DDWSseq_LA_  Mixup, HF         0.7   False   \n",
       "18      LCNN_LA_  Mixup, HF         0.7   False   \n",
       "19      LCNN_LA_  Mixup, HF         0.7   False   \n",
       "20      LCNN_LA_  Mixup, HF         0.7   False   \n",
       "21    ResMax_LA_  Mixup, HF         0.7   False   \n",
       "22    ResMax_LA_  Mixup, HF         0.7   False   \n",
       "23    ResMax_LA_  Mixup, HF         0.7   False   \n",
       "\n",
       "                                          highpass ranfilter2  mask  blur  \n",
       "12  [[0.5, 0.5], [80, 81, 82, 83, 84, 85, 86, 87]]      False  3.29  3.00  \n",
       "13  [[0.5, 0.5], [80, 81, 82, 83, 84, 85, 86, 87]]      False  2.53  3.29  \n",
       "14  [[0.5, 0.5], [80, 81, 82, 83, 84, 85, 86, 87]]      False  2.36  2.60  \n",
       "15  [[0.5, 0.5], [80, 81, 82, 83, 84, 85, 86, 87]]      False  3.03  3.09  \n",
       "16  [[0.5, 0.5], [80, 81, 82, 83, 84, 85, 86, 87]]      False  2.56  2.85  \n",
       "17  [[0.5, 0.5], [80, 81, 82, 83, 84, 85, 86, 87]]      False  2.40  2.62  \n",
       "18  [[0.5, 0.5], [80, 81, 82, 83, 84, 85, 86, 87]]      False  2.25  1.77  \n",
       "19  [[0.5, 0.5], [80, 81, 82, 83, 84, 85, 86, 87]]      False  1.99  1.79  \n",
       "20  [[0.5, 0.5], [80, 81, 82, 83, 84, 85, 86, 87]]      False  1.87  1.92  \n",
       "21  [[0.5, 0.5], [80, 81, 82, 83, 84, 85, 86, 87]]      False  2.15  2.16  \n",
       "22  [[0.5, 0.5], [80, 81, 82, 83, 84, 85, 86, 87]]      False  2.15  2.38  \n",
       "23  [[0.5, 0.5], [80, 81, 82, 83, 84, 85, 86, 87]]      False  1.94  2.65  "
      ]
     },
     "execution_count": 240,
     "metadata": {},
     "output_type": "execute_result"
    }
   ],
   "source": [
    "aug = df_add[df_add.aug==\"Mixup, HF\"][['model','aug','beta_param','lowpass','highpass','ranfilter2','mask','blur']]\n",
    "aug"
   ]
  },
  {
   "cell_type": "code",
   "execution_count": 241,
   "id": "df7bd17b",
   "metadata": {},
   "outputs": [
    {
     "data": {
      "text/plain": [
       "Ttest_indResult(statistic=-0.6900328881040553, pvalue=0.49738883854611793)"
      ]
     },
     "execution_count": 241,
     "metadata": {},
     "output_type": "execute_result"
    }
   ],
   "source": [
    "# n이 작아서 p-value가 크게나옴\n",
    "ttest_ind(aug[\"mask\"],aug[\"blur\"],equal_var=True)"
   ]
  },
  {
   "cell_type": "code",
   "execution_count": 242,
   "id": "1c03132e",
   "metadata": {},
   "outputs": [
    {
     "data": {
      "text/plain": [
       "Ttest_relResult(statistic=-1.262588888198502, pvalue=0.2328467972276047)"
      ]
     },
     "execution_count": 242,
     "metadata": {},
     "output_type": "execute_result"
    }
   ],
   "source": [
    "ttest_rel(aug[\"mask\"],aug[\"blur\"])"
   ]
  },
  {
   "cell_type": "markdown",
   "id": "0509938f",
   "metadata": {},
   "source": [
    "### 3. Mixup, RF"
   ]
  },
  {
   "cell_type": "code",
   "execution_count": 243,
   "id": "19130007",
   "metadata": {},
   "outputs": [
    {
     "data": {
      "text/html": [
       "<div>\n",
       "<style scoped>\n",
       "    .dataframe tbody tr th:only-of-type {\n",
       "        vertical-align: middle;\n",
       "    }\n",
       "\n",
       "    .dataframe tbody tr th {\n",
       "        vertical-align: top;\n",
       "    }\n",
       "\n",
       "    .dataframe thead th {\n",
       "        text-align: right;\n",
       "    }\n",
       "</style>\n",
       "<table border=\"1\" class=\"dataframe\">\n",
       "  <thead>\n",
       "    <tr style=\"text-align: right;\">\n",
       "      <th></th>\n",
       "      <th>model</th>\n",
       "      <th>aug</th>\n",
       "      <th>beta_param</th>\n",
       "      <th>lowpass</th>\n",
       "      <th>highpass</th>\n",
       "      <th>ranfilter2</th>\n",
       "      <th>mask</th>\n",
       "      <th>blur</th>\n",
       "    </tr>\n",
       "  </thead>\n",
       "  <tbody>\n",
       "    <tr>\n",
       "      <th>0</th>\n",
       "      <td>BCResMax_LA_</td>\n",
       "      <td>Mixup, RF</td>\n",
       "      <td>0.7</td>\n",
       "      <td>False</td>\n",
       "      <td>False</td>\n",
       "      <td>[2, [8, 9, 10, 11, 12]]</td>\n",
       "      <td>5.84</td>\n",
       "      <td>4.54</td>\n",
       "    </tr>\n",
       "    <tr>\n",
       "      <th>1</th>\n",
       "      <td>BCResMax_LA_</td>\n",
       "      <td>Mixup, RF</td>\n",
       "      <td>0.7</td>\n",
       "      <td>False</td>\n",
       "      <td>False</td>\n",
       "      <td>[2, [8, 9, 10, 11, 12]]</td>\n",
       "      <td>5.15</td>\n",
       "      <td>5.17</td>\n",
       "    </tr>\n",
       "    <tr>\n",
       "      <th>2</th>\n",
       "      <td>BCResMax_LA_</td>\n",
       "      <td>Mixup, RF</td>\n",
       "      <td>0.7</td>\n",
       "      <td>False</td>\n",
       "      <td>False</td>\n",
       "      <td>[2, [8, 9, 10, 11, 12]]</td>\n",
       "      <td>4.53</td>\n",
       "      <td>5.36</td>\n",
       "    </tr>\n",
       "    <tr>\n",
       "      <th>3</th>\n",
       "      <td>DDWSseq_LA_</td>\n",
       "      <td>Mixup, RF</td>\n",
       "      <td>0.7</td>\n",
       "      <td>False</td>\n",
       "      <td>False</td>\n",
       "      <td>[2, [8, 9, 10, 11, 12]]</td>\n",
       "      <td>7.57</td>\n",
       "      <td>4.29</td>\n",
       "    </tr>\n",
       "    <tr>\n",
       "      <th>4</th>\n",
       "      <td>DDWSseq_LA_</td>\n",
       "      <td>Mixup, RF</td>\n",
       "      <td>0.7</td>\n",
       "      <td>False</td>\n",
       "      <td>False</td>\n",
       "      <td>[2, [8, 9, 10, 11, 12]]</td>\n",
       "      <td>6.55</td>\n",
       "      <td>4.17</td>\n",
       "    </tr>\n",
       "    <tr>\n",
       "      <th>5</th>\n",
       "      <td>DDWSseq_LA_</td>\n",
       "      <td>Mixup, RF</td>\n",
       "      <td>0.7</td>\n",
       "      <td>False</td>\n",
       "      <td>False</td>\n",
       "      <td>[2, [8, 9, 10, 11, 12]]</td>\n",
       "      <td>5.82</td>\n",
       "      <td>3.46</td>\n",
       "    </tr>\n",
       "    <tr>\n",
       "      <th>6</th>\n",
       "      <td>LCNN_LA_</td>\n",
       "      <td>Mixup, RF</td>\n",
       "      <td>0.7</td>\n",
       "      <td>False</td>\n",
       "      <td>False</td>\n",
       "      <td>[2, [8, 9, 10, 11, 12]]</td>\n",
       "      <td>3.76</td>\n",
       "      <td>3.34</td>\n",
       "    </tr>\n",
       "    <tr>\n",
       "      <th>7</th>\n",
       "      <td>LCNN_LA_</td>\n",
       "      <td>Mixup, RF</td>\n",
       "      <td>0.7</td>\n",
       "      <td>False</td>\n",
       "      <td>False</td>\n",
       "      <td>[2, [8, 9, 10, 11, 12]]</td>\n",
       "      <td>3.55</td>\n",
       "      <td>3.86</td>\n",
       "    </tr>\n",
       "    <tr>\n",
       "      <th>8</th>\n",
       "      <td>LCNN_LA_</td>\n",
       "      <td>Mixup, RF</td>\n",
       "      <td>0.7</td>\n",
       "      <td>False</td>\n",
       "      <td>False</td>\n",
       "      <td>[2, [8, 9, 10, 11, 12]]</td>\n",
       "      <td>3.25</td>\n",
       "      <td>4.17</td>\n",
       "    </tr>\n",
       "    <tr>\n",
       "      <th>9</th>\n",
       "      <td>ResMax_LA_</td>\n",
       "      <td>Mixup, RF</td>\n",
       "      <td>0.7</td>\n",
       "      <td>False</td>\n",
       "      <td>False</td>\n",
       "      <td>[2, [8, 9, 10, 11, 12]]</td>\n",
       "      <td>5.25</td>\n",
       "      <td>3.50</td>\n",
       "    </tr>\n",
       "    <tr>\n",
       "      <th>10</th>\n",
       "      <td>ResMax_LA_</td>\n",
       "      <td>Mixup, RF</td>\n",
       "      <td>0.7</td>\n",
       "      <td>False</td>\n",
       "      <td>False</td>\n",
       "      <td>[2, [8, 9, 10, 11, 12]]</td>\n",
       "      <td>4.53</td>\n",
       "      <td>4.31</td>\n",
       "    </tr>\n",
       "    <tr>\n",
       "      <th>11</th>\n",
       "      <td>ResMax_LA_</td>\n",
       "      <td>Mixup, RF</td>\n",
       "      <td>0.7</td>\n",
       "      <td>False</td>\n",
       "      <td>False</td>\n",
       "      <td>[2, [8, 9, 10, 11, 12]]</td>\n",
       "      <td>3.92</td>\n",
       "      <td>4.47</td>\n",
       "    </tr>\n",
       "  </tbody>\n",
       "</table>\n",
       "</div>"
      ],
      "text/plain": [
       "           model        aug  beta_param lowpass highpass  \\\n",
       "0   BCResMax_LA_  Mixup, RF         0.7   False    False   \n",
       "1   BCResMax_LA_  Mixup, RF         0.7   False    False   \n",
       "2   BCResMax_LA_  Mixup, RF         0.7   False    False   \n",
       "3    DDWSseq_LA_  Mixup, RF         0.7   False    False   \n",
       "4    DDWSseq_LA_  Mixup, RF         0.7   False    False   \n",
       "5    DDWSseq_LA_  Mixup, RF         0.7   False    False   \n",
       "6       LCNN_LA_  Mixup, RF         0.7   False    False   \n",
       "7       LCNN_LA_  Mixup, RF         0.7   False    False   \n",
       "8       LCNN_LA_  Mixup, RF         0.7   False    False   \n",
       "9     ResMax_LA_  Mixup, RF         0.7   False    False   \n",
       "10    ResMax_LA_  Mixup, RF         0.7   False    False   \n",
       "11    ResMax_LA_  Mixup, RF         0.7   False    False   \n",
       "\n",
       "                 ranfilter2  mask  blur  \n",
       "0   [2, [8, 9, 10, 11, 12]]  5.84  4.54  \n",
       "1   [2, [8, 9, 10, 11, 12]]  5.15  5.17  \n",
       "2   [2, [8, 9, 10, 11, 12]]  4.53  5.36  \n",
       "3   [2, [8, 9, 10, 11, 12]]  7.57  4.29  \n",
       "4   [2, [8, 9, 10, 11, 12]]  6.55  4.17  \n",
       "5   [2, [8, 9, 10, 11, 12]]  5.82  3.46  \n",
       "6   [2, [8, 9, 10, 11, 12]]  3.76  3.34  \n",
       "7   [2, [8, 9, 10, 11, 12]]  3.55  3.86  \n",
       "8   [2, [8, 9, 10, 11, 12]]  3.25  4.17  \n",
       "9   [2, [8, 9, 10, 11, 12]]  5.25  3.50  \n",
       "10  [2, [8, 9, 10, 11, 12]]  4.53  4.31  \n",
       "11  [2, [8, 9, 10, 11, 12]]  3.92  4.47  "
      ]
     },
     "execution_count": 243,
     "metadata": {},
     "output_type": "execute_result"
    }
   ],
   "source": [
    "aug = df_add[df_add.aug==\"Mixup, RF\"][['model','aug','beta_param','lowpass','highpass','ranfilter2','mask','blur']]\n",
    "aug"
   ]
  },
  {
   "cell_type": "code",
   "execution_count": 244,
   "id": "44a90c9f",
   "metadata": {},
   "outputs": [
    {
     "data": {
      "text/plain": [
       "Ttest_indResult(statistic=1.8064477974705673, pvalue=0.08454805923824724)"
      ]
     },
     "execution_count": 244,
     "metadata": {},
     "output_type": "execute_result"
    }
   ],
   "source": [
    "# n이 작아서 p-value가 크게나옴\n",
    "ttest_ind(aug[\"mask\"],aug[\"blur\"],equal_var=True)"
   ]
  },
  {
   "cell_type": "code",
   "execution_count": 245,
   "id": "14172675",
   "metadata": {},
   "outputs": [
    {
     "data": {
      "text/plain": [
       "Ttest_relResult(statistic=1.8520391018557942, pvalue=0.09102513770390261)"
      ]
     },
     "execution_count": 245,
     "metadata": {},
     "output_type": "execute_result"
    }
   ],
   "source": [
    "ttest_rel(aug[\"mask\"],aug[\"blur\"])"
   ]
  },
  {
   "cell_type": "markdown",
   "id": "7cc1c8a0",
   "metadata": {},
   "source": [
    "### 4. Mixup, LF, HF, 차이없음, 차이있음*"
   ]
  },
  {
   "cell_type": "code",
   "execution_count": 246,
   "id": "94e1ed2e",
   "metadata": {},
   "outputs": [
    {
     "data": {
      "text/html": [
       "<div>\n",
       "<style scoped>\n",
       "    .dataframe tbody tr th:only-of-type {\n",
       "        vertical-align: middle;\n",
       "    }\n",
       "\n",
       "    .dataframe tbody tr th {\n",
       "        vertical-align: top;\n",
       "    }\n",
       "\n",
       "    .dataframe thead th {\n",
       "        text-align: right;\n",
       "    }\n",
       "</style>\n",
       "<table border=\"1\" class=\"dataframe\">\n",
       "  <thead>\n",
       "    <tr style=\"text-align: right;\">\n",
       "      <th></th>\n",
       "      <th>model</th>\n",
       "      <th>aug</th>\n",
       "      <th>beta_param</th>\n",
       "      <th>lowpass</th>\n",
       "      <th>highpass</th>\n",
       "      <th>ranfilter2</th>\n",
       "      <th>mask</th>\n",
       "      <th>blur</th>\n",
       "    </tr>\n",
       "  </thead>\n",
       "  <tbody>\n",
       "    <tr>\n",
       "      <th>60</th>\n",
       "      <td>BCResMax_LA_</td>\n",
       "      <td>Mixup, LF, HF</td>\n",
       "      <td>0.7</td>\n",
       "      <td>[[0.5, 0.5], [7, 8, 9, 10, 11, 12]]</td>\n",
       "      <td>[[0.5, 0.5], [80, 81, 82, 83, 84, 85, 86, 87]]</td>\n",
       "      <td>False</td>\n",
       "      <td>2.89</td>\n",
       "      <td>3.20</td>\n",
       "    </tr>\n",
       "    <tr>\n",
       "      <th>61</th>\n",
       "      <td>BCResMax_LA_</td>\n",
       "      <td>Mixup, LF, HF</td>\n",
       "      <td>0.7</td>\n",
       "      <td>[[0.5, 0.5], [7, 8, 9, 10, 11, 12]]</td>\n",
       "      <td>[[0.5, 0.5], [80, 81, 82, 83, 84, 85, 86, 87]]</td>\n",
       "      <td>False</td>\n",
       "      <td>2.41</td>\n",
       "      <td>2.76</td>\n",
       "    </tr>\n",
       "    <tr>\n",
       "      <th>62</th>\n",
       "      <td>BCResMax_LA_</td>\n",
       "      <td>Mixup, LF, HF</td>\n",
       "      <td>0.7</td>\n",
       "      <td>[[0.5, 0.5], [7, 8, 9, 10, 11, 12]]</td>\n",
       "      <td>[[0.5, 0.5], [80, 81, 82, 83, 84, 85, 86, 87]]</td>\n",
       "      <td>False</td>\n",
       "      <td>2.10</td>\n",
       "      <td>2.78</td>\n",
       "    </tr>\n",
       "    <tr>\n",
       "      <th>63</th>\n",
       "      <td>DDWSseq_LA_</td>\n",
       "      <td>Mixup, LF, HF</td>\n",
       "      <td>0.7</td>\n",
       "      <td>[[0.5, 0.5], [7, 8, 9, 10, 11, 12]]</td>\n",
       "      <td>[[0.5, 0.5], [80, 81, 82, 83, 84, 85, 86, 87]]</td>\n",
       "      <td>False</td>\n",
       "      <td>2.62</td>\n",
       "      <td>3.14</td>\n",
       "    </tr>\n",
       "    <tr>\n",
       "      <th>64</th>\n",
       "      <td>DDWSseq_LA_</td>\n",
       "      <td>Mixup, LF, HF</td>\n",
       "      <td>0.7</td>\n",
       "      <td>[[0.5, 0.5], [7, 8, 9, 10, 11, 12]]</td>\n",
       "      <td>[[0.5, 0.5], [80, 81, 82, 83, 84, 85, 86, 87]]</td>\n",
       "      <td>False</td>\n",
       "      <td>2.57</td>\n",
       "      <td>2.62</td>\n",
       "    </tr>\n",
       "    <tr>\n",
       "      <th>65</th>\n",
       "      <td>DDWSseq_LA_</td>\n",
       "      <td>Mixup, LF, HF</td>\n",
       "      <td>0.7</td>\n",
       "      <td>[[0.5, 0.5], [7, 8, 9, 10, 11, 12]]</td>\n",
       "      <td>[[0.5, 0.5], [80, 81, 82, 83, 84, 85, 86, 87]]</td>\n",
       "      <td>False</td>\n",
       "      <td>2.15</td>\n",
       "      <td>2.44</td>\n",
       "    </tr>\n",
       "    <tr>\n",
       "      <th>66</th>\n",
       "      <td>LCNN_LA_</td>\n",
       "      <td>Mixup, LF, HF</td>\n",
       "      <td>0.7</td>\n",
       "      <td>[[0.5, 0.5], [7, 8, 9, 10, 11, 12]]</td>\n",
       "      <td>[[0.5, 0.5], [80, 81, 82, 83, 84, 85, 86, 87]]</td>\n",
       "      <td>False</td>\n",
       "      <td>2.12</td>\n",
       "      <td>1.98</td>\n",
       "    </tr>\n",
       "    <tr>\n",
       "      <th>67</th>\n",
       "      <td>LCNN_LA_</td>\n",
       "      <td>Mixup, LF, HF</td>\n",
       "      <td>0.7</td>\n",
       "      <td>[[0.5, 0.5], [7, 8, 9, 10, 11, 12]]</td>\n",
       "      <td>[[0.5, 0.5], [80, 81, 82, 83, 84, 85, 86, 87]]</td>\n",
       "      <td>False</td>\n",
       "      <td>1.94</td>\n",
       "      <td>1.72</td>\n",
       "    </tr>\n",
       "    <tr>\n",
       "      <th>68</th>\n",
       "      <td>LCNN_LA_</td>\n",
       "      <td>Mixup, LF, HF</td>\n",
       "      <td>0.7</td>\n",
       "      <td>[[0.5, 0.5], [7, 8, 9, 10, 11, 12]]</td>\n",
       "      <td>[[0.5, 0.5], [80, 81, 82, 83, 84, 85, 86, 87]]</td>\n",
       "      <td>False</td>\n",
       "      <td>1.72</td>\n",
       "      <td>1.93</td>\n",
       "    </tr>\n",
       "    <tr>\n",
       "      <th>69</th>\n",
       "      <td>ResMax_LA_</td>\n",
       "      <td>Mixup, LF, HF</td>\n",
       "      <td>0.7</td>\n",
       "      <td>[[0.5, 0.5], [7, 8, 9, 10, 11, 12]]</td>\n",
       "      <td>[[0.5, 0.5], [80, 81, 82, 83, 84, 85, 86, 87]]</td>\n",
       "      <td>False</td>\n",
       "      <td>2.55</td>\n",
       "      <td>2.33</td>\n",
       "    </tr>\n",
       "    <tr>\n",
       "      <th>70</th>\n",
       "      <td>ResMax_LA_</td>\n",
       "      <td>Mixup, LF, HF</td>\n",
       "      <td>0.7</td>\n",
       "      <td>[[0.5, 0.5], [7, 8, 9, 10, 11, 12]]</td>\n",
       "      <td>[[0.5, 0.5], [80, 81, 82, 83, 84, 85, 86, 87]]</td>\n",
       "      <td>False</td>\n",
       "      <td>2.05</td>\n",
       "      <td>2.07</td>\n",
       "    </tr>\n",
       "    <tr>\n",
       "      <th>71</th>\n",
       "      <td>ResMax_LA_</td>\n",
       "      <td>Mixup, LF, HF</td>\n",
       "      <td>0.7</td>\n",
       "      <td>[[0.5, 0.5], [7, 8, 9, 10, 11, 12]]</td>\n",
       "      <td>[[0.5, 0.5], [80, 81, 82, 83, 84, 85, 86, 87]]</td>\n",
       "      <td>False</td>\n",
       "      <td>1.84</td>\n",
       "      <td>2.52</td>\n",
       "    </tr>\n",
       "  </tbody>\n",
       "</table>\n",
       "</div>"
      ],
      "text/plain": [
       "           model            aug  beta_param  \\\n",
       "60  BCResMax_LA_  Mixup, LF, HF         0.7   \n",
       "61  BCResMax_LA_  Mixup, LF, HF         0.7   \n",
       "62  BCResMax_LA_  Mixup, LF, HF         0.7   \n",
       "63   DDWSseq_LA_  Mixup, LF, HF         0.7   \n",
       "64   DDWSseq_LA_  Mixup, LF, HF         0.7   \n",
       "65   DDWSseq_LA_  Mixup, LF, HF         0.7   \n",
       "66      LCNN_LA_  Mixup, LF, HF         0.7   \n",
       "67      LCNN_LA_  Mixup, LF, HF         0.7   \n",
       "68      LCNN_LA_  Mixup, LF, HF         0.7   \n",
       "69    ResMax_LA_  Mixup, LF, HF         0.7   \n",
       "70    ResMax_LA_  Mixup, LF, HF         0.7   \n",
       "71    ResMax_LA_  Mixup, LF, HF         0.7   \n",
       "\n",
       "                                lowpass  \\\n",
       "60  [[0.5, 0.5], [7, 8, 9, 10, 11, 12]]   \n",
       "61  [[0.5, 0.5], [7, 8, 9, 10, 11, 12]]   \n",
       "62  [[0.5, 0.5], [7, 8, 9, 10, 11, 12]]   \n",
       "63  [[0.5, 0.5], [7, 8, 9, 10, 11, 12]]   \n",
       "64  [[0.5, 0.5], [7, 8, 9, 10, 11, 12]]   \n",
       "65  [[0.5, 0.5], [7, 8, 9, 10, 11, 12]]   \n",
       "66  [[0.5, 0.5], [7, 8, 9, 10, 11, 12]]   \n",
       "67  [[0.5, 0.5], [7, 8, 9, 10, 11, 12]]   \n",
       "68  [[0.5, 0.5], [7, 8, 9, 10, 11, 12]]   \n",
       "69  [[0.5, 0.5], [7, 8, 9, 10, 11, 12]]   \n",
       "70  [[0.5, 0.5], [7, 8, 9, 10, 11, 12]]   \n",
       "71  [[0.5, 0.5], [7, 8, 9, 10, 11, 12]]   \n",
       "\n",
       "                                          highpass ranfilter2  mask  blur  \n",
       "60  [[0.5, 0.5], [80, 81, 82, 83, 84, 85, 86, 87]]      False  2.89  3.20  \n",
       "61  [[0.5, 0.5], [80, 81, 82, 83, 84, 85, 86, 87]]      False  2.41  2.76  \n",
       "62  [[0.5, 0.5], [80, 81, 82, 83, 84, 85, 86, 87]]      False  2.10  2.78  \n",
       "63  [[0.5, 0.5], [80, 81, 82, 83, 84, 85, 86, 87]]      False  2.62  3.14  \n",
       "64  [[0.5, 0.5], [80, 81, 82, 83, 84, 85, 86, 87]]      False  2.57  2.62  \n",
       "65  [[0.5, 0.5], [80, 81, 82, 83, 84, 85, 86, 87]]      False  2.15  2.44  \n",
       "66  [[0.5, 0.5], [80, 81, 82, 83, 84, 85, 86, 87]]      False  2.12  1.98  \n",
       "67  [[0.5, 0.5], [80, 81, 82, 83, 84, 85, 86, 87]]      False  1.94  1.72  \n",
       "68  [[0.5, 0.5], [80, 81, 82, 83, 84, 85, 86, 87]]      False  1.72  1.93  \n",
       "69  [[0.5, 0.5], [80, 81, 82, 83, 84, 85, 86, 87]]      False  2.55  2.33  \n",
       "70  [[0.5, 0.5], [80, 81, 82, 83, 84, 85, 86, 87]]      False  2.05  2.07  \n",
       "71  [[0.5, 0.5], [80, 81, 82, 83, 84, 85, 86, 87]]      False  1.84  2.52  "
      ]
     },
     "execution_count": 246,
     "metadata": {},
     "output_type": "execute_result"
    }
   ],
   "source": [
    "aug = df_add[df_add.aug==\"Mixup, LF, HF\"][['model','aug','beta_param','lowpass','highpass','ranfilter2','mask','blur']]\n",
    "aug"
   ]
  },
  {
   "cell_type": "code",
   "execution_count": 247,
   "id": "d28f71d9",
   "metadata": {},
   "outputs": [
    {
     "data": {
      "text/plain": [
       "Ttest_indResult(statistic=-1.233122443326205, pvalue=0.2305442272009612)"
      ]
     },
     "execution_count": 247,
     "metadata": {},
     "output_type": "execute_result"
    }
   ],
   "source": [
    "# n이 작아서 p-value가 크게나옴\n",
    "ttest_ind(aug[\"mask\"],aug[\"blur\"],equal_var=True)"
   ]
  },
  {
   "cell_type": "code",
   "execution_count": 248,
   "id": "b457ca5d",
   "metadata": {},
   "outputs": [
    {
     "data": {
      "text/plain": [
       "Ttest_relResult(statistic=-2.280828057413236, pvalue=0.04347286237789531)"
      ]
     },
     "execution_count": 248,
     "metadata": {},
     "output_type": "execute_result"
    }
   ],
   "source": [
    "ttest_rel(aug[\"mask\"],aug[\"blur\"])"
   ]
  },
  {
   "cell_type": "markdown",
   "id": "cfba3b62",
   "metadata": {},
   "source": [
    "### 5. Mixup, LF, RF"
   ]
  },
  {
   "cell_type": "code",
   "execution_count": 249,
   "id": "b146e61e",
   "metadata": {},
   "outputs": [
    {
     "data": {
      "text/html": [
       "<div>\n",
       "<style scoped>\n",
       "    .dataframe tbody tr th:only-of-type {\n",
       "        vertical-align: middle;\n",
       "    }\n",
       "\n",
       "    .dataframe tbody tr th {\n",
       "        vertical-align: top;\n",
       "    }\n",
       "\n",
       "    .dataframe thead th {\n",
       "        text-align: right;\n",
       "    }\n",
       "</style>\n",
       "<table border=\"1\" class=\"dataframe\">\n",
       "  <thead>\n",
       "    <tr style=\"text-align: right;\">\n",
       "      <th></th>\n",
       "      <th>model</th>\n",
       "      <th>aug</th>\n",
       "      <th>beta_param</th>\n",
       "      <th>lowpass</th>\n",
       "      <th>highpass</th>\n",
       "      <th>ranfilter2</th>\n",
       "      <th>mask</th>\n",
       "      <th>blur</th>\n",
       "    </tr>\n",
       "  </thead>\n",
       "  <tbody>\n",
       "    <tr>\n",
       "      <th>48</th>\n",
       "      <td>BCResMax_LA_</td>\n",
       "      <td>Mixup, LF, RF</td>\n",
       "      <td>0.7</td>\n",
       "      <td>[[0.5, 0.5], [7, 8, 9, 10, 11, 12]]</td>\n",
       "      <td>False</td>\n",
       "      <td>[2, [8, 9, 10, 11, 12]]</td>\n",
       "      <td>5.23</td>\n",
       "      <td>5.99</td>\n",
       "    </tr>\n",
       "    <tr>\n",
       "      <th>49</th>\n",
       "      <td>BCResMax_LA_</td>\n",
       "      <td>Mixup, LF, RF</td>\n",
       "      <td>0.7</td>\n",
       "      <td>[[0.5, 0.5], [7, 8, 9, 10, 11, 12]]</td>\n",
       "      <td>False</td>\n",
       "      <td>[2, [8, 9, 10, 11, 12]]</td>\n",
       "      <td>4.89</td>\n",
       "      <td>5.63</td>\n",
       "    </tr>\n",
       "    <tr>\n",
       "      <th>50</th>\n",
       "      <td>BCResMax_LA_</td>\n",
       "      <td>Mixup, LF, RF</td>\n",
       "      <td>0.7</td>\n",
       "      <td>[[0.5, 0.5], [7, 8, 9, 10, 11, 12]]</td>\n",
       "      <td>False</td>\n",
       "      <td>[2, [8, 9, 10, 11, 12]]</td>\n",
       "      <td>4.84</td>\n",
       "      <td>5.66</td>\n",
       "    </tr>\n",
       "    <tr>\n",
       "      <th>51</th>\n",
       "      <td>DDWSseq_LA_</td>\n",
       "      <td>Mixup, LF, RF</td>\n",
       "      <td>0.7</td>\n",
       "      <td>[[0.5, 0.5], [7, 8, 9, 10, 11, 12]]</td>\n",
       "      <td>False</td>\n",
       "      <td>[2, [8, 9, 10, 11, 12]]</td>\n",
       "      <td>4.09</td>\n",
       "      <td>5.42</td>\n",
       "    </tr>\n",
       "    <tr>\n",
       "      <th>52</th>\n",
       "      <td>DDWSseq_LA_</td>\n",
       "      <td>Mixup, LF, RF</td>\n",
       "      <td>0.7</td>\n",
       "      <td>[[0.5, 0.5], [7, 8, 9, 10, 11, 12]]</td>\n",
       "      <td>False</td>\n",
       "      <td>[2, [8, 9, 10, 11, 12]]</td>\n",
       "      <td>4.74</td>\n",
       "      <td>6.76</td>\n",
       "    </tr>\n",
       "    <tr>\n",
       "      <th>53</th>\n",
       "      <td>DDWSseq_LA_</td>\n",
       "      <td>Mixup, LF, RF</td>\n",
       "      <td>0.7</td>\n",
       "      <td>[[0.5, 0.5], [7, 8, 9, 10, 11, 12]]</td>\n",
       "      <td>False</td>\n",
       "      <td>[2, [8, 9, 10, 11, 12]]</td>\n",
       "      <td>4.57</td>\n",
       "      <td>4.00</td>\n",
       "    </tr>\n",
       "    <tr>\n",
       "      <th>54</th>\n",
       "      <td>LCNN_LA_</td>\n",
       "      <td>Mixup, LF, RF</td>\n",
       "      <td>0.7</td>\n",
       "      <td>[[0.5, 0.5], [7, 8, 9, 10, 11, 12]]</td>\n",
       "      <td>False</td>\n",
       "      <td>[2, [8, 9, 10, 11, 12]]</td>\n",
       "      <td>3.72</td>\n",
       "      <td>3.53</td>\n",
       "    </tr>\n",
       "    <tr>\n",
       "      <th>55</th>\n",
       "      <td>LCNN_LA_</td>\n",
       "      <td>Mixup, LF, RF</td>\n",
       "      <td>0.7</td>\n",
       "      <td>[[0.5, 0.5], [7, 8, 9, 10, 11, 12]]</td>\n",
       "      <td>False</td>\n",
       "      <td>[2, [8, 9, 10, 11, 12]]</td>\n",
       "      <td>3.13</td>\n",
       "      <td>4.22</td>\n",
       "    </tr>\n",
       "    <tr>\n",
       "      <th>56</th>\n",
       "      <td>LCNN_LA_</td>\n",
       "      <td>Mixup, LF, RF</td>\n",
       "      <td>0.7</td>\n",
       "      <td>[[0.5, 0.5], [7, 8, 9, 10, 11, 12]]</td>\n",
       "      <td>False</td>\n",
       "      <td>[2, [8, 9, 10, 11, 12]]</td>\n",
       "      <td>3.04</td>\n",
       "      <td>3.40</td>\n",
       "    </tr>\n",
       "    <tr>\n",
       "      <th>57</th>\n",
       "      <td>ResMax_LA_</td>\n",
       "      <td>Mixup, LF, RF</td>\n",
       "      <td>0.7</td>\n",
       "      <td>[[0.5, 0.5], [7, 8, 9, 10, 11, 12]]</td>\n",
       "      <td>False</td>\n",
       "      <td>[2, [8, 9, 10, 11, 12]]</td>\n",
       "      <td>5.72</td>\n",
       "      <td>5.00</td>\n",
       "    </tr>\n",
       "    <tr>\n",
       "      <th>58</th>\n",
       "      <td>ResMax_LA_</td>\n",
       "      <td>Mixup, LF, RF</td>\n",
       "      <td>0.7</td>\n",
       "      <td>[[0.5, 0.5], [7, 8, 9, 10, 11, 12]]</td>\n",
       "      <td>False</td>\n",
       "      <td>[2, [8, 9, 10, 11, 12]]</td>\n",
       "      <td>4.83</td>\n",
       "      <td>4.91</td>\n",
       "    </tr>\n",
       "    <tr>\n",
       "      <th>59</th>\n",
       "      <td>ResMax_LA_</td>\n",
       "      <td>Mixup, LF, RF</td>\n",
       "      <td>0.7</td>\n",
       "      <td>[[0.5, 0.5], [7, 8, 9, 10, 11, 12]]</td>\n",
       "      <td>False</td>\n",
       "      <td>[2, [8, 9, 10, 11, 12]]</td>\n",
       "      <td>4.36</td>\n",
       "      <td>4.30</td>\n",
       "    </tr>\n",
       "  </tbody>\n",
       "</table>\n",
       "</div>"
      ],
      "text/plain": [
       "           model            aug  beta_param  \\\n",
       "48  BCResMax_LA_  Mixup, LF, RF         0.7   \n",
       "49  BCResMax_LA_  Mixup, LF, RF         0.7   \n",
       "50  BCResMax_LA_  Mixup, LF, RF         0.7   \n",
       "51   DDWSseq_LA_  Mixup, LF, RF         0.7   \n",
       "52   DDWSseq_LA_  Mixup, LF, RF         0.7   \n",
       "53   DDWSseq_LA_  Mixup, LF, RF         0.7   \n",
       "54      LCNN_LA_  Mixup, LF, RF         0.7   \n",
       "55      LCNN_LA_  Mixup, LF, RF         0.7   \n",
       "56      LCNN_LA_  Mixup, LF, RF         0.7   \n",
       "57    ResMax_LA_  Mixup, LF, RF         0.7   \n",
       "58    ResMax_LA_  Mixup, LF, RF         0.7   \n",
       "59    ResMax_LA_  Mixup, LF, RF         0.7   \n",
       "\n",
       "                                lowpass highpass               ranfilter2  \\\n",
       "48  [[0.5, 0.5], [7, 8, 9, 10, 11, 12]]    False  [2, [8, 9, 10, 11, 12]]   \n",
       "49  [[0.5, 0.5], [7, 8, 9, 10, 11, 12]]    False  [2, [8, 9, 10, 11, 12]]   \n",
       "50  [[0.5, 0.5], [7, 8, 9, 10, 11, 12]]    False  [2, [8, 9, 10, 11, 12]]   \n",
       "51  [[0.5, 0.5], [7, 8, 9, 10, 11, 12]]    False  [2, [8, 9, 10, 11, 12]]   \n",
       "52  [[0.5, 0.5], [7, 8, 9, 10, 11, 12]]    False  [2, [8, 9, 10, 11, 12]]   \n",
       "53  [[0.5, 0.5], [7, 8, 9, 10, 11, 12]]    False  [2, [8, 9, 10, 11, 12]]   \n",
       "54  [[0.5, 0.5], [7, 8, 9, 10, 11, 12]]    False  [2, [8, 9, 10, 11, 12]]   \n",
       "55  [[0.5, 0.5], [7, 8, 9, 10, 11, 12]]    False  [2, [8, 9, 10, 11, 12]]   \n",
       "56  [[0.5, 0.5], [7, 8, 9, 10, 11, 12]]    False  [2, [8, 9, 10, 11, 12]]   \n",
       "57  [[0.5, 0.5], [7, 8, 9, 10, 11, 12]]    False  [2, [8, 9, 10, 11, 12]]   \n",
       "58  [[0.5, 0.5], [7, 8, 9, 10, 11, 12]]    False  [2, [8, 9, 10, 11, 12]]   \n",
       "59  [[0.5, 0.5], [7, 8, 9, 10, 11, 12]]    False  [2, [8, 9, 10, 11, 12]]   \n",
       "\n",
       "    mask  blur  \n",
       "48  5.23  5.99  \n",
       "49  4.89  5.63  \n",
       "50  4.84  5.66  \n",
       "51  4.09  5.42  \n",
       "52  4.74  6.76  \n",
       "53  4.57  4.00  \n",
       "54  3.72  3.53  \n",
       "55  3.13  4.22  \n",
       "56  3.04  3.40  \n",
       "57  5.72  5.00  \n",
       "58  4.83  4.91  \n",
       "59  4.36  4.30  "
      ]
     },
     "execution_count": 249,
     "metadata": {},
     "output_type": "execute_result"
    }
   ],
   "source": [
    "aug = df_add[df_add.aug==\"Mixup, LF, RF\"][['model','aug','beta_param','lowpass','highpass','ranfilter2','mask','blur']]\n",
    "aug"
   ]
  },
  {
   "cell_type": "code",
   "execution_count": 250,
   "id": "45d71759",
   "metadata": {},
   "outputs": [
    {
     "data": {
      "text/plain": [
       "Ttest_indResult(statistic=-1.2430761541147604, pvalue=0.22692523187247088)"
      ]
     },
     "execution_count": 250,
     "metadata": {},
     "output_type": "execute_result"
    }
   ],
   "source": [
    "# n이 작아서 p-value가 크게나옴\n",
    "ttest_ind(aug[\"mask\"],aug[\"blur\"],equal_var=True)"
   ]
  },
  {
   "cell_type": "code",
   "execution_count": 251,
   "id": "684ce73a",
   "metadata": {},
   "outputs": [
    {
     "data": {
      "text/plain": [
       "Ttest_relResult(statistic=-2.0217521151648854, pvalue=0.0682107007623206)"
      ]
     },
     "execution_count": 251,
     "metadata": {},
     "output_type": "execute_result"
    }
   ],
   "source": [
    "ttest_rel(aug[\"mask\"],aug[\"blur\"])"
   ]
  },
  {
   "cell_type": "markdown",
   "id": "68792a77",
   "metadata": {},
   "source": [
    "### 6. HF, RF"
   ]
  },
  {
   "cell_type": "code",
   "execution_count": 252,
   "id": "1d57209e",
   "metadata": {},
   "outputs": [
    {
     "data": {
      "text/html": [
       "<div>\n",
       "<style scoped>\n",
       "    .dataframe tbody tr th:only-of-type {\n",
       "        vertical-align: middle;\n",
       "    }\n",
       "\n",
       "    .dataframe tbody tr th {\n",
       "        vertical-align: top;\n",
       "    }\n",
       "\n",
       "    .dataframe thead th {\n",
       "        text-align: right;\n",
       "    }\n",
       "</style>\n",
       "<table border=\"1\" class=\"dataframe\">\n",
       "  <thead>\n",
       "    <tr style=\"text-align: right;\">\n",
       "      <th></th>\n",
       "      <th>model</th>\n",
       "      <th>aug</th>\n",
       "      <th>beta_param</th>\n",
       "      <th>lowpass</th>\n",
       "      <th>highpass</th>\n",
       "      <th>ranfilter2</th>\n",
       "      <th>mask</th>\n",
       "      <th>blur</th>\n",
       "    </tr>\n",
       "  </thead>\n",
       "  <tbody>\n",
       "    <tr>\n",
       "      <th>24</th>\n",
       "      <td>BCResMax_LA_</td>\n",
       "      <td>Mixup, HF, RF</td>\n",
       "      <td>0.7</td>\n",
       "      <td>False</td>\n",
       "      <td>[[0.5, 0.5], [80, 81, 82, 83, 84, 85, 86, 87]]</td>\n",
       "      <td>[2, [8, 9, 10, 11, 12]]</td>\n",
       "      <td>5.14</td>\n",
       "      <td>3.81</td>\n",
       "    </tr>\n",
       "    <tr>\n",
       "      <th>25</th>\n",
       "      <td>BCResMax_LA_</td>\n",
       "      <td>Mixup, HF, RF</td>\n",
       "      <td>0.7</td>\n",
       "      <td>False</td>\n",
       "      <td>[[0.5, 0.5], [80, 81, 82, 83, 84, 85, 86, 87]]</td>\n",
       "      <td>[2, [8, 9, 10, 11, 12]]</td>\n",
       "      <td>3.83</td>\n",
       "      <td>4.63</td>\n",
       "    </tr>\n",
       "    <tr>\n",
       "      <th>26</th>\n",
       "      <td>BCResMax_LA_</td>\n",
       "      <td>Mixup, HF, RF</td>\n",
       "      <td>0.7</td>\n",
       "      <td>False</td>\n",
       "      <td>[[0.5, 0.5], [80, 81, 82, 83, 84, 85, 86, 87]]</td>\n",
       "      <td>[2, [8, 9, 10, 11, 12]]</td>\n",
       "      <td>3.21</td>\n",
       "      <td>3.76</td>\n",
       "    </tr>\n",
       "    <tr>\n",
       "      <th>27</th>\n",
       "      <td>DDWSseq_LA_</td>\n",
       "      <td>Mixup, HF, RF</td>\n",
       "      <td>0.7</td>\n",
       "      <td>False</td>\n",
       "      <td>[[0.5, 0.5], [80, 81, 82, 83, 84, 85, 86, 87]]</td>\n",
       "      <td>[2, [8, 9, 10, 11, 12]]</td>\n",
       "      <td>5.46</td>\n",
       "      <td>3.56</td>\n",
       "    </tr>\n",
       "    <tr>\n",
       "      <th>28</th>\n",
       "      <td>DDWSseq_LA_</td>\n",
       "      <td>Mixup, HF, RF</td>\n",
       "      <td>0.7</td>\n",
       "      <td>False</td>\n",
       "      <td>[[0.5, 0.5], [80, 81, 82, 83, 84, 85, 86, 87]]</td>\n",
       "      <td>[2, [8, 9, 10, 11, 12]]</td>\n",
       "      <td>4.91</td>\n",
       "      <td>4.08</td>\n",
       "    </tr>\n",
       "    <tr>\n",
       "      <th>29</th>\n",
       "      <td>DDWSseq_LA_</td>\n",
       "      <td>Mixup, HF, RF</td>\n",
       "      <td>0.7</td>\n",
       "      <td>False</td>\n",
       "      <td>[[0.5, 0.5], [80, 81, 82, 83, 84, 85, 86, 87]]</td>\n",
       "      <td>[2, [8, 9, 10, 11, 12]]</td>\n",
       "      <td>3.98</td>\n",
       "      <td>4.59</td>\n",
       "    </tr>\n",
       "    <tr>\n",
       "      <th>30</th>\n",
       "      <td>LCNN_LA_</td>\n",
       "      <td>Mixup, HF, RF</td>\n",
       "      <td>0.7</td>\n",
       "      <td>False</td>\n",
       "      <td>[[0.5, 0.5], [80, 81, 82, 83, 84, 85, 86, 87]]</td>\n",
       "      <td>[2, [8, 9, 10, 11, 12]]</td>\n",
       "      <td>2.88</td>\n",
       "      <td>2.90</td>\n",
       "    </tr>\n",
       "    <tr>\n",
       "      <th>31</th>\n",
       "      <td>LCNN_LA_</td>\n",
       "      <td>Mixup, HF, RF</td>\n",
       "      <td>0.7</td>\n",
       "      <td>False</td>\n",
       "      <td>[[0.5, 0.5], [80, 81, 82, 83, 84, 85, 86, 87]]</td>\n",
       "      <td>[2, [8, 9, 10, 11, 12]]</td>\n",
       "      <td>2.59</td>\n",
       "      <td>2.78</td>\n",
       "    </tr>\n",
       "    <tr>\n",
       "      <th>32</th>\n",
       "      <td>LCNN_LA_</td>\n",
       "      <td>Mixup, HF, RF</td>\n",
       "      <td>0.7</td>\n",
       "      <td>False</td>\n",
       "      <td>[[0.5, 0.5], [80, 81, 82, 83, 84, 85, 86, 87]]</td>\n",
       "      <td>[2, [8, 9, 10, 11, 12]]</td>\n",
       "      <td>2.21</td>\n",
       "      <td>2.58</td>\n",
       "    </tr>\n",
       "    <tr>\n",
       "      <th>33</th>\n",
       "      <td>ResMax_LA_</td>\n",
       "      <td>Mixup, HF, RF</td>\n",
       "      <td>0.7</td>\n",
       "      <td>False</td>\n",
       "      <td>[[0.5, 0.5], [80, 81, 82, 83, 84, 85, 86, 87]]</td>\n",
       "      <td>[2, [8, 9, 10, 11, 12]]</td>\n",
       "      <td>3.77</td>\n",
       "      <td>3.13</td>\n",
       "    </tr>\n",
       "    <tr>\n",
       "      <th>34</th>\n",
       "      <td>ResMax_LA_</td>\n",
       "      <td>Mixup, HF, RF</td>\n",
       "      <td>0.7</td>\n",
       "      <td>False</td>\n",
       "      <td>[[0.5, 0.5], [80, 81, 82, 83, 84, 85, 86, 87]]</td>\n",
       "      <td>[2, [8, 9, 10, 11, 12]]</td>\n",
       "      <td>3.28</td>\n",
       "      <td>2.88</td>\n",
       "    </tr>\n",
       "    <tr>\n",
       "      <th>35</th>\n",
       "      <td>ResMax_LA_</td>\n",
       "      <td>Mixup, HF, RF</td>\n",
       "      <td>0.7</td>\n",
       "      <td>False</td>\n",
       "      <td>[[0.5, 0.5], [80, 81, 82, 83, 84, 85, 86, 87]]</td>\n",
       "      <td>[2, [8, 9, 10, 11, 12]]</td>\n",
       "      <td>2.57</td>\n",
       "      <td>3.72</td>\n",
       "    </tr>\n",
       "  </tbody>\n",
       "</table>\n",
       "</div>"
      ],
      "text/plain": [
       "           model            aug  beta_param lowpass  \\\n",
       "24  BCResMax_LA_  Mixup, HF, RF         0.7   False   \n",
       "25  BCResMax_LA_  Mixup, HF, RF         0.7   False   \n",
       "26  BCResMax_LA_  Mixup, HF, RF         0.7   False   \n",
       "27   DDWSseq_LA_  Mixup, HF, RF         0.7   False   \n",
       "28   DDWSseq_LA_  Mixup, HF, RF         0.7   False   \n",
       "29   DDWSseq_LA_  Mixup, HF, RF         0.7   False   \n",
       "30      LCNN_LA_  Mixup, HF, RF         0.7   False   \n",
       "31      LCNN_LA_  Mixup, HF, RF         0.7   False   \n",
       "32      LCNN_LA_  Mixup, HF, RF         0.7   False   \n",
       "33    ResMax_LA_  Mixup, HF, RF         0.7   False   \n",
       "34    ResMax_LA_  Mixup, HF, RF         0.7   False   \n",
       "35    ResMax_LA_  Mixup, HF, RF         0.7   False   \n",
       "\n",
       "                                          highpass               ranfilter2  \\\n",
       "24  [[0.5, 0.5], [80, 81, 82, 83, 84, 85, 86, 87]]  [2, [8, 9, 10, 11, 12]]   \n",
       "25  [[0.5, 0.5], [80, 81, 82, 83, 84, 85, 86, 87]]  [2, [8, 9, 10, 11, 12]]   \n",
       "26  [[0.5, 0.5], [80, 81, 82, 83, 84, 85, 86, 87]]  [2, [8, 9, 10, 11, 12]]   \n",
       "27  [[0.5, 0.5], [80, 81, 82, 83, 84, 85, 86, 87]]  [2, [8, 9, 10, 11, 12]]   \n",
       "28  [[0.5, 0.5], [80, 81, 82, 83, 84, 85, 86, 87]]  [2, [8, 9, 10, 11, 12]]   \n",
       "29  [[0.5, 0.5], [80, 81, 82, 83, 84, 85, 86, 87]]  [2, [8, 9, 10, 11, 12]]   \n",
       "30  [[0.5, 0.5], [80, 81, 82, 83, 84, 85, 86, 87]]  [2, [8, 9, 10, 11, 12]]   \n",
       "31  [[0.5, 0.5], [80, 81, 82, 83, 84, 85, 86, 87]]  [2, [8, 9, 10, 11, 12]]   \n",
       "32  [[0.5, 0.5], [80, 81, 82, 83, 84, 85, 86, 87]]  [2, [8, 9, 10, 11, 12]]   \n",
       "33  [[0.5, 0.5], [80, 81, 82, 83, 84, 85, 86, 87]]  [2, [8, 9, 10, 11, 12]]   \n",
       "34  [[0.5, 0.5], [80, 81, 82, 83, 84, 85, 86, 87]]  [2, [8, 9, 10, 11, 12]]   \n",
       "35  [[0.5, 0.5], [80, 81, 82, 83, 84, 85, 86, 87]]  [2, [8, 9, 10, 11, 12]]   \n",
       "\n",
       "    mask  blur  \n",
       "24  5.14  3.81  \n",
       "25  3.83  4.63  \n",
       "26  3.21  3.76  \n",
       "27  5.46  3.56  \n",
       "28  4.91  4.08  \n",
       "29  3.98  4.59  \n",
       "30  2.88  2.90  \n",
       "31  2.59  2.78  \n",
       "32  2.21  2.58  \n",
       "33  3.77  3.13  \n",
       "34  3.28  2.88  \n",
       "35  2.57  3.72  "
      ]
     },
     "execution_count": 252,
     "metadata": {},
     "output_type": "execute_result"
    }
   ],
   "source": [
    "aug = df_add[df_add.aug==\"Mixup, HF, RF\"][['model','aug','beta_param','lowpass','highpass','ranfilter2','mask','blur']]\n",
    "aug"
   ]
  },
  {
   "cell_type": "code",
   "execution_count": 253,
   "id": "19a60be2",
   "metadata": {},
   "outputs": [
    {
     "data": {
      "text/plain": [
       "Ttest_indResult(statistic=0.32019971700071326, pvalue=0.7518382458776357)"
      ]
     },
     "execution_count": 253,
     "metadata": {},
     "output_type": "execute_result"
    }
   ],
   "source": [
    "# n이 작아서 p-value가 크게나옴\n",
    "ttest_ind(aug[\"mask\"],aug[\"blur\"],equal_var=True)"
   ]
  },
  {
   "cell_type": "code",
   "execution_count": 254,
   "id": "2d9d10ee",
   "metadata": {},
   "outputs": [
    {
     "data": {
      "text/plain": [
       "Ttest_relResult(statistic=0.44309697637419104, pvalue=0.6662834624851642)"
      ]
     },
     "execution_count": 254,
     "metadata": {},
     "output_type": "execute_result"
    }
   ],
   "source": [
    "ttest_rel(aug[\"mask\"],aug[\"blur\"])"
   ]
  },
  {
   "cell_type": "markdown",
   "id": "6ddb7f5b",
   "metadata": {},
   "source": [
    "### 7. LF, HF, RF"
   ]
  },
  {
   "cell_type": "code",
   "execution_count": 255,
   "id": "37c31ae5",
   "metadata": {},
   "outputs": [
    {
     "data": {
      "text/html": [
       "<div>\n",
       "<style scoped>\n",
       "    .dataframe tbody tr th:only-of-type {\n",
       "        vertical-align: middle;\n",
       "    }\n",
       "\n",
       "    .dataframe tbody tr th {\n",
       "        vertical-align: top;\n",
       "    }\n",
       "\n",
       "    .dataframe thead th {\n",
       "        text-align: right;\n",
       "    }\n",
       "</style>\n",
       "<table border=\"1\" class=\"dataframe\">\n",
       "  <thead>\n",
       "    <tr style=\"text-align: right;\">\n",
       "      <th></th>\n",
       "      <th>model</th>\n",
       "      <th>aug</th>\n",
       "      <th>beta_param</th>\n",
       "      <th>lowpass</th>\n",
       "      <th>highpass</th>\n",
       "      <th>ranfilter2</th>\n",
       "      <th>mask</th>\n",
       "      <th>blur</th>\n",
       "    </tr>\n",
       "  </thead>\n",
       "  <tbody>\n",
       "    <tr>\n",
       "      <th>72</th>\n",
       "      <td>BCResMax_LA_</td>\n",
       "      <td>Mixup, LF, HF, RF</td>\n",
       "      <td>0.7</td>\n",
       "      <td>[[0.5, 0.5], [7, 8, 9, 10, 11, 12]]</td>\n",
       "      <td>[[0.5, 0.5], [80, 81, 82, 83, 84, 85, 86, 87]]</td>\n",
       "      <td>[2, [8, 9, 10, 11, 12]]</td>\n",
       "      <td>5.57</td>\n",
       "      <td>3.38</td>\n",
       "    </tr>\n",
       "    <tr>\n",
       "      <th>73</th>\n",
       "      <td>BCResMax_LA_</td>\n",
       "      <td>Mixup, LF, HF, RF</td>\n",
       "      <td>0.7</td>\n",
       "      <td>[[0.5, 0.5], [7, 8, 9, 10, 11, 12]]</td>\n",
       "      <td>[[0.5, 0.5], [80, 81, 82, 83, 84, 85, 86, 87]]</td>\n",
       "      <td>[2, [8, 9, 10, 11, 12]]</td>\n",
       "      <td>4.48</td>\n",
       "      <td>3.95</td>\n",
       "    </tr>\n",
       "    <tr>\n",
       "      <th>74</th>\n",
       "      <td>BCResMax_LA_</td>\n",
       "      <td>Mixup, LF, HF, RF</td>\n",
       "      <td>0.7</td>\n",
       "      <td>[[0.5, 0.5], [7, 8, 9, 10, 11, 12]]</td>\n",
       "      <td>[[0.5, 0.5], [80, 81, 82, 83, 84, 85, 86, 87]]</td>\n",
       "      <td>[2, [8, 9, 10, 11, 12]]</td>\n",
       "      <td>2.98</td>\n",
       "      <td>3.85</td>\n",
       "    </tr>\n",
       "    <tr>\n",
       "      <th>75</th>\n",
       "      <td>DDWSseq_LA_</td>\n",
       "      <td>Mixup, LF, HF, RF</td>\n",
       "      <td>0.7</td>\n",
       "      <td>[[0.5, 0.5], [7, 8, 9, 10, 11, 12]]</td>\n",
       "      <td>[[0.5, 0.5], [80, 81, 82, 83, 84, 85, 86, 87]]</td>\n",
       "      <td>[2, [8, 9, 10, 11, 12]]</td>\n",
       "      <td>5.04</td>\n",
       "      <td>3.49</td>\n",
       "    </tr>\n",
       "    <tr>\n",
       "      <th>76</th>\n",
       "      <td>DDWSseq_LA_</td>\n",
       "      <td>Mixup, LF, HF, RF</td>\n",
       "      <td>0.7</td>\n",
       "      <td>[[0.5, 0.5], [7, 8, 9, 10, 11, 12]]</td>\n",
       "      <td>[[0.5, 0.5], [80, 81, 82, 83, 84, 85, 86, 87]]</td>\n",
       "      <td>[2, [8, 9, 10, 11, 12]]</td>\n",
       "      <td>4.14</td>\n",
       "      <td>5.30</td>\n",
       "    </tr>\n",
       "    <tr>\n",
       "      <th>77</th>\n",
       "      <td>DDWSseq_LA_</td>\n",
       "      <td>Mixup, LF, HF, RF</td>\n",
       "      <td>0.7</td>\n",
       "      <td>[[0.5, 0.5], [7, 8, 9, 10, 11, 12]]</td>\n",
       "      <td>[[0.5, 0.5], [80, 81, 82, 83, 84, 85, 86, 87]]</td>\n",
       "      <td>[2, [8, 9, 10, 11, 12]]</td>\n",
       "      <td>3.81</td>\n",
       "      <td>3.35</td>\n",
       "    </tr>\n",
       "    <tr>\n",
       "      <th>78</th>\n",
       "      <td>LCNN_LA_</td>\n",
       "      <td>Mixup, LF, HF, RF</td>\n",
       "      <td>0.7</td>\n",
       "      <td>[[0.5, 0.5], [7, 8, 9, 10, 11, 12]]</td>\n",
       "      <td>[[0.5, 0.5], [80, 81, 82, 83, 84, 85, 86, 87]]</td>\n",
       "      <td>[2, [8, 9, 10, 11, 12]]</td>\n",
       "      <td>2.62</td>\n",
       "      <td>2.25</td>\n",
       "    </tr>\n",
       "    <tr>\n",
       "      <th>79</th>\n",
       "      <td>LCNN_LA_</td>\n",
       "      <td>Mixup, LF, HF, RF</td>\n",
       "      <td>0.7</td>\n",
       "      <td>[[0.5, 0.5], [7, 8, 9, 10, 11, 12]]</td>\n",
       "      <td>[[0.5, 0.5], [80, 81, 82, 83, 84, 85, 86, 87]]</td>\n",
       "      <td>[2, [8, 9, 10, 11, 12]]</td>\n",
       "      <td>2.55</td>\n",
       "      <td>2.21</td>\n",
       "    </tr>\n",
       "    <tr>\n",
       "      <th>80</th>\n",
       "      <td>LCNN_LA_</td>\n",
       "      <td>Mixup, LF, HF, RF</td>\n",
       "      <td>0.7</td>\n",
       "      <td>[[0.5, 0.5], [7, 8, 9, 10, 11, 12]]</td>\n",
       "      <td>[[0.5, 0.5], [80, 81, 82, 83, 84, 85, 86, 87]]</td>\n",
       "      <td>[2, [8, 9, 10, 11, 12]]</td>\n",
       "      <td>2.17</td>\n",
       "      <td>2.43</td>\n",
       "    </tr>\n",
       "    <tr>\n",
       "      <th>81</th>\n",
       "      <td>ResMax_LA_</td>\n",
       "      <td>Mixup, LF, HF, RF</td>\n",
       "      <td>0.7</td>\n",
       "      <td>[[0.5, 0.5], [7, 8, 9, 10, 11, 12]]</td>\n",
       "      <td>[[0.5, 0.5], [80, 81, 82, 83, 84, 85, 86, 87]]</td>\n",
       "      <td>[2, [8, 9, 10, 11, 12]]</td>\n",
       "      <td>4.12</td>\n",
       "      <td>3.20</td>\n",
       "    </tr>\n",
       "    <tr>\n",
       "      <th>82</th>\n",
       "      <td>ResMax_LA_</td>\n",
       "      <td>Mixup, LF, HF, RF</td>\n",
       "      <td>0.7</td>\n",
       "      <td>[[0.5, 0.5], [7, 8, 9, 10, 11, 12]]</td>\n",
       "      <td>[[0.5, 0.5], [80, 81, 82, 83, 84, 85, 86, 87]]</td>\n",
       "      <td>[2, [8, 9, 10, 11, 12]]</td>\n",
       "      <td>3.71</td>\n",
       "      <td>3.40</td>\n",
       "    </tr>\n",
       "    <tr>\n",
       "      <th>83</th>\n",
       "      <td>ResMax_LA_</td>\n",
       "      <td>Mixup, LF, HF, RF</td>\n",
       "      <td>0.7</td>\n",
       "      <td>[[0.5, 0.5], [7, 8, 9, 10, 11, 12]]</td>\n",
       "      <td>[[0.5, 0.5], [80, 81, 82, 83, 84, 85, 86, 87]]</td>\n",
       "      <td>[2, [8, 9, 10, 11, 12]]</td>\n",
       "      <td>3.52</td>\n",
       "      <td>3.57</td>\n",
       "    </tr>\n",
       "  </tbody>\n",
       "</table>\n",
       "</div>"
      ],
      "text/plain": [
       "           model                aug  beta_param  \\\n",
       "72  BCResMax_LA_  Mixup, LF, HF, RF         0.7   \n",
       "73  BCResMax_LA_  Mixup, LF, HF, RF         0.7   \n",
       "74  BCResMax_LA_  Mixup, LF, HF, RF         0.7   \n",
       "75   DDWSseq_LA_  Mixup, LF, HF, RF         0.7   \n",
       "76   DDWSseq_LA_  Mixup, LF, HF, RF         0.7   \n",
       "77   DDWSseq_LA_  Mixup, LF, HF, RF         0.7   \n",
       "78      LCNN_LA_  Mixup, LF, HF, RF         0.7   \n",
       "79      LCNN_LA_  Mixup, LF, HF, RF         0.7   \n",
       "80      LCNN_LA_  Mixup, LF, HF, RF         0.7   \n",
       "81    ResMax_LA_  Mixup, LF, HF, RF         0.7   \n",
       "82    ResMax_LA_  Mixup, LF, HF, RF         0.7   \n",
       "83    ResMax_LA_  Mixup, LF, HF, RF         0.7   \n",
       "\n",
       "                                lowpass  \\\n",
       "72  [[0.5, 0.5], [7, 8, 9, 10, 11, 12]]   \n",
       "73  [[0.5, 0.5], [7, 8, 9, 10, 11, 12]]   \n",
       "74  [[0.5, 0.5], [7, 8, 9, 10, 11, 12]]   \n",
       "75  [[0.5, 0.5], [7, 8, 9, 10, 11, 12]]   \n",
       "76  [[0.5, 0.5], [7, 8, 9, 10, 11, 12]]   \n",
       "77  [[0.5, 0.5], [7, 8, 9, 10, 11, 12]]   \n",
       "78  [[0.5, 0.5], [7, 8, 9, 10, 11, 12]]   \n",
       "79  [[0.5, 0.5], [7, 8, 9, 10, 11, 12]]   \n",
       "80  [[0.5, 0.5], [7, 8, 9, 10, 11, 12]]   \n",
       "81  [[0.5, 0.5], [7, 8, 9, 10, 11, 12]]   \n",
       "82  [[0.5, 0.5], [7, 8, 9, 10, 11, 12]]   \n",
       "83  [[0.5, 0.5], [7, 8, 9, 10, 11, 12]]   \n",
       "\n",
       "                                          highpass               ranfilter2  \\\n",
       "72  [[0.5, 0.5], [80, 81, 82, 83, 84, 85, 86, 87]]  [2, [8, 9, 10, 11, 12]]   \n",
       "73  [[0.5, 0.5], [80, 81, 82, 83, 84, 85, 86, 87]]  [2, [8, 9, 10, 11, 12]]   \n",
       "74  [[0.5, 0.5], [80, 81, 82, 83, 84, 85, 86, 87]]  [2, [8, 9, 10, 11, 12]]   \n",
       "75  [[0.5, 0.5], [80, 81, 82, 83, 84, 85, 86, 87]]  [2, [8, 9, 10, 11, 12]]   \n",
       "76  [[0.5, 0.5], [80, 81, 82, 83, 84, 85, 86, 87]]  [2, [8, 9, 10, 11, 12]]   \n",
       "77  [[0.5, 0.5], [80, 81, 82, 83, 84, 85, 86, 87]]  [2, [8, 9, 10, 11, 12]]   \n",
       "78  [[0.5, 0.5], [80, 81, 82, 83, 84, 85, 86, 87]]  [2, [8, 9, 10, 11, 12]]   \n",
       "79  [[0.5, 0.5], [80, 81, 82, 83, 84, 85, 86, 87]]  [2, [8, 9, 10, 11, 12]]   \n",
       "80  [[0.5, 0.5], [80, 81, 82, 83, 84, 85, 86, 87]]  [2, [8, 9, 10, 11, 12]]   \n",
       "81  [[0.5, 0.5], [80, 81, 82, 83, 84, 85, 86, 87]]  [2, [8, 9, 10, 11, 12]]   \n",
       "82  [[0.5, 0.5], [80, 81, 82, 83, 84, 85, 86, 87]]  [2, [8, 9, 10, 11, 12]]   \n",
       "83  [[0.5, 0.5], [80, 81, 82, 83, 84, 85, 86, 87]]  [2, [8, 9, 10, 11, 12]]   \n",
       "\n",
       "    mask  blur  \n",
       "72  5.57  3.38  \n",
       "73  4.48  3.95  \n",
       "74  2.98  3.85  \n",
       "75  5.04  3.49  \n",
       "76  4.14  5.30  \n",
       "77  3.81  3.35  \n",
       "78  2.62  2.25  \n",
       "79  2.55  2.21  \n",
       "80  2.17  2.43  \n",
       "81  4.12  3.20  \n",
       "82  3.71  3.40  \n",
       "83  3.52  3.57  "
      ]
     },
     "execution_count": 255,
     "metadata": {},
     "output_type": "execute_result"
    }
   ],
   "source": [
    "aug = df_add[df_add.aug==\"Mixup, LF, HF, RF\"][['model','aug','beta_param','lowpass','highpass','ranfilter2','mask','blur']]\n",
    "aug"
   ]
  },
  {
   "cell_type": "code",
   "execution_count": 256,
   "id": "cbc92ba2",
   "metadata": {},
   "outputs": [
    {
     "data": {
      "text/plain": [
       "Ttest_indResult(statistic=0.9384366920926371, pvalue=0.3582094920416271)"
      ]
     },
     "execution_count": 256,
     "metadata": {},
     "output_type": "execute_result"
    }
   ],
   "source": [
    "# n이 작아서 p-value가 크게나옴\n",
    "ttest_ind(aug[\"mask\"],aug[\"blur\"],equal_var=True)"
   ]
  },
  {
   "cell_type": "code",
   "execution_count": 257,
   "id": "a0219887",
   "metadata": {},
   "outputs": [
    {
     "data": {
      "text/plain": [
       "Ttest_relResult(statistic=1.345292104792367, pvalue=0.205607992455248)"
      ]
     },
     "execution_count": 257,
     "metadata": {},
     "output_type": "execute_result"
    }
   ],
   "source": [
    "ttest_rel(aug[\"mask\"],aug[\"blur\"])"
   ]
  },
  {
   "cell_type": "code",
   "execution_count": null,
   "id": "960ca9de",
   "metadata": {},
   "outputs": [],
   "source": []
  }
 ],
 "metadata": {
  "kernelspec": {
   "display_name": "Environment (conda_tensorflow2.4_p37)",
   "language": "python",
   "name": "conda_tensorflow2.4_p37"
  },
  "language_info": {
   "codemirror_mode": {
    "name": "ipython",
    "version": 3
   },
   "file_extension": ".py",
   "mimetype": "text/x-python",
   "name": "python",
   "nbconvert_exporter": "python",
   "pygments_lexer": "ipython3",
   "version": "3.7.10"
  }
 },
 "nbformat": 4,
 "nbformat_minor": 5
}
