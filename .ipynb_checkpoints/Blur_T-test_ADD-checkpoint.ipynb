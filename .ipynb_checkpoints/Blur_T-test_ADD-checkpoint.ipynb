{
 "cells": [
  {
   "cell_type": "markdown",
   "id": "b6f1bb14",
   "metadata": {},
   "source": [
    "## 1. ADD"
   ]
  },
  {
   "cell_type": "code",
   "execution_count": 6,
   "id": "73400691",
   "metadata": {},
   "outputs": [],
   "source": [
    "import numpy as np\n",
    "import pandas as pd\n",
    "df_add = pd.read_excel(\"Blur_EER_ADD(mask, blur).xlsx\",engine=\"openpyxl\")"
   ]
  },
  {
   "cell_type": "code",
   "execution_count": 7,
   "id": "cfaa90da",
   "metadata": {},
   "outputs": [
    {
     "data": {
      "text/html": [
       "<div>\n",
       "<style scoped>\n",
       "    .dataframe tbody tr th:only-of-type {\n",
       "        vertical-align: middle;\n",
       "    }\n",
       "\n",
       "    .dataframe tbody tr th {\n",
       "        vertical-align: top;\n",
       "    }\n",
       "\n",
       "    .dataframe thead th {\n",
       "        text-align: right;\n",
       "    }\n",
       "</style>\n",
       "<table border=\"1\" class=\"dataframe\">\n",
       "  <thead>\n",
       "    <tr style=\"text-align: right;\">\n",
       "      <th></th>\n",
       "      <th>aug</th>\n",
       "      <th>model</th>\n",
       "      <th>beta_param</th>\n",
       "      <th>lowpass</th>\n",
       "      <th>highpass</th>\n",
       "      <th>ranfilter2</th>\n",
       "      <th>mask</th>\n",
       "      <th>blur</th>\n",
       "    </tr>\n",
       "  </thead>\n",
       "  <tbody>\n",
       "    <tr>\n",
       "      <th>0</th>\n",
       "      <td>Mixup, RF</td>\n",
       "      <td>ResMax_ADD_</td>\n",
       "      <td>0.7</td>\n",
       "      <td>False</td>\n",
       "      <td>False</td>\n",
       "      <td>[2, [8, 9, 10, 11, 12]]</td>\n",
       "      <td>14.09</td>\n",
       "      <td>14.79</td>\n",
       "    </tr>\n",
       "    <tr>\n",
       "      <th>1</th>\n",
       "      <td>Mixup, RF</td>\n",
       "      <td>ResMax_ADD_</td>\n",
       "      <td>0.7</td>\n",
       "      <td>False</td>\n",
       "      <td>False</td>\n",
       "      <td>[2, [8, 9, 10, 11, 12]]</td>\n",
       "      <td>12.79</td>\n",
       "      <td>16.74</td>\n",
       "    </tr>\n",
       "    <tr>\n",
       "      <th>2</th>\n",
       "      <td>Mixup, RF</td>\n",
       "      <td>ResMax_ADD_</td>\n",
       "      <td>0.7</td>\n",
       "      <td>False</td>\n",
       "      <td>False</td>\n",
       "      <td>[2, [8, 9, 10, 11, 12]]</td>\n",
       "      <td>18.77</td>\n",
       "      <td>16.64</td>\n",
       "    </tr>\n",
       "    <tr>\n",
       "      <th>3</th>\n",
       "      <td>Mixup, RF</td>\n",
       "      <td>LCNN_ADD_</td>\n",
       "      <td>0.7</td>\n",
       "      <td>False</td>\n",
       "      <td>False</td>\n",
       "      <td>[2, [8, 9, 10, 11, 12]]</td>\n",
       "      <td>20.14</td>\n",
       "      <td>18.84</td>\n",
       "    </tr>\n",
       "    <tr>\n",
       "      <th>4</th>\n",
       "      <td>Mixup, RF</td>\n",
       "      <td>LCNN_ADD_</td>\n",
       "      <td>0.7</td>\n",
       "      <td>False</td>\n",
       "      <td>False</td>\n",
       "      <td>[2, [8, 9, 10, 11, 12]]</td>\n",
       "      <td>17.06</td>\n",
       "      <td>19.61</td>\n",
       "    </tr>\n",
       "    <tr>\n",
       "      <th>...</th>\n",
       "      <td>...</td>\n",
       "      <td>...</td>\n",
       "      <td>...</td>\n",
       "      <td>...</td>\n",
       "      <td>...</td>\n",
       "      <td>...</td>\n",
       "      <td>...</td>\n",
       "      <td>...</td>\n",
       "    </tr>\n",
       "    <tr>\n",
       "      <th>79</th>\n",
       "      <td>Mixup, LF, HF, RF</td>\n",
       "      <td>BCResMax_ADD_</td>\n",
       "      <td>0.7</td>\n",
       "      <td>[[0.5, 0.5], [7, 8, 9, 10, 11, 12]]</td>\n",
       "      <td>[[0.5, 0.5], [80, 81, 82, 83, 84, 85, 86, 87]]</td>\n",
       "      <td>[2, [8, 9, 10, 11, 12]]</td>\n",
       "      <td>13.32</td>\n",
       "      <td>13.77</td>\n",
       "    </tr>\n",
       "    <tr>\n",
       "      <th>80</th>\n",
       "      <td>Mixup, LF, HF, RF</td>\n",
       "      <td>BCResMax_ADD_</td>\n",
       "      <td>0.7</td>\n",
       "      <td>[[0.5, 0.5], [7, 8, 9, 10, 11, 12]]</td>\n",
       "      <td>[[0.5, 0.5], [80, 81, 82, 83, 84, 85, 86, 87]]</td>\n",
       "      <td>[2, [8, 9, 10, 11, 12]]</td>\n",
       "      <td>11.67</td>\n",
       "      <td>14.64</td>\n",
       "    </tr>\n",
       "    <tr>\n",
       "      <th>81</th>\n",
       "      <td>Mixup, LF, HF, RF</td>\n",
       "      <td>DDWSseq_ADD_</td>\n",
       "      <td>0.7</td>\n",
       "      <td>[[0.5, 0.5], [7, 8, 9, 10, 11, 12]]</td>\n",
       "      <td>[[0.5, 0.5], [80, 81, 82, 83, 84, 85, 86, 87]]</td>\n",
       "      <td>[2, [8, 9, 10, 11, 12]]</td>\n",
       "      <td>16.36</td>\n",
       "      <td>15.41</td>\n",
       "    </tr>\n",
       "    <tr>\n",
       "      <th>82</th>\n",
       "      <td>Mixup, LF, HF, RF</td>\n",
       "      <td>DDWSseq_ADD_</td>\n",
       "      <td>0.7</td>\n",
       "      <td>[[0.5, 0.5], [7, 8, 9, 10, 11, 12]]</td>\n",
       "      <td>[[0.5, 0.5], [80, 81, 82, 83, 84, 85, 86, 87]]</td>\n",
       "      <td>[2, [8, 9, 10, 11, 12]]</td>\n",
       "      <td>17.76</td>\n",
       "      <td>14.47</td>\n",
       "    </tr>\n",
       "    <tr>\n",
       "      <th>83</th>\n",
       "      <td>Mixup, LF, HF, RF</td>\n",
       "      <td>DDWSseq_ADD_</td>\n",
       "      <td>0.7</td>\n",
       "      <td>[[0.5, 0.5], [7, 8, 9, 10, 11, 12]]</td>\n",
       "      <td>[[0.5, 0.5], [80, 81, 82, 83, 84, 85, 86, 87]]</td>\n",
       "      <td>[2, [8, 9, 10, 11, 12]]</td>\n",
       "      <td>15.97</td>\n",
       "      <td>14.33</td>\n",
       "    </tr>\n",
       "  </tbody>\n",
       "</table>\n",
       "<p>84 rows × 8 columns</p>\n",
       "</div>"
      ],
      "text/plain": [
       "                  aug          model  beta_param  \\\n",
       "0           Mixup, RF    ResMax_ADD_         0.7   \n",
       "1           Mixup, RF    ResMax_ADD_         0.7   \n",
       "2           Mixup, RF    ResMax_ADD_         0.7   \n",
       "3           Mixup, RF      LCNN_ADD_         0.7   \n",
       "4           Mixup, RF      LCNN_ADD_         0.7   \n",
       "..                ...            ...         ...   \n",
       "79  Mixup, LF, HF, RF  BCResMax_ADD_         0.7   \n",
       "80  Mixup, LF, HF, RF  BCResMax_ADD_         0.7   \n",
       "81  Mixup, LF, HF, RF   DDWSseq_ADD_         0.7   \n",
       "82  Mixup, LF, HF, RF   DDWSseq_ADD_         0.7   \n",
       "83  Mixup, LF, HF, RF   DDWSseq_ADD_         0.7   \n",
       "\n",
       "                                lowpass  \\\n",
       "0                                 False   \n",
       "1                                 False   \n",
       "2                                 False   \n",
       "3                                 False   \n",
       "4                                 False   \n",
       "..                                  ...   \n",
       "79  [[0.5, 0.5], [7, 8, 9, 10, 11, 12]]   \n",
       "80  [[0.5, 0.5], [7, 8, 9, 10, 11, 12]]   \n",
       "81  [[0.5, 0.5], [7, 8, 9, 10, 11, 12]]   \n",
       "82  [[0.5, 0.5], [7, 8, 9, 10, 11, 12]]   \n",
       "83  [[0.5, 0.5], [7, 8, 9, 10, 11, 12]]   \n",
       "\n",
       "                                          highpass               ranfilter2  \\\n",
       "0                                            False  [2, [8, 9, 10, 11, 12]]   \n",
       "1                                            False  [2, [8, 9, 10, 11, 12]]   \n",
       "2                                            False  [2, [8, 9, 10, 11, 12]]   \n",
       "3                                            False  [2, [8, 9, 10, 11, 12]]   \n",
       "4                                            False  [2, [8, 9, 10, 11, 12]]   \n",
       "..                                             ...                      ...   \n",
       "79  [[0.5, 0.5], [80, 81, 82, 83, 84, 85, 86, 87]]  [2, [8, 9, 10, 11, 12]]   \n",
       "80  [[0.5, 0.5], [80, 81, 82, 83, 84, 85, 86, 87]]  [2, [8, 9, 10, 11, 12]]   \n",
       "81  [[0.5, 0.5], [80, 81, 82, 83, 84, 85, 86, 87]]  [2, [8, 9, 10, 11, 12]]   \n",
       "82  [[0.5, 0.5], [80, 81, 82, 83, 84, 85, 86, 87]]  [2, [8, 9, 10, 11, 12]]   \n",
       "83  [[0.5, 0.5], [80, 81, 82, 83, 84, 85, 86, 87]]  [2, [8, 9, 10, 11, 12]]   \n",
       "\n",
       "     mask   blur  \n",
       "0   14.09  14.79  \n",
       "1   12.79  16.74  \n",
       "2   18.77  16.64  \n",
       "3   20.14  18.84  \n",
       "4   17.06  19.61  \n",
       "..    ...    ...  \n",
       "79  13.32  13.77  \n",
       "80  11.67  14.64  \n",
       "81  16.36  15.41  \n",
       "82  17.76  14.47  \n",
       "83  15.97  14.33  \n",
       "\n",
       "[84 rows x 8 columns]"
      ]
     },
     "execution_count": 7,
     "metadata": {},
     "output_type": "execute_result"
    }
   ],
   "source": [
    "df_add"
   ]
  },
  {
   "cell_type": "code",
   "execution_count": null,
   "id": "2c8de962",
   "metadata": {},
   "outputs": [],
   "source": []
  },
  {
   "cell_type": "markdown",
   "id": "e27c9344",
   "metadata": {},
   "source": [
    "## 전체"
   ]
  },
  {
   "cell_type": "code",
   "execution_count": 68,
   "id": "94d9006f",
   "metadata": {},
   "outputs": [
    {
     "name": "stdout",
     "output_type": "stream",
     "text": [
      "검정 통계치 : -0.803\n",
      "p값 : 0.4233\n"
     ]
    }
   ],
   "source": [
    "from scipy.stats import ttest_ind, ttest_rel\n",
    "\n",
    "# welch's T-test 시행\n",
    "print(f'검정 통계치 : {np.round(ttest_ind(df_add[\"mask\"], df_add[\"blur\"], equal_var = False)[0],3)}\\np값 : {np.round(ttest_ind(df_add[\"mask\"], df_add[\"blur\"], equal_var = False)[1],4)}')"
   ]
  },
  {
   "cell_type": "code",
   "execution_count": 95,
   "id": "78ab0a5b",
   "metadata": {},
   "outputs": [
    {
     "data": {
      "text/plain": [
       "Ttest_relResult(statistic=-1.5636954671718262, pvalue=0.12169407479594692)"
      ]
     },
     "execution_count": 95,
     "metadata": {},
     "output_type": "execute_result"
    }
   ],
   "source": [
    "ttest_rel(df_add[\"mask\"],df_add[\"blur\"])"
   ]
  },
  {
   "cell_type": "code",
   "execution_count": 196,
   "id": "10312ccb",
   "metadata": {},
   "outputs": [
    {
     "data": {
      "text/plain": [
       "(100,)"
      ]
     },
     "execution_count": 196,
     "metadata": {},
     "output_type": "execute_result"
    }
   ],
   "source": [
    "raw_pvals = np.random.beta(1, 10, m) \n",
    "raw_pvals.shape"
   ]
  },
  {
   "cell_type": "code",
   "execution_count": 193,
   "id": "bcb27468",
   "metadata": {},
   "outputs": [
    {
     "data": {
      "text/plain": [
       "2"
      ]
     },
     "execution_count": 193,
     "metadata": {},
     "output_type": "execute_result"
    }
   ],
   "source": [
    "np.random.seed(123)\n",
    "alpha = 0.05 # level of significance / type-I error rate\n",
    "m = 100      # number of tests\n",
    "raw_pvals = np.random.beta(1, 10, m)  # some raw p-values, e.g., from hypergeometric analysis\n",
    "significant = np.sum(raw_pvals < alpha)\n",
    "significant\n",
    "# 46\n",
    "\n",
    "alpha_corrected = alpha / m\n",
    "significant_bonferroni = np.sum(raw_pvals < alpha_corrected)\n",
    "alpha_corrected\n",
    "# 0.0005\n",
    "significant_bonferroni"
   ]
  },
  {
   "cell_type": "code",
   "execution_count": 194,
   "id": "5b812680",
   "metadata": {},
   "outputs": [
    {
     "data": {
      "text/plain": [
       "0.0005"
      ]
     },
     "execution_count": 194,
     "metadata": {},
     "output_type": "execute_result"
    }
   ],
   "source": [
    "from statsmodels.stats.multitest import multipletests\n",
    "rejected, p_adjusted, _, alpha_corrected = multipletests(raw_pvals, alpha=alpha, \n",
    "                               method='bonferroni', is_sorted=False, returnsorted=False)\n",
    "np.sum(rejected)\n",
    "# 2\n",
    "alpha_corrected \n",
    "# 0.0005"
   ]
  },
  {
   "cell_type": "markdown",
   "id": "80594d31",
   "metadata": {},
   "source": [
    "## BCResMax_ADD_"
   ]
  },
  {
   "cell_type": "markdown",
   "id": "4157d6d8",
   "metadata": {},
   "source": [
    "### 0. Model "
   ]
  },
  {
   "cell_type": "code",
   "execution_count": 197,
   "id": "1d66ffef",
   "metadata": {},
   "outputs": [
    {
     "data": {
      "text/html": [
       "<div>\n",
       "<style scoped>\n",
       "    .dataframe tbody tr th:only-of-type {\n",
       "        vertical-align: middle;\n",
       "    }\n",
       "\n",
       "    .dataframe tbody tr th {\n",
       "        vertical-align: top;\n",
       "    }\n",
       "\n",
       "    .dataframe thead th {\n",
       "        text-align: right;\n",
       "    }\n",
       "</style>\n",
       "<table border=\"1\" class=\"dataframe\">\n",
       "  <thead>\n",
       "    <tr style=\"text-align: right;\">\n",
       "      <th></th>\n",
       "      <th>model</th>\n",
       "      <th>aug</th>\n",
       "      <th>beta_param</th>\n",
       "      <th>lowpass</th>\n",
       "      <th>highpass</th>\n",
       "      <th>ranfilter2</th>\n",
       "      <th>mask</th>\n",
       "      <th>blur</th>\n",
       "    </tr>\n",
       "  </thead>\n",
       "  <tbody>\n",
       "    <tr>\n",
       "      <th>6</th>\n",
       "      <td>BCResMax_ADD_</td>\n",
       "      <td>Mixup, RF</td>\n",
       "      <td>0.7</td>\n",
       "      <td>False</td>\n",
       "      <td>False</td>\n",
       "      <td>[2, [8, 9, 10, 11, 12]]</td>\n",
       "      <td>13.39</td>\n",
       "      <td>15.03</td>\n",
       "    </tr>\n",
       "    <tr>\n",
       "      <th>7</th>\n",
       "      <td>BCResMax_ADD_</td>\n",
       "      <td>Mixup, RF</td>\n",
       "      <td>0.7</td>\n",
       "      <td>False</td>\n",
       "      <td>False</td>\n",
       "      <td>[2, [8, 9, 10, 11, 12]]</td>\n",
       "      <td>14.72</td>\n",
       "      <td>13.56</td>\n",
       "    </tr>\n",
       "    <tr>\n",
       "      <th>8</th>\n",
       "      <td>BCResMax_ADD_</td>\n",
       "      <td>Mixup, RF</td>\n",
       "      <td>0.7</td>\n",
       "      <td>False</td>\n",
       "      <td>False</td>\n",
       "      <td>[2, [8, 9, 10, 11, 12]]</td>\n",
       "      <td>13.94</td>\n",
       "      <td>11.36</td>\n",
       "    </tr>\n",
       "    <tr>\n",
       "      <th>18</th>\n",
       "      <td>BCResMax_ADD_</td>\n",
       "      <td>Mixup, HF</td>\n",
       "      <td>0.7</td>\n",
       "      <td>False</td>\n",
       "      <td>[[0.5, 0.5], [80, 81, 82, 83, 84, 85, 86, 87]]</td>\n",
       "      <td>False</td>\n",
       "      <td>16.36</td>\n",
       "      <td>17.20</td>\n",
       "    </tr>\n",
       "    <tr>\n",
       "      <th>19</th>\n",
       "      <td>BCResMax_ADD_</td>\n",
       "      <td>Mixup, HF</td>\n",
       "      <td>0.7</td>\n",
       "      <td>False</td>\n",
       "      <td>[[0.5, 0.5], [80, 81, 82, 83, 84, 85, 86, 87]]</td>\n",
       "      <td>False</td>\n",
       "      <td>18.07</td>\n",
       "      <td>17.06</td>\n",
       "    </tr>\n",
       "    <tr>\n",
       "      <th>20</th>\n",
       "      <td>BCResMax_ADD_</td>\n",
       "      <td>Mixup, HF</td>\n",
       "      <td>0.7</td>\n",
       "      <td>False</td>\n",
       "      <td>[[0.5, 0.5], [80, 81, 82, 83, 84, 85, 86, 87]]</td>\n",
       "      <td>False</td>\n",
       "      <td>13.73</td>\n",
       "      <td>16.81</td>\n",
       "    </tr>\n",
       "    <tr>\n",
       "      <th>30</th>\n",
       "      <td>BCResMax_ADD_</td>\n",
       "      <td>Mixup, HF, RF</td>\n",
       "      <td>0.7</td>\n",
       "      <td>False</td>\n",
       "      <td>[[0.5, 0.5], [80, 81, 82, 83, 84, 85, 86, 87]]</td>\n",
       "      <td>[2, [8, 9, 10, 11, 12]]</td>\n",
       "      <td>12.30</td>\n",
       "      <td>14.72</td>\n",
       "    </tr>\n",
       "    <tr>\n",
       "      <th>31</th>\n",
       "      <td>BCResMax_ADD_</td>\n",
       "      <td>Mixup, HF, RF</td>\n",
       "      <td>0.7</td>\n",
       "      <td>False</td>\n",
       "      <td>[[0.5, 0.5], [80, 81, 82, 83, 84, 85, 86, 87]]</td>\n",
       "      <td>[2, [8, 9, 10, 11, 12]]</td>\n",
       "      <td>12.54</td>\n",
       "      <td>14.64</td>\n",
       "    </tr>\n",
       "    <tr>\n",
       "      <th>32</th>\n",
       "      <td>BCResMax_ADD_</td>\n",
       "      <td>Mixup, HF, RF</td>\n",
       "      <td>0.7</td>\n",
       "      <td>False</td>\n",
       "      <td>[[0.5, 0.5], [80, 81, 82, 83, 84, 85, 86, 87]]</td>\n",
       "      <td>[2, [8, 9, 10, 11, 12]]</td>\n",
       "      <td>13.07</td>\n",
       "      <td>14.26</td>\n",
       "    </tr>\n",
       "    <tr>\n",
       "      <th>42</th>\n",
       "      <td>BCResMax_ADD_</td>\n",
       "      <td>Mixup, LF</td>\n",
       "      <td>0.7</td>\n",
       "      <td>[[0.5, 0.5], [7, 8, 9, 10, 11, 12]]</td>\n",
       "      <td>False</td>\n",
       "      <td>False</td>\n",
       "      <td>17.20</td>\n",
       "      <td>13.94</td>\n",
       "    </tr>\n",
       "    <tr>\n",
       "      <th>43</th>\n",
       "      <td>BCResMax_ADD_</td>\n",
       "      <td>Mixup, LF</td>\n",
       "      <td>0.7</td>\n",
       "      <td>[[0.5, 0.5], [7, 8, 9, 10, 11, 12]]</td>\n",
       "      <td>False</td>\n",
       "      <td>False</td>\n",
       "      <td>16.50</td>\n",
       "      <td>13.80</td>\n",
       "    </tr>\n",
       "    <tr>\n",
       "      <th>44</th>\n",
       "      <td>BCResMax_ADD_</td>\n",
       "      <td>Mixup, LF</td>\n",
       "      <td>0.7</td>\n",
       "      <td>[[0.5, 0.5], [7, 8, 9, 10, 11, 12]]</td>\n",
       "      <td>False</td>\n",
       "      <td>False</td>\n",
       "      <td>15.17</td>\n",
       "      <td>14.12</td>\n",
       "    </tr>\n",
       "    <tr>\n",
       "      <th>54</th>\n",
       "      <td>BCResMax_ADD_</td>\n",
       "      <td>Mixup, LF, RF</td>\n",
       "      <td>0.7</td>\n",
       "      <td>[[0.5, 0.5], [7, 8, 9, 10, 11, 12]]</td>\n",
       "      <td>False</td>\n",
       "      <td>[2, [8, 9, 10, 11, 12]]</td>\n",
       "      <td>11.60</td>\n",
       "      <td>11.99</td>\n",
       "    </tr>\n",
       "    <tr>\n",
       "      <th>55</th>\n",
       "      <td>BCResMax_ADD_</td>\n",
       "      <td>Mixup, LF, RF</td>\n",
       "      <td>0.7</td>\n",
       "      <td>[[0.5, 0.5], [7, 8, 9, 10, 11, 12]]</td>\n",
       "      <td>False</td>\n",
       "      <td>[2, [8, 9, 10, 11, 12]]</td>\n",
       "      <td>13.32</td>\n",
       "      <td>11.43</td>\n",
       "    </tr>\n",
       "    <tr>\n",
       "      <th>56</th>\n",
       "      <td>BCResMax_ADD_</td>\n",
       "      <td>Mixup, LF, RF</td>\n",
       "      <td>0.7</td>\n",
       "      <td>[[0.5, 0.5], [7, 8, 9, 10, 11, 12]]</td>\n",
       "      <td>False</td>\n",
       "      <td>[2, [8, 9, 10, 11, 12]]</td>\n",
       "      <td>11.36</td>\n",
       "      <td>12.23</td>\n",
       "    </tr>\n",
       "    <tr>\n",
       "      <th>66</th>\n",
       "      <td>BCResMax_ADD_</td>\n",
       "      <td>Mixup, LF, HF</td>\n",
       "      <td>0.7</td>\n",
       "      <td>[[0.5, 0.5], [7, 8, 9, 10, 11, 12]]</td>\n",
       "      <td>[[0.5, 0.5], [80, 81, 82, 83, 84, 85, 86, 87]]</td>\n",
       "      <td>False</td>\n",
       "      <td>13.63</td>\n",
       "      <td>17.20</td>\n",
       "    </tr>\n",
       "    <tr>\n",
       "      <th>67</th>\n",
       "      <td>BCResMax_ADD_</td>\n",
       "      <td>Mixup, LF, HF</td>\n",
       "      <td>0.7</td>\n",
       "      <td>[[0.5, 0.5], [7, 8, 9, 10, 11, 12]]</td>\n",
       "      <td>[[0.5, 0.5], [80, 81, 82, 83, 84, 85, 86, 87]]</td>\n",
       "      <td>False</td>\n",
       "      <td>17.83</td>\n",
       "      <td>17.93</td>\n",
       "    </tr>\n",
       "    <tr>\n",
       "      <th>68</th>\n",
       "      <td>BCResMax_ADD_</td>\n",
       "      <td>Mixup, LF, HF</td>\n",
       "      <td>0.7</td>\n",
       "      <td>[[0.5, 0.5], [7, 8, 9, 10, 11, 12]]</td>\n",
       "      <td>[[0.5, 0.5], [80, 81, 82, 83, 84, 85, 86, 87]]</td>\n",
       "      <td>False</td>\n",
       "      <td>13.24</td>\n",
       "      <td>13.56</td>\n",
       "    </tr>\n",
       "    <tr>\n",
       "      <th>78</th>\n",
       "      <td>BCResMax_ADD_</td>\n",
       "      <td>Mixup, LF, HF, RF</td>\n",
       "      <td>0.7</td>\n",
       "      <td>[[0.5, 0.5], [7, 8, 9, 10, 11, 12]]</td>\n",
       "      <td>[[0.5, 0.5], [80, 81, 82, 83, 84, 85, 86, 87]]</td>\n",
       "      <td>[2, [8, 9, 10, 11, 12]]</td>\n",
       "      <td>13.32</td>\n",
       "      <td>14.57</td>\n",
       "    </tr>\n",
       "    <tr>\n",
       "      <th>79</th>\n",
       "      <td>BCResMax_ADD_</td>\n",
       "      <td>Mixup, LF, HF, RF</td>\n",
       "      <td>0.7</td>\n",
       "      <td>[[0.5, 0.5], [7, 8, 9, 10, 11, 12]]</td>\n",
       "      <td>[[0.5, 0.5], [80, 81, 82, 83, 84, 85, 86, 87]]</td>\n",
       "      <td>[2, [8, 9, 10, 11, 12]]</td>\n",
       "      <td>13.32</td>\n",
       "      <td>13.77</td>\n",
       "    </tr>\n",
       "    <tr>\n",
       "      <th>80</th>\n",
       "      <td>BCResMax_ADD_</td>\n",
       "      <td>Mixup, LF, HF, RF</td>\n",
       "      <td>0.7</td>\n",
       "      <td>[[0.5, 0.5], [7, 8, 9, 10, 11, 12]]</td>\n",
       "      <td>[[0.5, 0.5], [80, 81, 82, 83, 84, 85, 86, 87]]</td>\n",
       "      <td>[2, [8, 9, 10, 11, 12]]</td>\n",
       "      <td>11.67</td>\n",
       "      <td>14.64</td>\n",
       "    </tr>\n",
       "  </tbody>\n",
       "</table>\n",
       "</div>"
      ],
      "text/plain": [
       "            model                aug  beta_param  \\\n",
       "6   BCResMax_ADD_          Mixup, RF         0.7   \n",
       "7   BCResMax_ADD_          Mixup, RF         0.7   \n",
       "8   BCResMax_ADD_          Mixup, RF         0.7   \n",
       "18  BCResMax_ADD_          Mixup, HF         0.7   \n",
       "19  BCResMax_ADD_          Mixup, HF         0.7   \n",
       "20  BCResMax_ADD_          Mixup, HF         0.7   \n",
       "30  BCResMax_ADD_      Mixup, HF, RF         0.7   \n",
       "31  BCResMax_ADD_      Mixup, HF, RF         0.7   \n",
       "32  BCResMax_ADD_      Mixup, HF, RF         0.7   \n",
       "42  BCResMax_ADD_          Mixup, LF         0.7   \n",
       "43  BCResMax_ADD_          Mixup, LF         0.7   \n",
       "44  BCResMax_ADD_          Mixup, LF         0.7   \n",
       "54  BCResMax_ADD_      Mixup, LF, RF         0.7   \n",
       "55  BCResMax_ADD_      Mixup, LF, RF         0.7   \n",
       "56  BCResMax_ADD_      Mixup, LF, RF         0.7   \n",
       "66  BCResMax_ADD_      Mixup, LF, HF         0.7   \n",
       "67  BCResMax_ADD_      Mixup, LF, HF         0.7   \n",
       "68  BCResMax_ADD_      Mixup, LF, HF         0.7   \n",
       "78  BCResMax_ADD_  Mixup, LF, HF, RF         0.7   \n",
       "79  BCResMax_ADD_  Mixup, LF, HF, RF         0.7   \n",
       "80  BCResMax_ADD_  Mixup, LF, HF, RF         0.7   \n",
       "\n",
       "                                lowpass  \\\n",
       "6                                 False   \n",
       "7                                 False   \n",
       "8                                 False   \n",
       "18                                False   \n",
       "19                                False   \n",
       "20                                False   \n",
       "30                                False   \n",
       "31                                False   \n",
       "32                                False   \n",
       "42  [[0.5, 0.5], [7, 8, 9, 10, 11, 12]]   \n",
       "43  [[0.5, 0.5], [7, 8, 9, 10, 11, 12]]   \n",
       "44  [[0.5, 0.5], [7, 8, 9, 10, 11, 12]]   \n",
       "54  [[0.5, 0.5], [7, 8, 9, 10, 11, 12]]   \n",
       "55  [[0.5, 0.5], [7, 8, 9, 10, 11, 12]]   \n",
       "56  [[0.5, 0.5], [7, 8, 9, 10, 11, 12]]   \n",
       "66  [[0.5, 0.5], [7, 8, 9, 10, 11, 12]]   \n",
       "67  [[0.5, 0.5], [7, 8, 9, 10, 11, 12]]   \n",
       "68  [[0.5, 0.5], [7, 8, 9, 10, 11, 12]]   \n",
       "78  [[0.5, 0.5], [7, 8, 9, 10, 11, 12]]   \n",
       "79  [[0.5, 0.5], [7, 8, 9, 10, 11, 12]]   \n",
       "80  [[0.5, 0.5], [7, 8, 9, 10, 11, 12]]   \n",
       "\n",
       "                                          highpass               ranfilter2  \\\n",
       "6                                            False  [2, [8, 9, 10, 11, 12]]   \n",
       "7                                            False  [2, [8, 9, 10, 11, 12]]   \n",
       "8                                            False  [2, [8, 9, 10, 11, 12]]   \n",
       "18  [[0.5, 0.5], [80, 81, 82, 83, 84, 85, 86, 87]]                    False   \n",
       "19  [[0.5, 0.5], [80, 81, 82, 83, 84, 85, 86, 87]]                    False   \n",
       "20  [[0.5, 0.5], [80, 81, 82, 83, 84, 85, 86, 87]]                    False   \n",
       "30  [[0.5, 0.5], [80, 81, 82, 83, 84, 85, 86, 87]]  [2, [8, 9, 10, 11, 12]]   \n",
       "31  [[0.5, 0.5], [80, 81, 82, 83, 84, 85, 86, 87]]  [2, [8, 9, 10, 11, 12]]   \n",
       "32  [[0.5, 0.5], [80, 81, 82, 83, 84, 85, 86, 87]]  [2, [8, 9, 10, 11, 12]]   \n",
       "42                                           False                    False   \n",
       "43                                           False                    False   \n",
       "44                                           False                    False   \n",
       "54                                           False  [2, [8, 9, 10, 11, 12]]   \n",
       "55                                           False  [2, [8, 9, 10, 11, 12]]   \n",
       "56                                           False  [2, [8, 9, 10, 11, 12]]   \n",
       "66  [[0.5, 0.5], [80, 81, 82, 83, 84, 85, 86, 87]]                    False   \n",
       "67  [[0.5, 0.5], [80, 81, 82, 83, 84, 85, 86, 87]]                    False   \n",
       "68  [[0.5, 0.5], [80, 81, 82, 83, 84, 85, 86, 87]]                    False   \n",
       "78  [[0.5, 0.5], [80, 81, 82, 83, 84, 85, 86, 87]]  [2, [8, 9, 10, 11, 12]]   \n",
       "79  [[0.5, 0.5], [80, 81, 82, 83, 84, 85, 86, 87]]  [2, [8, 9, 10, 11, 12]]   \n",
       "80  [[0.5, 0.5], [80, 81, 82, 83, 84, 85, 86, 87]]  [2, [8, 9, 10, 11, 12]]   \n",
       "\n",
       "     mask   blur  \n",
       "6   13.39  15.03  \n",
       "7   14.72  13.56  \n",
       "8   13.94  11.36  \n",
       "18  16.36  17.20  \n",
       "19  18.07  17.06  \n",
       "20  13.73  16.81  \n",
       "30  12.30  14.72  \n",
       "31  12.54  14.64  \n",
       "32  13.07  14.26  \n",
       "42  17.20  13.94  \n",
       "43  16.50  13.80  \n",
       "44  15.17  14.12  \n",
       "54  11.60  11.99  \n",
       "55  13.32  11.43  \n",
       "56  11.36  12.23  \n",
       "66  13.63  17.20  \n",
       "67  17.83  17.93  \n",
       "68  13.24  13.56  \n",
       "78  13.32  14.57  \n",
       "79  13.32  13.77  \n",
       "80  11.67  14.64  "
      ]
     },
     "execution_count": 197,
     "metadata": {},
     "output_type": "execute_result"
    }
   ],
   "source": [
    "bcresmax = df_add[df_add.model==\"BCResMax_ADD_\"][['model','aug','beta_param','lowpass','highpass','ranfilter2','mask','blur']]\n",
    "bcresmax"
   ]
  },
  {
   "cell_type": "code",
   "execution_count": 198,
   "id": "ab10b102",
   "metadata": {},
   "outputs": [
    {
     "data": {
      "text/plain": [
       "Ttest_indResult(statistic=-0.5926443828664141, pvalue=0.5567549837689276)"
      ]
     },
     "execution_count": 198,
     "metadata": {},
     "output_type": "execute_result"
    }
   ],
   "source": [
    "# n이 작아서 p-value가 크게나옴\n",
    "# t-test\n",
    "ttest_ind(bcresmax[\"mask\"],bcresmax[\"blur\"],equal_var=True)\n"
   ]
  },
  {
   "cell_type": "code",
   "execution_count": 199,
   "id": "b9c00332",
   "metadata": {},
   "outputs": [
    {
     "data": {
      "text/plain": [
       "Ttest_relResult(statistic=-0.8341067758071266, pvalue=0.4140727828018821)"
      ]
     },
     "execution_count": 199,
     "metadata": {},
     "output_type": "execute_result"
    }
   ],
   "source": [
    "# paired t-test\n",
    "ttest_rel(bcresmax[\"mask\"],bcresmax[\"blur\"])"
   ]
  },
  {
   "cell_type": "markdown",
   "id": "f62d3eab",
   "metadata": {},
   "source": [
    "### 1. (Mixup,LF), 차이있음*"
   ]
  },
  {
   "cell_type": "code",
   "execution_count": 96,
   "id": "0bce2b2c",
   "metadata": {},
   "outputs": [
    {
     "name": "stderr",
     "output_type": "stream",
     "text": [
      "/home/ubuntu/anaconda3/envs/tensorflow2.4_p37/lib/python3.7/site-packages/ipykernel/__main__.py:1: UserWarning: Boolean Series key will be reindexed to match DataFrame index.\n",
      "  if __name__ == '__main__':\n"
     ]
    },
    {
     "data": {
      "text/html": [
       "<div>\n",
       "<style scoped>\n",
       "    .dataframe tbody tr th:only-of-type {\n",
       "        vertical-align: middle;\n",
       "    }\n",
       "\n",
       "    .dataframe tbody tr th {\n",
       "        vertical-align: top;\n",
       "    }\n",
       "\n",
       "    .dataframe thead th {\n",
       "        text-align: right;\n",
       "    }\n",
       "</style>\n",
       "<table border=\"1\" class=\"dataframe\">\n",
       "  <thead>\n",
       "    <tr style=\"text-align: right;\">\n",
       "      <th></th>\n",
       "      <th>model</th>\n",
       "      <th>aug</th>\n",
       "      <th>beta_param</th>\n",
       "      <th>lowpass</th>\n",
       "      <th>highpass</th>\n",
       "      <th>ranfilter2</th>\n",
       "      <th>mask</th>\n",
       "      <th>blur</th>\n",
       "    </tr>\n",
       "  </thead>\n",
       "  <tbody>\n",
       "    <tr>\n",
       "      <th>42</th>\n",
       "      <td>BCResMax_ADD_</td>\n",
       "      <td>Mixup, LF</td>\n",
       "      <td>0.7</td>\n",
       "      <td>[[0.5, 0.5], [7, 8, 9, 10, 11, 12]]</td>\n",
       "      <td>False</td>\n",
       "      <td>False</td>\n",
       "      <td>17.20</td>\n",
       "      <td>13.94</td>\n",
       "    </tr>\n",
       "    <tr>\n",
       "      <th>43</th>\n",
       "      <td>BCResMax_ADD_</td>\n",
       "      <td>Mixup, LF</td>\n",
       "      <td>0.7</td>\n",
       "      <td>[[0.5, 0.5], [7, 8, 9, 10, 11, 12]]</td>\n",
       "      <td>False</td>\n",
       "      <td>False</td>\n",
       "      <td>16.50</td>\n",
       "      <td>13.80</td>\n",
       "    </tr>\n",
       "    <tr>\n",
       "      <th>44</th>\n",
       "      <td>BCResMax_ADD_</td>\n",
       "      <td>Mixup, LF</td>\n",
       "      <td>0.7</td>\n",
       "      <td>[[0.5, 0.5], [7, 8, 9, 10, 11, 12]]</td>\n",
       "      <td>False</td>\n",
       "      <td>False</td>\n",
       "      <td>15.17</td>\n",
       "      <td>14.12</td>\n",
       "    </tr>\n",
       "  </tbody>\n",
       "</table>\n",
       "</div>"
      ],
      "text/plain": [
       "            model        aug  beta_param                              lowpass  \\\n",
       "42  BCResMax_ADD_  Mixup, LF         0.7  [[0.5, 0.5], [7, 8, 9, 10, 11, 12]]   \n",
       "43  BCResMax_ADD_  Mixup, LF         0.7  [[0.5, 0.5], [7, 8, 9, 10, 11, 12]]   \n",
       "44  BCResMax_ADD_  Mixup, LF         0.7  [[0.5, 0.5], [7, 8, 9, 10, 11, 12]]   \n",
       "\n",
       "   highpass ranfilter2   mask   blur  \n",
       "42    False      False  17.20  13.94  \n",
       "43    False      False  16.50  13.80  \n",
       "44    False      False  15.17  14.12  "
      ]
     },
     "execution_count": 96,
     "metadata": {},
     "output_type": "execute_result"
    }
   ],
   "source": [
    "bcresmax = df_add[df_add.model==\"BCResMax_ADD_\"][df_add.aug==\"Mixup, LF\"][['model','aug','beta_param','lowpass','highpass','ranfilter2','mask','blur']]\n",
    "bcresmax"
   ]
  },
  {
   "cell_type": "code",
   "execution_count": 97,
   "id": "64bc9179",
   "metadata": {},
   "outputs": [
    {
     "data": {
      "text/plain": [
       "Ttest_indResult(statistic=3.8782589566278083, pvalue=0.017867665376890655)"
      ]
     },
     "execution_count": 97,
     "metadata": {},
     "output_type": "execute_result"
    }
   ],
   "source": [
    "# n이 작아서 p-value가 크게나옴\n",
    "# t-test\n",
    "ttest_ind(bcresmax[\"mask\"],bcresmax[\"blur\"],equal_var=True)\n"
   ]
  },
  {
   "cell_type": "code",
   "execution_count": 98,
   "id": "b70c78d8",
   "metadata": {},
   "outputs": [
    {
     "data": {
      "text/plain": [
       "Ttest_relResult(statistic=3.5226130653266345, pvalue=0.07199355451195667)"
      ]
     },
     "execution_count": 98,
     "metadata": {},
     "output_type": "execute_result"
    }
   ],
   "source": [
    "# paired t-test\n",
    "ttest_rel(bcresmax[\"mask\"],bcresmax[\"blur\"])"
   ]
  },
  {
   "cell_type": "markdown",
   "id": "8f8fea9c",
   "metadata": {},
   "source": [
    "### 2. (Mixup, HF), 차이없음"
   ]
  },
  {
   "cell_type": "code",
   "execution_count": 99,
   "id": "f2e3e00f",
   "metadata": {},
   "outputs": [
    {
     "name": "stderr",
     "output_type": "stream",
     "text": [
      "/home/ubuntu/anaconda3/envs/tensorflow2.4_p37/lib/python3.7/site-packages/ipykernel/__main__.py:1: UserWarning: Boolean Series key will be reindexed to match DataFrame index.\n",
      "  if __name__ == '__main__':\n"
     ]
    },
    {
     "data": {
      "text/html": [
       "<div>\n",
       "<style scoped>\n",
       "    .dataframe tbody tr th:only-of-type {\n",
       "        vertical-align: middle;\n",
       "    }\n",
       "\n",
       "    .dataframe tbody tr th {\n",
       "        vertical-align: top;\n",
       "    }\n",
       "\n",
       "    .dataframe thead th {\n",
       "        text-align: right;\n",
       "    }\n",
       "</style>\n",
       "<table border=\"1\" class=\"dataframe\">\n",
       "  <thead>\n",
       "    <tr style=\"text-align: right;\">\n",
       "      <th></th>\n",
       "      <th>model</th>\n",
       "      <th>aug</th>\n",
       "      <th>beta_param</th>\n",
       "      <th>lowpass</th>\n",
       "      <th>highpass</th>\n",
       "      <th>ranfilter2</th>\n",
       "      <th>mask</th>\n",
       "      <th>blur</th>\n",
       "    </tr>\n",
       "  </thead>\n",
       "  <tbody>\n",
       "    <tr>\n",
       "      <th>18</th>\n",
       "      <td>BCResMax_ADD_</td>\n",
       "      <td>Mixup, HF</td>\n",
       "      <td>0.7</td>\n",
       "      <td>False</td>\n",
       "      <td>[[0.5, 0.5], [80, 81, 82, 83, 84, 85, 86, 87]]</td>\n",
       "      <td>False</td>\n",
       "      <td>16.36</td>\n",
       "      <td>17.20</td>\n",
       "    </tr>\n",
       "    <tr>\n",
       "      <th>19</th>\n",
       "      <td>BCResMax_ADD_</td>\n",
       "      <td>Mixup, HF</td>\n",
       "      <td>0.7</td>\n",
       "      <td>False</td>\n",
       "      <td>[[0.5, 0.5], [80, 81, 82, 83, 84, 85, 86, 87]]</td>\n",
       "      <td>False</td>\n",
       "      <td>18.07</td>\n",
       "      <td>17.06</td>\n",
       "    </tr>\n",
       "    <tr>\n",
       "      <th>20</th>\n",
       "      <td>BCResMax_ADD_</td>\n",
       "      <td>Mixup, HF</td>\n",
       "      <td>0.7</td>\n",
       "      <td>False</td>\n",
       "      <td>[[0.5, 0.5], [80, 81, 82, 83, 84, 85, 86, 87]]</td>\n",
       "      <td>False</td>\n",
       "      <td>13.73</td>\n",
       "      <td>16.81</td>\n",
       "    </tr>\n",
       "  </tbody>\n",
       "</table>\n",
       "</div>"
      ],
      "text/plain": [
       "            model        aug  beta_param lowpass  \\\n",
       "18  BCResMax_ADD_  Mixup, HF         0.7   False   \n",
       "19  BCResMax_ADD_  Mixup, HF         0.7   False   \n",
       "20  BCResMax_ADD_  Mixup, HF         0.7   False   \n",
       "\n",
       "                                          highpass ranfilter2   mask   blur  \n",
       "18  [[0.5, 0.5], [80, 81, 82, 83, 84, 85, 86, 87]]      False  16.36  17.20  \n",
       "19  [[0.5, 0.5], [80, 81, 82, 83, 84, 85, 86, 87]]      False  18.07  17.06  \n",
       "20  [[0.5, 0.5], [80, 81, 82, 83, 84, 85, 86, 87]]      False  13.73  16.81  "
      ]
     },
     "execution_count": 99,
     "metadata": {},
     "output_type": "execute_result"
    }
   ],
   "source": [
    "bcresmax = df_add[df_add.model==\"BCResMax_ADD_\"][df_add.aug==\"Mixup, HF\"][['model','aug','beta_param','lowpass','highpass','ranfilter2','mask','blur']]\n",
    "bcresmax"
   ]
  },
  {
   "cell_type": "code",
   "execution_count": 100,
   "id": "10ffd6dd",
   "metadata": {},
   "outputs": [
    {
     "data": {
      "text/plain": [
       "Ttest_indResult(statistic=-0.7653814496752986, pvalue=0.48670960453681783)"
      ]
     },
     "execution_count": 100,
     "metadata": {},
     "output_type": "execute_result"
    }
   ],
   "source": [
    "# n이 작아서 p-value가 크게나옴\n",
    "ttest_ind(bcresmax[\"mask\"],bcresmax[\"blur\"],equal_var=True)\n"
   ]
  },
  {
   "cell_type": "code",
   "execution_count": 101,
   "id": "cc0f57c1",
   "metadata": {},
   "outputs": [
    {
     "data": {
      "text/plain": [
       "Ttest_relResult(statistic=-0.8203173716731049, pvalue=0.49824826794799204)"
      ]
     },
     "execution_count": 101,
     "metadata": {},
     "output_type": "execute_result"
    }
   ],
   "source": [
    "ttest_rel(bcresmax[\"mask\"],bcresmax[\"blur\"])"
   ]
  },
  {
   "cell_type": "markdown",
   "id": "abd01b73",
   "metadata": {},
   "source": [
    "### 3. (Mixup, RF), 차이없음"
   ]
  },
  {
   "cell_type": "code",
   "execution_count": 102,
   "id": "0fcbca5d",
   "metadata": {},
   "outputs": [
    {
     "name": "stderr",
     "output_type": "stream",
     "text": [
      "/home/ubuntu/anaconda3/envs/tensorflow2.4_p37/lib/python3.7/site-packages/ipykernel/__main__.py:1: UserWarning: Boolean Series key will be reindexed to match DataFrame index.\n",
      "  if __name__ == '__main__':\n"
     ]
    },
    {
     "data": {
      "text/html": [
       "<div>\n",
       "<style scoped>\n",
       "    .dataframe tbody tr th:only-of-type {\n",
       "        vertical-align: middle;\n",
       "    }\n",
       "\n",
       "    .dataframe tbody tr th {\n",
       "        vertical-align: top;\n",
       "    }\n",
       "\n",
       "    .dataframe thead th {\n",
       "        text-align: right;\n",
       "    }\n",
       "</style>\n",
       "<table border=\"1\" class=\"dataframe\">\n",
       "  <thead>\n",
       "    <tr style=\"text-align: right;\">\n",
       "      <th></th>\n",
       "      <th>model</th>\n",
       "      <th>aug</th>\n",
       "      <th>beta_param</th>\n",
       "      <th>lowpass</th>\n",
       "      <th>highpass</th>\n",
       "      <th>ranfilter2</th>\n",
       "      <th>mask</th>\n",
       "      <th>blur</th>\n",
       "    </tr>\n",
       "  </thead>\n",
       "  <tbody>\n",
       "    <tr>\n",
       "      <th>6</th>\n",
       "      <td>BCResMax_ADD_</td>\n",
       "      <td>Mixup, RF</td>\n",
       "      <td>0.7</td>\n",
       "      <td>False</td>\n",
       "      <td>False</td>\n",
       "      <td>[2, [8, 9, 10, 11, 12]]</td>\n",
       "      <td>13.39</td>\n",
       "      <td>15.03</td>\n",
       "    </tr>\n",
       "    <tr>\n",
       "      <th>7</th>\n",
       "      <td>BCResMax_ADD_</td>\n",
       "      <td>Mixup, RF</td>\n",
       "      <td>0.7</td>\n",
       "      <td>False</td>\n",
       "      <td>False</td>\n",
       "      <td>[2, [8, 9, 10, 11, 12]]</td>\n",
       "      <td>14.72</td>\n",
       "      <td>13.56</td>\n",
       "    </tr>\n",
       "    <tr>\n",
       "      <th>8</th>\n",
       "      <td>BCResMax_ADD_</td>\n",
       "      <td>Mixup, RF</td>\n",
       "      <td>0.7</td>\n",
       "      <td>False</td>\n",
       "      <td>False</td>\n",
       "      <td>[2, [8, 9, 10, 11, 12]]</td>\n",
       "      <td>13.94</td>\n",
       "      <td>11.36</td>\n",
       "    </tr>\n",
       "  </tbody>\n",
       "</table>\n",
       "</div>"
      ],
      "text/plain": [
       "           model        aug  beta_param lowpass highpass  \\\n",
       "6  BCResMax_ADD_  Mixup, RF         0.7   False    False   \n",
       "7  BCResMax_ADD_  Mixup, RF         0.7   False    False   \n",
       "8  BCResMax_ADD_  Mixup, RF         0.7   False    False   \n",
       "\n",
       "                ranfilter2   mask   blur  \n",
       "6  [2, [8, 9, 10, 11, 12]]  13.39  15.03  \n",
       "7  [2, [8, 9, 10, 11, 12]]  14.72  13.56  \n",
       "8  [2, [8, 9, 10, 11, 12]]  13.94  11.36  "
      ]
     },
     "execution_count": 102,
     "metadata": {},
     "output_type": "execute_result"
    }
   ],
   "source": [
    "bcresmax = df_add[df_add.model==\"BCResMax_ADD_\"][df_add.aug==\"Mixup, RF\"][['model','aug','beta_param','lowpass','highpass','ranfilter2','mask','blur']]\n",
    "bcresmax"
   ]
  },
  {
   "cell_type": "code",
   "execution_count": 103,
   "id": "8008afb7",
   "metadata": {},
   "outputs": [
    {
     "data": {
      "text/plain": [
       "Ttest_indResult(statistic=0.617252058460314, pvalue=0.5704720755475655)"
      ]
     },
     "execution_count": 103,
     "metadata": {},
     "output_type": "execute_result"
    }
   ],
   "source": [
    "# n이 작아서 p-value가 크게나옴\n",
    "ttest_ind(bcresmax[\"mask\"],bcresmax[\"blur\"],equal_var=True)\n"
   ]
  },
  {
   "cell_type": "code",
   "execution_count": 104,
   "id": "7d5c1e71",
   "metadata": {},
   "outputs": [
    {
     "data": {
      "text/plain": [
       "Ttest_relResult(statistic=0.564638549203505, pvalue=0.6292020570178279)"
      ]
     },
     "execution_count": 104,
     "metadata": {},
     "output_type": "execute_result"
    }
   ],
   "source": [
    "ttest_rel(bcresmax[\"mask\"],bcresmax[\"blur\"])"
   ]
  },
  {
   "cell_type": "markdown",
   "id": "2171c13c",
   "metadata": {},
   "source": [
    "### 4. (Mixup, LF, HF), 차이없음"
   ]
  },
  {
   "cell_type": "code",
   "execution_count": 105,
   "id": "5e750c29",
   "metadata": {},
   "outputs": [
    {
     "name": "stderr",
     "output_type": "stream",
     "text": [
      "/home/ubuntu/anaconda3/envs/tensorflow2.4_p37/lib/python3.7/site-packages/ipykernel/__main__.py:1: UserWarning: Boolean Series key will be reindexed to match DataFrame index.\n",
      "  if __name__ == '__main__':\n"
     ]
    },
    {
     "data": {
      "text/html": [
       "<div>\n",
       "<style scoped>\n",
       "    .dataframe tbody tr th:only-of-type {\n",
       "        vertical-align: middle;\n",
       "    }\n",
       "\n",
       "    .dataframe tbody tr th {\n",
       "        vertical-align: top;\n",
       "    }\n",
       "\n",
       "    .dataframe thead th {\n",
       "        text-align: right;\n",
       "    }\n",
       "</style>\n",
       "<table border=\"1\" class=\"dataframe\">\n",
       "  <thead>\n",
       "    <tr style=\"text-align: right;\">\n",
       "      <th></th>\n",
       "      <th>model</th>\n",
       "      <th>aug</th>\n",
       "      <th>beta_param</th>\n",
       "      <th>lowpass</th>\n",
       "      <th>highpass</th>\n",
       "      <th>ranfilter2</th>\n",
       "      <th>mask</th>\n",
       "      <th>blur</th>\n",
       "    </tr>\n",
       "  </thead>\n",
       "  <tbody>\n",
       "    <tr>\n",
       "      <th>66</th>\n",
       "      <td>BCResMax_ADD_</td>\n",
       "      <td>Mixup, LF, HF</td>\n",
       "      <td>0.7</td>\n",
       "      <td>[[0.5, 0.5], [7, 8, 9, 10, 11, 12]]</td>\n",
       "      <td>[[0.5, 0.5], [80, 81, 82, 83, 84, 85, 86, 87]]</td>\n",
       "      <td>False</td>\n",
       "      <td>13.63</td>\n",
       "      <td>17.20</td>\n",
       "    </tr>\n",
       "    <tr>\n",
       "      <th>67</th>\n",
       "      <td>BCResMax_ADD_</td>\n",
       "      <td>Mixup, LF, HF</td>\n",
       "      <td>0.7</td>\n",
       "      <td>[[0.5, 0.5], [7, 8, 9, 10, 11, 12]]</td>\n",
       "      <td>[[0.5, 0.5], [80, 81, 82, 83, 84, 85, 86, 87]]</td>\n",
       "      <td>False</td>\n",
       "      <td>17.83</td>\n",
       "      <td>17.93</td>\n",
       "    </tr>\n",
       "    <tr>\n",
       "      <th>68</th>\n",
       "      <td>BCResMax_ADD_</td>\n",
       "      <td>Mixup, LF, HF</td>\n",
       "      <td>0.7</td>\n",
       "      <td>[[0.5, 0.5], [7, 8, 9, 10, 11, 12]]</td>\n",
       "      <td>[[0.5, 0.5], [80, 81, 82, 83, 84, 85, 86, 87]]</td>\n",
       "      <td>False</td>\n",
       "      <td>13.24</td>\n",
       "      <td>13.56</td>\n",
       "    </tr>\n",
       "  </tbody>\n",
       "</table>\n",
       "</div>"
      ],
      "text/plain": [
       "            model            aug  beta_param  \\\n",
       "66  BCResMax_ADD_  Mixup, LF, HF         0.7   \n",
       "67  BCResMax_ADD_  Mixup, LF, HF         0.7   \n",
       "68  BCResMax_ADD_  Mixup, LF, HF         0.7   \n",
       "\n",
       "                                lowpass  \\\n",
       "66  [[0.5, 0.5], [7, 8, 9, 10, 11, 12]]   \n",
       "67  [[0.5, 0.5], [7, 8, 9, 10, 11, 12]]   \n",
       "68  [[0.5, 0.5], [7, 8, 9, 10, 11, 12]]   \n",
       "\n",
       "                                          highpass ranfilter2   mask   blur  \n",
       "66  [[0.5, 0.5], [80, 81, 82, 83, 84, 85, 86, 87]]      False  13.63  17.20  \n",
       "67  [[0.5, 0.5], [80, 81, 82, 83, 84, 85, 86, 87]]      False  17.83  17.93  \n",
       "68  [[0.5, 0.5], [80, 81, 82, 83, 84, 85, 86, 87]]      False  13.24  13.56  "
      ]
     },
     "execution_count": 105,
     "metadata": {},
     "output_type": "execute_result"
    }
   ],
   "source": [
    "bcresmax = df_add[df_add.model==\"BCResMax_ADD_\"][df_add.aug==\"Mixup, LF, HF\"][['model','aug','beta_param','lowpass','highpass','ranfilter2','mask','blur']]\n",
    "bcresmax"
   ]
  },
  {
   "cell_type": "code",
   "execution_count": 106,
   "id": "b0c119ba",
   "metadata": {},
   "outputs": [
    {
     "data": {
      "text/plain": [
       "Ttest_indResult(statistic=-0.6662058134231373, pvalue=0.5417353864669213)"
      ]
     },
     "execution_count": 106,
     "metadata": {},
     "output_type": "execute_result"
    }
   ],
   "source": [
    "# n이 작아서 p-value가 크게나옴\n",
    "ttest_ind(bcresmax[\"mask\"],bcresmax[\"blur\"],equal_var=True)\n"
   ]
  },
  {
   "cell_type": "code",
   "execution_count": 107,
   "id": "29014e8c",
   "metadata": {},
   "outputs": [
    {
     "data": {
      "text/plain": [
       "Ttest_relResult(statistic=-1.1855954782926441, pvalue=0.3575528903059422)"
      ]
     },
     "execution_count": 107,
     "metadata": {},
     "output_type": "execute_result"
    }
   ],
   "source": [
    "ttest_rel(bcresmax[\"mask\"],bcresmax[\"blur\"])"
   ]
  },
  {
   "cell_type": "markdown",
   "id": "f551fcbb",
   "metadata": {},
   "source": [
    "### 5. (Mixup, LF, RF), 차이있음"
   ]
  },
  {
   "cell_type": "code",
   "execution_count": 108,
   "id": "3a74f875",
   "metadata": {},
   "outputs": [
    {
     "name": "stderr",
     "output_type": "stream",
     "text": [
      "/home/ubuntu/anaconda3/envs/tensorflow2.4_p37/lib/python3.7/site-packages/ipykernel/__main__.py:1: UserWarning: Boolean Series key will be reindexed to match DataFrame index.\n",
      "  if __name__ == '__main__':\n"
     ]
    },
    {
     "data": {
      "text/html": [
       "<div>\n",
       "<style scoped>\n",
       "    .dataframe tbody tr th:only-of-type {\n",
       "        vertical-align: middle;\n",
       "    }\n",
       "\n",
       "    .dataframe tbody tr th {\n",
       "        vertical-align: top;\n",
       "    }\n",
       "\n",
       "    .dataframe thead th {\n",
       "        text-align: right;\n",
       "    }\n",
       "</style>\n",
       "<table border=\"1\" class=\"dataframe\">\n",
       "  <thead>\n",
       "    <tr style=\"text-align: right;\">\n",
       "      <th></th>\n",
       "      <th>model</th>\n",
       "      <th>aug</th>\n",
       "      <th>beta_param</th>\n",
       "      <th>lowpass</th>\n",
       "      <th>highpass</th>\n",
       "      <th>ranfilter2</th>\n",
       "      <th>mask</th>\n",
       "      <th>blur</th>\n",
       "    </tr>\n",
       "  </thead>\n",
       "  <tbody>\n",
       "    <tr>\n",
       "      <th>54</th>\n",
       "      <td>BCResMax_ADD_</td>\n",
       "      <td>Mixup, LF, RF</td>\n",
       "      <td>0.7</td>\n",
       "      <td>[[0.5, 0.5], [7, 8, 9, 10, 11, 12]]</td>\n",
       "      <td>False</td>\n",
       "      <td>[2, [8, 9, 10, 11, 12]]</td>\n",
       "      <td>11.60</td>\n",
       "      <td>11.99</td>\n",
       "    </tr>\n",
       "    <tr>\n",
       "      <th>55</th>\n",
       "      <td>BCResMax_ADD_</td>\n",
       "      <td>Mixup, LF, RF</td>\n",
       "      <td>0.7</td>\n",
       "      <td>[[0.5, 0.5], [7, 8, 9, 10, 11, 12]]</td>\n",
       "      <td>False</td>\n",
       "      <td>[2, [8, 9, 10, 11, 12]]</td>\n",
       "      <td>13.32</td>\n",
       "      <td>11.43</td>\n",
       "    </tr>\n",
       "    <tr>\n",
       "      <th>56</th>\n",
       "      <td>BCResMax_ADD_</td>\n",
       "      <td>Mixup, LF, RF</td>\n",
       "      <td>0.7</td>\n",
       "      <td>[[0.5, 0.5], [7, 8, 9, 10, 11, 12]]</td>\n",
       "      <td>False</td>\n",
       "      <td>[2, [8, 9, 10, 11, 12]]</td>\n",
       "      <td>11.36</td>\n",
       "      <td>12.23</td>\n",
       "    </tr>\n",
       "  </tbody>\n",
       "</table>\n",
       "</div>"
      ],
      "text/plain": [
       "            model            aug  beta_param  \\\n",
       "54  BCResMax_ADD_  Mixup, LF, RF         0.7   \n",
       "55  BCResMax_ADD_  Mixup, LF, RF         0.7   \n",
       "56  BCResMax_ADD_  Mixup, LF, RF         0.7   \n",
       "\n",
       "                                lowpass highpass               ranfilter2  \\\n",
       "54  [[0.5, 0.5], [7, 8, 9, 10, 11, 12]]    False  [2, [8, 9, 10, 11, 12]]   \n",
       "55  [[0.5, 0.5], [7, 8, 9, 10, 11, 12]]    False  [2, [8, 9, 10, 11, 12]]   \n",
       "56  [[0.5, 0.5], [7, 8, 9, 10, 11, 12]]    False  [2, [8, 9, 10, 11, 12]]   \n",
       "\n",
       "     mask   blur  \n",
       "54  11.60  11.99  \n",
       "55  13.32  11.43  \n",
       "56  11.36  12.23  "
      ]
     },
     "execution_count": 108,
     "metadata": {},
     "output_type": "execute_result"
    }
   ],
   "source": [
    "bcresmax = df_add[df_add.model==\"BCResMax_ADD_\"][df_add.aug==\"Mixup, LF, RF\"][['model','aug','beta_param','lowpass','highpass','ranfilter2','mask','blur']]\n",
    "bcresmax"
   ]
  },
  {
   "cell_type": "code",
   "execution_count": 109,
   "id": "08b3409e",
   "metadata": {},
   "outputs": [
    {
     "data": {
      "text/plain": [
       "Ttest_indResult(statistic=0.31761521142647203, pvalue=0.7666658875253087)"
      ]
     },
     "execution_count": 109,
     "metadata": {},
     "output_type": "execute_result"
    }
   ],
   "source": [
    "# n이 작아서 p-value가 크게나옴\n",
    "ttest_ind(bcresmax[\"mask\"],bcresmax[\"blur\"],equal_var=True)\n"
   ]
  },
  {
   "cell_type": "code",
   "execution_count": 110,
   "id": "23c9bff3",
   "metadata": {},
   "outputs": [
    {
     "data": {
      "text/plain": [
       "Ttest_relResult(statistic=0.24666651751084276, pvalue=0.8281745047922922)"
      ]
     },
     "execution_count": 110,
     "metadata": {},
     "output_type": "execute_result"
    }
   ],
   "source": [
    "ttest_rel(bcresmax[\"mask\"],bcresmax[\"blur\"])"
   ]
  },
  {
   "cell_type": "markdown",
   "id": "e06acd1e",
   "metadata": {},
   "source": [
    "### 6. (Mixup, HF, RF), 차이있음"
   ]
  },
  {
   "cell_type": "code",
   "execution_count": 111,
   "id": "1bc8b12b",
   "metadata": {},
   "outputs": [
    {
     "name": "stderr",
     "output_type": "stream",
     "text": [
      "/home/ubuntu/anaconda3/envs/tensorflow2.4_p37/lib/python3.7/site-packages/ipykernel/__main__.py:1: UserWarning: Boolean Series key will be reindexed to match DataFrame index.\n",
      "  if __name__ == '__main__':\n"
     ]
    },
    {
     "data": {
      "text/html": [
       "<div>\n",
       "<style scoped>\n",
       "    .dataframe tbody tr th:only-of-type {\n",
       "        vertical-align: middle;\n",
       "    }\n",
       "\n",
       "    .dataframe tbody tr th {\n",
       "        vertical-align: top;\n",
       "    }\n",
       "\n",
       "    .dataframe thead th {\n",
       "        text-align: right;\n",
       "    }\n",
       "</style>\n",
       "<table border=\"1\" class=\"dataframe\">\n",
       "  <thead>\n",
       "    <tr style=\"text-align: right;\">\n",
       "      <th></th>\n",
       "      <th>model</th>\n",
       "      <th>aug</th>\n",
       "      <th>beta_param</th>\n",
       "      <th>lowpass</th>\n",
       "      <th>highpass</th>\n",
       "      <th>ranfilter2</th>\n",
       "      <th>mask</th>\n",
       "      <th>blur</th>\n",
       "    </tr>\n",
       "  </thead>\n",
       "  <tbody>\n",
       "    <tr>\n",
       "      <th>30</th>\n",
       "      <td>BCResMax_ADD_</td>\n",
       "      <td>Mixup, HF, RF</td>\n",
       "      <td>0.7</td>\n",
       "      <td>False</td>\n",
       "      <td>[[0.5, 0.5], [80, 81, 82, 83, 84, 85, 86, 87]]</td>\n",
       "      <td>[2, [8, 9, 10, 11, 12]]</td>\n",
       "      <td>12.30</td>\n",
       "      <td>14.72</td>\n",
       "    </tr>\n",
       "    <tr>\n",
       "      <th>31</th>\n",
       "      <td>BCResMax_ADD_</td>\n",
       "      <td>Mixup, HF, RF</td>\n",
       "      <td>0.7</td>\n",
       "      <td>False</td>\n",
       "      <td>[[0.5, 0.5], [80, 81, 82, 83, 84, 85, 86, 87]]</td>\n",
       "      <td>[2, [8, 9, 10, 11, 12]]</td>\n",
       "      <td>12.54</td>\n",
       "      <td>14.64</td>\n",
       "    </tr>\n",
       "    <tr>\n",
       "      <th>32</th>\n",
       "      <td>BCResMax_ADD_</td>\n",
       "      <td>Mixup, HF, RF</td>\n",
       "      <td>0.7</td>\n",
       "      <td>False</td>\n",
       "      <td>[[0.5, 0.5], [80, 81, 82, 83, 84, 85, 86, 87]]</td>\n",
       "      <td>[2, [8, 9, 10, 11, 12]]</td>\n",
       "      <td>13.07</td>\n",
       "      <td>14.26</td>\n",
       "    </tr>\n",
       "  </tbody>\n",
       "</table>\n",
       "</div>"
      ],
      "text/plain": [
       "            model            aug  beta_param lowpass  \\\n",
       "30  BCResMax_ADD_  Mixup, HF, RF         0.7   False   \n",
       "31  BCResMax_ADD_  Mixup, HF, RF         0.7   False   \n",
       "32  BCResMax_ADD_  Mixup, HF, RF         0.7   False   \n",
       "\n",
       "                                          highpass               ranfilter2  \\\n",
       "30  [[0.5, 0.5], [80, 81, 82, 83, 84, 85, 86, 87]]  [2, [8, 9, 10, 11, 12]]   \n",
       "31  [[0.5, 0.5], [80, 81, 82, 83, 84, 85, 86, 87]]  [2, [8, 9, 10, 11, 12]]   \n",
       "32  [[0.5, 0.5], [80, 81, 82, 83, 84, 85, 86, 87]]  [2, [8, 9, 10, 11, 12]]   \n",
       "\n",
       "     mask   blur  \n",
       "30  12.30  14.72  \n",
       "31  12.54  14.64  \n",
       "32  13.07  14.26  "
      ]
     },
     "execution_count": 111,
     "metadata": {},
     "output_type": "execute_result"
    }
   ],
   "source": [
    "bcresmax = df_add[df_add.model==\"BCResMax_ADD_\"][df_add.aug==\"Mixup, HF, RF\"][['model','aug','beta_param','lowpass','highpass','ranfilter2','mask','blur']]\n",
    "bcresmax"
   ]
  },
  {
   "cell_type": "code",
   "execution_count": 112,
   "id": "80511476",
   "metadata": {},
   "outputs": [
    {
     "data": {
      "text/plain": [
       "Ttest_indResult(statistic=-7.09933275622099, pvalue=0.002079279262129289)"
      ]
     },
     "execution_count": 112,
     "metadata": {},
     "output_type": "execute_result"
    }
   ],
   "source": [
    "# n이 작아서 p-value가 크게나옴\n",
    "ttest_ind(bcresmax[\"mask\"],bcresmax[\"blur\"],equal_var=True)\n"
   ]
  },
  {
   "cell_type": "code",
   "execution_count": 113,
   "id": "3f83d173",
   "metadata": {},
   "outputs": [
    {
     "data": {
      "text/plain": [
       "Ttest_relResult(statistic=-5.165993094510805, pvalue=0.03548810940288716)"
      ]
     },
     "execution_count": 113,
     "metadata": {},
     "output_type": "execute_result"
    }
   ],
   "source": [
    "ttest_rel(bcresmax[\"mask\"],bcresmax[\"blur\"])"
   ]
  },
  {
   "cell_type": "markdown",
   "id": "7f4fcad2",
   "metadata": {},
   "source": [
    "### 7. (Mixup, LF, HF, RF), 차이없음"
   ]
  },
  {
   "cell_type": "code",
   "execution_count": 143,
   "id": "5d7b6350",
   "metadata": {},
   "outputs": [
    {
     "name": "stderr",
     "output_type": "stream",
     "text": [
      "/home/ubuntu/anaconda3/envs/tensorflow2.4_p37/lib/python3.7/site-packages/ipykernel/__main__.py:1: UserWarning: Boolean Series key will be reindexed to match DataFrame index.\n",
      "  if __name__ == '__main__':\n"
     ]
    },
    {
     "data": {
      "text/html": [
       "<div>\n",
       "<style scoped>\n",
       "    .dataframe tbody tr th:only-of-type {\n",
       "        vertical-align: middle;\n",
       "    }\n",
       "\n",
       "    .dataframe tbody tr th {\n",
       "        vertical-align: top;\n",
       "    }\n",
       "\n",
       "    .dataframe thead th {\n",
       "        text-align: right;\n",
       "    }\n",
       "</style>\n",
       "<table border=\"1\" class=\"dataframe\">\n",
       "  <thead>\n",
       "    <tr style=\"text-align: right;\">\n",
       "      <th></th>\n",
       "      <th>model</th>\n",
       "      <th>aug</th>\n",
       "      <th>beta_param</th>\n",
       "      <th>lowpass</th>\n",
       "      <th>highpass</th>\n",
       "      <th>ranfilter2</th>\n",
       "      <th>mask</th>\n",
       "      <th>blur</th>\n",
       "    </tr>\n",
       "  </thead>\n",
       "  <tbody>\n",
       "    <tr>\n",
       "      <th>78</th>\n",
       "      <td>BCResMax_ADD_</td>\n",
       "      <td>Mixup, LF, HF, RF</td>\n",
       "      <td>0.7</td>\n",
       "      <td>[[0.5, 0.5], [7, 8, 9, 10, 11, 12]]</td>\n",
       "      <td>[[0.5, 0.5], [80, 81, 82, 83, 84, 85, 86, 87]]</td>\n",
       "      <td>[2, [8, 9, 10, 11, 12]]</td>\n",
       "      <td>13.32</td>\n",
       "      <td>14.57</td>\n",
       "    </tr>\n",
       "    <tr>\n",
       "      <th>79</th>\n",
       "      <td>BCResMax_ADD_</td>\n",
       "      <td>Mixup, LF, HF, RF</td>\n",
       "      <td>0.7</td>\n",
       "      <td>[[0.5, 0.5], [7, 8, 9, 10, 11, 12]]</td>\n",
       "      <td>[[0.5, 0.5], [80, 81, 82, 83, 84, 85, 86, 87]]</td>\n",
       "      <td>[2, [8, 9, 10, 11, 12]]</td>\n",
       "      <td>13.32</td>\n",
       "      <td>13.77</td>\n",
       "    </tr>\n",
       "    <tr>\n",
       "      <th>80</th>\n",
       "      <td>BCResMax_ADD_</td>\n",
       "      <td>Mixup, LF, HF, RF</td>\n",
       "      <td>0.7</td>\n",
       "      <td>[[0.5, 0.5], [7, 8, 9, 10, 11, 12]]</td>\n",
       "      <td>[[0.5, 0.5], [80, 81, 82, 83, 84, 85, 86, 87]]</td>\n",
       "      <td>[2, [8, 9, 10, 11, 12]]</td>\n",
       "      <td>11.67</td>\n",
       "      <td>14.64</td>\n",
       "    </tr>\n",
       "  </tbody>\n",
       "</table>\n",
       "</div>"
      ],
      "text/plain": [
       "            model                aug  beta_param  \\\n",
       "78  BCResMax_ADD_  Mixup, LF, HF, RF         0.7   \n",
       "79  BCResMax_ADD_  Mixup, LF, HF, RF         0.7   \n",
       "80  BCResMax_ADD_  Mixup, LF, HF, RF         0.7   \n",
       "\n",
       "                                lowpass  \\\n",
       "78  [[0.5, 0.5], [7, 8, 9, 10, 11, 12]]   \n",
       "79  [[0.5, 0.5], [7, 8, 9, 10, 11, 12]]   \n",
       "80  [[0.5, 0.5], [7, 8, 9, 10, 11, 12]]   \n",
       "\n",
       "                                          highpass               ranfilter2  \\\n",
       "78  [[0.5, 0.5], [80, 81, 82, 83, 84, 85, 86, 87]]  [2, [8, 9, 10, 11, 12]]   \n",
       "79  [[0.5, 0.5], [80, 81, 82, 83, 84, 85, 86, 87]]  [2, [8, 9, 10, 11, 12]]   \n",
       "80  [[0.5, 0.5], [80, 81, 82, 83, 84, 85, 86, 87]]  [2, [8, 9, 10, 11, 12]]   \n",
       "\n",
       "     mask   blur  \n",
       "78  13.32  14.57  \n",
       "79  13.32  13.77  \n",
       "80  11.67  14.64  "
      ]
     },
     "execution_count": 143,
     "metadata": {},
     "output_type": "execute_result"
    }
   ],
   "source": [
    "bcresmax = df_add[df_add.model==\"BCResMax_ADD_\"][df_add.aug==\"Mixup, LF, HF, RF\"][['model','aug','beta_param','lowpass','highpass','ranfilter2','mask','blur']]\n",
    "bcresmax"
   ]
  },
  {
   "cell_type": "code",
   "execution_count": 144,
   "id": "a116a192",
   "metadata": {},
   "outputs": [
    {
     "data": {
      "text/plain": [
       "Ttest_indResult(statistic=-2.523992484453194, pvalue=0.06507943553022243)"
      ]
     },
     "execution_count": 144,
     "metadata": {},
     "output_type": "execute_result"
    }
   ],
   "source": [
    "# n이 작아서 p-value가 크게나옴\n",
    "ttest_ind(bcresmax[\"mask\"],bcresmax[\"blur\"],equal_var=True)\n"
   ]
  },
  {
   "cell_type": "code",
   "execution_count": 145,
   "id": "80e1fd77",
   "metadata": {},
   "outputs": [
    {
     "data": {
      "text/plain": [
       "Ttest_relResult(statistic=-2.093854637620923, pvalue=0.1713095009929841)"
      ]
     },
     "execution_count": 145,
     "metadata": {},
     "output_type": "execute_result"
    }
   ],
   "source": [
    "ttest_rel(bcresmax[\"mask\"],bcresmax[\"blur\"])"
   ]
  },
  {
   "cell_type": "markdown",
   "id": "f80458bd",
   "metadata": {},
   "source": [
    "---------------"
   ]
  },
  {
   "cell_type": "markdown",
   "id": "631f332e",
   "metadata": {},
   "source": [
    "## DDWSseq_LA_"
   ]
  },
  {
   "cell_type": "code",
   "execution_count": 223,
   "id": "79d563ef",
   "metadata": {},
   "outputs": [
    {
     "data": {
      "text/html": [
       "<div>\n",
       "<style scoped>\n",
       "    .dataframe tbody tr th:only-of-type {\n",
       "        vertical-align: middle;\n",
       "    }\n",
       "\n",
       "    .dataframe tbody tr th {\n",
       "        vertical-align: top;\n",
       "    }\n",
       "\n",
       "    .dataframe thead th {\n",
       "        text-align: right;\n",
       "    }\n",
       "</style>\n",
       "<table border=\"1\" class=\"dataframe\">\n",
       "  <thead>\n",
       "    <tr style=\"text-align: right;\">\n",
       "      <th></th>\n",
       "      <th>model</th>\n",
       "      <th>aug</th>\n",
       "      <th>beta_param</th>\n",
       "      <th>lowpass</th>\n",
       "      <th>highpass</th>\n",
       "      <th>ranfilter2</th>\n",
       "      <th>mask</th>\n",
       "      <th>blur</th>\n",
       "    </tr>\n",
       "  </thead>\n",
       "  <tbody>\n",
       "    <tr>\n",
       "      <th>9</th>\n",
       "      <td>DDWSseq_ADD_</td>\n",
       "      <td>Mixup, RF</td>\n",
       "      <td>0.7</td>\n",
       "      <td>False</td>\n",
       "      <td>False</td>\n",
       "      <td>[2, [8, 9, 10, 11, 12]]</td>\n",
       "      <td>13.77</td>\n",
       "      <td>15.66</td>\n",
       "    </tr>\n",
       "    <tr>\n",
       "      <th>10</th>\n",
       "      <td>DDWSseq_ADD_</td>\n",
       "      <td>Mixup, RF</td>\n",
       "      <td>0.7</td>\n",
       "      <td>False</td>\n",
       "      <td>False</td>\n",
       "      <td>[2, [8, 9, 10, 11, 12]]</td>\n",
       "      <td>11.99</td>\n",
       "      <td>14.09</td>\n",
       "    </tr>\n",
       "    <tr>\n",
       "      <th>11</th>\n",
       "      <td>DDWSseq_ADD_</td>\n",
       "      <td>Mixup, RF</td>\n",
       "      <td>0.7</td>\n",
       "      <td>False</td>\n",
       "      <td>False</td>\n",
       "      <td>[2, [8, 9, 10, 11, 12]]</td>\n",
       "      <td>14.43</td>\n",
       "      <td>14.40</td>\n",
       "    </tr>\n",
       "    <tr>\n",
       "      <th>21</th>\n",
       "      <td>DDWSseq_ADD_</td>\n",
       "      <td>Mixup, HF</td>\n",
       "      <td>0.7</td>\n",
       "      <td>False</td>\n",
       "      <td>[[0.5, 0.5], [80, 81, 82, 83, 84, 85, 86, 87]]</td>\n",
       "      <td>False</td>\n",
       "      <td>16.21</td>\n",
       "      <td>17.76</td>\n",
       "    </tr>\n",
       "    <tr>\n",
       "      <th>22</th>\n",
       "      <td>DDWSseq_ADD_</td>\n",
       "      <td>Mixup, HF</td>\n",
       "      <td>0.7</td>\n",
       "      <td>False</td>\n",
       "      <td>[[0.5, 0.5], [80, 81, 82, 83, 84, 85, 86, 87]]</td>\n",
       "      <td>False</td>\n",
       "      <td>17.90</td>\n",
       "      <td>19.78</td>\n",
       "    </tr>\n",
       "    <tr>\n",
       "      <th>23</th>\n",
       "      <td>DDWSseq_ADD_</td>\n",
       "      <td>Mixup, HF</td>\n",
       "      <td>0.7</td>\n",
       "      <td>False</td>\n",
       "      <td>[[0.5, 0.5], [80, 81, 82, 83, 84, 85, 86, 87]]</td>\n",
       "      <td>False</td>\n",
       "      <td>17.83</td>\n",
       "      <td>16.57</td>\n",
       "    </tr>\n",
       "    <tr>\n",
       "      <th>33</th>\n",
       "      <td>DDWSseq_ADD_</td>\n",
       "      <td>Mixup, HF, RF</td>\n",
       "      <td>0.7</td>\n",
       "      <td>False</td>\n",
       "      <td>[[0.5, 0.5], [80, 81, 82, 83, 84, 85, 86, 87]]</td>\n",
       "      <td>[2, [8, 9, 10, 11, 12]]</td>\n",
       "      <td>15.34</td>\n",
       "      <td>14.96</td>\n",
       "    </tr>\n",
       "    <tr>\n",
       "      <th>34</th>\n",
       "      <td>DDWSseq_ADD_</td>\n",
       "      <td>Mixup, HF, RF</td>\n",
       "      <td>0.7</td>\n",
       "      <td>False</td>\n",
       "      <td>[[0.5, 0.5], [80, 81, 82, 83, 84, 85, 86, 87]]</td>\n",
       "      <td>[2, [8, 9, 10, 11, 12]]</td>\n",
       "      <td>17.13</td>\n",
       "      <td>15.41</td>\n",
       "    </tr>\n",
       "    <tr>\n",
       "      <th>35</th>\n",
       "      <td>DDWSseq_ADD_</td>\n",
       "      <td>Mixup, HF, RF</td>\n",
       "      <td>0.7</td>\n",
       "      <td>False</td>\n",
       "      <td>[[0.5, 0.5], [80, 81, 82, 83, 84, 85, 86, 87]]</td>\n",
       "      <td>[2, [8, 9, 10, 11, 12]]</td>\n",
       "      <td>14.33</td>\n",
       "      <td>14.30</td>\n",
       "    </tr>\n",
       "    <tr>\n",
       "      <th>45</th>\n",
       "      <td>DDWSseq_ADD_</td>\n",
       "      <td>Mixup, LF</td>\n",
       "      <td>0.7</td>\n",
       "      <td>[[0.5, 0.5], [7, 8, 9, 10, 11, 12]]</td>\n",
       "      <td>False</td>\n",
       "      <td>False</td>\n",
       "      <td>18.21</td>\n",
       "      <td>17.34</td>\n",
       "    </tr>\n",
       "    <tr>\n",
       "      <th>46</th>\n",
       "      <td>DDWSseq_ADD_</td>\n",
       "      <td>Mixup, LF</td>\n",
       "      <td>0.7</td>\n",
       "      <td>[[0.5, 0.5], [7, 8, 9, 10, 11, 12]]</td>\n",
       "      <td>False</td>\n",
       "      <td>False</td>\n",
       "      <td>15.23</td>\n",
       "      <td>17.68</td>\n",
       "    </tr>\n",
       "    <tr>\n",
       "      <th>47</th>\n",
       "      <td>DDWSseq_ADD_</td>\n",
       "      <td>Mixup, LF</td>\n",
       "      <td>0.7</td>\n",
       "      <td>[[0.5, 0.5], [7, 8, 9, 10, 11, 12]]</td>\n",
       "      <td>False</td>\n",
       "      <td>False</td>\n",
       "      <td>17.20</td>\n",
       "      <td>20.00</td>\n",
       "    </tr>\n",
       "    <tr>\n",
       "      <th>57</th>\n",
       "      <td>DDWSseq_ADD_</td>\n",
       "      <td>Mixup, LF, RF</td>\n",
       "      <td>0.7</td>\n",
       "      <td>[[0.5, 0.5], [7, 8, 9, 10, 11, 12]]</td>\n",
       "      <td>False</td>\n",
       "      <td>[2, [8, 9, 10, 11, 12]]</td>\n",
       "      <td>17.76</td>\n",
       "      <td>12.83</td>\n",
       "    </tr>\n",
       "    <tr>\n",
       "      <th>58</th>\n",
       "      <td>DDWSseq_ADD_</td>\n",
       "      <td>Mixup, LF, RF</td>\n",
       "      <td>0.7</td>\n",
       "      <td>[[0.5, 0.5], [7, 8, 9, 10, 11, 12]]</td>\n",
       "      <td>False</td>\n",
       "      <td>[2, [8, 9, 10, 11, 12]]</td>\n",
       "      <td>12.62</td>\n",
       "      <td>16.43</td>\n",
       "    </tr>\n",
       "    <tr>\n",
       "      <th>59</th>\n",
       "      <td>DDWSseq_ADD_</td>\n",
       "      <td>Mixup, LF, RF</td>\n",
       "      <td>0.7</td>\n",
       "      <td>[[0.5, 0.5], [7, 8, 9, 10, 11, 12]]</td>\n",
       "      <td>False</td>\n",
       "      <td>[2, [8, 9, 10, 11, 12]]</td>\n",
       "      <td>16.19</td>\n",
       "      <td>17.51</td>\n",
       "    </tr>\n",
       "    <tr>\n",
       "      <th>69</th>\n",
       "      <td>DDWSseq_ADD_</td>\n",
       "      <td>Mixup, LF, HF</td>\n",
       "      <td>0.7</td>\n",
       "      <td>[[0.5, 0.5], [7, 8, 9, 10, 11, 12]]</td>\n",
       "      <td>[[0.5, 0.5], [80, 81, 82, 83, 84, 85, 86, 87]]</td>\n",
       "      <td>False</td>\n",
       "      <td>16.11</td>\n",
       "      <td>18.84</td>\n",
       "    </tr>\n",
       "    <tr>\n",
       "      <th>70</th>\n",
       "      <td>DDWSseq_ADD_</td>\n",
       "      <td>Mixup, LF, HF</td>\n",
       "      <td>0.7</td>\n",
       "      <td>[[0.5, 0.5], [7, 8, 9, 10, 11, 12]]</td>\n",
       "      <td>[[0.5, 0.5], [80, 81, 82, 83, 84, 85, 86, 87]]</td>\n",
       "      <td>False</td>\n",
       "      <td>14.79</td>\n",
       "      <td>16.43</td>\n",
       "    </tr>\n",
       "    <tr>\n",
       "      <th>71</th>\n",
       "      <td>DDWSseq_ADD_</td>\n",
       "      <td>Mixup, LF, HF</td>\n",
       "      <td>0.7</td>\n",
       "      <td>[[0.5, 0.5], [7, 8, 9, 10, 11, 12]]</td>\n",
       "      <td>[[0.5, 0.5], [80, 81, 82, 83, 84, 85, 86, 87]]</td>\n",
       "      <td>False</td>\n",
       "      <td>17.06</td>\n",
       "      <td>17.76</td>\n",
       "    </tr>\n",
       "    <tr>\n",
       "      <th>81</th>\n",
       "      <td>DDWSseq_ADD_</td>\n",
       "      <td>Mixup, LF, HF, RF</td>\n",
       "      <td>0.7</td>\n",
       "      <td>[[0.5, 0.5], [7, 8, 9, 10, 11, 12]]</td>\n",
       "      <td>[[0.5, 0.5], [80, 81, 82, 83, 84, 85, 86, 87]]</td>\n",
       "      <td>[2, [8, 9, 10, 11, 12]]</td>\n",
       "      <td>16.36</td>\n",
       "      <td>15.41</td>\n",
       "    </tr>\n",
       "    <tr>\n",
       "      <th>82</th>\n",
       "      <td>DDWSseq_ADD_</td>\n",
       "      <td>Mixup, LF, HF, RF</td>\n",
       "      <td>0.7</td>\n",
       "      <td>[[0.5, 0.5], [7, 8, 9, 10, 11, 12]]</td>\n",
       "      <td>[[0.5, 0.5], [80, 81, 82, 83, 84, 85, 86, 87]]</td>\n",
       "      <td>[2, [8, 9, 10, 11, 12]]</td>\n",
       "      <td>17.76</td>\n",
       "      <td>14.47</td>\n",
       "    </tr>\n",
       "    <tr>\n",
       "      <th>83</th>\n",
       "      <td>DDWSseq_ADD_</td>\n",
       "      <td>Mixup, LF, HF, RF</td>\n",
       "      <td>0.7</td>\n",
       "      <td>[[0.5, 0.5], [7, 8, 9, 10, 11, 12]]</td>\n",
       "      <td>[[0.5, 0.5], [80, 81, 82, 83, 84, 85, 86, 87]]</td>\n",
       "      <td>[2, [8, 9, 10, 11, 12]]</td>\n",
       "      <td>15.97</td>\n",
       "      <td>14.33</td>\n",
       "    </tr>\n",
       "  </tbody>\n",
       "</table>\n",
       "</div>"
      ],
      "text/plain": [
       "           model                aug  beta_param  \\\n",
       "9   DDWSseq_ADD_          Mixup, RF         0.7   \n",
       "10  DDWSseq_ADD_          Mixup, RF         0.7   \n",
       "11  DDWSseq_ADD_          Mixup, RF         0.7   \n",
       "21  DDWSseq_ADD_          Mixup, HF         0.7   \n",
       "22  DDWSseq_ADD_          Mixup, HF         0.7   \n",
       "23  DDWSseq_ADD_          Mixup, HF         0.7   \n",
       "33  DDWSseq_ADD_      Mixup, HF, RF         0.7   \n",
       "34  DDWSseq_ADD_      Mixup, HF, RF         0.7   \n",
       "35  DDWSseq_ADD_      Mixup, HF, RF         0.7   \n",
       "45  DDWSseq_ADD_          Mixup, LF         0.7   \n",
       "46  DDWSseq_ADD_          Mixup, LF         0.7   \n",
       "47  DDWSseq_ADD_          Mixup, LF         0.7   \n",
       "57  DDWSseq_ADD_      Mixup, LF, RF         0.7   \n",
       "58  DDWSseq_ADD_      Mixup, LF, RF         0.7   \n",
       "59  DDWSseq_ADD_      Mixup, LF, RF         0.7   \n",
       "69  DDWSseq_ADD_      Mixup, LF, HF         0.7   \n",
       "70  DDWSseq_ADD_      Mixup, LF, HF         0.7   \n",
       "71  DDWSseq_ADD_      Mixup, LF, HF         0.7   \n",
       "81  DDWSseq_ADD_  Mixup, LF, HF, RF         0.7   \n",
       "82  DDWSseq_ADD_  Mixup, LF, HF, RF         0.7   \n",
       "83  DDWSseq_ADD_  Mixup, LF, HF, RF         0.7   \n",
       "\n",
       "                                lowpass  \\\n",
       "9                                 False   \n",
       "10                                False   \n",
       "11                                False   \n",
       "21                                False   \n",
       "22                                False   \n",
       "23                                False   \n",
       "33                                False   \n",
       "34                                False   \n",
       "35                                False   \n",
       "45  [[0.5, 0.5], [7, 8, 9, 10, 11, 12]]   \n",
       "46  [[0.5, 0.5], [7, 8, 9, 10, 11, 12]]   \n",
       "47  [[0.5, 0.5], [7, 8, 9, 10, 11, 12]]   \n",
       "57  [[0.5, 0.5], [7, 8, 9, 10, 11, 12]]   \n",
       "58  [[0.5, 0.5], [7, 8, 9, 10, 11, 12]]   \n",
       "59  [[0.5, 0.5], [7, 8, 9, 10, 11, 12]]   \n",
       "69  [[0.5, 0.5], [7, 8, 9, 10, 11, 12]]   \n",
       "70  [[0.5, 0.5], [7, 8, 9, 10, 11, 12]]   \n",
       "71  [[0.5, 0.5], [7, 8, 9, 10, 11, 12]]   \n",
       "81  [[0.5, 0.5], [7, 8, 9, 10, 11, 12]]   \n",
       "82  [[0.5, 0.5], [7, 8, 9, 10, 11, 12]]   \n",
       "83  [[0.5, 0.5], [7, 8, 9, 10, 11, 12]]   \n",
       "\n",
       "                                          highpass               ranfilter2  \\\n",
       "9                                            False  [2, [8, 9, 10, 11, 12]]   \n",
       "10                                           False  [2, [8, 9, 10, 11, 12]]   \n",
       "11                                           False  [2, [8, 9, 10, 11, 12]]   \n",
       "21  [[0.5, 0.5], [80, 81, 82, 83, 84, 85, 86, 87]]                    False   \n",
       "22  [[0.5, 0.5], [80, 81, 82, 83, 84, 85, 86, 87]]                    False   \n",
       "23  [[0.5, 0.5], [80, 81, 82, 83, 84, 85, 86, 87]]                    False   \n",
       "33  [[0.5, 0.5], [80, 81, 82, 83, 84, 85, 86, 87]]  [2, [8, 9, 10, 11, 12]]   \n",
       "34  [[0.5, 0.5], [80, 81, 82, 83, 84, 85, 86, 87]]  [2, [8, 9, 10, 11, 12]]   \n",
       "35  [[0.5, 0.5], [80, 81, 82, 83, 84, 85, 86, 87]]  [2, [8, 9, 10, 11, 12]]   \n",
       "45                                           False                    False   \n",
       "46                                           False                    False   \n",
       "47                                           False                    False   \n",
       "57                                           False  [2, [8, 9, 10, 11, 12]]   \n",
       "58                                           False  [2, [8, 9, 10, 11, 12]]   \n",
       "59                                           False  [2, [8, 9, 10, 11, 12]]   \n",
       "69  [[0.5, 0.5], [80, 81, 82, 83, 84, 85, 86, 87]]                    False   \n",
       "70  [[0.5, 0.5], [80, 81, 82, 83, 84, 85, 86, 87]]                    False   \n",
       "71  [[0.5, 0.5], [80, 81, 82, 83, 84, 85, 86, 87]]                    False   \n",
       "81  [[0.5, 0.5], [80, 81, 82, 83, 84, 85, 86, 87]]  [2, [8, 9, 10, 11, 12]]   \n",
       "82  [[0.5, 0.5], [80, 81, 82, 83, 84, 85, 86, 87]]  [2, [8, 9, 10, 11, 12]]   \n",
       "83  [[0.5, 0.5], [80, 81, 82, 83, 84, 85, 86, 87]]  [2, [8, 9, 10, 11, 12]]   \n",
       "\n",
       "     mask   blur  \n",
       "9   13.77  15.66  \n",
       "10  11.99  14.09  \n",
       "11  14.43  14.40  \n",
       "21  16.21  17.76  \n",
       "22  17.90  19.78  \n",
       "23  17.83  16.57  \n",
       "33  15.34  14.96  \n",
       "34  17.13  15.41  \n",
       "35  14.33  14.30  \n",
       "45  18.21  17.34  \n",
       "46  15.23  17.68  \n",
       "47  17.20  20.00  \n",
       "57  17.76  12.83  \n",
       "58  12.62  16.43  \n",
       "59  16.19  17.51  \n",
       "69  16.11  18.84  \n",
       "70  14.79  16.43  \n",
       "71  17.06  17.76  \n",
       "81  16.36  15.41  \n",
       "82  17.76  14.47  \n",
       "83  15.97  14.33  "
      ]
     },
     "execution_count": 223,
     "metadata": {},
     "output_type": "execute_result"
    }
   ],
   "source": [
    "ddws = df_add[df_add.model==\"DDWSseq_ADD_\"][['model','aug','beta_param','lowpass','highpass','ranfilter2','mask','blur']]\n",
    "ddws"
   ]
  },
  {
   "cell_type": "code",
   "execution_count": 224,
   "id": "27fba018",
   "metadata": {},
   "outputs": [
    {
     "data": {
      "text/plain": [
       "Ttest_indResult(statistic=-0.6436463285006008, pvalue=0.523478229143472)"
      ]
     },
     "execution_count": 224,
     "metadata": {},
     "output_type": "execute_result"
    }
   ],
   "source": [
    "# n이 작아서 p-value가 크게나옴\n",
    "ttest_ind(ddws[\"mask\"],ddws[\"blur\"],equal_var=True)\n"
   ]
  },
  {
   "cell_type": "code",
   "execution_count": 225,
   "id": "da97f8ab",
   "metadata": {},
   "outputs": [
    {
     "data": {
      "text/plain": [
       "Ttest_relResult(statistic=-0.7741210173133545, pvalue=0.44791421162252776)"
      ]
     },
     "execution_count": 225,
     "metadata": {},
     "output_type": "execute_result"
    }
   ],
   "source": [
    "ttest_rel(ddws[\"mask\"],ddws[\"blur\"])"
   ]
  },
  {
   "cell_type": "markdown",
   "id": "fa06a5fa",
   "metadata": {},
   "source": [
    "### 1. (Mixup,LF), 차이없음"
   ]
  },
  {
   "cell_type": "code",
   "execution_count": 146,
   "id": "cf4aaaa3",
   "metadata": {},
   "outputs": [
    {
     "name": "stderr",
     "output_type": "stream",
     "text": [
      "/home/ubuntu/anaconda3/envs/tensorflow2.4_p37/lib/python3.7/site-packages/ipykernel/__main__.py:1: UserWarning: Boolean Series key will be reindexed to match DataFrame index.\n",
      "  if __name__ == '__main__':\n"
     ]
    },
    {
     "data": {
      "text/html": [
       "<div>\n",
       "<style scoped>\n",
       "    .dataframe tbody tr th:only-of-type {\n",
       "        vertical-align: middle;\n",
       "    }\n",
       "\n",
       "    .dataframe tbody tr th {\n",
       "        vertical-align: top;\n",
       "    }\n",
       "\n",
       "    .dataframe thead th {\n",
       "        text-align: right;\n",
       "    }\n",
       "</style>\n",
       "<table border=\"1\" class=\"dataframe\">\n",
       "  <thead>\n",
       "    <tr style=\"text-align: right;\">\n",
       "      <th></th>\n",
       "      <th>model</th>\n",
       "      <th>aug</th>\n",
       "      <th>beta_param</th>\n",
       "      <th>lowpass</th>\n",
       "      <th>highpass</th>\n",
       "      <th>ranfilter2</th>\n",
       "      <th>mask</th>\n",
       "      <th>blur</th>\n",
       "    </tr>\n",
       "  </thead>\n",
       "  <tbody>\n",
       "    <tr>\n",
       "      <th>45</th>\n",
       "      <td>DDWSseq_ADD_</td>\n",
       "      <td>Mixup, LF</td>\n",
       "      <td>0.7</td>\n",
       "      <td>[[0.5, 0.5], [7, 8, 9, 10, 11, 12]]</td>\n",
       "      <td>False</td>\n",
       "      <td>False</td>\n",
       "      <td>18.21</td>\n",
       "      <td>17.34</td>\n",
       "    </tr>\n",
       "    <tr>\n",
       "      <th>46</th>\n",
       "      <td>DDWSseq_ADD_</td>\n",
       "      <td>Mixup, LF</td>\n",
       "      <td>0.7</td>\n",
       "      <td>[[0.5, 0.5], [7, 8, 9, 10, 11, 12]]</td>\n",
       "      <td>False</td>\n",
       "      <td>False</td>\n",
       "      <td>15.23</td>\n",
       "      <td>17.68</td>\n",
       "    </tr>\n",
       "    <tr>\n",
       "      <th>47</th>\n",
       "      <td>DDWSseq_ADD_</td>\n",
       "      <td>Mixup, LF</td>\n",
       "      <td>0.7</td>\n",
       "      <td>[[0.5, 0.5], [7, 8, 9, 10, 11, 12]]</td>\n",
       "      <td>False</td>\n",
       "      <td>False</td>\n",
       "      <td>17.20</td>\n",
       "      <td>20.00</td>\n",
       "    </tr>\n",
       "  </tbody>\n",
       "</table>\n",
       "</div>"
      ],
      "text/plain": [
       "           model        aug  beta_param                              lowpass  \\\n",
       "45  DDWSseq_ADD_  Mixup, LF         0.7  [[0.5, 0.5], [7, 8, 9, 10, 11, 12]]   \n",
       "46  DDWSseq_ADD_  Mixup, LF         0.7  [[0.5, 0.5], [7, 8, 9, 10, 11, 12]]   \n",
       "47  DDWSseq_ADD_  Mixup, LF         0.7  [[0.5, 0.5], [7, 8, 9, 10, 11, 12]]   \n",
       "\n",
       "   highpass ranfilter2   mask   blur  \n",
       "45    False      False  18.21  17.34  \n",
       "46    False      False  15.23  17.68  \n",
       "47    False      False  17.20  20.00  "
      ]
     },
     "execution_count": 146,
     "metadata": {},
     "output_type": "execute_result"
    }
   ],
   "source": [
    "ddws = df_add[df_add.model==\"DDWSseq_ADD_\"][df_add.aug==\"Mixup, LF\"][['model','aug','beta_param','lowpass','highpass','ranfilter2','mask','blur']]\n",
    "ddws"
   ]
  },
  {
   "cell_type": "code",
   "execution_count": 147,
   "id": "6ba79ae1",
   "metadata": {},
   "outputs": [
    {
     "data": {
      "text/plain": [
       "Ttest_indResult(statistic=-1.2065841001214583, pvalue=0.2940703521294036)"
      ]
     },
     "execution_count": 147,
     "metadata": {},
     "output_type": "execute_result"
    }
   ],
   "source": [
    "# n이 작아서 p-value가 크게나옴\n",
    "ttest_ind(ddws[\"mask\"],ddws[\"blur\"],equal_var=True)\n"
   ]
  },
  {
   "cell_type": "code",
   "execution_count": 123,
   "id": "bf16e486",
   "metadata": {},
   "outputs": [
    {
     "data": {
      "text/plain": [
       "Ttest_relResult(statistic=-1.2485322782630444, pvalue=0.3381707163174509)"
      ]
     },
     "execution_count": 123,
     "metadata": {},
     "output_type": "execute_result"
    }
   ],
   "source": [
    "ttest_rel(ddws[\"mask\"],ddws[\"blur\"])"
   ]
  },
  {
   "cell_type": "markdown",
   "id": "45eb6d04",
   "metadata": {},
   "source": [
    "### 2. (Mixup, HF), 차이없음"
   ]
  },
  {
   "cell_type": "code",
   "execution_count": 124,
   "id": "33727a9c",
   "metadata": {},
   "outputs": [
    {
     "name": "stderr",
     "output_type": "stream",
     "text": [
      "/home/ubuntu/anaconda3/envs/tensorflow2.4_p37/lib/python3.7/site-packages/ipykernel/__main__.py:1: UserWarning: Boolean Series key will be reindexed to match DataFrame index.\n",
      "  if __name__ == '__main__':\n"
     ]
    },
    {
     "data": {
      "text/html": [
       "<div>\n",
       "<style scoped>\n",
       "    .dataframe tbody tr th:only-of-type {\n",
       "        vertical-align: middle;\n",
       "    }\n",
       "\n",
       "    .dataframe tbody tr th {\n",
       "        vertical-align: top;\n",
       "    }\n",
       "\n",
       "    .dataframe thead th {\n",
       "        text-align: right;\n",
       "    }\n",
       "</style>\n",
       "<table border=\"1\" class=\"dataframe\">\n",
       "  <thead>\n",
       "    <tr style=\"text-align: right;\">\n",
       "      <th></th>\n",
       "      <th>model</th>\n",
       "      <th>aug</th>\n",
       "      <th>beta_param</th>\n",
       "      <th>lowpass</th>\n",
       "      <th>highpass</th>\n",
       "      <th>ranfilter2</th>\n",
       "      <th>mask</th>\n",
       "      <th>blur</th>\n",
       "    </tr>\n",
       "  </thead>\n",
       "  <tbody>\n",
       "    <tr>\n",
       "      <th>21</th>\n",
       "      <td>DDWSseq_ADD_</td>\n",
       "      <td>Mixup, HF</td>\n",
       "      <td>0.7</td>\n",
       "      <td>False</td>\n",
       "      <td>[[0.5, 0.5], [80, 81, 82, 83, 84, 85, 86, 87]]</td>\n",
       "      <td>False</td>\n",
       "      <td>16.21</td>\n",
       "      <td>17.76</td>\n",
       "    </tr>\n",
       "    <tr>\n",
       "      <th>22</th>\n",
       "      <td>DDWSseq_ADD_</td>\n",
       "      <td>Mixup, HF</td>\n",
       "      <td>0.7</td>\n",
       "      <td>False</td>\n",
       "      <td>[[0.5, 0.5], [80, 81, 82, 83, 84, 85, 86, 87]]</td>\n",
       "      <td>False</td>\n",
       "      <td>17.90</td>\n",
       "      <td>19.78</td>\n",
       "    </tr>\n",
       "    <tr>\n",
       "      <th>23</th>\n",
       "      <td>DDWSseq_ADD_</td>\n",
       "      <td>Mixup, HF</td>\n",
       "      <td>0.7</td>\n",
       "      <td>False</td>\n",
       "      <td>[[0.5, 0.5], [80, 81, 82, 83, 84, 85, 86, 87]]</td>\n",
       "      <td>False</td>\n",
       "      <td>17.83</td>\n",
       "      <td>16.57</td>\n",
       "    </tr>\n",
       "  </tbody>\n",
       "</table>\n",
       "</div>"
      ],
      "text/plain": [
       "           model        aug  beta_param lowpass  \\\n",
       "21  DDWSseq_ADD_  Mixup, HF         0.7   False   \n",
       "22  DDWSseq_ADD_  Mixup, HF         0.7   False   \n",
       "23  DDWSseq_ADD_  Mixup, HF         0.7   False   \n",
       "\n",
       "                                          highpass ranfilter2   mask   blur  \n",
       "21  [[0.5, 0.5], [80, 81, 82, 83, 84, 85, 86, 87]]      False  16.21  17.76  \n",
       "22  [[0.5, 0.5], [80, 81, 82, 83, 84, 85, 86, 87]]      False  17.90  19.78  \n",
       "23  [[0.5, 0.5], [80, 81, 82, 83, 84, 85, 86, 87]]      False  17.83  16.57  "
      ]
     },
     "execution_count": 124,
     "metadata": {},
     "output_type": "execute_result"
    }
   ],
   "source": [
    "ddws = df_add[df_add.model==\"DDWSseq_ADD_\"][df_add.aug==\"Mixup, HF\"][['model','aug','beta_param','lowpass','highpass','ranfilter2','mask','blur']]\n",
    "ddws"
   ]
  },
  {
   "cell_type": "code",
   "execution_count": 125,
   "id": "7e8b4446",
   "metadata": {},
   "outputs": [
    {
     "data": {
      "text/plain": [
       "Ttest_indResult(statistic=-0.6651624170530498, pvalue=0.542337165012805)"
      ]
     },
     "execution_count": 125,
     "metadata": {},
     "output_type": "execute_result"
    }
   ],
   "source": [
    "# n이 작아서 p-value가 크게나옴\n",
    "ttest_ind(ddws[\"mask\"],ddws[\"blur\"],equal_var=True)\n"
   ]
  },
  {
   "cell_type": "code",
   "execution_count": 126,
   "id": "1b83d014",
   "metadata": {},
   "outputs": [
    {
     "data": {
      "text/plain": [
       "Ttest_relResult(statistic=-0.7260693155825635, pvalue=0.5432692172058)"
      ]
     },
     "execution_count": 126,
     "metadata": {},
     "output_type": "execute_result"
    }
   ],
   "source": [
    "ttest_rel(ddws[\"mask\"],ddws[\"blur\"])"
   ]
  },
  {
   "cell_type": "markdown",
   "id": "5642f1d8",
   "metadata": {},
   "source": [
    "### 3. (Mixup, RF), 차이있음"
   ]
  },
  {
   "cell_type": "code",
   "execution_count": 128,
   "id": "e6646357",
   "metadata": {},
   "outputs": [
    {
     "name": "stderr",
     "output_type": "stream",
     "text": [
      "/home/ubuntu/anaconda3/envs/tensorflow2.4_p37/lib/python3.7/site-packages/ipykernel/__main__.py:1: UserWarning: Boolean Series key will be reindexed to match DataFrame index.\n",
      "  if __name__ == '__main__':\n"
     ]
    },
    {
     "data": {
      "text/html": [
       "<div>\n",
       "<style scoped>\n",
       "    .dataframe tbody tr th:only-of-type {\n",
       "        vertical-align: middle;\n",
       "    }\n",
       "\n",
       "    .dataframe tbody tr th {\n",
       "        vertical-align: top;\n",
       "    }\n",
       "\n",
       "    .dataframe thead th {\n",
       "        text-align: right;\n",
       "    }\n",
       "</style>\n",
       "<table border=\"1\" class=\"dataframe\">\n",
       "  <thead>\n",
       "    <tr style=\"text-align: right;\">\n",
       "      <th></th>\n",
       "      <th>model</th>\n",
       "      <th>aug</th>\n",
       "      <th>beta_param</th>\n",
       "      <th>lowpass</th>\n",
       "      <th>highpass</th>\n",
       "      <th>ranfilter2</th>\n",
       "      <th>mask</th>\n",
       "      <th>blur</th>\n",
       "    </tr>\n",
       "  </thead>\n",
       "  <tbody>\n",
       "    <tr>\n",
       "      <th>9</th>\n",
       "      <td>DDWSseq_ADD_</td>\n",
       "      <td>Mixup, RF</td>\n",
       "      <td>0.7</td>\n",
       "      <td>False</td>\n",
       "      <td>False</td>\n",
       "      <td>[2, [8, 9, 10, 11, 12]]</td>\n",
       "      <td>13.77</td>\n",
       "      <td>15.66</td>\n",
       "    </tr>\n",
       "    <tr>\n",
       "      <th>10</th>\n",
       "      <td>DDWSseq_ADD_</td>\n",
       "      <td>Mixup, RF</td>\n",
       "      <td>0.7</td>\n",
       "      <td>False</td>\n",
       "      <td>False</td>\n",
       "      <td>[2, [8, 9, 10, 11, 12]]</td>\n",
       "      <td>11.99</td>\n",
       "      <td>14.09</td>\n",
       "    </tr>\n",
       "    <tr>\n",
       "      <th>11</th>\n",
       "      <td>DDWSseq_ADD_</td>\n",
       "      <td>Mixup, RF</td>\n",
       "      <td>0.7</td>\n",
       "      <td>False</td>\n",
       "      <td>False</td>\n",
       "      <td>[2, [8, 9, 10, 11, 12]]</td>\n",
       "      <td>14.43</td>\n",
       "      <td>14.40</td>\n",
       "    </tr>\n",
       "  </tbody>\n",
       "</table>\n",
       "</div>"
      ],
      "text/plain": [
       "           model        aug  beta_param lowpass highpass  \\\n",
       "9   DDWSseq_ADD_  Mixup, RF         0.7   False    False   \n",
       "10  DDWSseq_ADD_  Mixup, RF         0.7   False    False   \n",
       "11  DDWSseq_ADD_  Mixup, RF         0.7   False    False   \n",
       "\n",
       "                 ranfilter2   mask   blur  \n",
       "9   [2, [8, 9, 10, 11, 12]]  13.77  15.66  \n",
       "10  [2, [8, 9, 10, 11, 12]]  11.99  14.09  \n",
       "11  [2, [8, 9, 10, 11, 12]]  14.43  14.40  "
      ]
     },
     "execution_count": 128,
     "metadata": {},
     "output_type": "execute_result"
    }
   ],
   "source": [
    "ddws = df_add[df_add.model==\"DDWSseq_ADD_\"][df_add.aug==\"Mixup, RF\"][['model','aug','beta_param','lowpass','highpass','ranfilter2','mask','blur']]\n",
    "ddws"
   ]
  },
  {
   "cell_type": "code",
   "execution_count": 129,
   "id": "17434360",
   "metadata": {},
   "outputs": [
    {
     "data": {
      "text/plain": [
       "Ttest_indResult(statistic=-1.5126959752507638, pvalue=0.20490350338917854)"
      ]
     },
     "execution_count": 129,
     "metadata": {},
     "output_type": "execute_result"
    }
   ],
   "source": [
    "# n이 작아서 p-value가 크게나옴\n",
    "ttest_ind(ddws[\"mask\"],ddws[\"blur\"],equal_var=True)\n"
   ]
  },
  {
   "cell_type": "code",
   "execution_count": 130,
   "id": "b2a0605d",
   "metadata": {},
   "outputs": [
    {
     "data": {
      "text/plain": [
       "Ttest_relResult(statistic=-1.9477163435499074, pvalue=0.19080816131614411)"
      ]
     },
     "execution_count": 130,
     "metadata": {},
     "output_type": "execute_result"
    }
   ],
   "source": [
    "ttest_rel(ddws[\"mask\"],ddws[\"blur\"])"
   ]
  },
  {
   "cell_type": "markdown",
   "id": "67dde073",
   "metadata": {},
   "source": [
    "### 4. (Mixup, LF, HF), 차이없음"
   ]
  },
  {
   "cell_type": "code",
   "execution_count": 131,
   "id": "ff5974a5",
   "metadata": {},
   "outputs": [
    {
     "name": "stderr",
     "output_type": "stream",
     "text": [
      "/home/ubuntu/anaconda3/envs/tensorflow2.4_p37/lib/python3.7/site-packages/ipykernel/__main__.py:1: UserWarning: Boolean Series key will be reindexed to match DataFrame index.\n",
      "  if __name__ == '__main__':\n"
     ]
    },
    {
     "data": {
      "text/html": [
       "<div>\n",
       "<style scoped>\n",
       "    .dataframe tbody tr th:only-of-type {\n",
       "        vertical-align: middle;\n",
       "    }\n",
       "\n",
       "    .dataframe tbody tr th {\n",
       "        vertical-align: top;\n",
       "    }\n",
       "\n",
       "    .dataframe thead th {\n",
       "        text-align: right;\n",
       "    }\n",
       "</style>\n",
       "<table border=\"1\" class=\"dataframe\">\n",
       "  <thead>\n",
       "    <tr style=\"text-align: right;\">\n",
       "      <th></th>\n",
       "      <th>model</th>\n",
       "      <th>aug</th>\n",
       "      <th>beta_param</th>\n",
       "      <th>lowpass</th>\n",
       "      <th>highpass</th>\n",
       "      <th>ranfilter2</th>\n",
       "      <th>mask</th>\n",
       "      <th>blur</th>\n",
       "    </tr>\n",
       "  </thead>\n",
       "  <tbody>\n",
       "    <tr>\n",
       "      <th>69</th>\n",
       "      <td>DDWSseq_ADD_</td>\n",
       "      <td>Mixup, LF, HF</td>\n",
       "      <td>0.7</td>\n",
       "      <td>[[0.5, 0.5], [7, 8, 9, 10, 11, 12]]</td>\n",
       "      <td>[[0.5, 0.5], [80, 81, 82, 83, 84, 85, 86, 87]]</td>\n",
       "      <td>False</td>\n",
       "      <td>16.11</td>\n",
       "      <td>18.84</td>\n",
       "    </tr>\n",
       "    <tr>\n",
       "      <th>70</th>\n",
       "      <td>DDWSseq_ADD_</td>\n",
       "      <td>Mixup, LF, HF</td>\n",
       "      <td>0.7</td>\n",
       "      <td>[[0.5, 0.5], [7, 8, 9, 10, 11, 12]]</td>\n",
       "      <td>[[0.5, 0.5], [80, 81, 82, 83, 84, 85, 86, 87]]</td>\n",
       "      <td>False</td>\n",
       "      <td>14.79</td>\n",
       "      <td>16.43</td>\n",
       "    </tr>\n",
       "    <tr>\n",
       "      <th>71</th>\n",
       "      <td>DDWSseq_ADD_</td>\n",
       "      <td>Mixup, LF, HF</td>\n",
       "      <td>0.7</td>\n",
       "      <td>[[0.5, 0.5], [7, 8, 9, 10, 11, 12]]</td>\n",
       "      <td>[[0.5, 0.5], [80, 81, 82, 83, 84, 85, 86, 87]]</td>\n",
       "      <td>False</td>\n",
       "      <td>17.06</td>\n",
       "      <td>17.76</td>\n",
       "    </tr>\n",
       "  </tbody>\n",
       "</table>\n",
       "</div>"
      ],
      "text/plain": [
       "           model            aug  beta_param  \\\n",
       "69  DDWSseq_ADD_  Mixup, LF, HF         0.7   \n",
       "70  DDWSseq_ADD_  Mixup, LF, HF         0.7   \n",
       "71  DDWSseq_ADD_  Mixup, LF, HF         0.7   \n",
       "\n",
       "                                lowpass  \\\n",
       "69  [[0.5, 0.5], [7, 8, 9, 10, 11, 12]]   \n",
       "70  [[0.5, 0.5], [7, 8, 9, 10, 11, 12]]   \n",
       "71  [[0.5, 0.5], [7, 8, 9, 10, 11, 12]]   \n",
       "\n",
       "                                          highpass ranfilter2   mask   blur  \n",
       "69  [[0.5, 0.5], [80, 81, 82, 83, 84, 85, 86, 87]]      False  16.11  18.84  \n",
       "70  [[0.5, 0.5], [80, 81, 82, 83, 84, 85, 86, 87]]      False  14.79  16.43  \n",
       "71  [[0.5, 0.5], [80, 81, 82, 83, 84, 85, 86, 87]]      False  17.06  17.76  "
      ]
     },
     "execution_count": 131,
     "metadata": {},
     "output_type": "execute_result"
    }
   ],
   "source": [
    "ddws = df_add[df_add.model==\"DDWSseq_ADD_\"][df_add.aug==\"Mixup, LF, HF\"][['model','aug','beta_param','lowpass','highpass','ranfilter2','mask','blur']]\n",
    "ddws"
   ]
  },
  {
   "cell_type": "code",
   "execution_count": 132,
   "id": "0efb38b5",
   "metadata": {},
   "outputs": [
    {
     "data": {
      "text/plain": [
       "Ttest_indResult(statistic=-1.7629477900396082, pvalue=0.15269063316343962)"
      ]
     },
     "execution_count": 132,
     "metadata": {},
     "output_type": "execute_result"
    }
   ],
   "source": [
    "# n이 작아서 p-value가 크게나옴\n",
    "ttest_ind(ddws[\"mask\"],ddws[\"blur\"],equal_var=True)\n"
   ]
  },
  {
   "cell_type": "code",
   "execution_count": 133,
   "id": "a2076897",
   "metadata": {},
   "outputs": [
    {
     "data": {
      "text/plain": [
       "Ttest_relResult(statistic=-2.881286490430624, pvalue=0.10230328430511292)"
      ]
     },
     "execution_count": 133,
     "metadata": {},
     "output_type": "execute_result"
    }
   ],
   "source": [
    "ttest_rel(ddws[\"mask\"],ddws[\"blur\"])"
   ]
  },
  {
   "cell_type": "markdown",
   "id": "d70bdfe9",
   "metadata": {},
   "source": [
    "### 5. (Mixup, LF, RF), 차이없음"
   ]
  },
  {
   "cell_type": "code",
   "execution_count": 134,
   "id": "462a24a6",
   "metadata": {},
   "outputs": [
    {
     "name": "stderr",
     "output_type": "stream",
     "text": [
      "/home/ubuntu/anaconda3/envs/tensorflow2.4_p37/lib/python3.7/site-packages/ipykernel/__main__.py:1: UserWarning: Boolean Series key will be reindexed to match DataFrame index.\n",
      "  if __name__ == '__main__':\n"
     ]
    },
    {
     "data": {
      "text/html": [
       "<div>\n",
       "<style scoped>\n",
       "    .dataframe tbody tr th:only-of-type {\n",
       "        vertical-align: middle;\n",
       "    }\n",
       "\n",
       "    .dataframe tbody tr th {\n",
       "        vertical-align: top;\n",
       "    }\n",
       "\n",
       "    .dataframe thead th {\n",
       "        text-align: right;\n",
       "    }\n",
       "</style>\n",
       "<table border=\"1\" class=\"dataframe\">\n",
       "  <thead>\n",
       "    <tr style=\"text-align: right;\">\n",
       "      <th></th>\n",
       "      <th>model</th>\n",
       "      <th>aug</th>\n",
       "      <th>beta_param</th>\n",
       "      <th>lowpass</th>\n",
       "      <th>highpass</th>\n",
       "      <th>ranfilter2</th>\n",
       "      <th>mask</th>\n",
       "      <th>blur</th>\n",
       "    </tr>\n",
       "  </thead>\n",
       "  <tbody>\n",
       "    <tr>\n",
       "      <th>57</th>\n",
       "      <td>DDWSseq_ADD_</td>\n",
       "      <td>Mixup, LF, RF</td>\n",
       "      <td>0.7</td>\n",
       "      <td>[[0.5, 0.5], [7, 8, 9, 10, 11, 12]]</td>\n",
       "      <td>False</td>\n",
       "      <td>[2, [8, 9, 10, 11, 12]]</td>\n",
       "      <td>17.76</td>\n",
       "      <td>12.83</td>\n",
       "    </tr>\n",
       "    <tr>\n",
       "      <th>58</th>\n",
       "      <td>DDWSseq_ADD_</td>\n",
       "      <td>Mixup, LF, RF</td>\n",
       "      <td>0.7</td>\n",
       "      <td>[[0.5, 0.5], [7, 8, 9, 10, 11, 12]]</td>\n",
       "      <td>False</td>\n",
       "      <td>[2, [8, 9, 10, 11, 12]]</td>\n",
       "      <td>12.62</td>\n",
       "      <td>16.43</td>\n",
       "    </tr>\n",
       "    <tr>\n",
       "      <th>59</th>\n",
       "      <td>DDWSseq_ADD_</td>\n",
       "      <td>Mixup, LF, RF</td>\n",
       "      <td>0.7</td>\n",
       "      <td>[[0.5, 0.5], [7, 8, 9, 10, 11, 12]]</td>\n",
       "      <td>False</td>\n",
       "      <td>[2, [8, 9, 10, 11, 12]]</td>\n",
       "      <td>16.19</td>\n",
       "      <td>17.51</td>\n",
       "    </tr>\n",
       "  </tbody>\n",
       "</table>\n",
       "</div>"
      ],
      "text/plain": [
       "           model            aug  beta_param  \\\n",
       "57  DDWSseq_ADD_  Mixup, LF, RF         0.7   \n",
       "58  DDWSseq_ADD_  Mixup, LF, RF         0.7   \n",
       "59  DDWSseq_ADD_  Mixup, LF, RF         0.7   \n",
       "\n",
       "                                lowpass highpass               ranfilter2  \\\n",
       "57  [[0.5, 0.5], [7, 8, 9, 10, 11, 12]]    False  [2, [8, 9, 10, 11, 12]]   \n",
       "58  [[0.5, 0.5], [7, 8, 9, 10, 11, 12]]    False  [2, [8, 9, 10, 11, 12]]   \n",
       "59  [[0.5, 0.5], [7, 8, 9, 10, 11, 12]]    False  [2, [8, 9, 10, 11, 12]]   \n",
       "\n",
       "     mask   blur  \n",
       "57  17.76  12.83  \n",
       "58  12.62  16.43  \n",
       "59  16.19  17.51  "
      ]
     },
     "execution_count": 134,
     "metadata": {},
     "output_type": "execute_result"
    }
   ],
   "source": [
    "ddws = df_add[df_add.model==\"DDWSseq_ADD_\"][df_add.aug==\"Mixup, LF, RF\"][['model','aug','beta_param','lowpass','highpass','ranfilter2','mask','blur']]\n",
    "ddws"
   ]
  },
  {
   "cell_type": "code",
   "execution_count": 135,
   "id": "d4d48096",
   "metadata": {},
   "outputs": [
    {
     "data": {
      "text/plain": [
       "Ttest_indResult(statistic=-0.03209603119760215, pvalue=0.975933141438596)"
      ]
     },
     "execution_count": 135,
     "metadata": {},
     "output_type": "execute_result"
    }
   ],
   "source": [
    "# n이 작아서 p-value가 크게나옴\n",
    "ttest_ind(ddws[\"mask\"],ddws[\"blur\"],equal_var=True)\n"
   ]
  },
  {
   "cell_type": "code",
   "execution_count": 136,
   "id": "1b668383",
   "metadata": {},
   "outputs": [
    {
     "data": {
      "text/plain": [
       "Ttest_relResult(statistic=-0.02564416602129332, pvalue=0.981869816770996)"
      ]
     },
     "execution_count": 136,
     "metadata": {},
     "output_type": "execute_result"
    }
   ],
   "source": [
    "ttest_rel(ddws[\"mask\"],ddws[\"blur\"])"
   ]
  },
  {
   "cell_type": "markdown",
   "id": "2d751afb",
   "metadata": {},
   "source": [
    "### 6. (Mixup, HF, RF), 차이없음"
   ]
  },
  {
   "cell_type": "code",
   "execution_count": 137,
   "id": "901cf6be",
   "metadata": {},
   "outputs": [
    {
     "name": "stderr",
     "output_type": "stream",
     "text": [
      "/home/ubuntu/anaconda3/envs/tensorflow2.4_p37/lib/python3.7/site-packages/ipykernel/__main__.py:1: UserWarning: Boolean Series key will be reindexed to match DataFrame index.\n",
      "  if __name__ == '__main__':\n"
     ]
    },
    {
     "data": {
      "text/html": [
       "<div>\n",
       "<style scoped>\n",
       "    .dataframe tbody tr th:only-of-type {\n",
       "        vertical-align: middle;\n",
       "    }\n",
       "\n",
       "    .dataframe tbody tr th {\n",
       "        vertical-align: top;\n",
       "    }\n",
       "\n",
       "    .dataframe thead th {\n",
       "        text-align: right;\n",
       "    }\n",
       "</style>\n",
       "<table border=\"1\" class=\"dataframe\">\n",
       "  <thead>\n",
       "    <tr style=\"text-align: right;\">\n",
       "      <th></th>\n",
       "      <th>model</th>\n",
       "      <th>aug</th>\n",
       "      <th>beta_param</th>\n",
       "      <th>lowpass</th>\n",
       "      <th>highpass</th>\n",
       "      <th>ranfilter2</th>\n",
       "      <th>mask</th>\n",
       "      <th>blur</th>\n",
       "    </tr>\n",
       "  </thead>\n",
       "  <tbody>\n",
       "    <tr>\n",
       "      <th>33</th>\n",
       "      <td>DDWSseq_ADD_</td>\n",
       "      <td>Mixup, HF, RF</td>\n",
       "      <td>0.7</td>\n",
       "      <td>False</td>\n",
       "      <td>[[0.5, 0.5], [80, 81, 82, 83, 84, 85, 86, 87]]</td>\n",
       "      <td>[2, [8, 9, 10, 11, 12]]</td>\n",
       "      <td>15.34</td>\n",
       "      <td>14.96</td>\n",
       "    </tr>\n",
       "    <tr>\n",
       "      <th>34</th>\n",
       "      <td>DDWSseq_ADD_</td>\n",
       "      <td>Mixup, HF, RF</td>\n",
       "      <td>0.7</td>\n",
       "      <td>False</td>\n",
       "      <td>[[0.5, 0.5], [80, 81, 82, 83, 84, 85, 86, 87]]</td>\n",
       "      <td>[2, [8, 9, 10, 11, 12]]</td>\n",
       "      <td>17.13</td>\n",
       "      <td>15.41</td>\n",
       "    </tr>\n",
       "    <tr>\n",
       "      <th>35</th>\n",
       "      <td>DDWSseq_ADD_</td>\n",
       "      <td>Mixup, HF, RF</td>\n",
       "      <td>0.7</td>\n",
       "      <td>False</td>\n",
       "      <td>[[0.5, 0.5], [80, 81, 82, 83, 84, 85, 86, 87]]</td>\n",
       "      <td>[2, [8, 9, 10, 11, 12]]</td>\n",
       "      <td>14.33</td>\n",
       "      <td>14.30</td>\n",
       "    </tr>\n",
       "  </tbody>\n",
       "</table>\n",
       "</div>"
      ],
      "text/plain": [
       "           model            aug  beta_param lowpass  \\\n",
       "33  DDWSseq_ADD_  Mixup, HF, RF         0.7   False   \n",
       "34  DDWSseq_ADD_  Mixup, HF, RF         0.7   False   \n",
       "35  DDWSseq_ADD_  Mixup, HF, RF         0.7   False   \n",
       "\n",
       "                                          highpass               ranfilter2  \\\n",
       "33  [[0.5, 0.5], [80, 81, 82, 83, 84, 85, 86, 87]]  [2, [8, 9, 10, 11, 12]]   \n",
       "34  [[0.5, 0.5], [80, 81, 82, 83, 84, 85, 86, 87]]  [2, [8, 9, 10, 11, 12]]   \n",
       "35  [[0.5, 0.5], [80, 81, 82, 83, 84, 85, 86, 87]]  [2, [8, 9, 10, 11, 12]]   \n",
       "\n",
       "     mask   blur  \n",
       "33  15.34  14.96  \n",
       "34  17.13  15.41  \n",
       "35  14.33  14.30  "
      ]
     },
     "execution_count": 137,
     "metadata": {},
     "output_type": "execute_result"
    }
   ],
   "source": [
    "ddws = df_add[df_add.model==\"DDWSseq_ADD_\"][df_add.aug==\"Mixup, HF, RF\"][['model','aug','beta_param','lowpass','highpass','ranfilter2','mask','blur']]\n",
    "ddws"
   ]
  },
  {
   "cell_type": "code",
   "execution_count": 138,
   "id": "dd16fa09",
   "metadata": {},
   "outputs": [
    {
     "data": {
      "text/plain": [
       "Ttest_indResult(statistic=0.8069571326814895, pvalue=0.4649375677983201)"
      ]
     },
     "execution_count": 138,
     "metadata": {},
     "output_type": "execute_result"
    }
   ],
   "source": [
    "# n이 작아서 p-value가 크게나옴\n",
    "ttest_ind(ddws[\"mask\"],ddws[\"blur\"],equal_var=True)\n"
   ]
  },
  {
   "cell_type": "code",
   "execution_count": 139,
   "id": "ed4eb472",
   "metadata": {},
   "outputs": [
    {
     "data": {
      "text/plain": [
       "Ttest_relResult(statistic=1.3786191188567865, pvalue=0.3019619317700053)"
      ]
     },
     "execution_count": 139,
     "metadata": {},
     "output_type": "execute_result"
    }
   ],
   "source": [
    "ttest_rel(ddws[\"mask\"],ddws[\"blur\"])"
   ]
  },
  {
   "cell_type": "markdown",
   "id": "54ca5edd",
   "metadata": {},
   "source": [
    "### 7. (Mixup, LF, HF, RF), 차이있음*"
   ]
  },
  {
   "cell_type": "code",
   "execution_count": 140,
   "id": "37c92d2d",
   "metadata": {},
   "outputs": [
    {
     "name": "stderr",
     "output_type": "stream",
     "text": [
      "/home/ubuntu/anaconda3/envs/tensorflow2.4_p37/lib/python3.7/site-packages/ipykernel/__main__.py:1: UserWarning: Boolean Series key will be reindexed to match DataFrame index.\n",
      "  if __name__ == '__main__':\n"
     ]
    },
    {
     "data": {
      "text/html": [
       "<div>\n",
       "<style scoped>\n",
       "    .dataframe tbody tr th:only-of-type {\n",
       "        vertical-align: middle;\n",
       "    }\n",
       "\n",
       "    .dataframe tbody tr th {\n",
       "        vertical-align: top;\n",
       "    }\n",
       "\n",
       "    .dataframe thead th {\n",
       "        text-align: right;\n",
       "    }\n",
       "</style>\n",
       "<table border=\"1\" class=\"dataframe\">\n",
       "  <thead>\n",
       "    <tr style=\"text-align: right;\">\n",
       "      <th></th>\n",
       "      <th>model</th>\n",
       "      <th>aug</th>\n",
       "      <th>beta_param</th>\n",
       "      <th>lowpass</th>\n",
       "      <th>highpass</th>\n",
       "      <th>ranfilter2</th>\n",
       "      <th>mask</th>\n",
       "      <th>blur</th>\n",
       "    </tr>\n",
       "  </thead>\n",
       "  <tbody>\n",
       "    <tr>\n",
       "      <th>81</th>\n",
       "      <td>DDWSseq_ADD_</td>\n",
       "      <td>Mixup, LF, HF, RF</td>\n",
       "      <td>0.7</td>\n",
       "      <td>[[0.5, 0.5], [7, 8, 9, 10, 11, 12]]</td>\n",
       "      <td>[[0.5, 0.5], [80, 81, 82, 83, 84, 85, 86, 87]]</td>\n",
       "      <td>[2, [8, 9, 10, 11, 12]]</td>\n",
       "      <td>16.36</td>\n",
       "      <td>15.41</td>\n",
       "    </tr>\n",
       "    <tr>\n",
       "      <th>82</th>\n",
       "      <td>DDWSseq_ADD_</td>\n",
       "      <td>Mixup, LF, HF, RF</td>\n",
       "      <td>0.7</td>\n",
       "      <td>[[0.5, 0.5], [7, 8, 9, 10, 11, 12]]</td>\n",
       "      <td>[[0.5, 0.5], [80, 81, 82, 83, 84, 85, 86, 87]]</td>\n",
       "      <td>[2, [8, 9, 10, 11, 12]]</td>\n",
       "      <td>17.76</td>\n",
       "      <td>14.47</td>\n",
       "    </tr>\n",
       "    <tr>\n",
       "      <th>83</th>\n",
       "      <td>DDWSseq_ADD_</td>\n",
       "      <td>Mixup, LF, HF, RF</td>\n",
       "      <td>0.7</td>\n",
       "      <td>[[0.5, 0.5], [7, 8, 9, 10, 11, 12]]</td>\n",
       "      <td>[[0.5, 0.5], [80, 81, 82, 83, 84, 85, 86, 87]]</td>\n",
       "      <td>[2, [8, 9, 10, 11, 12]]</td>\n",
       "      <td>15.97</td>\n",
       "      <td>14.33</td>\n",
       "    </tr>\n",
       "  </tbody>\n",
       "</table>\n",
       "</div>"
      ],
      "text/plain": [
       "           model                aug  beta_param  \\\n",
       "81  DDWSseq_ADD_  Mixup, LF, HF, RF         0.7   \n",
       "82  DDWSseq_ADD_  Mixup, LF, HF, RF         0.7   \n",
       "83  DDWSseq_ADD_  Mixup, LF, HF, RF         0.7   \n",
       "\n",
       "                                lowpass  \\\n",
       "81  [[0.5, 0.5], [7, 8, 9, 10, 11, 12]]   \n",
       "82  [[0.5, 0.5], [7, 8, 9, 10, 11, 12]]   \n",
       "83  [[0.5, 0.5], [7, 8, 9, 10, 11, 12]]   \n",
       "\n",
       "                                          highpass               ranfilter2  \\\n",
       "81  [[0.5, 0.5], [80, 81, 82, 83, 84, 85, 86, 87]]  [2, [8, 9, 10, 11, 12]]   \n",
       "82  [[0.5, 0.5], [80, 81, 82, 83, 84, 85, 86, 87]]  [2, [8, 9, 10, 11, 12]]   \n",
       "83  [[0.5, 0.5], [80, 81, 82, 83, 84, 85, 86, 87]]  [2, [8, 9, 10, 11, 12]]   \n",
       "\n",
       "     mask   blur  \n",
       "81  16.36  15.41  \n",
       "82  17.76  14.47  \n",
       "83  15.97  14.33  "
      ]
     },
     "execution_count": 140,
     "metadata": {},
     "output_type": "execute_result"
    }
   ],
   "source": [
    "ddws = df_add[df_add.model==\"DDWSseq_ADD_\"][df_add.aug==\"Mixup, LF, HF, RF\"][['model','aug','beta_param','lowpass','highpass','ranfilter2','mask','blur']]\n",
    "ddws"
   ]
  },
  {
   "cell_type": "code",
   "execution_count": 141,
   "id": "52fdfa57",
   "metadata": {},
   "outputs": [
    {
     "data": {
      "text/plain": [
       "Ttest_indResult(statistic=3.059803607309193, pvalue=0.03766571719717624)"
      ]
     },
     "execution_count": 141,
     "metadata": {},
     "output_type": "execute_result"
    }
   ],
   "source": [
    "# n이 작아서 p-value가 크게나옴\n",
    "ttest_ind(ddws[\"mask\"],ddws[\"blur\"],equal_var=True)\n"
   ]
  },
  {
   "cell_type": "code",
   "execution_count": 142,
   "id": "1ef4abe5",
   "metadata": {},
   "outputs": [
    {
     "data": {
      "text/plain": [
       "Ttest_relResult(statistic=2.8234337919024566, pvalue=0.10588928531364104)"
      ]
     },
     "execution_count": 142,
     "metadata": {},
     "output_type": "execute_result"
    }
   ],
   "source": [
    "ttest_rel(ddws[\"mask\"],ddws[\"blur\"])"
   ]
  },
  {
   "cell_type": "markdown",
   "id": "f4973012",
   "metadata": {},
   "source": [
    "---------------"
   ]
  },
  {
   "cell_type": "markdown",
   "id": "e5e4a8db",
   "metadata": {},
   "source": [
    "## LCNN_ADD_"
   ]
  },
  {
   "cell_type": "code",
   "execution_count": 226,
   "id": "e0d1e7b2",
   "metadata": {},
   "outputs": [
    {
     "data": {
      "text/html": [
       "<div>\n",
       "<style scoped>\n",
       "    .dataframe tbody tr th:only-of-type {\n",
       "        vertical-align: middle;\n",
       "    }\n",
       "\n",
       "    .dataframe tbody tr th {\n",
       "        vertical-align: top;\n",
       "    }\n",
       "\n",
       "    .dataframe thead th {\n",
       "        text-align: right;\n",
       "    }\n",
       "</style>\n",
       "<table border=\"1\" class=\"dataframe\">\n",
       "  <thead>\n",
       "    <tr style=\"text-align: right;\">\n",
       "      <th></th>\n",
       "      <th>model</th>\n",
       "      <th>aug</th>\n",
       "      <th>beta_param</th>\n",
       "      <th>lowpass</th>\n",
       "      <th>highpass</th>\n",
       "      <th>ranfilter2</th>\n",
       "      <th>mask</th>\n",
       "      <th>blur</th>\n",
       "    </tr>\n",
       "  </thead>\n",
       "  <tbody>\n",
       "    <tr>\n",
       "      <th>9</th>\n",
       "      <td>DDWSseq_ADD_</td>\n",
       "      <td>Mixup, RF</td>\n",
       "      <td>0.7</td>\n",
       "      <td>False</td>\n",
       "      <td>False</td>\n",
       "      <td>[2, [8, 9, 10, 11, 12]]</td>\n",
       "      <td>13.77</td>\n",
       "      <td>15.66</td>\n",
       "    </tr>\n",
       "    <tr>\n",
       "      <th>10</th>\n",
       "      <td>DDWSseq_ADD_</td>\n",
       "      <td>Mixup, RF</td>\n",
       "      <td>0.7</td>\n",
       "      <td>False</td>\n",
       "      <td>False</td>\n",
       "      <td>[2, [8, 9, 10, 11, 12]]</td>\n",
       "      <td>11.99</td>\n",
       "      <td>14.09</td>\n",
       "    </tr>\n",
       "    <tr>\n",
       "      <th>11</th>\n",
       "      <td>DDWSseq_ADD_</td>\n",
       "      <td>Mixup, RF</td>\n",
       "      <td>0.7</td>\n",
       "      <td>False</td>\n",
       "      <td>False</td>\n",
       "      <td>[2, [8, 9, 10, 11, 12]]</td>\n",
       "      <td>14.43</td>\n",
       "      <td>14.40</td>\n",
       "    </tr>\n",
       "    <tr>\n",
       "      <th>21</th>\n",
       "      <td>DDWSseq_ADD_</td>\n",
       "      <td>Mixup, HF</td>\n",
       "      <td>0.7</td>\n",
       "      <td>False</td>\n",
       "      <td>[[0.5, 0.5], [80, 81, 82, 83, 84, 85, 86, 87]]</td>\n",
       "      <td>False</td>\n",
       "      <td>16.21</td>\n",
       "      <td>17.76</td>\n",
       "    </tr>\n",
       "    <tr>\n",
       "      <th>22</th>\n",
       "      <td>DDWSseq_ADD_</td>\n",
       "      <td>Mixup, HF</td>\n",
       "      <td>0.7</td>\n",
       "      <td>False</td>\n",
       "      <td>[[0.5, 0.5], [80, 81, 82, 83, 84, 85, 86, 87]]</td>\n",
       "      <td>False</td>\n",
       "      <td>17.90</td>\n",
       "      <td>19.78</td>\n",
       "    </tr>\n",
       "    <tr>\n",
       "      <th>23</th>\n",
       "      <td>DDWSseq_ADD_</td>\n",
       "      <td>Mixup, HF</td>\n",
       "      <td>0.7</td>\n",
       "      <td>False</td>\n",
       "      <td>[[0.5, 0.5], [80, 81, 82, 83, 84, 85, 86, 87]]</td>\n",
       "      <td>False</td>\n",
       "      <td>17.83</td>\n",
       "      <td>16.57</td>\n",
       "    </tr>\n",
       "    <tr>\n",
       "      <th>33</th>\n",
       "      <td>DDWSseq_ADD_</td>\n",
       "      <td>Mixup, HF, RF</td>\n",
       "      <td>0.7</td>\n",
       "      <td>False</td>\n",
       "      <td>[[0.5, 0.5], [80, 81, 82, 83, 84, 85, 86, 87]]</td>\n",
       "      <td>[2, [8, 9, 10, 11, 12]]</td>\n",
       "      <td>15.34</td>\n",
       "      <td>14.96</td>\n",
       "    </tr>\n",
       "    <tr>\n",
       "      <th>34</th>\n",
       "      <td>DDWSseq_ADD_</td>\n",
       "      <td>Mixup, HF, RF</td>\n",
       "      <td>0.7</td>\n",
       "      <td>False</td>\n",
       "      <td>[[0.5, 0.5], [80, 81, 82, 83, 84, 85, 86, 87]]</td>\n",
       "      <td>[2, [8, 9, 10, 11, 12]]</td>\n",
       "      <td>17.13</td>\n",
       "      <td>15.41</td>\n",
       "    </tr>\n",
       "    <tr>\n",
       "      <th>35</th>\n",
       "      <td>DDWSseq_ADD_</td>\n",
       "      <td>Mixup, HF, RF</td>\n",
       "      <td>0.7</td>\n",
       "      <td>False</td>\n",
       "      <td>[[0.5, 0.5], [80, 81, 82, 83, 84, 85, 86, 87]]</td>\n",
       "      <td>[2, [8, 9, 10, 11, 12]]</td>\n",
       "      <td>14.33</td>\n",
       "      <td>14.30</td>\n",
       "    </tr>\n",
       "    <tr>\n",
       "      <th>45</th>\n",
       "      <td>DDWSseq_ADD_</td>\n",
       "      <td>Mixup, LF</td>\n",
       "      <td>0.7</td>\n",
       "      <td>[[0.5, 0.5], [7, 8, 9, 10, 11, 12]]</td>\n",
       "      <td>False</td>\n",
       "      <td>False</td>\n",
       "      <td>18.21</td>\n",
       "      <td>17.34</td>\n",
       "    </tr>\n",
       "    <tr>\n",
       "      <th>46</th>\n",
       "      <td>DDWSseq_ADD_</td>\n",
       "      <td>Mixup, LF</td>\n",
       "      <td>0.7</td>\n",
       "      <td>[[0.5, 0.5], [7, 8, 9, 10, 11, 12]]</td>\n",
       "      <td>False</td>\n",
       "      <td>False</td>\n",
       "      <td>15.23</td>\n",
       "      <td>17.68</td>\n",
       "    </tr>\n",
       "    <tr>\n",
       "      <th>47</th>\n",
       "      <td>DDWSseq_ADD_</td>\n",
       "      <td>Mixup, LF</td>\n",
       "      <td>0.7</td>\n",
       "      <td>[[0.5, 0.5], [7, 8, 9, 10, 11, 12]]</td>\n",
       "      <td>False</td>\n",
       "      <td>False</td>\n",
       "      <td>17.20</td>\n",
       "      <td>20.00</td>\n",
       "    </tr>\n",
       "    <tr>\n",
       "      <th>57</th>\n",
       "      <td>DDWSseq_ADD_</td>\n",
       "      <td>Mixup, LF, RF</td>\n",
       "      <td>0.7</td>\n",
       "      <td>[[0.5, 0.5], [7, 8, 9, 10, 11, 12]]</td>\n",
       "      <td>False</td>\n",
       "      <td>[2, [8, 9, 10, 11, 12]]</td>\n",
       "      <td>17.76</td>\n",
       "      <td>12.83</td>\n",
       "    </tr>\n",
       "    <tr>\n",
       "      <th>58</th>\n",
       "      <td>DDWSseq_ADD_</td>\n",
       "      <td>Mixup, LF, RF</td>\n",
       "      <td>0.7</td>\n",
       "      <td>[[0.5, 0.5], [7, 8, 9, 10, 11, 12]]</td>\n",
       "      <td>False</td>\n",
       "      <td>[2, [8, 9, 10, 11, 12]]</td>\n",
       "      <td>12.62</td>\n",
       "      <td>16.43</td>\n",
       "    </tr>\n",
       "    <tr>\n",
       "      <th>59</th>\n",
       "      <td>DDWSseq_ADD_</td>\n",
       "      <td>Mixup, LF, RF</td>\n",
       "      <td>0.7</td>\n",
       "      <td>[[0.5, 0.5], [7, 8, 9, 10, 11, 12]]</td>\n",
       "      <td>False</td>\n",
       "      <td>[2, [8, 9, 10, 11, 12]]</td>\n",
       "      <td>16.19</td>\n",
       "      <td>17.51</td>\n",
       "    </tr>\n",
       "    <tr>\n",
       "      <th>69</th>\n",
       "      <td>DDWSseq_ADD_</td>\n",
       "      <td>Mixup, LF, HF</td>\n",
       "      <td>0.7</td>\n",
       "      <td>[[0.5, 0.5], [7, 8, 9, 10, 11, 12]]</td>\n",
       "      <td>[[0.5, 0.5], [80, 81, 82, 83, 84, 85, 86, 87]]</td>\n",
       "      <td>False</td>\n",
       "      <td>16.11</td>\n",
       "      <td>18.84</td>\n",
       "    </tr>\n",
       "    <tr>\n",
       "      <th>70</th>\n",
       "      <td>DDWSseq_ADD_</td>\n",
       "      <td>Mixup, LF, HF</td>\n",
       "      <td>0.7</td>\n",
       "      <td>[[0.5, 0.5], [7, 8, 9, 10, 11, 12]]</td>\n",
       "      <td>[[0.5, 0.5], [80, 81, 82, 83, 84, 85, 86, 87]]</td>\n",
       "      <td>False</td>\n",
       "      <td>14.79</td>\n",
       "      <td>16.43</td>\n",
       "    </tr>\n",
       "    <tr>\n",
       "      <th>71</th>\n",
       "      <td>DDWSseq_ADD_</td>\n",
       "      <td>Mixup, LF, HF</td>\n",
       "      <td>0.7</td>\n",
       "      <td>[[0.5, 0.5], [7, 8, 9, 10, 11, 12]]</td>\n",
       "      <td>[[0.5, 0.5], [80, 81, 82, 83, 84, 85, 86, 87]]</td>\n",
       "      <td>False</td>\n",
       "      <td>17.06</td>\n",
       "      <td>17.76</td>\n",
       "    </tr>\n",
       "    <tr>\n",
       "      <th>81</th>\n",
       "      <td>DDWSseq_ADD_</td>\n",
       "      <td>Mixup, LF, HF, RF</td>\n",
       "      <td>0.7</td>\n",
       "      <td>[[0.5, 0.5], [7, 8, 9, 10, 11, 12]]</td>\n",
       "      <td>[[0.5, 0.5], [80, 81, 82, 83, 84, 85, 86, 87]]</td>\n",
       "      <td>[2, [8, 9, 10, 11, 12]]</td>\n",
       "      <td>16.36</td>\n",
       "      <td>15.41</td>\n",
       "    </tr>\n",
       "    <tr>\n",
       "      <th>82</th>\n",
       "      <td>DDWSseq_ADD_</td>\n",
       "      <td>Mixup, LF, HF, RF</td>\n",
       "      <td>0.7</td>\n",
       "      <td>[[0.5, 0.5], [7, 8, 9, 10, 11, 12]]</td>\n",
       "      <td>[[0.5, 0.5], [80, 81, 82, 83, 84, 85, 86, 87]]</td>\n",
       "      <td>[2, [8, 9, 10, 11, 12]]</td>\n",
       "      <td>17.76</td>\n",
       "      <td>14.47</td>\n",
       "    </tr>\n",
       "    <tr>\n",
       "      <th>83</th>\n",
       "      <td>DDWSseq_ADD_</td>\n",
       "      <td>Mixup, LF, HF, RF</td>\n",
       "      <td>0.7</td>\n",
       "      <td>[[0.5, 0.5], [7, 8, 9, 10, 11, 12]]</td>\n",
       "      <td>[[0.5, 0.5], [80, 81, 82, 83, 84, 85, 86, 87]]</td>\n",
       "      <td>[2, [8, 9, 10, 11, 12]]</td>\n",
       "      <td>15.97</td>\n",
       "      <td>14.33</td>\n",
       "    </tr>\n",
       "  </tbody>\n",
       "</table>\n",
       "</div>"
      ],
      "text/plain": [
       "           model                aug  beta_param  \\\n",
       "9   DDWSseq_ADD_          Mixup, RF         0.7   \n",
       "10  DDWSseq_ADD_          Mixup, RF         0.7   \n",
       "11  DDWSseq_ADD_          Mixup, RF         0.7   \n",
       "21  DDWSseq_ADD_          Mixup, HF         0.7   \n",
       "22  DDWSseq_ADD_          Mixup, HF         0.7   \n",
       "23  DDWSseq_ADD_          Mixup, HF         0.7   \n",
       "33  DDWSseq_ADD_      Mixup, HF, RF         0.7   \n",
       "34  DDWSseq_ADD_      Mixup, HF, RF         0.7   \n",
       "35  DDWSseq_ADD_      Mixup, HF, RF         0.7   \n",
       "45  DDWSseq_ADD_          Mixup, LF         0.7   \n",
       "46  DDWSseq_ADD_          Mixup, LF         0.7   \n",
       "47  DDWSseq_ADD_          Mixup, LF         0.7   \n",
       "57  DDWSseq_ADD_      Mixup, LF, RF         0.7   \n",
       "58  DDWSseq_ADD_      Mixup, LF, RF         0.7   \n",
       "59  DDWSseq_ADD_      Mixup, LF, RF         0.7   \n",
       "69  DDWSseq_ADD_      Mixup, LF, HF         0.7   \n",
       "70  DDWSseq_ADD_      Mixup, LF, HF         0.7   \n",
       "71  DDWSseq_ADD_      Mixup, LF, HF         0.7   \n",
       "81  DDWSseq_ADD_  Mixup, LF, HF, RF         0.7   \n",
       "82  DDWSseq_ADD_  Mixup, LF, HF, RF         0.7   \n",
       "83  DDWSseq_ADD_  Mixup, LF, HF, RF         0.7   \n",
       "\n",
       "                                lowpass  \\\n",
       "9                                 False   \n",
       "10                                False   \n",
       "11                                False   \n",
       "21                                False   \n",
       "22                                False   \n",
       "23                                False   \n",
       "33                                False   \n",
       "34                                False   \n",
       "35                                False   \n",
       "45  [[0.5, 0.5], [7, 8, 9, 10, 11, 12]]   \n",
       "46  [[0.5, 0.5], [7, 8, 9, 10, 11, 12]]   \n",
       "47  [[0.5, 0.5], [7, 8, 9, 10, 11, 12]]   \n",
       "57  [[0.5, 0.5], [7, 8, 9, 10, 11, 12]]   \n",
       "58  [[0.5, 0.5], [7, 8, 9, 10, 11, 12]]   \n",
       "59  [[0.5, 0.5], [7, 8, 9, 10, 11, 12]]   \n",
       "69  [[0.5, 0.5], [7, 8, 9, 10, 11, 12]]   \n",
       "70  [[0.5, 0.5], [7, 8, 9, 10, 11, 12]]   \n",
       "71  [[0.5, 0.5], [7, 8, 9, 10, 11, 12]]   \n",
       "81  [[0.5, 0.5], [7, 8, 9, 10, 11, 12]]   \n",
       "82  [[0.5, 0.5], [7, 8, 9, 10, 11, 12]]   \n",
       "83  [[0.5, 0.5], [7, 8, 9, 10, 11, 12]]   \n",
       "\n",
       "                                          highpass               ranfilter2  \\\n",
       "9                                            False  [2, [8, 9, 10, 11, 12]]   \n",
       "10                                           False  [2, [8, 9, 10, 11, 12]]   \n",
       "11                                           False  [2, [8, 9, 10, 11, 12]]   \n",
       "21  [[0.5, 0.5], [80, 81, 82, 83, 84, 85, 86, 87]]                    False   \n",
       "22  [[0.5, 0.5], [80, 81, 82, 83, 84, 85, 86, 87]]                    False   \n",
       "23  [[0.5, 0.5], [80, 81, 82, 83, 84, 85, 86, 87]]                    False   \n",
       "33  [[0.5, 0.5], [80, 81, 82, 83, 84, 85, 86, 87]]  [2, [8, 9, 10, 11, 12]]   \n",
       "34  [[0.5, 0.5], [80, 81, 82, 83, 84, 85, 86, 87]]  [2, [8, 9, 10, 11, 12]]   \n",
       "35  [[0.5, 0.5], [80, 81, 82, 83, 84, 85, 86, 87]]  [2, [8, 9, 10, 11, 12]]   \n",
       "45                                           False                    False   \n",
       "46                                           False                    False   \n",
       "47                                           False                    False   \n",
       "57                                           False  [2, [8, 9, 10, 11, 12]]   \n",
       "58                                           False  [2, [8, 9, 10, 11, 12]]   \n",
       "59                                           False  [2, [8, 9, 10, 11, 12]]   \n",
       "69  [[0.5, 0.5], [80, 81, 82, 83, 84, 85, 86, 87]]                    False   \n",
       "70  [[0.5, 0.5], [80, 81, 82, 83, 84, 85, 86, 87]]                    False   \n",
       "71  [[0.5, 0.5], [80, 81, 82, 83, 84, 85, 86, 87]]                    False   \n",
       "81  [[0.5, 0.5], [80, 81, 82, 83, 84, 85, 86, 87]]  [2, [8, 9, 10, 11, 12]]   \n",
       "82  [[0.5, 0.5], [80, 81, 82, 83, 84, 85, 86, 87]]  [2, [8, 9, 10, 11, 12]]   \n",
       "83  [[0.5, 0.5], [80, 81, 82, 83, 84, 85, 86, 87]]  [2, [8, 9, 10, 11, 12]]   \n",
       "\n",
       "     mask   blur  \n",
       "9   13.77  15.66  \n",
       "10  11.99  14.09  \n",
       "11  14.43  14.40  \n",
       "21  16.21  17.76  \n",
       "22  17.90  19.78  \n",
       "23  17.83  16.57  \n",
       "33  15.34  14.96  \n",
       "34  17.13  15.41  \n",
       "35  14.33  14.30  \n",
       "45  18.21  17.34  \n",
       "46  15.23  17.68  \n",
       "47  17.20  20.00  \n",
       "57  17.76  12.83  \n",
       "58  12.62  16.43  \n",
       "59  16.19  17.51  \n",
       "69  16.11  18.84  \n",
       "70  14.79  16.43  \n",
       "71  17.06  17.76  \n",
       "81  16.36  15.41  \n",
       "82  17.76  14.47  \n",
       "83  15.97  14.33  "
      ]
     },
     "execution_count": 226,
     "metadata": {},
     "output_type": "execute_result"
    }
   ],
   "source": [
    "lcnn = df_add[df_add.model==\"DDWSseq_ADD_\"][['model','aug','beta_param','lowpass','highpass','ranfilter2','mask','blur']]\n",
    "lcnn"
   ]
  },
  {
   "cell_type": "code",
   "execution_count": 227,
   "id": "c655f58c",
   "metadata": {},
   "outputs": [
    {
     "data": {
      "text/plain": [
       "Ttest_indResult(statistic=-0.6436463285006008, pvalue=0.523478229143472)"
      ]
     },
     "execution_count": 227,
     "metadata": {},
     "output_type": "execute_result"
    }
   ],
   "source": [
    "# n이 작아서 p-value가 크게나옴\n",
    "ttest_ind(lcnn[\"mask\"],lcnn[\"blur\"],equal_var=True)\n"
   ]
  },
  {
   "cell_type": "code",
   "execution_count": 228,
   "id": "e005ce71",
   "metadata": {},
   "outputs": [
    {
     "data": {
      "text/plain": [
       "Ttest_relResult(statistic=-0.7741210173133545, pvalue=0.44791421162252776)"
      ]
     },
     "execution_count": 228,
     "metadata": {},
     "output_type": "execute_result"
    }
   ],
   "source": [
    "ttest_rel(lcnn[\"mask\"],lcnn[\"blur\"])"
   ]
  },
  {
   "cell_type": "markdown",
   "id": "c74747a9",
   "metadata": {},
   "source": [
    "### 1. LCNN_LA_(Mixup, LF), 차이없음"
   ]
  },
  {
   "cell_type": "code",
   "execution_count": 148,
   "id": "4fdd2ce6",
   "metadata": {},
   "outputs": [
    {
     "name": "stderr",
     "output_type": "stream",
     "text": [
      "/home/ubuntu/anaconda3/envs/tensorflow2.4_p37/lib/python3.7/site-packages/ipykernel/__main__.py:1: UserWarning: Boolean Series key will be reindexed to match DataFrame index.\n",
      "  if __name__ == '__main__':\n"
     ]
    },
    {
     "data": {
      "text/html": [
       "<div>\n",
       "<style scoped>\n",
       "    .dataframe tbody tr th:only-of-type {\n",
       "        vertical-align: middle;\n",
       "    }\n",
       "\n",
       "    .dataframe tbody tr th {\n",
       "        vertical-align: top;\n",
       "    }\n",
       "\n",
       "    .dataframe thead th {\n",
       "        text-align: right;\n",
       "    }\n",
       "</style>\n",
       "<table border=\"1\" class=\"dataframe\">\n",
       "  <thead>\n",
       "    <tr style=\"text-align: right;\">\n",
       "      <th></th>\n",
       "      <th>model</th>\n",
       "      <th>aug</th>\n",
       "      <th>beta_param</th>\n",
       "      <th>lowpass</th>\n",
       "      <th>highpass</th>\n",
       "      <th>ranfilter2</th>\n",
       "      <th>mask</th>\n",
       "      <th>blur</th>\n",
       "    </tr>\n",
       "  </thead>\n",
       "  <tbody>\n",
       "    <tr>\n",
       "      <th>39</th>\n",
       "      <td>LCNN_ADD_</td>\n",
       "      <td>Mixup, LF</td>\n",
       "      <td>0.7</td>\n",
       "      <td>[[0.5, 0.5], [7, 8, 9, 10, 11, 12]]</td>\n",
       "      <td>False</td>\n",
       "      <td>False</td>\n",
       "      <td>21.33</td>\n",
       "      <td>19.40</td>\n",
       "    </tr>\n",
       "    <tr>\n",
       "      <th>40</th>\n",
       "      <td>LCNN_ADD_</td>\n",
       "      <td>Mixup, LF</td>\n",
       "      <td>0.7</td>\n",
       "      <td>[[0.5, 0.5], [7, 8, 9, 10, 11, 12]]</td>\n",
       "      <td>False</td>\n",
       "      <td>False</td>\n",
       "      <td>19.47</td>\n",
       "      <td>18.28</td>\n",
       "    </tr>\n",
       "    <tr>\n",
       "      <th>41</th>\n",
       "      <td>LCNN_ADD_</td>\n",
       "      <td>Mixup, LF</td>\n",
       "      <td>0.7</td>\n",
       "      <td>[[0.5, 0.5], [7, 8, 9, 10, 11, 12]]</td>\n",
       "      <td>False</td>\n",
       "      <td>False</td>\n",
       "      <td>18.84</td>\n",
       "      <td>20.55</td>\n",
       "    </tr>\n",
       "  </tbody>\n",
       "</table>\n",
       "</div>"
      ],
      "text/plain": [
       "        model        aug  beta_param                              lowpass  \\\n",
       "39  LCNN_ADD_  Mixup, LF         0.7  [[0.5, 0.5], [7, 8, 9, 10, 11, 12]]   \n",
       "40  LCNN_ADD_  Mixup, LF         0.7  [[0.5, 0.5], [7, 8, 9, 10, 11, 12]]   \n",
       "41  LCNN_ADD_  Mixup, LF         0.7  [[0.5, 0.5], [7, 8, 9, 10, 11, 12]]   \n",
       "\n",
       "   highpass ranfilter2   mask   blur  \n",
       "39    False      False  21.33  19.40  \n",
       "40    False      False  19.47  18.28  \n",
       "41    False      False  18.84  20.55  "
      ]
     },
     "execution_count": 148,
     "metadata": {},
     "output_type": "execute_result"
    }
   ],
   "source": [
    "lcnn = df_add[df_add.model==\"LCNN_ADD_\"][df_add.aug==\"Mixup, LF\"][['model','aug','beta_param','lowpass','highpass','ranfilter2','mask','blur']]\n",
    "lcnn"
   ]
  },
  {
   "cell_type": "code",
   "execution_count": 149,
   "id": "3a21834f",
   "metadata": {},
   "outputs": [
    {
     "data": {
      "text/plain": [
       "Ttest_indResult(statistic=0.4728137338095868, pvalue=0.6609907350382092)"
      ]
     },
     "execution_count": 149,
     "metadata": {},
     "output_type": "execute_result"
    }
   ],
   "source": [
    "# n이 작아서 p-value가 크게나옴\n",
    "ttest_ind(lcnn[\"mask\"],lcnn[\"blur\"],equal_var=True)\n"
   ]
  },
  {
   "cell_type": "code",
   "execution_count": 150,
   "id": "474f16cf",
   "metadata": {},
   "outputs": [
    {
     "data": {
      "text/plain": [
       "Ttest_relResult(statistic=0.42314304652867596, pvalue=0.7133489037607059)"
      ]
     },
     "execution_count": 150,
     "metadata": {},
     "output_type": "execute_result"
    }
   ],
   "source": [
    "ttest_rel(lcnn[\"mask\"],lcnn[\"blur\"])"
   ]
  },
  {
   "cell_type": "markdown",
   "id": "fdc11224",
   "metadata": {},
   "source": [
    "### 2. LCNN_LA_(Mixup, HF), 차이없음"
   ]
  },
  {
   "cell_type": "code",
   "execution_count": 151,
   "id": "32607efc",
   "metadata": {},
   "outputs": [
    {
     "name": "stderr",
     "output_type": "stream",
     "text": [
      "/home/ubuntu/anaconda3/envs/tensorflow2.4_p37/lib/python3.7/site-packages/ipykernel/__main__.py:1: UserWarning: Boolean Series key will be reindexed to match DataFrame index.\n",
      "  if __name__ == '__main__':\n"
     ]
    },
    {
     "data": {
      "text/html": [
       "<div>\n",
       "<style scoped>\n",
       "    .dataframe tbody tr th:only-of-type {\n",
       "        vertical-align: middle;\n",
       "    }\n",
       "\n",
       "    .dataframe tbody tr th {\n",
       "        vertical-align: top;\n",
       "    }\n",
       "\n",
       "    .dataframe thead th {\n",
       "        text-align: right;\n",
       "    }\n",
       "</style>\n",
       "<table border=\"1\" class=\"dataframe\">\n",
       "  <thead>\n",
       "    <tr style=\"text-align: right;\">\n",
       "      <th></th>\n",
       "      <th>model</th>\n",
       "      <th>aug</th>\n",
       "      <th>beta_param</th>\n",
       "      <th>lowpass</th>\n",
       "      <th>highpass</th>\n",
       "      <th>ranfilter2</th>\n",
       "      <th>mask</th>\n",
       "      <th>blur</th>\n",
       "    </tr>\n",
       "  </thead>\n",
       "  <tbody>\n",
       "    <tr>\n",
       "      <th>15</th>\n",
       "      <td>LCNN_ADD_</td>\n",
       "      <td>Mixup, HF</td>\n",
       "      <td>0.7</td>\n",
       "      <td>False</td>\n",
       "      <td>[[0.5, 0.5], [80, 81, 82, 83, 84, 85, 86, 87]]</td>\n",
       "      <td>False</td>\n",
       "      <td>17.83</td>\n",
       "      <td>20.17</td>\n",
       "    </tr>\n",
       "    <tr>\n",
       "      <th>16</th>\n",
       "      <td>LCNN_ADD_</td>\n",
       "      <td>Mixup, HF</td>\n",
       "      <td>0.7</td>\n",
       "      <td>False</td>\n",
       "      <td>[[0.5, 0.5], [80, 81, 82, 83, 84, 85, 86, 87]]</td>\n",
       "      <td>False</td>\n",
       "      <td>20.41</td>\n",
       "      <td>21.43</td>\n",
       "    </tr>\n",
       "    <tr>\n",
       "      <th>17</th>\n",
       "      <td>LCNN_ADD_</td>\n",
       "      <td>Mixup, HF</td>\n",
       "      <td>0.7</td>\n",
       "      <td>False</td>\n",
       "      <td>[[0.5, 0.5], [80, 81, 82, 83, 84, 85, 86, 87]]</td>\n",
       "      <td>False</td>\n",
       "      <td>20.87</td>\n",
       "      <td>20.80</td>\n",
       "    </tr>\n",
       "  </tbody>\n",
       "</table>\n",
       "</div>"
      ],
      "text/plain": [
       "        model        aug  beta_param lowpass  \\\n",
       "15  LCNN_ADD_  Mixup, HF         0.7   False   \n",
       "16  LCNN_ADD_  Mixup, HF         0.7   False   \n",
       "17  LCNN_ADD_  Mixup, HF         0.7   False   \n",
       "\n",
       "                                          highpass ranfilter2   mask   blur  \n",
       "15  [[0.5, 0.5], [80, 81, 82, 83, 84, 85, 86, 87]]      False  17.83  20.17  \n",
       "16  [[0.5, 0.5], [80, 81, 82, 83, 84, 85, 86, 87]]      False  20.41  21.43  \n",
       "17  [[0.5, 0.5], [80, 81, 82, 83, 84, 85, 86, 87]]      False  20.87  20.80  "
      ]
     },
     "execution_count": 151,
     "metadata": {},
     "output_type": "execute_result"
    }
   ],
   "source": [
    "lcnn = df_add[df_add.model==\"LCNN_ADD_\"][df_add.aug==\"Mixup, HF\"][['model','aug','beta_param','lowpass','highpass','ranfilter2','mask','blur']]\n",
    "lcnn"
   ]
  },
  {
   "cell_type": "code",
   "execution_count": 152,
   "id": "75540093",
   "metadata": {},
   "outputs": [
    {
     "data": {
      "text/plain": [
       "Ttest_indResult(statistic=-1.0820085597580815, pvalue=0.3401192546739494)"
      ]
     },
     "execution_count": 152,
     "metadata": {},
     "output_type": "execute_result"
    }
   ],
   "source": [
    "# n이 작아서 p-value가 크게나옴\n",
    "ttest_ind(lcnn[\"mask\"],lcnn[\"blur\"],equal_var=True)\n"
   ]
  },
  {
   "cell_type": "code",
   "execution_count": 154,
   "id": "8c91af1f",
   "metadata": {},
   "outputs": [
    {
     "data": {
      "text/plain": [
       "Ttest_relResult(statistic=-1.573946497779668, pvalue=0.25615662305394526)"
      ]
     },
     "execution_count": 154,
     "metadata": {},
     "output_type": "execute_result"
    }
   ],
   "source": [
    "ttest_rel(lcnn[\"mask\"],lcnn[\"blur\"])"
   ]
  },
  {
   "cell_type": "markdown",
   "id": "c52d0e84",
   "metadata": {},
   "source": [
    "### 3. LCNN_LA_(Mixup, RF), 차이없음"
   ]
  },
  {
   "cell_type": "code",
   "execution_count": 155,
   "id": "7787514d",
   "metadata": {},
   "outputs": [
    {
     "name": "stderr",
     "output_type": "stream",
     "text": [
      "/home/ubuntu/anaconda3/envs/tensorflow2.4_p37/lib/python3.7/site-packages/ipykernel/__main__.py:1: UserWarning: Boolean Series key will be reindexed to match DataFrame index.\n",
      "  if __name__ == '__main__':\n"
     ]
    },
    {
     "data": {
      "text/html": [
       "<div>\n",
       "<style scoped>\n",
       "    .dataframe tbody tr th:only-of-type {\n",
       "        vertical-align: middle;\n",
       "    }\n",
       "\n",
       "    .dataframe tbody tr th {\n",
       "        vertical-align: top;\n",
       "    }\n",
       "\n",
       "    .dataframe thead th {\n",
       "        text-align: right;\n",
       "    }\n",
       "</style>\n",
       "<table border=\"1\" class=\"dataframe\">\n",
       "  <thead>\n",
       "    <tr style=\"text-align: right;\">\n",
       "      <th></th>\n",
       "      <th>model</th>\n",
       "      <th>aug</th>\n",
       "      <th>beta_param</th>\n",
       "      <th>lowpass</th>\n",
       "      <th>highpass</th>\n",
       "      <th>ranfilter2</th>\n",
       "      <th>mask</th>\n",
       "      <th>blur</th>\n",
       "    </tr>\n",
       "  </thead>\n",
       "  <tbody>\n",
       "    <tr>\n",
       "      <th>3</th>\n",
       "      <td>LCNN_ADD_</td>\n",
       "      <td>Mixup, RF</td>\n",
       "      <td>0.7</td>\n",
       "      <td>False</td>\n",
       "      <td>False</td>\n",
       "      <td>[2, [8, 9, 10, 11, 12]]</td>\n",
       "      <td>20.14</td>\n",
       "      <td>18.84</td>\n",
       "    </tr>\n",
       "    <tr>\n",
       "      <th>4</th>\n",
       "      <td>LCNN_ADD_</td>\n",
       "      <td>Mixup, RF</td>\n",
       "      <td>0.7</td>\n",
       "      <td>False</td>\n",
       "      <td>False</td>\n",
       "      <td>[2, [8, 9, 10, 11, 12]]</td>\n",
       "      <td>17.06</td>\n",
       "      <td>19.61</td>\n",
       "    </tr>\n",
       "    <tr>\n",
       "      <th>5</th>\n",
       "      <td>LCNN_ADD_</td>\n",
       "      <td>Mixup, RF</td>\n",
       "      <td>0.7</td>\n",
       "      <td>False</td>\n",
       "      <td>False</td>\n",
       "      <td>[2, [8, 9, 10, 11, 12]]</td>\n",
       "      <td>18.14</td>\n",
       "      <td>18.77</td>\n",
       "    </tr>\n",
       "  </tbody>\n",
       "</table>\n",
       "</div>"
      ],
      "text/plain": [
       "       model        aug  beta_param lowpass highpass               ranfilter2  \\\n",
       "3  LCNN_ADD_  Mixup, RF         0.7   False    False  [2, [8, 9, 10, 11, 12]]   \n",
       "4  LCNN_ADD_  Mixup, RF         0.7   False    False  [2, [8, 9, 10, 11, 12]]   \n",
       "5  LCNN_ADD_  Mixup, RF         0.7   False    False  [2, [8, 9, 10, 11, 12]]   \n",
       "\n",
       "    mask   blur  \n",
       "3  20.14  18.84  \n",
       "4  17.06  19.61  \n",
       "5  18.14  18.77  "
      ]
     },
     "execution_count": 155,
     "metadata": {},
     "output_type": "execute_result"
    }
   ],
   "source": [
    "lcnn = df_add[df_add.model==\"LCNN_ADD_\"][df_add.aug==\"Mixup, RF\"][['model','aug','beta_param','lowpass','highpass','ranfilter2','mask','blur']]\n",
    "lcnn"
   ]
  },
  {
   "cell_type": "code",
   "execution_count": 156,
   "id": "768c8cdd",
   "metadata": {},
   "outputs": [
    {
     "data": {
      "text/plain": [
       "Ttest_indResult(statistic=-0.6655920277437177, pvalue=0.5420893302119731)"
      ]
     },
     "execution_count": 156,
     "metadata": {},
     "output_type": "execute_result"
    }
   ],
   "source": [
    "# n이 작아서 p-value가 크게나옴\n",
    "ttest_ind(lcnn[\"mask\"],lcnn[\"blur\"],equal_var=True)\n"
   ]
  },
  {
   "cell_type": "code",
   "execution_count": 157,
   "id": "a07cc7fe",
   "metadata": {},
   "outputs": [
    {
     "data": {
      "text/plain": [
       "Ttest_relResult(statistic=-0.5638531353848569, pvalue=0.629647050304961)"
      ]
     },
     "execution_count": 157,
     "metadata": {},
     "output_type": "execute_result"
    }
   ],
   "source": [
    "ttest_rel(lcnn[\"mask\"],lcnn[\"blur\"])"
   ]
  },
  {
   "cell_type": "markdown",
   "id": "2b4d53f4",
   "metadata": {},
   "source": [
    "### 4. LCNN_LA_(Mixup, LF, HF), 차이없음"
   ]
  },
  {
   "cell_type": "code",
   "execution_count": 158,
   "id": "8ae95e16",
   "metadata": {
    "scrolled": true
   },
   "outputs": [
    {
     "name": "stderr",
     "output_type": "stream",
     "text": [
      "/home/ubuntu/anaconda3/envs/tensorflow2.4_p37/lib/python3.7/site-packages/ipykernel/__main__.py:1: UserWarning: Boolean Series key will be reindexed to match DataFrame index.\n",
      "  if __name__ == '__main__':\n"
     ]
    },
    {
     "data": {
      "text/html": [
       "<div>\n",
       "<style scoped>\n",
       "    .dataframe tbody tr th:only-of-type {\n",
       "        vertical-align: middle;\n",
       "    }\n",
       "\n",
       "    .dataframe tbody tr th {\n",
       "        vertical-align: top;\n",
       "    }\n",
       "\n",
       "    .dataframe thead th {\n",
       "        text-align: right;\n",
       "    }\n",
       "</style>\n",
       "<table border=\"1\" class=\"dataframe\">\n",
       "  <thead>\n",
       "    <tr style=\"text-align: right;\">\n",
       "      <th></th>\n",
       "      <th>model</th>\n",
       "      <th>aug</th>\n",
       "      <th>beta_param</th>\n",
       "      <th>lowpass</th>\n",
       "      <th>highpass</th>\n",
       "      <th>ranfilter2</th>\n",
       "      <th>mask</th>\n",
       "      <th>blur</th>\n",
       "    </tr>\n",
       "  </thead>\n",
       "  <tbody>\n",
       "    <tr>\n",
       "      <th>63</th>\n",
       "      <td>LCNN_ADD_</td>\n",
       "      <td>Mixup, LF, HF</td>\n",
       "      <td>0.7</td>\n",
       "      <td>[[0.5, 0.5], [7, 8, 9, 10, 11, 12]]</td>\n",
       "      <td>[[0.5, 0.5], [80, 81, 82, 83, 84, 85, 86, 87]]</td>\n",
       "      <td>False</td>\n",
       "      <td>20.17</td>\n",
       "      <td>19.86</td>\n",
       "    </tr>\n",
       "    <tr>\n",
       "      <th>64</th>\n",
       "      <td>LCNN_ADD_</td>\n",
       "      <td>Mixup, LF, HF</td>\n",
       "      <td>0.7</td>\n",
       "      <td>[[0.5, 0.5], [7, 8, 9, 10, 11, 12]]</td>\n",
       "      <td>[[0.5, 0.5], [80, 81, 82, 83, 84, 85, 86, 87]]</td>\n",
       "      <td>False</td>\n",
       "      <td>18.28</td>\n",
       "      <td>21.25</td>\n",
       "    </tr>\n",
       "    <tr>\n",
       "      <th>65</th>\n",
       "      <td>LCNN_ADD_</td>\n",
       "      <td>Mixup, LF, HF</td>\n",
       "      <td>0.7</td>\n",
       "      <td>[[0.5, 0.5], [7, 8, 9, 10, 11, 12]]</td>\n",
       "      <td>[[0.5, 0.5], [80, 81, 82, 83, 84, 85, 86, 87]]</td>\n",
       "      <td>False</td>\n",
       "      <td>20.24</td>\n",
       "      <td>20.24</td>\n",
       "    </tr>\n",
       "  </tbody>\n",
       "</table>\n",
       "</div>"
      ],
      "text/plain": [
       "        model            aug  beta_param                              lowpass  \\\n",
       "63  LCNN_ADD_  Mixup, LF, HF         0.7  [[0.5, 0.5], [7, 8, 9, 10, 11, 12]]   \n",
       "64  LCNN_ADD_  Mixup, LF, HF         0.7  [[0.5, 0.5], [7, 8, 9, 10, 11, 12]]   \n",
       "65  LCNN_ADD_  Mixup, LF, HF         0.7  [[0.5, 0.5], [7, 8, 9, 10, 11, 12]]   \n",
       "\n",
       "                                          highpass ranfilter2   mask   blur  \n",
       "63  [[0.5, 0.5], [80, 81, 82, 83, 84, 85, 86, 87]]      False  20.17  19.86  \n",
       "64  [[0.5, 0.5], [80, 81, 82, 83, 84, 85, 86, 87]]      False  18.28  21.25  \n",
       "65  [[0.5, 0.5], [80, 81, 82, 83, 84, 85, 86, 87]]      False  20.24  20.24  "
      ]
     },
     "execution_count": 158,
     "metadata": {},
     "output_type": "execute_result"
    }
   ],
   "source": [
    "lcnn = df_add[df_add.model==\"LCNN_ADD_\"][df_add.aug==\"Mixup, LF, HF\"][['model','aug','beta_param','lowpass','highpass','ranfilter2','mask','blur']]\n",
    "lcnn"
   ]
  },
  {
   "cell_type": "code",
   "execution_count": 159,
   "id": "af0ccda3",
   "metadata": {},
   "outputs": [
    {
     "data": {
      "text/plain": [
       "Ttest_indResult(statistic=-1.1600798029090365, pvalue=0.3105403772990288)"
      ]
     },
     "execution_count": 159,
     "metadata": {},
     "output_type": "execute_result"
    }
   ],
   "source": [
    "# n이 작아서 p-value가 크게나옴\n",
    "ttest_ind(lcnn[\"mask\"],lcnn[\"blur\"],equal_var=True)\n"
   ]
  },
  {
   "cell_type": "code",
   "execution_count": 160,
   "id": "1edb8cc2",
   "metadata": {},
   "outputs": [
    {
     "data": {
      "text/plain": [
       "Ttest_relResult(statistic=-0.8480761487572288, pvalue=0.48570580071355596)"
      ]
     },
     "execution_count": 160,
     "metadata": {},
     "output_type": "execute_result"
    }
   ],
   "source": [
    "ttest_rel(lcnn[\"mask\"],lcnn[\"blur\"])"
   ]
  },
  {
   "cell_type": "markdown",
   "id": "005d331d",
   "metadata": {},
   "source": [
    "### 5. LCNN_LA_(Mixup, LF, RF), 차이없음, 차이있음*"
   ]
  },
  {
   "cell_type": "code",
   "execution_count": 161,
   "id": "20205fdd",
   "metadata": {},
   "outputs": [
    {
     "name": "stderr",
     "output_type": "stream",
     "text": [
      "/home/ubuntu/anaconda3/envs/tensorflow2.4_p37/lib/python3.7/site-packages/ipykernel/__main__.py:1: UserWarning: Boolean Series key will be reindexed to match DataFrame index.\n",
      "  if __name__ == '__main__':\n"
     ]
    },
    {
     "data": {
      "text/html": [
       "<div>\n",
       "<style scoped>\n",
       "    .dataframe tbody tr th:only-of-type {\n",
       "        vertical-align: middle;\n",
       "    }\n",
       "\n",
       "    .dataframe tbody tr th {\n",
       "        vertical-align: top;\n",
       "    }\n",
       "\n",
       "    .dataframe thead th {\n",
       "        text-align: right;\n",
       "    }\n",
       "</style>\n",
       "<table border=\"1\" class=\"dataframe\">\n",
       "  <thead>\n",
       "    <tr style=\"text-align: right;\">\n",
       "      <th></th>\n",
       "      <th>model</th>\n",
       "      <th>aug</th>\n",
       "      <th>beta_param</th>\n",
       "      <th>lowpass</th>\n",
       "      <th>highpass</th>\n",
       "      <th>ranfilter2</th>\n",
       "      <th>mask</th>\n",
       "      <th>blur</th>\n",
       "    </tr>\n",
       "  </thead>\n",
       "  <tbody>\n",
       "    <tr>\n",
       "      <th>51</th>\n",
       "      <td>LCNN_ADD_</td>\n",
       "      <td>Mixup, LF, RF</td>\n",
       "      <td>0.7</td>\n",
       "      <td>[[0.5, 0.5], [7, 8, 9, 10, 11, 12]]</td>\n",
       "      <td>False</td>\n",
       "      <td>[2, [8, 9, 10, 11, 12]]</td>\n",
       "      <td>15.03</td>\n",
       "      <td>16.74</td>\n",
       "    </tr>\n",
       "    <tr>\n",
       "      <th>52</th>\n",
       "      <td>LCNN_ADD_</td>\n",
       "      <td>Mixup, LF, RF</td>\n",
       "      <td>0.7</td>\n",
       "      <td>[[0.5, 0.5], [7, 8, 9, 10, 11, 12]]</td>\n",
       "      <td>False</td>\n",
       "      <td>[2, [8, 9, 10, 11, 12]]</td>\n",
       "      <td>17.13</td>\n",
       "      <td>18.38</td>\n",
       "    </tr>\n",
       "    <tr>\n",
       "      <th>53</th>\n",
       "      <td>LCNN_ADD_</td>\n",
       "      <td>Mixup, LF, RF</td>\n",
       "      <td>0.7</td>\n",
       "      <td>[[0.5, 0.5], [7, 8, 9, 10, 11, 12]]</td>\n",
       "      <td>False</td>\n",
       "      <td>[2, [8, 9, 10, 11, 12]]</td>\n",
       "      <td>18.28</td>\n",
       "      <td>19.11</td>\n",
       "    </tr>\n",
       "  </tbody>\n",
       "</table>\n",
       "</div>"
      ],
      "text/plain": [
       "        model            aug  beta_param                              lowpass  \\\n",
       "51  LCNN_ADD_  Mixup, LF, RF         0.7  [[0.5, 0.5], [7, 8, 9, 10, 11, 12]]   \n",
       "52  LCNN_ADD_  Mixup, LF, RF         0.7  [[0.5, 0.5], [7, 8, 9, 10, 11, 12]]   \n",
       "53  LCNN_ADD_  Mixup, LF, RF         0.7  [[0.5, 0.5], [7, 8, 9, 10, 11, 12]]   \n",
       "\n",
       "   highpass               ranfilter2   mask   blur  \n",
       "51    False  [2, [8, 9, 10, 11, 12]]  15.03  16.74  \n",
       "52    False  [2, [8, 9, 10, 11, 12]]  17.13  18.38  \n",
       "53    False  [2, [8, 9, 10, 11, 12]]  18.28  19.11  "
      ]
     },
     "execution_count": 161,
     "metadata": {},
     "output_type": "execute_result"
    }
   ],
   "source": [
    "lcnn = df_add[df_add.model==\"LCNN_ADD_\"][df_add.aug==\"Mixup, LF, RF\"][['model','aug','beta_param','lowpass','highpass','ranfilter2','mask','blur']]\n",
    "lcnn"
   ]
  },
  {
   "cell_type": "code",
   "execution_count": 162,
   "id": "b98a138e",
   "metadata": {},
   "outputs": [
    {
     "data": {
      "text/plain": [
       "Ttest_indResult(statistic=-1.0691039807533864, pvalue=0.3452478867679989)"
      ]
     },
     "execution_count": 162,
     "metadata": {},
     "output_type": "execute_result"
    }
   ],
   "source": [
    "# n이 작아서 p-value가 크게나옴\n",
    "ttest_ind(lcnn[\"mask\"],lcnn[\"blur\"],equal_var=True)\n"
   ]
  },
  {
   "cell_type": "code",
   "execution_count": 163,
   "id": "34ebdafa",
   "metadata": {},
   "outputs": [
    {
     "data": {
      "text/plain": [
       "Ttest_relResult(statistic=-4.971373662364, pvalue=0.038160903499238265)"
      ]
     },
     "execution_count": 163,
     "metadata": {},
     "output_type": "execute_result"
    }
   ],
   "source": [
    "ttest_rel(lcnn[\"mask\"],lcnn[\"blur\"])"
   ]
  },
  {
   "cell_type": "markdown",
   "id": "6c193790",
   "metadata": {},
   "source": [
    "### 6. LCNN_LA_(Mixup, HF, RF), 차이없음"
   ]
  },
  {
   "cell_type": "code",
   "execution_count": 164,
   "id": "233b849a",
   "metadata": {},
   "outputs": [
    {
     "name": "stderr",
     "output_type": "stream",
     "text": [
      "/home/ubuntu/anaconda3/envs/tensorflow2.4_p37/lib/python3.7/site-packages/ipykernel/__main__.py:1: UserWarning: Boolean Series key will be reindexed to match DataFrame index.\n",
      "  if __name__ == '__main__':\n"
     ]
    },
    {
     "data": {
      "text/html": [
       "<div>\n",
       "<style scoped>\n",
       "    .dataframe tbody tr th:only-of-type {\n",
       "        vertical-align: middle;\n",
       "    }\n",
       "\n",
       "    .dataframe tbody tr th {\n",
       "        vertical-align: top;\n",
       "    }\n",
       "\n",
       "    .dataframe thead th {\n",
       "        text-align: right;\n",
       "    }\n",
       "</style>\n",
       "<table border=\"1\" class=\"dataframe\">\n",
       "  <thead>\n",
       "    <tr style=\"text-align: right;\">\n",
       "      <th></th>\n",
       "      <th>model</th>\n",
       "      <th>aug</th>\n",
       "      <th>beta_param</th>\n",
       "      <th>lowpass</th>\n",
       "      <th>highpass</th>\n",
       "      <th>ranfilter2</th>\n",
       "      <th>mask</th>\n",
       "      <th>blur</th>\n",
       "    </tr>\n",
       "  </thead>\n",
       "  <tbody>\n",
       "    <tr>\n",
       "      <th>27</th>\n",
       "      <td>LCNN_ADD_</td>\n",
       "      <td>Mixup, HF, RF</td>\n",
       "      <td>0.7</td>\n",
       "      <td>False</td>\n",
       "      <td>[[0.5, 0.5], [80, 81, 82, 83, 84, 85, 86, 87]]</td>\n",
       "      <td>[2, [8, 9, 10, 11, 12]]</td>\n",
       "      <td>19.86</td>\n",
       "      <td>19.54</td>\n",
       "    </tr>\n",
       "    <tr>\n",
       "      <th>28</th>\n",
       "      <td>LCNN_ADD_</td>\n",
       "      <td>Mixup, HF, RF</td>\n",
       "      <td>0.7</td>\n",
       "      <td>False</td>\n",
       "      <td>[[0.5, 0.5], [80, 81, 82, 83, 84, 85, 86, 87]]</td>\n",
       "      <td>[2, [8, 9, 10, 11, 12]]</td>\n",
       "      <td>20.94</td>\n",
       "      <td>20.87</td>\n",
       "    </tr>\n",
       "    <tr>\n",
       "      <th>29</th>\n",
       "      <td>LCNN_ADD_</td>\n",
       "      <td>Mixup, HF, RF</td>\n",
       "      <td>0.7</td>\n",
       "      <td>False</td>\n",
       "      <td>[[0.5, 0.5], [80, 81, 82, 83, 84, 85, 86, 87]]</td>\n",
       "      <td>[2, [8, 9, 10, 11, 12]]</td>\n",
       "      <td>19.93</td>\n",
       "      <td>19.54</td>\n",
       "    </tr>\n",
       "  </tbody>\n",
       "</table>\n",
       "</div>"
      ],
      "text/plain": [
       "        model            aug  beta_param lowpass  \\\n",
       "27  LCNN_ADD_  Mixup, HF, RF         0.7   False   \n",
       "28  LCNN_ADD_  Mixup, HF, RF         0.7   False   \n",
       "29  LCNN_ADD_  Mixup, HF, RF         0.7   False   \n",
       "\n",
       "                                          highpass               ranfilter2  \\\n",
       "27  [[0.5, 0.5], [80, 81, 82, 83, 84, 85, 86, 87]]  [2, [8, 9, 10, 11, 12]]   \n",
       "28  [[0.5, 0.5], [80, 81, 82, 83, 84, 85, 86, 87]]  [2, [8, 9, 10, 11, 12]]   \n",
       "29  [[0.5, 0.5], [80, 81, 82, 83, 84, 85, 86, 87]]  [2, [8, 9, 10, 11, 12]]   \n",
       "\n",
       "     mask   blur  \n",
       "27  19.86  19.54  \n",
       "28  20.94  20.87  \n",
       "29  19.93  19.54  "
      ]
     },
     "execution_count": 164,
     "metadata": {},
     "output_type": "execute_result"
    }
   ],
   "source": [
    "lcnn = df_add[df_add.model==\"LCNN_ADD_\"][df_add.aug==\"Mixup, HF, RF\"][['model','aug','beta_param','lowpass','highpass','ranfilter2','mask','blur']]\n",
    "lcnn"
   ]
  },
  {
   "cell_type": "code",
   "execution_count": 165,
   "id": "68a8b4b3",
   "metadata": {},
   "outputs": [
    {
     "data": {
      "text/plain": [
       "Ttest_indResult(statistic=0.4608532015647148, pvalue=0.6688468977865216)"
      ]
     },
     "execution_count": 165,
     "metadata": {},
     "output_type": "execute_result"
    }
   ],
   "source": [
    "# n이 작아서 p-value가 크게나옴\n",
    "ttest_ind(lcnn[\"mask\"],lcnn[\"blur\"],equal_var=True)\n"
   ]
  },
  {
   "cell_type": "code",
   "execution_count": 166,
   "id": "eb808b0b",
   "metadata": {},
   "outputs": [
    {
     "data": {
      "text/plain": [
       "Ttest_relResult(statistic=2.6769530699128654, pvalue=0.11580309689858942)"
      ]
     },
     "execution_count": 166,
     "metadata": {},
     "output_type": "execute_result"
    }
   ],
   "source": [
    "ttest_rel(lcnn[\"mask\"],lcnn[\"blur\"])"
   ]
  },
  {
   "cell_type": "markdown",
   "id": "f667e0fd",
   "metadata": {},
   "source": [
    "### 7. LCNN_LA_(Mixup, LF, HF, RF), 차이없음"
   ]
  },
  {
   "cell_type": "code",
   "execution_count": 167,
   "id": "2c75a53d",
   "metadata": {},
   "outputs": [
    {
     "name": "stderr",
     "output_type": "stream",
     "text": [
      "/home/ubuntu/anaconda3/envs/tensorflow2.4_p37/lib/python3.7/site-packages/ipykernel/__main__.py:1: UserWarning: Boolean Series key will be reindexed to match DataFrame index.\n",
      "  if __name__ == '__main__':\n"
     ]
    },
    {
     "data": {
      "text/html": [
       "<div>\n",
       "<style scoped>\n",
       "    .dataframe tbody tr th:only-of-type {\n",
       "        vertical-align: middle;\n",
       "    }\n",
       "\n",
       "    .dataframe tbody tr th {\n",
       "        vertical-align: top;\n",
       "    }\n",
       "\n",
       "    .dataframe thead th {\n",
       "        text-align: right;\n",
       "    }\n",
       "</style>\n",
       "<table border=\"1\" class=\"dataframe\">\n",
       "  <thead>\n",
       "    <tr style=\"text-align: right;\">\n",
       "      <th></th>\n",
       "      <th>model</th>\n",
       "      <th>aug</th>\n",
       "      <th>beta_param</th>\n",
       "      <th>lowpass</th>\n",
       "      <th>highpass</th>\n",
       "      <th>ranfilter2</th>\n",
       "      <th>mask</th>\n",
       "      <th>blur</th>\n",
       "    </tr>\n",
       "  </thead>\n",
       "  <tbody>\n",
       "    <tr>\n",
       "      <th>75</th>\n",
       "      <td>LCNN_ADD_</td>\n",
       "      <td>Mixup, LF, HF, RF</td>\n",
       "      <td>0.7</td>\n",
       "      <td>[[0.5, 0.5], [7, 8, 9, 10, 11, 12]]</td>\n",
       "      <td>[[0.5, 0.5], [80, 81, 82, 83, 84, 85, 86, 87]]</td>\n",
       "      <td>[2, [8, 9, 10, 11, 12]]</td>\n",
       "      <td>18.91</td>\n",
       "      <td>17.37</td>\n",
       "    </tr>\n",
       "    <tr>\n",
       "      <th>76</th>\n",
       "      <td>LCNN_ADD_</td>\n",
       "      <td>Mixup, LF, HF, RF</td>\n",
       "      <td>0.7</td>\n",
       "      <td>[[0.5, 0.5], [7, 8, 9, 10, 11, 12]]</td>\n",
       "      <td>[[0.5, 0.5], [80, 81, 82, 83, 84, 85, 86, 87]]</td>\n",
       "      <td>[2, [8, 9, 10, 11, 12]]</td>\n",
       "      <td>19.01</td>\n",
       "      <td>19.16</td>\n",
       "    </tr>\n",
       "    <tr>\n",
       "      <th>77</th>\n",
       "      <td>LCNN_ADD_</td>\n",
       "      <td>Mixup, LF, HF, RF</td>\n",
       "      <td>0.7</td>\n",
       "      <td>[[0.5, 0.5], [7, 8, 9, 10, 11, 12]]</td>\n",
       "      <td>[[0.5, 0.5], [80, 81, 82, 83, 84, 85, 86, 87]]</td>\n",
       "      <td>[2, [8, 9, 10, 11, 12]]</td>\n",
       "      <td>19.08</td>\n",
       "      <td>18.46</td>\n",
       "    </tr>\n",
       "  </tbody>\n",
       "</table>\n",
       "</div>"
      ],
      "text/plain": [
       "        model                aug  beta_param  \\\n",
       "75  LCNN_ADD_  Mixup, LF, HF, RF         0.7   \n",
       "76  LCNN_ADD_  Mixup, LF, HF, RF         0.7   \n",
       "77  LCNN_ADD_  Mixup, LF, HF, RF         0.7   \n",
       "\n",
       "                                lowpass  \\\n",
       "75  [[0.5, 0.5], [7, 8, 9, 10, 11, 12]]   \n",
       "76  [[0.5, 0.5], [7, 8, 9, 10, 11, 12]]   \n",
       "77  [[0.5, 0.5], [7, 8, 9, 10, 11, 12]]   \n",
       "\n",
       "                                          highpass               ranfilter2  \\\n",
       "75  [[0.5, 0.5], [80, 81, 82, 83, 84, 85, 86, 87]]  [2, [8, 9, 10, 11, 12]]   \n",
       "76  [[0.5, 0.5], [80, 81, 82, 83, 84, 85, 86, 87]]  [2, [8, 9, 10, 11, 12]]   \n",
       "77  [[0.5, 0.5], [80, 81, 82, 83, 84, 85, 86, 87]]  [2, [8, 9, 10, 11, 12]]   \n",
       "\n",
       "     mask   blur  \n",
       "75  18.91  17.37  \n",
       "76  19.01  19.16  \n",
       "77  19.08  18.46  "
      ]
     },
     "execution_count": 167,
     "metadata": {},
     "output_type": "execute_result"
    }
   ],
   "source": [
    "lcnn = df_add[df_add.model==\"LCNN_ADD_\"][df_add.aug==\"Mixup, LF, HF, RF\"][['model','aug','beta_param','lowpass','highpass','ranfilter2','mask','blur']]\n",
    "lcnn"
   ]
  },
  {
   "cell_type": "code",
   "execution_count": 168,
   "id": "2d0a7ed2",
   "metadata": {},
   "outputs": [
    {
     "data": {
      "text/plain": [
       "Ttest_indResult(statistic=1.2807484870055892, pvalue=0.2695004071596906)"
      ]
     },
     "execution_count": 168,
     "metadata": {},
     "output_type": "execute_result"
    }
   ],
   "source": [
    "# n이 작아서 p-value가 크게나옴\n",
    "ttest_ind(lcnn[\"mask\"],lcnn[\"blur\"],equal_var=True)\n"
   ]
  },
  {
   "cell_type": "code",
   "execution_count": 169,
   "id": "5dee6003",
   "metadata": {},
   "outputs": [
    {
     "data": {
      "text/plain": [
       "Ttest_relResult(statistic=1.3715424343609244, pvalue=0.3038060746855281)"
      ]
     },
     "execution_count": 169,
     "metadata": {},
     "output_type": "execute_result"
    }
   ],
   "source": [
    "ttest_rel(lcnn[\"mask\"],lcnn[\"blur\"])"
   ]
  },
  {
   "cell_type": "markdown",
   "id": "d6a63d67",
   "metadata": {},
   "source": [
    "----------------------"
   ]
  },
  {
   "cell_type": "markdown",
   "id": "02696d78",
   "metadata": {},
   "source": [
    "## ResMax_LA_"
   ]
  },
  {
   "cell_type": "code",
   "execution_count": 230,
   "id": "19ace777",
   "metadata": {},
   "outputs": [
    {
     "data": {
      "text/html": [
       "<div>\n",
       "<style scoped>\n",
       "    .dataframe tbody tr th:only-of-type {\n",
       "        vertical-align: middle;\n",
       "    }\n",
       "\n",
       "    .dataframe tbody tr th {\n",
       "        vertical-align: top;\n",
       "    }\n",
       "\n",
       "    .dataframe thead th {\n",
       "        text-align: right;\n",
       "    }\n",
       "</style>\n",
       "<table border=\"1\" class=\"dataframe\">\n",
       "  <thead>\n",
       "    <tr style=\"text-align: right;\">\n",
       "      <th></th>\n",
       "      <th>model</th>\n",
       "      <th>aug</th>\n",
       "      <th>beta_param</th>\n",
       "      <th>lowpass</th>\n",
       "      <th>highpass</th>\n",
       "      <th>ranfilter2</th>\n",
       "      <th>mask</th>\n",
       "      <th>blur</th>\n",
       "    </tr>\n",
       "  </thead>\n",
       "  <tbody>\n",
       "    <tr>\n",
       "      <th>0</th>\n",
       "      <td>ResMax_ADD_</td>\n",
       "      <td>Mixup, RF</td>\n",
       "      <td>0.7</td>\n",
       "      <td>False</td>\n",
       "      <td>False</td>\n",
       "      <td>[2, [8, 9, 10, 11, 12]]</td>\n",
       "      <td>14.09</td>\n",
       "      <td>14.79</td>\n",
       "    </tr>\n",
       "    <tr>\n",
       "      <th>1</th>\n",
       "      <td>ResMax_ADD_</td>\n",
       "      <td>Mixup, RF</td>\n",
       "      <td>0.7</td>\n",
       "      <td>False</td>\n",
       "      <td>False</td>\n",
       "      <td>[2, [8, 9, 10, 11, 12]]</td>\n",
       "      <td>12.79</td>\n",
       "      <td>16.74</td>\n",
       "    </tr>\n",
       "    <tr>\n",
       "      <th>2</th>\n",
       "      <td>ResMax_ADD_</td>\n",
       "      <td>Mixup, RF</td>\n",
       "      <td>0.7</td>\n",
       "      <td>False</td>\n",
       "      <td>False</td>\n",
       "      <td>[2, [8, 9, 10, 11, 12]]</td>\n",
       "      <td>18.77</td>\n",
       "      <td>16.64</td>\n",
       "    </tr>\n",
       "    <tr>\n",
       "      <th>12</th>\n",
       "      <td>ResMax_ADD_</td>\n",
       "      <td>Mixup, HF</td>\n",
       "      <td>0.7</td>\n",
       "      <td>False</td>\n",
       "      <td>[[0.5, 0.5], [80, 81, 82, 83, 84, 85, 86, 87]]</td>\n",
       "      <td>False</td>\n",
       "      <td>18.31</td>\n",
       "      <td>18.31</td>\n",
       "    </tr>\n",
       "    <tr>\n",
       "      <th>13</th>\n",
       "      <td>ResMax_ADD_</td>\n",
       "      <td>Mixup, HF</td>\n",
       "      <td>0.7</td>\n",
       "      <td>False</td>\n",
       "      <td>[[0.5, 0.5], [80, 81, 82, 83, 84, 85, 86, 87]]</td>\n",
       "      <td>False</td>\n",
       "      <td>15.97</td>\n",
       "      <td>19.06</td>\n",
       "    </tr>\n",
       "    <tr>\n",
       "      <th>14</th>\n",
       "      <td>ResMax_ADD_</td>\n",
       "      <td>Mixup, HF</td>\n",
       "      <td>0.7</td>\n",
       "      <td>False</td>\n",
       "      <td>[[0.5, 0.5], [80, 81, 82, 83, 84, 85, 86, 87]]</td>\n",
       "      <td>False</td>\n",
       "      <td>17.83</td>\n",
       "      <td>17.51</td>\n",
       "    </tr>\n",
       "    <tr>\n",
       "      <th>24</th>\n",
       "      <td>ResMax_ADD_</td>\n",
       "      <td>Mixup, HF, RF</td>\n",
       "      <td>0.7</td>\n",
       "      <td>False</td>\n",
       "      <td>[[0.5, 0.5], [80, 81, 82, 83, 84, 85, 86, 87]]</td>\n",
       "      <td>[2, [8, 9, 10, 11, 12]]</td>\n",
       "      <td>17.20</td>\n",
       "      <td>16.74</td>\n",
       "    </tr>\n",
       "    <tr>\n",
       "      <th>25</th>\n",
       "      <td>ResMax_ADD_</td>\n",
       "      <td>Mixup, HF, RF</td>\n",
       "      <td>0.7</td>\n",
       "      <td>False</td>\n",
       "      <td>[[0.5, 0.5], [80, 81, 82, 83, 84, 85, 86, 87]]</td>\n",
       "      <td>[2, [8, 9, 10, 11, 12]]</td>\n",
       "      <td>17.97</td>\n",
       "      <td>17.83</td>\n",
       "    </tr>\n",
       "    <tr>\n",
       "      <th>26</th>\n",
       "      <td>ResMax_ADD_</td>\n",
       "      <td>Mixup, HF, RF</td>\n",
       "      <td>0.7</td>\n",
       "      <td>False</td>\n",
       "      <td>[[0.5, 0.5], [80, 81, 82, 83, 84, 85, 86, 87]]</td>\n",
       "      <td>[2, [8, 9, 10, 11, 12]]</td>\n",
       "      <td>16.81</td>\n",
       "      <td>14.89</td>\n",
       "    </tr>\n",
       "    <tr>\n",
       "      <th>36</th>\n",
       "      <td>ResMax_ADD_</td>\n",
       "      <td>Mixup, LF</td>\n",
       "      <td>0.7</td>\n",
       "      <td>[[0.5, 0.5], [7, 8, 9, 10, 11, 12]]</td>\n",
       "      <td>False</td>\n",
       "      <td>False</td>\n",
       "      <td>19.54</td>\n",
       "      <td>20.17</td>\n",
       "    </tr>\n",
       "    <tr>\n",
       "      <th>37</th>\n",
       "      <td>ResMax_ADD_</td>\n",
       "      <td>Mixup, LF</td>\n",
       "      <td>0.7</td>\n",
       "      <td>[[0.5, 0.5], [7, 8, 9, 10, 11, 12]]</td>\n",
       "      <td>False</td>\n",
       "      <td>False</td>\n",
       "      <td>14.96</td>\n",
       "      <td>18.21</td>\n",
       "    </tr>\n",
       "    <tr>\n",
       "      <th>38</th>\n",
       "      <td>ResMax_ADD_</td>\n",
       "      <td>Mixup, LF</td>\n",
       "      <td>0.7</td>\n",
       "      <td>[[0.5, 0.5], [7, 8, 9, 10, 11, 12]]</td>\n",
       "      <td>False</td>\n",
       "      <td>False</td>\n",
       "      <td>14.96</td>\n",
       "      <td>17.59</td>\n",
       "    </tr>\n",
       "    <tr>\n",
       "      <th>48</th>\n",
       "      <td>ResMax_ADD_</td>\n",
       "      <td>Mixup, LF, RF</td>\n",
       "      <td>0.7</td>\n",
       "      <td>[[0.5, 0.5], [7, 8, 9, 10, 11, 12]]</td>\n",
       "      <td>False</td>\n",
       "      <td>[2, [8, 9, 10, 11, 12]]</td>\n",
       "      <td>14.64</td>\n",
       "      <td>14.96</td>\n",
       "    </tr>\n",
       "    <tr>\n",
       "      <th>49</th>\n",
       "      <td>ResMax_ADD_</td>\n",
       "      <td>Mixup, LF, RF</td>\n",
       "      <td>0.7</td>\n",
       "      <td>[[0.5, 0.5], [7, 8, 9, 10, 11, 12]]</td>\n",
       "      <td>False</td>\n",
       "      <td>[2, [8, 9, 10, 11, 12]]</td>\n",
       "      <td>17.83</td>\n",
       "      <td>17.47</td>\n",
       "    </tr>\n",
       "    <tr>\n",
       "      <th>50</th>\n",
       "      <td>ResMax_ADD_</td>\n",
       "      <td>Mixup, LF, RF</td>\n",
       "      <td>0.7</td>\n",
       "      <td>[[0.5, 0.5], [7, 8, 9, 10, 11, 12]]</td>\n",
       "      <td>False</td>\n",
       "      <td>[2, [8, 9, 10, 11, 12]]</td>\n",
       "      <td>18.21</td>\n",
       "      <td>15.41</td>\n",
       "    </tr>\n",
       "    <tr>\n",
       "      <th>60</th>\n",
       "      <td>ResMax_ADD_</td>\n",
       "      <td>Mixup, LF, HF</td>\n",
       "      <td>0.7</td>\n",
       "      <td>[[0.5, 0.5], [7, 8, 9, 10, 11, 12]]</td>\n",
       "      <td>[[0.5, 0.5], [80, 81, 82, 83, 84, 85, 86, 87]]</td>\n",
       "      <td>False</td>\n",
       "      <td>21.18</td>\n",
       "      <td>18.77</td>\n",
       "    </tr>\n",
       "    <tr>\n",
       "      <th>61</th>\n",
       "      <td>ResMax_ADD_</td>\n",
       "      <td>Mixup, LF, HF</td>\n",
       "      <td>0.7</td>\n",
       "      <td>[[0.5, 0.5], [7, 8, 9, 10, 11, 12]]</td>\n",
       "      <td>[[0.5, 0.5], [80, 81, 82, 83, 84, 85, 86, 87]]</td>\n",
       "      <td>False</td>\n",
       "      <td>17.13</td>\n",
       "      <td>18.24</td>\n",
       "    </tr>\n",
       "    <tr>\n",
       "      <th>62</th>\n",
       "      <td>ResMax_ADD_</td>\n",
       "      <td>Mixup, LF, HF</td>\n",
       "      <td>0.7</td>\n",
       "      <td>[[0.5, 0.5], [7, 8, 9, 10, 11, 12]]</td>\n",
       "      <td>[[0.5, 0.5], [80, 81, 82, 83, 84, 85, 86, 87]]</td>\n",
       "      <td>False</td>\n",
       "      <td>20.55</td>\n",
       "      <td>21.50</td>\n",
       "    </tr>\n",
       "    <tr>\n",
       "      <th>72</th>\n",
       "      <td>ResMax_ADD_</td>\n",
       "      <td>Mixup, LF, HF, RF</td>\n",
       "      <td>0.7</td>\n",
       "      <td>[[0.5, 0.5], [7, 8, 9, 10, 11, 12]]</td>\n",
       "      <td>[[0.5, 0.5], [80, 81, 82, 83, 84, 85, 86, 87]]</td>\n",
       "      <td>[2, [8, 9, 10, 11, 12]]</td>\n",
       "      <td>18.38</td>\n",
       "      <td>16.43</td>\n",
       "    </tr>\n",
       "    <tr>\n",
       "      <th>73</th>\n",
       "      <td>ResMax_ADD_</td>\n",
       "      <td>Mixup, LF, HF, RF</td>\n",
       "      <td>0.7</td>\n",
       "      <td>[[0.5, 0.5], [7, 8, 9, 10, 11, 12]]</td>\n",
       "      <td>[[0.5, 0.5], [80, 81, 82, 83, 84, 85, 86, 87]]</td>\n",
       "      <td>[2, [8, 9, 10, 11, 12]]</td>\n",
       "      <td>15.59</td>\n",
       "      <td>15.20</td>\n",
       "    </tr>\n",
       "    <tr>\n",
       "      <th>74</th>\n",
       "      <td>ResMax_ADD_</td>\n",
       "      <td>Mixup, LF, HF, RF</td>\n",
       "      <td>0.7</td>\n",
       "      <td>[[0.5, 0.5], [7, 8, 9, 10, 11, 12]]</td>\n",
       "      <td>[[0.5, 0.5], [80, 81, 82, 83, 84, 85, 86, 87]]</td>\n",
       "      <td>[2, [8, 9, 10, 11, 12]]</td>\n",
       "      <td>18.46</td>\n",
       "      <td>18.46</td>\n",
       "    </tr>\n",
       "  </tbody>\n",
       "</table>\n",
       "</div>"
      ],
      "text/plain": [
       "          model                aug  beta_param  \\\n",
       "0   ResMax_ADD_          Mixup, RF         0.7   \n",
       "1   ResMax_ADD_          Mixup, RF         0.7   \n",
       "2   ResMax_ADD_          Mixup, RF         0.7   \n",
       "12  ResMax_ADD_          Mixup, HF         0.7   \n",
       "13  ResMax_ADD_          Mixup, HF         0.7   \n",
       "14  ResMax_ADD_          Mixup, HF         0.7   \n",
       "24  ResMax_ADD_      Mixup, HF, RF         0.7   \n",
       "25  ResMax_ADD_      Mixup, HF, RF         0.7   \n",
       "26  ResMax_ADD_      Mixup, HF, RF         0.7   \n",
       "36  ResMax_ADD_          Mixup, LF         0.7   \n",
       "37  ResMax_ADD_          Mixup, LF         0.7   \n",
       "38  ResMax_ADD_          Mixup, LF         0.7   \n",
       "48  ResMax_ADD_      Mixup, LF, RF         0.7   \n",
       "49  ResMax_ADD_      Mixup, LF, RF         0.7   \n",
       "50  ResMax_ADD_      Mixup, LF, RF         0.7   \n",
       "60  ResMax_ADD_      Mixup, LF, HF         0.7   \n",
       "61  ResMax_ADD_      Mixup, LF, HF         0.7   \n",
       "62  ResMax_ADD_      Mixup, LF, HF         0.7   \n",
       "72  ResMax_ADD_  Mixup, LF, HF, RF         0.7   \n",
       "73  ResMax_ADD_  Mixup, LF, HF, RF         0.7   \n",
       "74  ResMax_ADD_  Mixup, LF, HF, RF         0.7   \n",
       "\n",
       "                                lowpass  \\\n",
       "0                                 False   \n",
       "1                                 False   \n",
       "2                                 False   \n",
       "12                                False   \n",
       "13                                False   \n",
       "14                                False   \n",
       "24                                False   \n",
       "25                                False   \n",
       "26                                False   \n",
       "36  [[0.5, 0.5], [7, 8, 9, 10, 11, 12]]   \n",
       "37  [[0.5, 0.5], [7, 8, 9, 10, 11, 12]]   \n",
       "38  [[0.5, 0.5], [7, 8, 9, 10, 11, 12]]   \n",
       "48  [[0.5, 0.5], [7, 8, 9, 10, 11, 12]]   \n",
       "49  [[0.5, 0.5], [7, 8, 9, 10, 11, 12]]   \n",
       "50  [[0.5, 0.5], [7, 8, 9, 10, 11, 12]]   \n",
       "60  [[0.5, 0.5], [7, 8, 9, 10, 11, 12]]   \n",
       "61  [[0.5, 0.5], [7, 8, 9, 10, 11, 12]]   \n",
       "62  [[0.5, 0.5], [7, 8, 9, 10, 11, 12]]   \n",
       "72  [[0.5, 0.5], [7, 8, 9, 10, 11, 12]]   \n",
       "73  [[0.5, 0.5], [7, 8, 9, 10, 11, 12]]   \n",
       "74  [[0.5, 0.5], [7, 8, 9, 10, 11, 12]]   \n",
       "\n",
       "                                          highpass               ranfilter2  \\\n",
       "0                                            False  [2, [8, 9, 10, 11, 12]]   \n",
       "1                                            False  [2, [8, 9, 10, 11, 12]]   \n",
       "2                                            False  [2, [8, 9, 10, 11, 12]]   \n",
       "12  [[0.5, 0.5], [80, 81, 82, 83, 84, 85, 86, 87]]                    False   \n",
       "13  [[0.5, 0.5], [80, 81, 82, 83, 84, 85, 86, 87]]                    False   \n",
       "14  [[0.5, 0.5], [80, 81, 82, 83, 84, 85, 86, 87]]                    False   \n",
       "24  [[0.5, 0.5], [80, 81, 82, 83, 84, 85, 86, 87]]  [2, [8, 9, 10, 11, 12]]   \n",
       "25  [[0.5, 0.5], [80, 81, 82, 83, 84, 85, 86, 87]]  [2, [8, 9, 10, 11, 12]]   \n",
       "26  [[0.5, 0.5], [80, 81, 82, 83, 84, 85, 86, 87]]  [2, [8, 9, 10, 11, 12]]   \n",
       "36                                           False                    False   \n",
       "37                                           False                    False   \n",
       "38                                           False                    False   \n",
       "48                                           False  [2, [8, 9, 10, 11, 12]]   \n",
       "49                                           False  [2, [8, 9, 10, 11, 12]]   \n",
       "50                                           False  [2, [8, 9, 10, 11, 12]]   \n",
       "60  [[0.5, 0.5], [80, 81, 82, 83, 84, 85, 86, 87]]                    False   \n",
       "61  [[0.5, 0.5], [80, 81, 82, 83, 84, 85, 86, 87]]                    False   \n",
       "62  [[0.5, 0.5], [80, 81, 82, 83, 84, 85, 86, 87]]                    False   \n",
       "72  [[0.5, 0.5], [80, 81, 82, 83, 84, 85, 86, 87]]  [2, [8, 9, 10, 11, 12]]   \n",
       "73  [[0.5, 0.5], [80, 81, 82, 83, 84, 85, 86, 87]]  [2, [8, 9, 10, 11, 12]]   \n",
       "74  [[0.5, 0.5], [80, 81, 82, 83, 84, 85, 86, 87]]  [2, [8, 9, 10, 11, 12]]   \n",
       "\n",
       "     mask   blur  \n",
       "0   14.09  14.79  \n",
       "1   12.79  16.74  \n",
       "2   18.77  16.64  \n",
       "12  18.31  18.31  \n",
       "13  15.97  19.06  \n",
       "14  17.83  17.51  \n",
       "24  17.20  16.74  \n",
       "25  17.97  17.83  \n",
       "26  16.81  14.89  \n",
       "36  19.54  20.17  \n",
       "37  14.96  18.21  \n",
       "38  14.96  17.59  \n",
       "48  14.64  14.96  \n",
       "49  17.83  17.47  \n",
       "50  18.21  15.41  \n",
       "60  21.18  18.77  \n",
       "61  17.13  18.24  \n",
       "62  20.55  21.50  \n",
       "72  18.38  16.43  \n",
       "73  15.59  15.20  \n",
       "74  18.46  18.46  "
      ]
     },
     "execution_count": 230,
     "metadata": {},
     "output_type": "execute_result"
    }
   ],
   "source": [
    "resmax = df_add[df_add.model==\"ResMax_ADD_\"][['model','aug','beta_param','lowpass','highpass','ranfilter2','mask','blur']]\n",
    "resmax"
   ]
  },
  {
   "cell_type": "code",
   "execution_count": 231,
   "id": "d88f6147",
   "metadata": {},
   "outputs": [
    {
     "data": {
      "text/plain": [
       "Ttest_indResult(statistic=-0.2944189711472946, pvalue=0.769960328688348)"
      ]
     },
     "execution_count": 231,
     "metadata": {},
     "output_type": "execute_result"
    }
   ],
   "source": [
    "# n이 작아서 p-value가 크게나옴\n",
    "ttest_ind(resmax[\"mask\"],resmax[\"blur\"],equal_var=True)\n"
   ]
  },
  {
   "cell_type": "code",
   "execution_count": 232,
   "id": "841d3bc6",
   "metadata": {},
   "outputs": [
    {
     "data": {
      "text/plain": [
       "Ttest_relResult(statistic=-0.433179854930295, pvalue=0.6695199685269518)"
      ]
     },
     "execution_count": 232,
     "metadata": {},
     "output_type": "execute_result"
    }
   ],
   "source": [
    "ttest_rel(resmax[\"mask\"],resmax[\"blur\"])"
   ]
  },
  {
   "cell_type": "markdown",
   "id": "aab40eb2",
   "metadata": {},
   "source": [
    "### 1. (Mixup, LF), 차이없음"
   ]
  },
  {
   "cell_type": "code",
   "execution_count": 170,
   "id": "d2df5746",
   "metadata": {},
   "outputs": [
    {
     "name": "stderr",
     "output_type": "stream",
     "text": [
      "/home/ubuntu/anaconda3/envs/tensorflow2.4_p37/lib/python3.7/site-packages/ipykernel/__main__.py:1: UserWarning: Boolean Series key will be reindexed to match DataFrame index.\n",
      "  if __name__ == '__main__':\n"
     ]
    },
    {
     "data": {
      "text/html": [
       "<div>\n",
       "<style scoped>\n",
       "    .dataframe tbody tr th:only-of-type {\n",
       "        vertical-align: middle;\n",
       "    }\n",
       "\n",
       "    .dataframe tbody tr th {\n",
       "        vertical-align: top;\n",
       "    }\n",
       "\n",
       "    .dataframe thead th {\n",
       "        text-align: right;\n",
       "    }\n",
       "</style>\n",
       "<table border=\"1\" class=\"dataframe\">\n",
       "  <thead>\n",
       "    <tr style=\"text-align: right;\">\n",
       "      <th></th>\n",
       "      <th>model</th>\n",
       "      <th>aug</th>\n",
       "      <th>beta_param</th>\n",
       "      <th>lowpass</th>\n",
       "      <th>highpass</th>\n",
       "      <th>ranfilter2</th>\n",
       "      <th>mask</th>\n",
       "      <th>blur</th>\n",
       "    </tr>\n",
       "  </thead>\n",
       "  <tbody>\n",
       "    <tr>\n",
       "      <th>36</th>\n",
       "      <td>ResMax_ADD_</td>\n",
       "      <td>Mixup, LF</td>\n",
       "      <td>0.7</td>\n",
       "      <td>[[0.5, 0.5], [7, 8, 9, 10, 11, 12]]</td>\n",
       "      <td>False</td>\n",
       "      <td>False</td>\n",
       "      <td>19.54</td>\n",
       "      <td>20.17</td>\n",
       "    </tr>\n",
       "    <tr>\n",
       "      <th>37</th>\n",
       "      <td>ResMax_ADD_</td>\n",
       "      <td>Mixup, LF</td>\n",
       "      <td>0.7</td>\n",
       "      <td>[[0.5, 0.5], [7, 8, 9, 10, 11, 12]]</td>\n",
       "      <td>False</td>\n",
       "      <td>False</td>\n",
       "      <td>14.96</td>\n",
       "      <td>18.21</td>\n",
       "    </tr>\n",
       "    <tr>\n",
       "      <th>38</th>\n",
       "      <td>ResMax_ADD_</td>\n",
       "      <td>Mixup, LF</td>\n",
       "      <td>0.7</td>\n",
       "      <td>[[0.5, 0.5], [7, 8, 9, 10, 11, 12]]</td>\n",
       "      <td>False</td>\n",
       "      <td>False</td>\n",
       "      <td>14.96</td>\n",
       "      <td>17.59</td>\n",
       "    </tr>\n",
       "  </tbody>\n",
       "</table>\n",
       "</div>"
      ],
      "text/plain": [
       "          model        aug  beta_param                              lowpass  \\\n",
       "36  ResMax_ADD_  Mixup, LF         0.7  [[0.5, 0.5], [7, 8, 9, 10, 11, 12]]   \n",
       "37  ResMax_ADD_  Mixup, LF         0.7  [[0.5, 0.5], [7, 8, 9, 10, 11, 12]]   \n",
       "38  ResMax_ADD_  Mixup, LF         0.7  [[0.5, 0.5], [7, 8, 9, 10, 11, 12]]   \n",
       "\n",
       "   highpass ranfilter2   mask   blur  \n",
       "36    False      False  19.54  20.17  \n",
       "37    False      False  14.96  18.21  \n",
       "38    False      False  14.96  17.59  "
      ]
     },
     "execution_count": 170,
     "metadata": {},
     "output_type": "execute_result"
    }
   ],
   "source": [
    "resmax = df_add[df_add.model==\"ResMax_ADD_\"][df_add.aug==\"Mixup, LF\"][['model','aug','beta_param','lowpass','highpass','ranfilter2','mask','blur']]\n",
    "resmax"
   ]
  },
  {
   "cell_type": "code",
   "execution_count": 171,
   "id": "48322bff",
   "metadata": {},
   "outputs": [
    {
     "data": {
      "text/plain": [
       "Ttest_indResult(statistic=-1.2665849069962618, pvalue=0.27403581828300455)"
      ]
     },
     "execution_count": 171,
     "metadata": {},
     "output_type": "execute_result"
    }
   ],
   "source": [
    "# n이 작아서 p-value가 크게나옴\n",
    "ttest_ind(resmax[\"mask\"],resmax[\"blur\"],equal_var=True)\n"
   ]
  },
  {
   "cell_type": "code",
   "execution_count": 172,
   "id": "6a62a94f",
   "metadata": {},
   "outputs": [
    {
     "data": {
      "text/plain": [
       "Ttest_relResult(statistic=-2.7450034131124026, pvalue=0.11104138309757484)"
      ]
     },
     "execution_count": 172,
     "metadata": {},
     "output_type": "execute_result"
    }
   ],
   "source": [
    "ttest_rel(resmax[\"mask\"],resmax[\"blur\"])"
   ]
  },
  {
   "cell_type": "markdown",
   "id": "389e1411",
   "metadata": {},
   "source": [
    "### 2. (Mixup, HF), 차이없음"
   ]
  },
  {
   "cell_type": "code",
   "execution_count": 173,
   "id": "117c776f",
   "metadata": {},
   "outputs": [
    {
     "name": "stderr",
     "output_type": "stream",
     "text": [
      "/home/ubuntu/anaconda3/envs/tensorflow2.4_p37/lib/python3.7/site-packages/ipykernel/__main__.py:1: UserWarning: Boolean Series key will be reindexed to match DataFrame index.\n",
      "  if __name__ == '__main__':\n"
     ]
    },
    {
     "data": {
      "text/html": [
       "<div>\n",
       "<style scoped>\n",
       "    .dataframe tbody tr th:only-of-type {\n",
       "        vertical-align: middle;\n",
       "    }\n",
       "\n",
       "    .dataframe tbody tr th {\n",
       "        vertical-align: top;\n",
       "    }\n",
       "\n",
       "    .dataframe thead th {\n",
       "        text-align: right;\n",
       "    }\n",
       "</style>\n",
       "<table border=\"1\" class=\"dataframe\">\n",
       "  <thead>\n",
       "    <tr style=\"text-align: right;\">\n",
       "      <th></th>\n",
       "      <th>model</th>\n",
       "      <th>aug</th>\n",
       "      <th>beta_param</th>\n",
       "      <th>lowpass</th>\n",
       "      <th>highpass</th>\n",
       "      <th>ranfilter2</th>\n",
       "      <th>mask</th>\n",
       "      <th>blur</th>\n",
       "    </tr>\n",
       "  </thead>\n",
       "  <tbody>\n",
       "    <tr>\n",
       "      <th>12</th>\n",
       "      <td>ResMax_ADD_</td>\n",
       "      <td>Mixup, HF</td>\n",
       "      <td>0.7</td>\n",
       "      <td>False</td>\n",
       "      <td>[[0.5, 0.5], [80, 81, 82, 83, 84, 85, 86, 87]]</td>\n",
       "      <td>False</td>\n",
       "      <td>18.31</td>\n",
       "      <td>18.31</td>\n",
       "    </tr>\n",
       "    <tr>\n",
       "      <th>13</th>\n",
       "      <td>ResMax_ADD_</td>\n",
       "      <td>Mixup, HF</td>\n",
       "      <td>0.7</td>\n",
       "      <td>False</td>\n",
       "      <td>[[0.5, 0.5], [80, 81, 82, 83, 84, 85, 86, 87]]</td>\n",
       "      <td>False</td>\n",
       "      <td>15.97</td>\n",
       "      <td>19.06</td>\n",
       "    </tr>\n",
       "    <tr>\n",
       "      <th>14</th>\n",
       "      <td>ResMax_ADD_</td>\n",
       "      <td>Mixup, HF</td>\n",
       "      <td>0.7</td>\n",
       "      <td>False</td>\n",
       "      <td>[[0.5, 0.5], [80, 81, 82, 83, 84, 85, 86, 87]]</td>\n",
       "      <td>False</td>\n",
       "      <td>17.83</td>\n",
       "      <td>17.51</td>\n",
       "    </tr>\n",
       "  </tbody>\n",
       "</table>\n",
       "</div>"
      ],
      "text/plain": [
       "          model        aug  beta_param lowpass  \\\n",
       "12  ResMax_ADD_  Mixup, HF         0.7   False   \n",
       "13  ResMax_ADD_  Mixup, HF         0.7   False   \n",
       "14  ResMax_ADD_  Mixup, HF         0.7   False   \n",
       "\n",
       "                                          highpass ranfilter2   mask   blur  \n",
       "12  [[0.5, 0.5], [80, 81, 82, 83, 84, 85, 86, 87]]      False  18.31  18.31  \n",
       "13  [[0.5, 0.5], [80, 81, 82, 83, 84, 85, 86, 87]]      False  15.97  19.06  \n",
       "14  [[0.5, 0.5], [80, 81, 82, 83, 84, 85, 86, 87]]      False  17.83  17.51  "
      ]
     },
     "execution_count": 173,
     "metadata": {},
     "output_type": "execute_result"
    }
   ],
   "source": [
    "resmax = df_add[df_add.model==\"ResMax_ADD_\"][df_add.aug==\"Mixup, HF\"][['model','aug','beta_param','lowpass','highpass','ranfilter2','mask','blur']]\n",
    "resmax"
   ]
  },
  {
   "cell_type": "code",
   "execution_count": 174,
   "id": "7177819a",
   "metadata": {},
   "outputs": [
    {
     "data": {
      "text/plain": [
       "Ttest_indResult(statistic=-1.0961982787681834, pvalue=0.3345592488404164)"
      ]
     },
     "execution_count": 174,
     "metadata": {},
     "output_type": "execute_result"
    }
   ],
   "source": [
    "# n이 작아서 p-value가 크게나옴\n",
    "ttest_ind(resmax[\"mask\"],resmax[\"blur\"],equal_var=True)"
   ]
  },
  {
   "cell_type": "code",
   "execution_count": 175,
   "id": "e4353ca9",
   "metadata": {},
   "outputs": [
    {
     "data": {
      "text/plain": [
       "Ttest_relResult(statistic=-0.8492259207093337, pvalue=0.4851932481553731)"
      ]
     },
     "execution_count": 175,
     "metadata": {},
     "output_type": "execute_result"
    }
   ],
   "source": [
    "ttest_rel(resmax[\"mask\"],resmax[\"blur\"])"
   ]
  },
  {
   "cell_type": "markdown",
   "id": "6280520d",
   "metadata": {},
   "source": [
    "### 3. (Mixup, RF), 차이없음"
   ]
  },
  {
   "cell_type": "code",
   "execution_count": 176,
   "id": "f84f8538",
   "metadata": {},
   "outputs": [
    {
     "name": "stderr",
     "output_type": "stream",
     "text": [
      "/home/ubuntu/anaconda3/envs/tensorflow2.4_p37/lib/python3.7/site-packages/ipykernel/__main__.py:1: UserWarning: Boolean Series key will be reindexed to match DataFrame index.\n",
      "  if __name__ == '__main__':\n"
     ]
    },
    {
     "data": {
      "text/html": [
       "<div>\n",
       "<style scoped>\n",
       "    .dataframe tbody tr th:only-of-type {\n",
       "        vertical-align: middle;\n",
       "    }\n",
       "\n",
       "    .dataframe tbody tr th {\n",
       "        vertical-align: top;\n",
       "    }\n",
       "\n",
       "    .dataframe thead th {\n",
       "        text-align: right;\n",
       "    }\n",
       "</style>\n",
       "<table border=\"1\" class=\"dataframe\">\n",
       "  <thead>\n",
       "    <tr style=\"text-align: right;\">\n",
       "      <th></th>\n",
       "      <th>model</th>\n",
       "      <th>aug</th>\n",
       "      <th>beta_param</th>\n",
       "      <th>lowpass</th>\n",
       "      <th>highpass</th>\n",
       "      <th>ranfilter2</th>\n",
       "      <th>mask</th>\n",
       "      <th>blur</th>\n",
       "    </tr>\n",
       "  </thead>\n",
       "  <tbody>\n",
       "    <tr>\n",
       "      <th>0</th>\n",
       "      <td>ResMax_ADD_</td>\n",
       "      <td>Mixup, RF</td>\n",
       "      <td>0.7</td>\n",
       "      <td>False</td>\n",
       "      <td>False</td>\n",
       "      <td>[2, [8, 9, 10, 11, 12]]</td>\n",
       "      <td>14.09</td>\n",
       "      <td>14.79</td>\n",
       "    </tr>\n",
       "    <tr>\n",
       "      <th>1</th>\n",
       "      <td>ResMax_ADD_</td>\n",
       "      <td>Mixup, RF</td>\n",
       "      <td>0.7</td>\n",
       "      <td>False</td>\n",
       "      <td>False</td>\n",
       "      <td>[2, [8, 9, 10, 11, 12]]</td>\n",
       "      <td>12.79</td>\n",
       "      <td>16.74</td>\n",
       "    </tr>\n",
       "    <tr>\n",
       "      <th>2</th>\n",
       "      <td>ResMax_ADD_</td>\n",
       "      <td>Mixup, RF</td>\n",
       "      <td>0.7</td>\n",
       "      <td>False</td>\n",
       "      <td>False</td>\n",
       "      <td>[2, [8, 9, 10, 11, 12]]</td>\n",
       "      <td>18.77</td>\n",
       "      <td>16.64</td>\n",
       "    </tr>\n",
       "  </tbody>\n",
       "</table>\n",
       "</div>"
      ],
      "text/plain": [
       "         model        aug  beta_param lowpass highpass  \\\n",
       "0  ResMax_ADD_  Mixup, RF         0.7   False    False   \n",
       "1  ResMax_ADD_  Mixup, RF         0.7   False    False   \n",
       "2  ResMax_ADD_  Mixup, RF         0.7   False    False   \n",
       "\n",
       "                ranfilter2   mask   blur  \n",
       "0  [2, [8, 9, 10, 11, 12]]  14.09  14.79  \n",
       "1  [2, [8, 9, 10, 11, 12]]  12.79  16.74  \n",
       "2  [2, [8, 9, 10, 11, 12]]  18.77  16.64  "
      ]
     },
     "execution_count": 176,
     "metadata": {},
     "output_type": "execute_result"
    }
   ],
   "source": [
    "resmax = df_add[df_add.model==\"ResMax_ADD_\"][df_add.aug==\"Mixup, RF\"][['model','aug','beta_param','lowpass','highpass','ranfilter2','mask','blur']]\n",
    "resmax"
   ]
  },
  {
   "cell_type": "code",
   "execution_count": 177,
   "id": "ecc62979",
   "metadata": {},
   "outputs": [
    {
     "data": {
      "text/plain": [
       "Ttest_indResult(statistic=-0.43673520882937006, pvalue=0.6848444967226205)"
      ]
     },
     "execution_count": 177,
     "metadata": {},
     "output_type": "execute_result"
    }
   ],
   "source": [
    "# n이 작아서 p-value가 크게나옴\n",
    "ttest_ind(resmax[\"mask\"],resmax[\"blur\"],equal_var=True)"
   ]
  },
  {
   "cell_type": "code",
   "execution_count": 178,
   "id": "1c155633",
   "metadata": {},
   "outputs": [
    {
     "data": {
      "text/plain": [
       "Ttest_relResult(statistic=-0.47821280673078115, pvalue=0.6796707366461154)"
      ]
     },
     "execution_count": 178,
     "metadata": {},
     "output_type": "execute_result"
    }
   ],
   "source": [
    "ttest_rel(resmax[\"mask\"],resmax[\"blur\"])"
   ]
  },
  {
   "cell_type": "markdown",
   "id": "305c9a5b",
   "metadata": {},
   "source": [
    "### 4. (Mixup, LF, HF), 차이없음"
   ]
  },
  {
   "cell_type": "code",
   "execution_count": 179,
   "id": "12c568aa",
   "metadata": {},
   "outputs": [
    {
     "name": "stderr",
     "output_type": "stream",
     "text": [
      "/home/ubuntu/anaconda3/envs/tensorflow2.4_p37/lib/python3.7/site-packages/ipykernel/__main__.py:1: UserWarning: Boolean Series key will be reindexed to match DataFrame index.\n",
      "  if __name__ == '__main__':\n"
     ]
    },
    {
     "data": {
      "text/html": [
       "<div>\n",
       "<style scoped>\n",
       "    .dataframe tbody tr th:only-of-type {\n",
       "        vertical-align: middle;\n",
       "    }\n",
       "\n",
       "    .dataframe tbody tr th {\n",
       "        vertical-align: top;\n",
       "    }\n",
       "\n",
       "    .dataframe thead th {\n",
       "        text-align: right;\n",
       "    }\n",
       "</style>\n",
       "<table border=\"1\" class=\"dataframe\">\n",
       "  <thead>\n",
       "    <tr style=\"text-align: right;\">\n",
       "      <th></th>\n",
       "      <th>model</th>\n",
       "      <th>aug</th>\n",
       "      <th>beta_param</th>\n",
       "      <th>lowpass</th>\n",
       "      <th>highpass</th>\n",
       "      <th>ranfilter2</th>\n",
       "      <th>mask</th>\n",
       "      <th>blur</th>\n",
       "    </tr>\n",
       "  </thead>\n",
       "  <tbody>\n",
       "    <tr>\n",
       "      <th>60</th>\n",
       "      <td>ResMax_ADD_</td>\n",
       "      <td>Mixup, LF, HF</td>\n",
       "      <td>0.7</td>\n",
       "      <td>[[0.5, 0.5], [7, 8, 9, 10, 11, 12]]</td>\n",
       "      <td>[[0.5, 0.5], [80, 81, 82, 83, 84, 85, 86, 87]]</td>\n",
       "      <td>False</td>\n",
       "      <td>21.18</td>\n",
       "      <td>18.77</td>\n",
       "    </tr>\n",
       "    <tr>\n",
       "      <th>61</th>\n",
       "      <td>ResMax_ADD_</td>\n",
       "      <td>Mixup, LF, HF</td>\n",
       "      <td>0.7</td>\n",
       "      <td>[[0.5, 0.5], [7, 8, 9, 10, 11, 12]]</td>\n",
       "      <td>[[0.5, 0.5], [80, 81, 82, 83, 84, 85, 86, 87]]</td>\n",
       "      <td>False</td>\n",
       "      <td>17.13</td>\n",
       "      <td>18.24</td>\n",
       "    </tr>\n",
       "    <tr>\n",
       "      <th>62</th>\n",
       "      <td>ResMax_ADD_</td>\n",
       "      <td>Mixup, LF, HF</td>\n",
       "      <td>0.7</td>\n",
       "      <td>[[0.5, 0.5], [7, 8, 9, 10, 11, 12]]</td>\n",
       "      <td>[[0.5, 0.5], [80, 81, 82, 83, 84, 85, 86, 87]]</td>\n",
       "      <td>False</td>\n",
       "      <td>20.55</td>\n",
       "      <td>21.50</td>\n",
       "    </tr>\n",
       "  </tbody>\n",
       "</table>\n",
       "</div>"
      ],
      "text/plain": [
       "          model            aug  beta_param  \\\n",
       "60  ResMax_ADD_  Mixup, LF, HF         0.7   \n",
       "61  ResMax_ADD_  Mixup, LF, HF         0.7   \n",
       "62  ResMax_ADD_  Mixup, LF, HF         0.7   \n",
       "\n",
       "                                lowpass  \\\n",
       "60  [[0.5, 0.5], [7, 8, 9, 10, 11, 12]]   \n",
       "61  [[0.5, 0.5], [7, 8, 9, 10, 11, 12]]   \n",
       "62  [[0.5, 0.5], [7, 8, 9, 10, 11, 12]]   \n",
       "\n",
       "                                          highpass ranfilter2   mask   blur  \n",
       "60  [[0.5, 0.5], [80, 81, 82, 83, 84, 85, 86, 87]]      False  21.18  18.77  \n",
       "61  [[0.5, 0.5], [80, 81, 82, 83, 84, 85, 86, 87]]      False  17.13  18.24  \n",
       "62  [[0.5, 0.5], [80, 81, 82, 83, 84, 85, 86, 87]]      False  20.55  21.50  "
      ]
     },
     "execution_count": 179,
     "metadata": {},
     "output_type": "execute_result"
    }
   ],
   "source": [
    "resmax = df_add[df_add.model==\"ResMax_ADD_\"][df_add.aug==\"Mixup, LF, HF\"][['model','aug','beta_param','lowpass','highpass','ranfilter2','mask','blur']]\n",
    "resmax"
   ]
  },
  {
   "cell_type": "code",
   "execution_count": 180,
   "id": "9f44ac0a",
   "metadata": {},
   "outputs": [
    {
     "data": {
      "text/plain": [
       "Ttest_indResult(statistic=0.07230941958127124, pvalue=0.9458269294710364)"
      ]
     },
     "execution_count": 180,
     "metadata": {},
     "output_type": "execute_result"
    }
   ],
   "source": [
    "# n이 작아서 p-value가 크게나옴\n",
    "ttest_ind(resmax[\"mask\"],resmax[\"blur\"],equal_var=True)\n"
   ]
  },
  {
   "cell_type": "code",
   "execution_count": 181,
   "id": "67a20dd8",
   "metadata": {},
   "outputs": [
    {
     "data": {
      "text/plain": [
       "Ttest_relResult(statistic=0.10166174644941328, pvalue=0.9282993096240912)"
      ]
     },
     "execution_count": 181,
     "metadata": {},
     "output_type": "execute_result"
    }
   ],
   "source": [
    "ttest_rel(resmax[\"mask\"],resmax[\"blur\"])"
   ]
  },
  {
   "cell_type": "markdown",
   "id": "4116444f",
   "metadata": {},
   "source": [
    "### 5. (Mixup, LF, RF), 차이없음"
   ]
  },
  {
   "cell_type": "code",
   "execution_count": 182,
   "id": "7f7c9782",
   "metadata": {},
   "outputs": [
    {
     "name": "stderr",
     "output_type": "stream",
     "text": [
      "/home/ubuntu/anaconda3/envs/tensorflow2.4_p37/lib/python3.7/site-packages/ipykernel/__main__.py:1: UserWarning: Boolean Series key will be reindexed to match DataFrame index.\n",
      "  if __name__ == '__main__':\n"
     ]
    },
    {
     "data": {
      "text/html": [
       "<div>\n",
       "<style scoped>\n",
       "    .dataframe tbody tr th:only-of-type {\n",
       "        vertical-align: middle;\n",
       "    }\n",
       "\n",
       "    .dataframe tbody tr th {\n",
       "        vertical-align: top;\n",
       "    }\n",
       "\n",
       "    .dataframe thead th {\n",
       "        text-align: right;\n",
       "    }\n",
       "</style>\n",
       "<table border=\"1\" class=\"dataframe\">\n",
       "  <thead>\n",
       "    <tr style=\"text-align: right;\">\n",
       "      <th></th>\n",
       "      <th>model</th>\n",
       "      <th>aug</th>\n",
       "      <th>beta_param</th>\n",
       "      <th>lowpass</th>\n",
       "      <th>highpass</th>\n",
       "      <th>ranfilter2</th>\n",
       "      <th>mask</th>\n",
       "      <th>blur</th>\n",
       "    </tr>\n",
       "  </thead>\n",
       "  <tbody>\n",
       "    <tr>\n",
       "      <th>48</th>\n",
       "      <td>ResMax_ADD_</td>\n",
       "      <td>Mixup, LF, RF</td>\n",
       "      <td>0.7</td>\n",
       "      <td>[[0.5, 0.5], [7, 8, 9, 10, 11, 12]]</td>\n",
       "      <td>False</td>\n",
       "      <td>[2, [8, 9, 10, 11, 12]]</td>\n",
       "      <td>14.64</td>\n",
       "      <td>14.96</td>\n",
       "    </tr>\n",
       "    <tr>\n",
       "      <th>49</th>\n",
       "      <td>ResMax_ADD_</td>\n",
       "      <td>Mixup, LF, RF</td>\n",
       "      <td>0.7</td>\n",
       "      <td>[[0.5, 0.5], [7, 8, 9, 10, 11, 12]]</td>\n",
       "      <td>False</td>\n",
       "      <td>[2, [8, 9, 10, 11, 12]]</td>\n",
       "      <td>17.83</td>\n",
       "      <td>17.47</td>\n",
       "    </tr>\n",
       "    <tr>\n",
       "      <th>50</th>\n",
       "      <td>ResMax_ADD_</td>\n",
       "      <td>Mixup, LF, RF</td>\n",
       "      <td>0.7</td>\n",
       "      <td>[[0.5, 0.5], [7, 8, 9, 10, 11, 12]]</td>\n",
       "      <td>False</td>\n",
       "      <td>[2, [8, 9, 10, 11, 12]]</td>\n",
       "      <td>18.21</td>\n",
       "      <td>15.41</td>\n",
       "    </tr>\n",
       "  </tbody>\n",
       "</table>\n",
       "</div>"
      ],
      "text/plain": [
       "          model            aug  beta_param  \\\n",
       "48  ResMax_ADD_  Mixup, LF, RF         0.7   \n",
       "49  ResMax_ADD_  Mixup, LF, RF         0.7   \n",
       "50  ResMax_ADD_  Mixup, LF, RF         0.7   \n",
       "\n",
       "                                lowpass highpass               ranfilter2  \\\n",
       "48  [[0.5, 0.5], [7, 8, 9, 10, 11, 12]]    False  [2, [8, 9, 10, 11, 12]]   \n",
       "49  [[0.5, 0.5], [7, 8, 9, 10, 11, 12]]    False  [2, [8, 9, 10, 11, 12]]   \n",
       "50  [[0.5, 0.5], [7, 8, 9, 10, 11, 12]]    False  [2, [8, 9, 10, 11, 12]]   \n",
       "\n",
       "     mask   blur  \n",
       "48  14.64  14.96  \n",
       "49  17.83  17.47  \n",
       "50  18.21  15.41  "
      ]
     },
     "execution_count": 182,
     "metadata": {},
     "output_type": "execute_result"
    }
   ],
   "source": [
    "resmax = df_add[df_add.model==\"ResMax_ADD_\"][df_add.aug==\"Mixup, LF, RF\"][['model','aug','beta_param','lowpass','highpass','ranfilter2','mask','blur']]\n",
    "resmax"
   ]
  },
  {
   "cell_type": "code",
   "execution_count": 183,
   "id": "fb9fb757",
   "metadata": {},
   "outputs": [
    {
     "data": {
      "text/plain": [
       "Ttest_indResult(statistic=0.6907175273576811, pvalue=0.5277340700723462)"
      ]
     },
     "execution_count": 183,
     "metadata": {},
     "output_type": "execute_result"
    }
   ],
   "source": [
    "# n이 작아서 p-value가 크게나옴\n",
    "ttest_ind(resmax[\"mask\"],resmax[\"blur\"],equal_var=True)\n"
   ]
  },
  {
   "cell_type": "code",
   "execution_count": 184,
   "id": "a033ed95",
   "metadata": {},
   "outputs": [
    {
     "data": {
      "text/plain": [
       "Ttest_relResult(statistic=0.999405410709497, pvalue=0.4228786563820981)"
      ]
     },
     "execution_count": 184,
     "metadata": {},
     "output_type": "execute_result"
    }
   ],
   "source": [
    "ttest_rel(resmax[\"mask\"],resmax[\"blur\"])"
   ]
  },
  {
   "cell_type": "markdown",
   "id": "22df0844",
   "metadata": {},
   "source": [
    "### 6. (Mixup, HF, RF), 차이없음"
   ]
  },
  {
   "cell_type": "code",
   "execution_count": 185,
   "id": "c51671e7",
   "metadata": {},
   "outputs": [
    {
     "name": "stderr",
     "output_type": "stream",
     "text": [
      "/home/ubuntu/anaconda3/envs/tensorflow2.4_p37/lib/python3.7/site-packages/ipykernel/__main__.py:1: UserWarning: Boolean Series key will be reindexed to match DataFrame index.\n",
      "  if __name__ == '__main__':\n"
     ]
    },
    {
     "data": {
      "text/html": [
       "<div>\n",
       "<style scoped>\n",
       "    .dataframe tbody tr th:only-of-type {\n",
       "        vertical-align: middle;\n",
       "    }\n",
       "\n",
       "    .dataframe tbody tr th {\n",
       "        vertical-align: top;\n",
       "    }\n",
       "\n",
       "    .dataframe thead th {\n",
       "        text-align: right;\n",
       "    }\n",
       "</style>\n",
       "<table border=\"1\" class=\"dataframe\">\n",
       "  <thead>\n",
       "    <tr style=\"text-align: right;\">\n",
       "      <th></th>\n",
       "      <th>model</th>\n",
       "      <th>aug</th>\n",
       "      <th>beta_param</th>\n",
       "      <th>lowpass</th>\n",
       "      <th>highpass</th>\n",
       "      <th>ranfilter2</th>\n",
       "      <th>mask</th>\n",
       "      <th>blur</th>\n",
       "    </tr>\n",
       "  </thead>\n",
       "  <tbody>\n",
       "    <tr>\n",
       "      <th>24</th>\n",
       "      <td>ResMax_ADD_</td>\n",
       "      <td>Mixup, HF, RF</td>\n",
       "      <td>0.7</td>\n",
       "      <td>False</td>\n",
       "      <td>[[0.5, 0.5], [80, 81, 82, 83, 84, 85, 86, 87]]</td>\n",
       "      <td>[2, [8, 9, 10, 11, 12]]</td>\n",
       "      <td>17.20</td>\n",
       "      <td>16.74</td>\n",
       "    </tr>\n",
       "    <tr>\n",
       "      <th>25</th>\n",
       "      <td>ResMax_ADD_</td>\n",
       "      <td>Mixup, HF, RF</td>\n",
       "      <td>0.7</td>\n",
       "      <td>False</td>\n",
       "      <td>[[0.5, 0.5], [80, 81, 82, 83, 84, 85, 86, 87]]</td>\n",
       "      <td>[2, [8, 9, 10, 11, 12]]</td>\n",
       "      <td>17.97</td>\n",
       "      <td>17.83</td>\n",
       "    </tr>\n",
       "    <tr>\n",
       "      <th>26</th>\n",
       "      <td>ResMax_ADD_</td>\n",
       "      <td>Mixup, HF, RF</td>\n",
       "      <td>0.7</td>\n",
       "      <td>False</td>\n",
       "      <td>[[0.5, 0.5], [80, 81, 82, 83, 84, 85, 86, 87]]</td>\n",
       "      <td>[2, [8, 9, 10, 11, 12]]</td>\n",
       "      <td>16.81</td>\n",
       "      <td>14.89</td>\n",
       "    </tr>\n",
       "  </tbody>\n",
       "</table>\n",
       "</div>"
      ],
      "text/plain": [
       "          model            aug  beta_param lowpass  \\\n",
       "24  ResMax_ADD_  Mixup, HF, RF         0.7   False   \n",
       "25  ResMax_ADD_  Mixup, HF, RF         0.7   False   \n",
       "26  ResMax_ADD_  Mixup, HF, RF         0.7   False   \n",
       "\n",
       "                                          highpass               ranfilter2  \\\n",
       "24  [[0.5, 0.5], [80, 81, 82, 83, 84, 85, 86, 87]]  [2, [8, 9, 10, 11, 12]]   \n",
       "25  [[0.5, 0.5], [80, 81, 82, 83, 84, 85, 86, 87]]  [2, [8, 9, 10, 11, 12]]   \n",
       "26  [[0.5, 0.5], [80, 81, 82, 83, 84, 85, 86, 87]]  [2, [8, 9, 10, 11, 12]]   \n",
       "\n",
       "     mask   blur  \n",
       "24  17.20  16.74  \n",
       "25  17.97  17.83  \n",
       "26  16.81  14.89  "
      ]
     },
     "execution_count": 185,
     "metadata": {},
     "output_type": "execute_result"
    }
   ],
   "source": [
    "resmax = df_add[df_add.model==\"ResMax_ADD_\"][df_add.aug==\"Mixup, HF, RF\"][['model','aug','beta_param','lowpass','highpass','ranfilter2','mask','blur']]\n",
    "resmax"
   ]
  },
  {
   "cell_type": "code",
   "execution_count": 186,
   "id": "3e29d0a9",
   "metadata": {},
   "outputs": [
    {
     "data": {
      "text/plain": [
       "Ttest_indResult(statistic=0.9097769354402288, pvalue=0.41440229783001825)"
      ]
     },
     "execution_count": 186,
     "metadata": {},
     "output_type": "execute_result"
    }
   ],
   "source": [
    "# n이 작아서 p-value가 크게나옴\n",
    "ttest_ind(resmax[\"mask\"],resmax[\"blur\"],equal_var=True)"
   ]
  },
  {
   "cell_type": "code",
   "execution_count": 187,
   "id": "632c5be1",
   "metadata": {},
   "outputs": [
    {
     "data": {
      "text/plain": [
       "Ttest_relResult(statistic=1.5332824694272322, pvalue=0.2649280206778639)"
      ]
     },
     "execution_count": 187,
     "metadata": {},
     "output_type": "execute_result"
    }
   ],
   "source": [
    "ttest_rel(resmax[\"mask\"],resmax[\"blur\"])"
   ]
  },
  {
   "cell_type": "markdown",
   "id": "dc9f0c78",
   "metadata": {},
   "source": [
    "### 7. (Mixup, LF, HF, RF), 차이없음"
   ]
  },
  {
   "cell_type": "code",
   "execution_count": 188,
   "id": "1a0b1f96",
   "metadata": {},
   "outputs": [
    {
     "name": "stderr",
     "output_type": "stream",
     "text": [
      "/home/ubuntu/anaconda3/envs/tensorflow2.4_p37/lib/python3.7/site-packages/ipykernel/__main__.py:1: UserWarning: Boolean Series key will be reindexed to match DataFrame index.\n",
      "  if __name__ == '__main__':\n"
     ]
    },
    {
     "data": {
      "text/html": [
       "<div>\n",
       "<style scoped>\n",
       "    .dataframe tbody tr th:only-of-type {\n",
       "        vertical-align: middle;\n",
       "    }\n",
       "\n",
       "    .dataframe tbody tr th {\n",
       "        vertical-align: top;\n",
       "    }\n",
       "\n",
       "    .dataframe thead th {\n",
       "        text-align: right;\n",
       "    }\n",
       "</style>\n",
       "<table border=\"1\" class=\"dataframe\">\n",
       "  <thead>\n",
       "    <tr style=\"text-align: right;\">\n",
       "      <th></th>\n",
       "      <th>model</th>\n",
       "      <th>aug</th>\n",
       "      <th>beta_param</th>\n",
       "      <th>lowpass</th>\n",
       "      <th>highpass</th>\n",
       "      <th>ranfilter2</th>\n",
       "      <th>mask</th>\n",
       "      <th>blur</th>\n",
       "    </tr>\n",
       "  </thead>\n",
       "  <tbody>\n",
       "    <tr>\n",
       "      <th>72</th>\n",
       "      <td>ResMax_ADD_</td>\n",
       "      <td>Mixup, LF, HF, RF</td>\n",
       "      <td>0.7</td>\n",
       "      <td>[[0.5, 0.5], [7, 8, 9, 10, 11, 12]]</td>\n",
       "      <td>[[0.5, 0.5], [80, 81, 82, 83, 84, 85, 86, 87]]</td>\n",
       "      <td>[2, [8, 9, 10, 11, 12]]</td>\n",
       "      <td>18.38</td>\n",
       "      <td>16.43</td>\n",
       "    </tr>\n",
       "    <tr>\n",
       "      <th>73</th>\n",
       "      <td>ResMax_ADD_</td>\n",
       "      <td>Mixup, LF, HF, RF</td>\n",
       "      <td>0.7</td>\n",
       "      <td>[[0.5, 0.5], [7, 8, 9, 10, 11, 12]]</td>\n",
       "      <td>[[0.5, 0.5], [80, 81, 82, 83, 84, 85, 86, 87]]</td>\n",
       "      <td>[2, [8, 9, 10, 11, 12]]</td>\n",
       "      <td>15.59</td>\n",
       "      <td>15.20</td>\n",
       "    </tr>\n",
       "    <tr>\n",
       "      <th>74</th>\n",
       "      <td>ResMax_ADD_</td>\n",
       "      <td>Mixup, LF, HF, RF</td>\n",
       "      <td>0.7</td>\n",
       "      <td>[[0.5, 0.5], [7, 8, 9, 10, 11, 12]]</td>\n",
       "      <td>[[0.5, 0.5], [80, 81, 82, 83, 84, 85, 86, 87]]</td>\n",
       "      <td>[2, [8, 9, 10, 11, 12]]</td>\n",
       "      <td>18.46</td>\n",
       "      <td>18.46</td>\n",
       "    </tr>\n",
       "  </tbody>\n",
       "</table>\n",
       "</div>"
      ],
      "text/plain": [
       "          model                aug  beta_param  \\\n",
       "72  ResMax_ADD_  Mixup, LF, HF, RF         0.7   \n",
       "73  ResMax_ADD_  Mixup, LF, HF, RF         0.7   \n",
       "74  ResMax_ADD_  Mixup, LF, HF, RF         0.7   \n",
       "\n",
       "                                lowpass  \\\n",
       "72  [[0.5, 0.5], [7, 8, 9, 10, 11, 12]]   \n",
       "73  [[0.5, 0.5], [7, 8, 9, 10, 11, 12]]   \n",
       "74  [[0.5, 0.5], [7, 8, 9, 10, 11, 12]]   \n",
       "\n",
       "                                          highpass               ranfilter2  \\\n",
       "72  [[0.5, 0.5], [80, 81, 82, 83, 84, 85, 86, 87]]  [2, [8, 9, 10, 11, 12]]   \n",
       "73  [[0.5, 0.5], [80, 81, 82, 83, 84, 85, 86, 87]]  [2, [8, 9, 10, 11, 12]]   \n",
       "74  [[0.5, 0.5], [80, 81, 82, 83, 84, 85, 86, 87]]  [2, [8, 9, 10, 11, 12]]   \n",
       "\n",
       "     mask   blur  \n",
       "72  18.38  16.43  \n",
       "73  15.59  15.20  \n",
       "74  18.46  18.46  "
      ]
     },
     "execution_count": 188,
     "metadata": {},
     "output_type": "execute_result"
    }
   ],
   "source": [
    "resmax = df_add[df_add.model==\"ResMax_ADD_\"][df_add.aug==\"Mixup, LF, HF, RF\"][['model','aug','beta_param','lowpass','highpass','ranfilter2','mask','blur']]\n",
    "resmax"
   ]
  },
  {
   "cell_type": "code",
   "execution_count": 189,
   "id": "1db4cddc",
   "metadata": {},
   "outputs": [
    {
     "data": {
      "text/plain": [
       "Ttest_indResult(statistic=0.5823779223995357, pvalue=0.5915604495052103)"
      ]
     },
     "execution_count": 189,
     "metadata": {},
     "output_type": "execute_result"
    }
   ],
   "source": [
    "# n이 작아서 p-value가 크게나옴\n",
    "ttest_ind(resmax[\"mask\"],resmax[\"blur\"],equal_var=True)"
   ]
  },
  {
   "cell_type": "code",
   "execution_count": 190,
   "id": "25cdafbf",
   "metadata": {},
   "outputs": [
    {
     "data": {
      "text/plain": [
       "Ttest_relResult(statistic=1.3093073414159546, pvalue=0.32063377951324257)"
      ]
     },
     "execution_count": 190,
     "metadata": {},
     "output_type": "execute_result"
    }
   ],
   "source": [
    "ttest_rel(resmax[\"mask\"],resmax[\"blur\"])"
   ]
  },
  {
   "cell_type": "markdown",
   "id": "68405921",
   "metadata": {},
   "source": [
    "----------------\n",
    "## aug별로"
   ]
  },
  {
   "cell_type": "markdown",
   "id": "a7251792",
   "metadata": {},
   "source": [
    "### 1. Mixup, LF"
   ]
  },
  {
   "cell_type": "code",
   "execution_count": 205,
   "id": "fdbebf5b",
   "metadata": {},
   "outputs": [
    {
     "data": {
      "text/html": [
       "<div>\n",
       "<style scoped>\n",
       "    .dataframe tbody tr th:only-of-type {\n",
       "        vertical-align: middle;\n",
       "    }\n",
       "\n",
       "    .dataframe tbody tr th {\n",
       "        vertical-align: top;\n",
       "    }\n",
       "\n",
       "    .dataframe thead th {\n",
       "        text-align: right;\n",
       "    }\n",
       "</style>\n",
       "<table border=\"1\" class=\"dataframe\">\n",
       "  <thead>\n",
       "    <tr style=\"text-align: right;\">\n",
       "      <th></th>\n",
       "      <th>model</th>\n",
       "      <th>aug</th>\n",
       "      <th>beta_param</th>\n",
       "      <th>lowpass</th>\n",
       "      <th>highpass</th>\n",
       "      <th>ranfilter2</th>\n",
       "      <th>mask</th>\n",
       "      <th>blur</th>\n",
       "    </tr>\n",
       "  </thead>\n",
       "  <tbody>\n",
       "    <tr>\n",
       "      <th>36</th>\n",
       "      <td>ResMax_ADD_</td>\n",
       "      <td>Mixup, LF</td>\n",
       "      <td>0.7</td>\n",
       "      <td>[[0.5, 0.5], [7, 8, 9, 10, 11, 12]]</td>\n",
       "      <td>False</td>\n",
       "      <td>False</td>\n",
       "      <td>19.54</td>\n",
       "      <td>20.17</td>\n",
       "    </tr>\n",
       "    <tr>\n",
       "      <th>37</th>\n",
       "      <td>ResMax_ADD_</td>\n",
       "      <td>Mixup, LF</td>\n",
       "      <td>0.7</td>\n",
       "      <td>[[0.5, 0.5], [7, 8, 9, 10, 11, 12]]</td>\n",
       "      <td>False</td>\n",
       "      <td>False</td>\n",
       "      <td>14.96</td>\n",
       "      <td>18.21</td>\n",
       "    </tr>\n",
       "    <tr>\n",
       "      <th>38</th>\n",
       "      <td>ResMax_ADD_</td>\n",
       "      <td>Mixup, LF</td>\n",
       "      <td>0.7</td>\n",
       "      <td>[[0.5, 0.5], [7, 8, 9, 10, 11, 12]]</td>\n",
       "      <td>False</td>\n",
       "      <td>False</td>\n",
       "      <td>14.96</td>\n",
       "      <td>17.59</td>\n",
       "    </tr>\n",
       "    <tr>\n",
       "      <th>39</th>\n",
       "      <td>LCNN_ADD_</td>\n",
       "      <td>Mixup, LF</td>\n",
       "      <td>0.7</td>\n",
       "      <td>[[0.5, 0.5], [7, 8, 9, 10, 11, 12]]</td>\n",
       "      <td>False</td>\n",
       "      <td>False</td>\n",
       "      <td>21.33</td>\n",
       "      <td>19.40</td>\n",
       "    </tr>\n",
       "    <tr>\n",
       "      <th>40</th>\n",
       "      <td>LCNN_ADD_</td>\n",
       "      <td>Mixup, LF</td>\n",
       "      <td>0.7</td>\n",
       "      <td>[[0.5, 0.5], [7, 8, 9, 10, 11, 12]]</td>\n",
       "      <td>False</td>\n",
       "      <td>False</td>\n",
       "      <td>19.47</td>\n",
       "      <td>18.28</td>\n",
       "    </tr>\n",
       "    <tr>\n",
       "      <th>41</th>\n",
       "      <td>LCNN_ADD_</td>\n",
       "      <td>Mixup, LF</td>\n",
       "      <td>0.7</td>\n",
       "      <td>[[0.5, 0.5], [7, 8, 9, 10, 11, 12]]</td>\n",
       "      <td>False</td>\n",
       "      <td>False</td>\n",
       "      <td>18.84</td>\n",
       "      <td>20.55</td>\n",
       "    </tr>\n",
       "    <tr>\n",
       "      <th>42</th>\n",
       "      <td>BCResMax_ADD_</td>\n",
       "      <td>Mixup, LF</td>\n",
       "      <td>0.7</td>\n",
       "      <td>[[0.5, 0.5], [7, 8, 9, 10, 11, 12]]</td>\n",
       "      <td>False</td>\n",
       "      <td>False</td>\n",
       "      <td>17.20</td>\n",
       "      <td>13.94</td>\n",
       "    </tr>\n",
       "    <tr>\n",
       "      <th>43</th>\n",
       "      <td>BCResMax_ADD_</td>\n",
       "      <td>Mixup, LF</td>\n",
       "      <td>0.7</td>\n",
       "      <td>[[0.5, 0.5], [7, 8, 9, 10, 11, 12]]</td>\n",
       "      <td>False</td>\n",
       "      <td>False</td>\n",
       "      <td>16.50</td>\n",
       "      <td>13.80</td>\n",
       "    </tr>\n",
       "    <tr>\n",
       "      <th>44</th>\n",
       "      <td>BCResMax_ADD_</td>\n",
       "      <td>Mixup, LF</td>\n",
       "      <td>0.7</td>\n",
       "      <td>[[0.5, 0.5], [7, 8, 9, 10, 11, 12]]</td>\n",
       "      <td>False</td>\n",
       "      <td>False</td>\n",
       "      <td>15.17</td>\n",
       "      <td>14.12</td>\n",
       "    </tr>\n",
       "    <tr>\n",
       "      <th>45</th>\n",
       "      <td>DDWSseq_ADD_</td>\n",
       "      <td>Mixup, LF</td>\n",
       "      <td>0.7</td>\n",
       "      <td>[[0.5, 0.5], [7, 8, 9, 10, 11, 12]]</td>\n",
       "      <td>False</td>\n",
       "      <td>False</td>\n",
       "      <td>18.21</td>\n",
       "      <td>17.34</td>\n",
       "    </tr>\n",
       "    <tr>\n",
       "      <th>46</th>\n",
       "      <td>DDWSseq_ADD_</td>\n",
       "      <td>Mixup, LF</td>\n",
       "      <td>0.7</td>\n",
       "      <td>[[0.5, 0.5], [7, 8, 9, 10, 11, 12]]</td>\n",
       "      <td>False</td>\n",
       "      <td>False</td>\n",
       "      <td>15.23</td>\n",
       "      <td>17.68</td>\n",
       "    </tr>\n",
       "    <tr>\n",
       "      <th>47</th>\n",
       "      <td>DDWSseq_ADD_</td>\n",
       "      <td>Mixup, LF</td>\n",
       "      <td>0.7</td>\n",
       "      <td>[[0.5, 0.5], [7, 8, 9, 10, 11, 12]]</td>\n",
       "      <td>False</td>\n",
       "      <td>False</td>\n",
       "      <td>17.20</td>\n",
       "      <td>20.00</td>\n",
       "    </tr>\n",
       "  </tbody>\n",
       "</table>\n",
       "</div>"
      ],
      "text/plain": [
       "            model        aug  beta_param                              lowpass  \\\n",
       "36    ResMax_ADD_  Mixup, LF         0.7  [[0.5, 0.5], [7, 8, 9, 10, 11, 12]]   \n",
       "37    ResMax_ADD_  Mixup, LF         0.7  [[0.5, 0.5], [7, 8, 9, 10, 11, 12]]   \n",
       "38    ResMax_ADD_  Mixup, LF         0.7  [[0.5, 0.5], [7, 8, 9, 10, 11, 12]]   \n",
       "39      LCNN_ADD_  Mixup, LF         0.7  [[0.5, 0.5], [7, 8, 9, 10, 11, 12]]   \n",
       "40      LCNN_ADD_  Mixup, LF         0.7  [[0.5, 0.5], [7, 8, 9, 10, 11, 12]]   \n",
       "41      LCNN_ADD_  Mixup, LF         0.7  [[0.5, 0.5], [7, 8, 9, 10, 11, 12]]   \n",
       "42  BCResMax_ADD_  Mixup, LF         0.7  [[0.5, 0.5], [7, 8, 9, 10, 11, 12]]   \n",
       "43  BCResMax_ADD_  Mixup, LF         0.7  [[0.5, 0.5], [7, 8, 9, 10, 11, 12]]   \n",
       "44  BCResMax_ADD_  Mixup, LF         0.7  [[0.5, 0.5], [7, 8, 9, 10, 11, 12]]   \n",
       "45   DDWSseq_ADD_  Mixup, LF         0.7  [[0.5, 0.5], [7, 8, 9, 10, 11, 12]]   \n",
       "46   DDWSseq_ADD_  Mixup, LF         0.7  [[0.5, 0.5], [7, 8, 9, 10, 11, 12]]   \n",
       "47   DDWSseq_ADD_  Mixup, LF         0.7  [[0.5, 0.5], [7, 8, 9, 10, 11, 12]]   \n",
       "\n",
       "   highpass ranfilter2   mask   blur  \n",
       "36    False      False  19.54  20.17  \n",
       "37    False      False  14.96  18.21  \n",
       "38    False      False  14.96  17.59  \n",
       "39    False      False  21.33  19.40  \n",
       "40    False      False  19.47  18.28  \n",
       "41    False      False  18.84  20.55  \n",
       "42    False      False  17.20  13.94  \n",
       "43    False      False  16.50  13.80  \n",
       "44    False      False  15.17  14.12  \n",
       "45    False      False  18.21  17.34  \n",
       "46    False      False  15.23  17.68  \n",
       "47    False      False  17.20  20.00  "
      ]
     },
     "execution_count": 205,
     "metadata": {},
     "output_type": "execute_result"
    }
   ],
   "source": [
    "aug = df_add[df_add.aug==\"Mixup, LF\"][['model','aug','beta_param','lowpass','highpass','ranfilter2','mask','blur']]\n",
    "aug"
   ]
  },
  {
   "cell_type": "code",
   "execution_count": 206,
   "id": "ee5d01ac",
   "metadata": {},
   "outputs": [
    {
     "data": {
      "text/plain": [
       "Ttest_indResult(statistic=-0.22083434119900125, pvalue=0.8272580689507786)"
      ]
     },
     "execution_count": 206,
     "metadata": {},
     "output_type": "execute_result"
    }
   ],
   "source": [
    "# n이 작아서 p-value가 크게나옴\n",
    "ttest_ind(aug[\"mask\"],aug[\"blur\"],equal_var=True)"
   ]
  },
  {
   "cell_type": "code",
   "execution_count": 207,
   "id": "8c637bd6",
   "metadata": {},
   "outputs": [
    {
     "data": {
      "text/plain": [
       "Ttest_relResult(statistic=-0.3077397235516823, pvalue=0.7640288573255734)"
      ]
     },
     "execution_count": 207,
     "metadata": {},
     "output_type": "execute_result"
    }
   ],
   "source": [
    "ttest_rel(aug[\"mask\"],aug[\"blur\"])"
   ]
  },
  {
   "cell_type": "markdown",
   "id": "757fa6b8",
   "metadata": {},
   "source": [
    "### 2. Mixup, HF"
   ]
  },
  {
   "cell_type": "code",
   "execution_count": 208,
   "id": "6d64dff6",
   "metadata": {},
   "outputs": [
    {
     "data": {
      "text/html": [
       "<div>\n",
       "<style scoped>\n",
       "    .dataframe tbody tr th:only-of-type {\n",
       "        vertical-align: middle;\n",
       "    }\n",
       "\n",
       "    .dataframe tbody tr th {\n",
       "        vertical-align: top;\n",
       "    }\n",
       "\n",
       "    .dataframe thead th {\n",
       "        text-align: right;\n",
       "    }\n",
       "</style>\n",
       "<table border=\"1\" class=\"dataframe\">\n",
       "  <thead>\n",
       "    <tr style=\"text-align: right;\">\n",
       "      <th></th>\n",
       "      <th>model</th>\n",
       "      <th>aug</th>\n",
       "      <th>beta_param</th>\n",
       "      <th>lowpass</th>\n",
       "      <th>highpass</th>\n",
       "      <th>ranfilter2</th>\n",
       "      <th>mask</th>\n",
       "      <th>blur</th>\n",
       "    </tr>\n",
       "  </thead>\n",
       "  <tbody>\n",
       "    <tr>\n",
       "      <th>12</th>\n",
       "      <td>ResMax_ADD_</td>\n",
       "      <td>Mixup, HF</td>\n",
       "      <td>0.7</td>\n",
       "      <td>False</td>\n",
       "      <td>[[0.5, 0.5], [80, 81, 82, 83, 84, 85, 86, 87]]</td>\n",
       "      <td>False</td>\n",
       "      <td>18.31</td>\n",
       "      <td>18.31</td>\n",
       "    </tr>\n",
       "    <tr>\n",
       "      <th>13</th>\n",
       "      <td>ResMax_ADD_</td>\n",
       "      <td>Mixup, HF</td>\n",
       "      <td>0.7</td>\n",
       "      <td>False</td>\n",
       "      <td>[[0.5, 0.5], [80, 81, 82, 83, 84, 85, 86, 87]]</td>\n",
       "      <td>False</td>\n",
       "      <td>15.97</td>\n",
       "      <td>19.06</td>\n",
       "    </tr>\n",
       "    <tr>\n",
       "      <th>14</th>\n",
       "      <td>ResMax_ADD_</td>\n",
       "      <td>Mixup, HF</td>\n",
       "      <td>0.7</td>\n",
       "      <td>False</td>\n",
       "      <td>[[0.5, 0.5], [80, 81, 82, 83, 84, 85, 86, 87]]</td>\n",
       "      <td>False</td>\n",
       "      <td>17.83</td>\n",
       "      <td>17.51</td>\n",
       "    </tr>\n",
       "    <tr>\n",
       "      <th>15</th>\n",
       "      <td>LCNN_ADD_</td>\n",
       "      <td>Mixup, HF</td>\n",
       "      <td>0.7</td>\n",
       "      <td>False</td>\n",
       "      <td>[[0.5, 0.5], [80, 81, 82, 83, 84, 85, 86, 87]]</td>\n",
       "      <td>False</td>\n",
       "      <td>17.83</td>\n",
       "      <td>20.17</td>\n",
       "    </tr>\n",
       "    <tr>\n",
       "      <th>16</th>\n",
       "      <td>LCNN_ADD_</td>\n",
       "      <td>Mixup, HF</td>\n",
       "      <td>0.7</td>\n",
       "      <td>False</td>\n",
       "      <td>[[0.5, 0.5], [80, 81, 82, 83, 84, 85, 86, 87]]</td>\n",
       "      <td>False</td>\n",
       "      <td>20.41</td>\n",
       "      <td>21.43</td>\n",
       "    </tr>\n",
       "    <tr>\n",
       "      <th>17</th>\n",
       "      <td>LCNN_ADD_</td>\n",
       "      <td>Mixup, HF</td>\n",
       "      <td>0.7</td>\n",
       "      <td>False</td>\n",
       "      <td>[[0.5, 0.5], [80, 81, 82, 83, 84, 85, 86, 87]]</td>\n",
       "      <td>False</td>\n",
       "      <td>20.87</td>\n",
       "      <td>20.80</td>\n",
       "    </tr>\n",
       "    <tr>\n",
       "      <th>18</th>\n",
       "      <td>BCResMax_ADD_</td>\n",
       "      <td>Mixup, HF</td>\n",
       "      <td>0.7</td>\n",
       "      <td>False</td>\n",
       "      <td>[[0.5, 0.5], [80, 81, 82, 83, 84, 85, 86, 87]]</td>\n",
       "      <td>False</td>\n",
       "      <td>16.36</td>\n",
       "      <td>17.20</td>\n",
       "    </tr>\n",
       "    <tr>\n",
       "      <th>19</th>\n",
       "      <td>BCResMax_ADD_</td>\n",
       "      <td>Mixup, HF</td>\n",
       "      <td>0.7</td>\n",
       "      <td>False</td>\n",
       "      <td>[[0.5, 0.5], [80, 81, 82, 83, 84, 85, 86, 87]]</td>\n",
       "      <td>False</td>\n",
       "      <td>18.07</td>\n",
       "      <td>17.06</td>\n",
       "    </tr>\n",
       "    <tr>\n",
       "      <th>20</th>\n",
       "      <td>BCResMax_ADD_</td>\n",
       "      <td>Mixup, HF</td>\n",
       "      <td>0.7</td>\n",
       "      <td>False</td>\n",
       "      <td>[[0.5, 0.5], [80, 81, 82, 83, 84, 85, 86, 87]]</td>\n",
       "      <td>False</td>\n",
       "      <td>13.73</td>\n",
       "      <td>16.81</td>\n",
       "    </tr>\n",
       "    <tr>\n",
       "      <th>21</th>\n",
       "      <td>DDWSseq_ADD_</td>\n",
       "      <td>Mixup, HF</td>\n",
       "      <td>0.7</td>\n",
       "      <td>False</td>\n",
       "      <td>[[0.5, 0.5], [80, 81, 82, 83, 84, 85, 86, 87]]</td>\n",
       "      <td>False</td>\n",
       "      <td>16.21</td>\n",
       "      <td>17.76</td>\n",
       "    </tr>\n",
       "    <tr>\n",
       "      <th>22</th>\n",
       "      <td>DDWSseq_ADD_</td>\n",
       "      <td>Mixup, HF</td>\n",
       "      <td>0.7</td>\n",
       "      <td>False</td>\n",
       "      <td>[[0.5, 0.5], [80, 81, 82, 83, 84, 85, 86, 87]]</td>\n",
       "      <td>False</td>\n",
       "      <td>17.90</td>\n",
       "      <td>19.78</td>\n",
       "    </tr>\n",
       "    <tr>\n",
       "      <th>23</th>\n",
       "      <td>DDWSseq_ADD_</td>\n",
       "      <td>Mixup, HF</td>\n",
       "      <td>0.7</td>\n",
       "      <td>False</td>\n",
       "      <td>[[0.5, 0.5], [80, 81, 82, 83, 84, 85, 86, 87]]</td>\n",
       "      <td>False</td>\n",
       "      <td>17.83</td>\n",
       "      <td>16.57</td>\n",
       "    </tr>\n",
       "  </tbody>\n",
       "</table>\n",
       "</div>"
      ],
      "text/plain": [
       "            model        aug  beta_param lowpass  \\\n",
       "12    ResMax_ADD_  Mixup, HF         0.7   False   \n",
       "13    ResMax_ADD_  Mixup, HF         0.7   False   \n",
       "14    ResMax_ADD_  Mixup, HF         0.7   False   \n",
       "15      LCNN_ADD_  Mixup, HF         0.7   False   \n",
       "16      LCNN_ADD_  Mixup, HF         0.7   False   \n",
       "17      LCNN_ADD_  Mixup, HF         0.7   False   \n",
       "18  BCResMax_ADD_  Mixup, HF         0.7   False   \n",
       "19  BCResMax_ADD_  Mixup, HF         0.7   False   \n",
       "20  BCResMax_ADD_  Mixup, HF         0.7   False   \n",
       "21   DDWSseq_ADD_  Mixup, HF         0.7   False   \n",
       "22   DDWSseq_ADD_  Mixup, HF         0.7   False   \n",
       "23   DDWSseq_ADD_  Mixup, HF         0.7   False   \n",
       "\n",
       "                                          highpass ranfilter2   mask   blur  \n",
       "12  [[0.5, 0.5], [80, 81, 82, 83, 84, 85, 86, 87]]      False  18.31  18.31  \n",
       "13  [[0.5, 0.5], [80, 81, 82, 83, 84, 85, 86, 87]]      False  15.97  19.06  \n",
       "14  [[0.5, 0.5], [80, 81, 82, 83, 84, 85, 86, 87]]      False  17.83  17.51  \n",
       "15  [[0.5, 0.5], [80, 81, 82, 83, 84, 85, 86, 87]]      False  17.83  20.17  \n",
       "16  [[0.5, 0.5], [80, 81, 82, 83, 84, 85, 86, 87]]      False  20.41  21.43  \n",
       "17  [[0.5, 0.5], [80, 81, 82, 83, 84, 85, 86, 87]]      False  20.87  20.80  \n",
       "18  [[0.5, 0.5], [80, 81, 82, 83, 84, 85, 86, 87]]      False  16.36  17.20  \n",
       "19  [[0.5, 0.5], [80, 81, 82, 83, 84, 85, 86, 87]]      False  18.07  17.06  \n",
       "20  [[0.5, 0.5], [80, 81, 82, 83, 84, 85, 86, 87]]      False  13.73  16.81  \n",
       "21  [[0.5, 0.5], [80, 81, 82, 83, 84, 85, 86, 87]]      False  16.21  17.76  \n",
       "22  [[0.5, 0.5], [80, 81, 82, 83, 84, 85, 86, 87]]      False  17.90  19.78  \n",
       "23  [[0.5, 0.5], [80, 81, 82, 83, 84, 85, 86, 87]]      False  17.83  16.57  "
      ]
     },
     "execution_count": 208,
     "metadata": {},
     "output_type": "execute_result"
    }
   ],
   "source": [
    "aug = df_add[df_add.aug==\"Mixup, HF\"][['model','aug','beta_param','lowpass','highpass','ranfilter2','mask','blur']]\n",
    "aug"
   ]
  },
  {
   "cell_type": "code",
   "execution_count": 209,
   "id": "40c2a38b",
   "metadata": {},
   "outputs": [
    {
     "data": {
      "text/plain": [
       "Ttest_indResult(statistic=-1.264263638779415, pvalue=0.21936632146332208)"
      ]
     },
     "execution_count": 209,
     "metadata": {},
     "output_type": "execute_result"
    }
   ],
   "source": [
    "# n이 작아서 p-value가 크게나옴\n",
    "ttest_ind(aug[\"mask\"],aug[\"blur\"],equal_var=True)"
   ]
  },
  {
   "cell_type": "code",
   "execution_count": 210,
   "id": "5efade4a",
   "metadata": {},
   "outputs": [
    {
     "data": {
      "text/plain": [
       "Ttest_relResult(statistic=-2.151891873997904, pvalue=0.05446740908437434)"
      ]
     },
     "execution_count": 210,
     "metadata": {},
     "output_type": "execute_result"
    }
   ],
   "source": [
    "ttest_rel(aug[\"mask\"],aug[\"blur\"])"
   ]
  },
  {
   "cell_type": "markdown",
   "id": "2b170e5b",
   "metadata": {},
   "source": [
    "### 3. Mixup, RF"
   ]
  },
  {
   "cell_type": "code",
   "execution_count": 211,
   "id": "42982c97",
   "metadata": {},
   "outputs": [
    {
     "data": {
      "text/html": [
       "<div>\n",
       "<style scoped>\n",
       "    .dataframe tbody tr th:only-of-type {\n",
       "        vertical-align: middle;\n",
       "    }\n",
       "\n",
       "    .dataframe tbody tr th {\n",
       "        vertical-align: top;\n",
       "    }\n",
       "\n",
       "    .dataframe thead th {\n",
       "        text-align: right;\n",
       "    }\n",
       "</style>\n",
       "<table border=\"1\" class=\"dataframe\">\n",
       "  <thead>\n",
       "    <tr style=\"text-align: right;\">\n",
       "      <th></th>\n",
       "      <th>model</th>\n",
       "      <th>aug</th>\n",
       "      <th>beta_param</th>\n",
       "      <th>lowpass</th>\n",
       "      <th>highpass</th>\n",
       "      <th>ranfilter2</th>\n",
       "      <th>mask</th>\n",
       "      <th>blur</th>\n",
       "    </tr>\n",
       "  </thead>\n",
       "  <tbody>\n",
       "    <tr>\n",
       "      <th>0</th>\n",
       "      <td>ResMax_ADD_</td>\n",
       "      <td>Mixup, RF</td>\n",
       "      <td>0.7</td>\n",
       "      <td>False</td>\n",
       "      <td>False</td>\n",
       "      <td>[2, [8, 9, 10, 11, 12]]</td>\n",
       "      <td>14.09</td>\n",
       "      <td>14.79</td>\n",
       "    </tr>\n",
       "    <tr>\n",
       "      <th>1</th>\n",
       "      <td>ResMax_ADD_</td>\n",
       "      <td>Mixup, RF</td>\n",
       "      <td>0.7</td>\n",
       "      <td>False</td>\n",
       "      <td>False</td>\n",
       "      <td>[2, [8, 9, 10, 11, 12]]</td>\n",
       "      <td>12.79</td>\n",
       "      <td>16.74</td>\n",
       "    </tr>\n",
       "    <tr>\n",
       "      <th>2</th>\n",
       "      <td>ResMax_ADD_</td>\n",
       "      <td>Mixup, RF</td>\n",
       "      <td>0.7</td>\n",
       "      <td>False</td>\n",
       "      <td>False</td>\n",
       "      <td>[2, [8, 9, 10, 11, 12]]</td>\n",
       "      <td>18.77</td>\n",
       "      <td>16.64</td>\n",
       "    </tr>\n",
       "    <tr>\n",
       "      <th>3</th>\n",
       "      <td>LCNN_ADD_</td>\n",
       "      <td>Mixup, RF</td>\n",
       "      <td>0.7</td>\n",
       "      <td>False</td>\n",
       "      <td>False</td>\n",
       "      <td>[2, [8, 9, 10, 11, 12]]</td>\n",
       "      <td>20.14</td>\n",
       "      <td>18.84</td>\n",
       "    </tr>\n",
       "    <tr>\n",
       "      <th>4</th>\n",
       "      <td>LCNN_ADD_</td>\n",
       "      <td>Mixup, RF</td>\n",
       "      <td>0.7</td>\n",
       "      <td>False</td>\n",
       "      <td>False</td>\n",
       "      <td>[2, [8, 9, 10, 11, 12]]</td>\n",
       "      <td>17.06</td>\n",
       "      <td>19.61</td>\n",
       "    </tr>\n",
       "    <tr>\n",
       "      <th>5</th>\n",
       "      <td>LCNN_ADD_</td>\n",
       "      <td>Mixup, RF</td>\n",
       "      <td>0.7</td>\n",
       "      <td>False</td>\n",
       "      <td>False</td>\n",
       "      <td>[2, [8, 9, 10, 11, 12]]</td>\n",
       "      <td>18.14</td>\n",
       "      <td>18.77</td>\n",
       "    </tr>\n",
       "    <tr>\n",
       "      <th>6</th>\n",
       "      <td>BCResMax_ADD_</td>\n",
       "      <td>Mixup, RF</td>\n",
       "      <td>0.7</td>\n",
       "      <td>False</td>\n",
       "      <td>False</td>\n",
       "      <td>[2, [8, 9, 10, 11, 12]]</td>\n",
       "      <td>13.39</td>\n",
       "      <td>15.03</td>\n",
       "    </tr>\n",
       "    <tr>\n",
       "      <th>7</th>\n",
       "      <td>BCResMax_ADD_</td>\n",
       "      <td>Mixup, RF</td>\n",
       "      <td>0.7</td>\n",
       "      <td>False</td>\n",
       "      <td>False</td>\n",
       "      <td>[2, [8, 9, 10, 11, 12]]</td>\n",
       "      <td>14.72</td>\n",
       "      <td>13.56</td>\n",
       "    </tr>\n",
       "    <tr>\n",
       "      <th>8</th>\n",
       "      <td>BCResMax_ADD_</td>\n",
       "      <td>Mixup, RF</td>\n",
       "      <td>0.7</td>\n",
       "      <td>False</td>\n",
       "      <td>False</td>\n",
       "      <td>[2, [8, 9, 10, 11, 12]]</td>\n",
       "      <td>13.94</td>\n",
       "      <td>11.36</td>\n",
       "    </tr>\n",
       "    <tr>\n",
       "      <th>9</th>\n",
       "      <td>DDWSseq_ADD_</td>\n",
       "      <td>Mixup, RF</td>\n",
       "      <td>0.7</td>\n",
       "      <td>False</td>\n",
       "      <td>False</td>\n",
       "      <td>[2, [8, 9, 10, 11, 12]]</td>\n",
       "      <td>13.77</td>\n",
       "      <td>15.66</td>\n",
       "    </tr>\n",
       "    <tr>\n",
       "      <th>10</th>\n",
       "      <td>DDWSseq_ADD_</td>\n",
       "      <td>Mixup, RF</td>\n",
       "      <td>0.7</td>\n",
       "      <td>False</td>\n",
       "      <td>False</td>\n",
       "      <td>[2, [8, 9, 10, 11, 12]]</td>\n",
       "      <td>11.99</td>\n",
       "      <td>14.09</td>\n",
       "    </tr>\n",
       "    <tr>\n",
       "      <th>11</th>\n",
       "      <td>DDWSseq_ADD_</td>\n",
       "      <td>Mixup, RF</td>\n",
       "      <td>0.7</td>\n",
       "      <td>False</td>\n",
       "      <td>False</td>\n",
       "      <td>[2, [8, 9, 10, 11, 12]]</td>\n",
       "      <td>14.43</td>\n",
       "      <td>14.40</td>\n",
       "    </tr>\n",
       "  </tbody>\n",
       "</table>\n",
       "</div>"
      ],
      "text/plain": [
       "            model        aug  beta_param lowpass highpass  \\\n",
       "0     ResMax_ADD_  Mixup, RF         0.7   False    False   \n",
       "1     ResMax_ADD_  Mixup, RF         0.7   False    False   \n",
       "2     ResMax_ADD_  Mixup, RF         0.7   False    False   \n",
       "3       LCNN_ADD_  Mixup, RF         0.7   False    False   \n",
       "4       LCNN_ADD_  Mixup, RF         0.7   False    False   \n",
       "5       LCNN_ADD_  Mixup, RF         0.7   False    False   \n",
       "6   BCResMax_ADD_  Mixup, RF         0.7   False    False   \n",
       "7   BCResMax_ADD_  Mixup, RF         0.7   False    False   \n",
       "8   BCResMax_ADD_  Mixup, RF         0.7   False    False   \n",
       "9    DDWSseq_ADD_  Mixup, RF         0.7   False    False   \n",
       "10   DDWSseq_ADD_  Mixup, RF         0.7   False    False   \n",
       "11   DDWSseq_ADD_  Mixup, RF         0.7   False    False   \n",
       "\n",
       "                 ranfilter2   mask   blur  \n",
       "0   [2, [8, 9, 10, 11, 12]]  14.09  14.79  \n",
       "1   [2, [8, 9, 10, 11, 12]]  12.79  16.74  \n",
       "2   [2, [8, 9, 10, 11, 12]]  18.77  16.64  \n",
       "3   [2, [8, 9, 10, 11, 12]]  20.14  18.84  \n",
       "4   [2, [8, 9, 10, 11, 12]]  17.06  19.61  \n",
       "5   [2, [8, 9, 10, 11, 12]]  18.14  18.77  \n",
       "6   [2, [8, 9, 10, 11, 12]]  13.39  15.03  \n",
       "7   [2, [8, 9, 10, 11, 12]]  14.72  13.56  \n",
       "8   [2, [8, 9, 10, 11, 12]]  13.94  11.36  \n",
       "9   [2, [8, 9, 10, 11, 12]]  13.77  15.66  \n",
       "10  [2, [8, 9, 10, 11, 12]]  11.99  14.09  \n",
       "11  [2, [8, 9, 10, 11, 12]]  14.43  14.40  "
      ]
     },
     "execution_count": 211,
     "metadata": {},
     "output_type": "execute_result"
    }
   ],
   "source": [
    "aug = df_add[df_add.aug==\"Mixup, RF\"][['model','aug','beta_param','lowpass','highpass','ranfilter2','mask','blur']]\n",
    "aug"
   ]
  },
  {
   "cell_type": "code",
   "execution_count": 212,
   "id": "9a7ea6db",
   "metadata": {},
   "outputs": [
    {
     "data": {
      "text/plain": [
       "Ttest_indResult(statistic=-0.5071131608267055, pvalue=0.6171210514121125)"
      ]
     },
     "execution_count": 212,
     "metadata": {},
     "output_type": "execute_result"
    }
   ],
   "source": [
    "# n이 작아서 p-value가 크게나옴\n",
    "ttest_ind(aug[\"mask\"],aug[\"blur\"],equal_var=True)"
   ]
  },
  {
   "cell_type": "code",
   "execution_count": 213,
   "id": "270bf91a",
   "metadata": {},
   "outputs": [
    {
     "data": {
      "text/plain": [
       "Ttest_relResult(statistic=-0.8971756456553039, pvalue=0.38883921296362023)"
      ]
     },
     "execution_count": 213,
     "metadata": {},
     "output_type": "execute_result"
    }
   ],
   "source": [
    "ttest_rel(aug[\"mask\"],aug[\"blur\"])"
   ]
  },
  {
   "cell_type": "markdown",
   "id": "6ae67b18",
   "metadata": {},
   "source": [
    "### 4. Mixup, LF, HF"
   ]
  },
  {
   "cell_type": "code",
   "execution_count": 214,
   "id": "b6068f85",
   "metadata": {},
   "outputs": [
    {
     "data": {
      "text/html": [
       "<div>\n",
       "<style scoped>\n",
       "    .dataframe tbody tr th:only-of-type {\n",
       "        vertical-align: middle;\n",
       "    }\n",
       "\n",
       "    .dataframe tbody tr th {\n",
       "        vertical-align: top;\n",
       "    }\n",
       "\n",
       "    .dataframe thead th {\n",
       "        text-align: right;\n",
       "    }\n",
       "</style>\n",
       "<table border=\"1\" class=\"dataframe\">\n",
       "  <thead>\n",
       "    <tr style=\"text-align: right;\">\n",
       "      <th></th>\n",
       "      <th>model</th>\n",
       "      <th>aug</th>\n",
       "      <th>beta_param</th>\n",
       "      <th>lowpass</th>\n",
       "      <th>highpass</th>\n",
       "      <th>ranfilter2</th>\n",
       "      <th>mask</th>\n",
       "      <th>blur</th>\n",
       "    </tr>\n",
       "  </thead>\n",
       "  <tbody>\n",
       "    <tr>\n",
       "      <th>60</th>\n",
       "      <td>ResMax_ADD_</td>\n",
       "      <td>Mixup, LF, HF</td>\n",
       "      <td>0.7</td>\n",
       "      <td>[[0.5, 0.5], [7, 8, 9, 10, 11, 12]]</td>\n",
       "      <td>[[0.5, 0.5], [80, 81, 82, 83, 84, 85, 86, 87]]</td>\n",
       "      <td>False</td>\n",
       "      <td>21.18</td>\n",
       "      <td>18.77</td>\n",
       "    </tr>\n",
       "    <tr>\n",
       "      <th>61</th>\n",
       "      <td>ResMax_ADD_</td>\n",
       "      <td>Mixup, LF, HF</td>\n",
       "      <td>0.7</td>\n",
       "      <td>[[0.5, 0.5], [7, 8, 9, 10, 11, 12]]</td>\n",
       "      <td>[[0.5, 0.5], [80, 81, 82, 83, 84, 85, 86, 87]]</td>\n",
       "      <td>False</td>\n",
       "      <td>17.13</td>\n",
       "      <td>18.24</td>\n",
       "    </tr>\n",
       "    <tr>\n",
       "      <th>62</th>\n",
       "      <td>ResMax_ADD_</td>\n",
       "      <td>Mixup, LF, HF</td>\n",
       "      <td>0.7</td>\n",
       "      <td>[[0.5, 0.5], [7, 8, 9, 10, 11, 12]]</td>\n",
       "      <td>[[0.5, 0.5], [80, 81, 82, 83, 84, 85, 86, 87]]</td>\n",
       "      <td>False</td>\n",
       "      <td>20.55</td>\n",
       "      <td>21.50</td>\n",
       "    </tr>\n",
       "    <tr>\n",
       "      <th>63</th>\n",
       "      <td>LCNN_ADD_</td>\n",
       "      <td>Mixup, LF, HF</td>\n",
       "      <td>0.7</td>\n",
       "      <td>[[0.5, 0.5], [7, 8, 9, 10, 11, 12]]</td>\n",
       "      <td>[[0.5, 0.5], [80, 81, 82, 83, 84, 85, 86, 87]]</td>\n",
       "      <td>False</td>\n",
       "      <td>20.17</td>\n",
       "      <td>19.86</td>\n",
       "    </tr>\n",
       "    <tr>\n",
       "      <th>64</th>\n",
       "      <td>LCNN_ADD_</td>\n",
       "      <td>Mixup, LF, HF</td>\n",
       "      <td>0.7</td>\n",
       "      <td>[[0.5, 0.5], [7, 8, 9, 10, 11, 12]]</td>\n",
       "      <td>[[0.5, 0.5], [80, 81, 82, 83, 84, 85, 86, 87]]</td>\n",
       "      <td>False</td>\n",
       "      <td>18.28</td>\n",
       "      <td>21.25</td>\n",
       "    </tr>\n",
       "    <tr>\n",
       "      <th>65</th>\n",
       "      <td>LCNN_ADD_</td>\n",
       "      <td>Mixup, LF, HF</td>\n",
       "      <td>0.7</td>\n",
       "      <td>[[0.5, 0.5], [7, 8, 9, 10, 11, 12]]</td>\n",
       "      <td>[[0.5, 0.5], [80, 81, 82, 83, 84, 85, 86, 87]]</td>\n",
       "      <td>False</td>\n",
       "      <td>20.24</td>\n",
       "      <td>20.24</td>\n",
       "    </tr>\n",
       "    <tr>\n",
       "      <th>66</th>\n",
       "      <td>BCResMax_ADD_</td>\n",
       "      <td>Mixup, LF, HF</td>\n",
       "      <td>0.7</td>\n",
       "      <td>[[0.5, 0.5], [7, 8, 9, 10, 11, 12]]</td>\n",
       "      <td>[[0.5, 0.5], [80, 81, 82, 83, 84, 85, 86, 87]]</td>\n",
       "      <td>False</td>\n",
       "      <td>13.63</td>\n",
       "      <td>17.20</td>\n",
       "    </tr>\n",
       "    <tr>\n",
       "      <th>67</th>\n",
       "      <td>BCResMax_ADD_</td>\n",
       "      <td>Mixup, LF, HF</td>\n",
       "      <td>0.7</td>\n",
       "      <td>[[0.5, 0.5], [7, 8, 9, 10, 11, 12]]</td>\n",
       "      <td>[[0.5, 0.5], [80, 81, 82, 83, 84, 85, 86, 87]]</td>\n",
       "      <td>False</td>\n",
       "      <td>17.83</td>\n",
       "      <td>17.93</td>\n",
       "    </tr>\n",
       "    <tr>\n",
       "      <th>68</th>\n",
       "      <td>BCResMax_ADD_</td>\n",
       "      <td>Mixup, LF, HF</td>\n",
       "      <td>0.7</td>\n",
       "      <td>[[0.5, 0.5], [7, 8, 9, 10, 11, 12]]</td>\n",
       "      <td>[[0.5, 0.5], [80, 81, 82, 83, 84, 85, 86, 87]]</td>\n",
       "      <td>False</td>\n",
       "      <td>13.24</td>\n",
       "      <td>13.56</td>\n",
       "    </tr>\n",
       "    <tr>\n",
       "      <th>69</th>\n",
       "      <td>DDWSseq_ADD_</td>\n",
       "      <td>Mixup, LF, HF</td>\n",
       "      <td>0.7</td>\n",
       "      <td>[[0.5, 0.5], [7, 8, 9, 10, 11, 12]]</td>\n",
       "      <td>[[0.5, 0.5], [80, 81, 82, 83, 84, 85, 86, 87]]</td>\n",
       "      <td>False</td>\n",
       "      <td>16.11</td>\n",
       "      <td>18.84</td>\n",
       "    </tr>\n",
       "    <tr>\n",
       "      <th>70</th>\n",
       "      <td>DDWSseq_ADD_</td>\n",
       "      <td>Mixup, LF, HF</td>\n",
       "      <td>0.7</td>\n",
       "      <td>[[0.5, 0.5], [7, 8, 9, 10, 11, 12]]</td>\n",
       "      <td>[[0.5, 0.5], [80, 81, 82, 83, 84, 85, 86, 87]]</td>\n",
       "      <td>False</td>\n",
       "      <td>14.79</td>\n",
       "      <td>16.43</td>\n",
       "    </tr>\n",
       "    <tr>\n",
       "      <th>71</th>\n",
       "      <td>DDWSseq_ADD_</td>\n",
       "      <td>Mixup, LF, HF</td>\n",
       "      <td>0.7</td>\n",
       "      <td>[[0.5, 0.5], [7, 8, 9, 10, 11, 12]]</td>\n",
       "      <td>[[0.5, 0.5], [80, 81, 82, 83, 84, 85, 86, 87]]</td>\n",
       "      <td>False</td>\n",
       "      <td>17.06</td>\n",
       "      <td>17.76</td>\n",
       "    </tr>\n",
       "  </tbody>\n",
       "</table>\n",
       "</div>"
      ],
      "text/plain": [
       "            model            aug  beta_param  \\\n",
       "60    ResMax_ADD_  Mixup, LF, HF         0.7   \n",
       "61    ResMax_ADD_  Mixup, LF, HF         0.7   \n",
       "62    ResMax_ADD_  Mixup, LF, HF         0.7   \n",
       "63      LCNN_ADD_  Mixup, LF, HF         0.7   \n",
       "64      LCNN_ADD_  Mixup, LF, HF         0.7   \n",
       "65      LCNN_ADD_  Mixup, LF, HF         0.7   \n",
       "66  BCResMax_ADD_  Mixup, LF, HF         0.7   \n",
       "67  BCResMax_ADD_  Mixup, LF, HF         0.7   \n",
       "68  BCResMax_ADD_  Mixup, LF, HF         0.7   \n",
       "69   DDWSseq_ADD_  Mixup, LF, HF         0.7   \n",
       "70   DDWSseq_ADD_  Mixup, LF, HF         0.7   \n",
       "71   DDWSseq_ADD_  Mixup, LF, HF         0.7   \n",
       "\n",
       "                                lowpass  \\\n",
       "60  [[0.5, 0.5], [7, 8, 9, 10, 11, 12]]   \n",
       "61  [[0.5, 0.5], [7, 8, 9, 10, 11, 12]]   \n",
       "62  [[0.5, 0.5], [7, 8, 9, 10, 11, 12]]   \n",
       "63  [[0.5, 0.5], [7, 8, 9, 10, 11, 12]]   \n",
       "64  [[0.5, 0.5], [7, 8, 9, 10, 11, 12]]   \n",
       "65  [[0.5, 0.5], [7, 8, 9, 10, 11, 12]]   \n",
       "66  [[0.5, 0.5], [7, 8, 9, 10, 11, 12]]   \n",
       "67  [[0.5, 0.5], [7, 8, 9, 10, 11, 12]]   \n",
       "68  [[0.5, 0.5], [7, 8, 9, 10, 11, 12]]   \n",
       "69  [[0.5, 0.5], [7, 8, 9, 10, 11, 12]]   \n",
       "70  [[0.5, 0.5], [7, 8, 9, 10, 11, 12]]   \n",
       "71  [[0.5, 0.5], [7, 8, 9, 10, 11, 12]]   \n",
       "\n",
       "                                          highpass ranfilter2   mask   blur  \n",
       "60  [[0.5, 0.5], [80, 81, 82, 83, 84, 85, 86, 87]]      False  21.18  18.77  \n",
       "61  [[0.5, 0.5], [80, 81, 82, 83, 84, 85, 86, 87]]      False  17.13  18.24  \n",
       "62  [[0.5, 0.5], [80, 81, 82, 83, 84, 85, 86, 87]]      False  20.55  21.50  \n",
       "63  [[0.5, 0.5], [80, 81, 82, 83, 84, 85, 86, 87]]      False  20.17  19.86  \n",
       "64  [[0.5, 0.5], [80, 81, 82, 83, 84, 85, 86, 87]]      False  18.28  21.25  \n",
       "65  [[0.5, 0.5], [80, 81, 82, 83, 84, 85, 86, 87]]      False  20.24  20.24  \n",
       "66  [[0.5, 0.5], [80, 81, 82, 83, 84, 85, 86, 87]]      False  13.63  17.20  \n",
       "67  [[0.5, 0.5], [80, 81, 82, 83, 84, 85, 86, 87]]      False  17.83  17.93  \n",
       "68  [[0.5, 0.5], [80, 81, 82, 83, 84, 85, 86, 87]]      False  13.24  13.56  \n",
       "69  [[0.5, 0.5], [80, 81, 82, 83, 84, 85, 86, 87]]      False  16.11  18.84  \n",
       "70  [[0.5, 0.5], [80, 81, 82, 83, 84, 85, 86, 87]]      False  14.79  16.43  \n",
       "71  [[0.5, 0.5], [80, 81, 82, 83, 84, 85, 86, 87]]      False  17.06  17.76  "
      ]
     },
     "execution_count": 214,
     "metadata": {},
     "output_type": "execute_result"
    }
   ],
   "source": [
    "aug = df_add[df_add.aug==\"Mixup, LF, HF\"][['model','aug','beta_param','lowpass','highpass','ranfilter2','mask','blur']]\n",
    "aug"
   ]
  },
  {
   "cell_type": "code",
   "execution_count": 215,
   "id": "38811a34",
   "metadata": {},
   "outputs": [
    {
     "data": {
      "text/plain": [
       "Ttest_indResult(statistic=-0.9409000489048045, pvalue=0.3569735423570416)"
      ]
     },
     "execution_count": 215,
     "metadata": {},
     "output_type": "execute_result"
    }
   ],
   "source": [
    "# n이 작아서 p-value가 크게나옴\n",
    "ttest_ind(aug[\"mask\"],aug[\"blur\"],equal_var=True)"
   ]
  },
  {
   "cell_type": "code",
   "execution_count": 216,
   "id": "a5784abe",
   "metadata": {},
   "outputs": [
    {
     "data": {
      "text/plain": [
       "Ttest_relResult(statistic=-2.0016739862918818, pvalue=0.07060115779917593)"
      ]
     },
     "execution_count": 216,
     "metadata": {},
     "output_type": "execute_result"
    }
   ],
   "source": [
    "ttest_rel(aug[\"mask\"],aug[\"blur\"])"
   ]
  },
  {
   "cell_type": "markdown",
   "id": "79bb6418",
   "metadata": {},
   "source": [
    "### 5. Mixup, LF, RF"
   ]
  },
  {
   "cell_type": "code",
   "execution_count": 217,
   "id": "db7999f6",
   "metadata": {},
   "outputs": [
    {
     "data": {
      "text/html": [
       "<div>\n",
       "<style scoped>\n",
       "    .dataframe tbody tr th:only-of-type {\n",
       "        vertical-align: middle;\n",
       "    }\n",
       "\n",
       "    .dataframe tbody tr th {\n",
       "        vertical-align: top;\n",
       "    }\n",
       "\n",
       "    .dataframe thead th {\n",
       "        text-align: right;\n",
       "    }\n",
       "</style>\n",
       "<table border=\"1\" class=\"dataframe\">\n",
       "  <thead>\n",
       "    <tr style=\"text-align: right;\">\n",
       "      <th></th>\n",
       "      <th>model</th>\n",
       "      <th>aug</th>\n",
       "      <th>beta_param</th>\n",
       "      <th>lowpass</th>\n",
       "      <th>highpass</th>\n",
       "      <th>ranfilter2</th>\n",
       "      <th>mask</th>\n",
       "      <th>blur</th>\n",
       "    </tr>\n",
       "  </thead>\n",
       "  <tbody>\n",
       "    <tr>\n",
       "      <th>48</th>\n",
       "      <td>ResMax_ADD_</td>\n",
       "      <td>Mixup, LF, RF</td>\n",
       "      <td>0.7</td>\n",
       "      <td>[[0.5, 0.5], [7, 8, 9, 10, 11, 12]]</td>\n",
       "      <td>False</td>\n",
       "      <td>[2, [8, 9, 10, 11, 12]]</td>\n",
       "      <td>14.64</td>\n",
       "      <td>14.96</td>\n",
       "    </tr>\n",
       "    <tr>\n",
       "      <th>49</th>\n",
       "      <td>ResMax_ADD_</td>\n",
       "      <td>Mixup, LF, RF</td>\n",
       "      <td>0.7</td>\n",
       "      <td>[[0.5, 0.5], [7, 8, 9, 10, 11, 12]]</td>\n",
       "      <td>False</td>\n",
       "      <td>[2, [8, 9, 10, 11, 12]]</td>\n",
       "      <td>17.83</td>\n",
       "      <td>17.47</td>\n",
       "    </tr>\n",
       "    <tr>\n",
       "      <th>50</th>\n",
       "      <td>ResMax_ADD_</td>\n",
       "      <td>Mixup, LF, RF</td>\n",
       "      <td>0.7</td>\n",
       "      <td>[[0.5, 0.5], [7, 8, 9, 10, 11, 12]]</td>\n",
       "      <td>False</td>\n",
       "      <td>[2, [8, 9, 10, 11, 12]]</td>\n",
       "      <td>18.21</td>\n",
       "      <td>15.41</td>\n",
       "    </tr>\n",
       "    <tr>\n",
       "      <th>51</th>\n",
       "      <td>LCNN_ADD_</td>\n",
       "      <td>Mixup, LF, RF</td>\n",
       "      <td>0.7</td>\n",
       "      <td>[[0.5, 0.5], [7, 8, 9, 10, 11, 12]]</td>\n",
       "      <td>False</td>\n",
       "      <td>[2, [8, 9, 10, 11, 12]]</td>\n",
       "      <td>15.03</td>\n",
       "      <td>16.74</td>\n",
       "    </tr>\n",
       "    <tr>\n",
       "      <th>52</th>\n",
       "      <td>LCNN_ADD_</td>\n",
       "      <td>Mixup, LF, RF</td>\n",
       "      <td>0.7</td>\n",
       "      <td>[[0.5, 0.5], [7, 8, 9, 10, 11, 12]]</td>\n",
       "      <td>False</td>\n",
       "      <td>[2, [8, 9, 10, 11, 12]]</td>\n",
       "      <td>17.13</td>\n",
       "      <td>18.38</td>\n",
       "    </tr>\n",
       "    <tr>\n",
       "      <th>53</th>\n",
       "      <td>LCNN_ADD_</td>\n",
       "      <td>Mixup, LF, RF</td>\n",
       "      <td>0.7</td>\n",
       "      <td>[[0.5, 0.5], [7, 8, 9, 10, 11, 12]]</td>\n",
       "      <td>False</td>\n",
       "      <td>[2, [8, 9, 10, 11, 12]]</td>\n",
       "      <td>18.28</td>\n",
       "      <td>19.11</td>\n",
       "    </tr>\n",
       "    <tr>\n",
       "      <th>54</th>\n",
       "      <td>BCResMax_ADD_</td>\n",
       "      <td>Mixup, LF, RF</td>\n",
       "      <td>0.7</td>\n",
       "      <td>[[0.5, 0.5], [7, 8, 9, 10, 11, 12]]</td>\n",
       "      <td>False</td>\n",
       "      <td>[2, [8, 9, 10, 11, 12]]</td>\n",
       "      <td>11.60</td>\n",
       "      <td>11.99</td>\n",
       "    </tr>\n",
       "    <tr>\n",
       "      <th>55</th>\n",
       "      <td>BCResMax_ADD_</td>\n",
       "      <td>Mixup, LF, RF</td>\n",
       "      <td>0.7</td>\n",
       "      <td>[[0.5, 0.5], [7, 8, 9, 10, 11, 12]]</td>\n",
       "      <td>False</td>\n",
       "      <td>[2, [8, 9, 10, 11, 12]]</td>\n",
       "      <td>13.32</td>\n",
       "      <td>11.43</td>\n",
       "    </tr>\n",
       "    <tr>\n",
       "      <th>56</th>\n",
       "      <td>BCResMax_ADD_</td>\n",
       "      <td>Mixup, LF, RF</td>\n",
       "      <td>0.7</td>\n",
       "      <td>[[0.5, 0.5], [7, 8, 9, 10, 11, 12]]</td>\n",
       "      <td>False</td>\n",
       "      <td>[2, [8, 9, 10, 11, 12]]</td>\n",
       "      <td>11.36</td>\n",
       "      <td>12.23</td>\n",
       "    </tr>\n",
       "    <tr>\n",
       "      <th>57</th>\n",
       "      <td>DDWSseq_ADD_</td>\n",
       "      <td>Mixup, LF, RF</td>\n",
       "      <td>0.7</td>\n",
       "      <td>[[0.5, 0.5], [7, 8, 9, 10, 11, 12]]</td>\n",
       "      <td>False</td>\n",
       "      <td>[2, [8, 9, 10, 11, 12]]</td>\n",
       "      <td>17.76</td>\n",
       "      <td>12.83</td>\n",
       "    </tr>\n",
       "    <tr>\n",
       "      <th>58</th>\n",
       "      <td>DDWSseq_ADD_</td>\n",
       "      <td>Mixup, LF, RF</td>\n",
       "      <td>0.7</td>\n",
       "      <td>[[0.5, 0.5], [7, 8, 9, 10, 11, 12]]</td>\n",
       "      <td>False</td>\n",
       "      <td>[2, [8, 9, 10, 11, 12]]</td>\n",
       "      <td>12.62</td>\n",
       "      <td>16.43</td>\n",
       "    </tr>\n",
       "    <tr>\n",
       "      <th>59</th>\n",
       "      <td>DDWSseq_ADD_</td>\n",
       "      <td>Mixup, LF, RF</td>\n",
       "      <td>0.7</td>\n",
       "      <td>[[0.5, 0.5], [7, 8, 9, 10, 11, 12]]</td>\n",
       "      <td>False</td>\n",
       "      <td>[2, [8, 9, 10, 11, 12]]</td>\n",
       "      <td>16.19</td>\n",
       "      <td>17.51</td>\n",
       "    </tr>\n",
       "  </tbody>\n",
       "</table>\n",
       "</div>"
      ],
      "text/plain": [
       "            model            aug  beta_param  \\\n",
       "48    ResMax_ADD_  Mixup, LF, RF         0.7   \n",
       "49    ResMax_ADD_  Mixup, LF, RF         0.7   \n",
       "50    ResMax_ADD_  Mixup, LF, RF         0.7   \n",
       "51      LCNN_ADD_  Mixup, LF, RF         0.7   \n",
       "52      LCNN_ADD_  Mixup, LF, RF         0.7   \n",
       "53      LCNN_ADD_  Mixup, LF, RF         0.7   \n",
       "54  BCResMax_ADD_  Mixup, LF, RF         0.7   \n",
       "55  BCResMax_ADD_  Mixup, LF, RF         0.7   \n",
       "56  BCResMax_ADD_  Mixup, LF, RF         0.7   \n",
       "57   DDWSseq_ADD_  Mixup, LF, RF         0.7   \n",
       "58   DDWSseq_ADD_  Mixup, LF, RF         0.7   \n",
       "59   DDWSseq_ADD_  Mixup, LF, RF         0.7   \n",
       "\n",
       "                                lowpass highpass               ranfilter2  \\\n",
       "48  [[0.5, 0.5], [7, 8, 9, 10, 11, 12]]    False  [2, [8, 9, 10, 11, 12]]   \n",
       "49  [[0.5, 0.5], [7, 8, 9, 10, 11, 12]]    False  [2, [8, 9, 10, 11, 12]]   \n",
       "50  [[0.5, 0.5], [7, 8, 9, 10, 11, 12]]    False  [2, [8, 9, 10, 11, 12]]   \n",
       "51  [[0.5, 0.5], [7, 8, 9, 10, 11, 12]]    False  [2, [8, 9, 10, 11, 12]]   \n",
       "52  [[0.5, 0.5], [7, 8, 9, 10, 11, 12]]    False  [2, [8, 9, 10, 11, 12]]   \n",
       "53  [[0.5, 0.5], [7, 8, 9, 10, 11, 12]]    False  [2, [8, 9, 10, 11, 12]]   \n",
       "54  [[0.5, 0.5], [7, 8, 9, 10, 11, 12]]    False  [2, [8, 9, 10, 11, 12]]   \n",
       "55  [[0.5, 0.5], [7, 8, 9, 10, 11, 12]]    False  [2, [8, 9, 10, 11, 12]]   \n",
       "56  [[0.5, 0.5], [7, 8, 9, 10, 11, 12]]    False  [2, [8, 9, 10, 11, 12]]   \n",
       "57  [[0.5, 0.5], [7, 8, 9, 10, 11, 12]]    False  [2, [8, 9, 10, 11, 12]]   \n",
       "58  [[0.5, 0.5], [7, 8, 9, 10, 11, 12]]    False  [2, [8, 9, 10, 11, 12]]   \n",
       "59  [[0.5, 0.5], [7, 8, 9, 10, 11, 12]]    False  [2, [8, 9, 10, 11, 12]]   \n",
       "\n",
       "     mask   blur  \n",
       "48  14.64  14.96  \n",
       "49  17.83  17.47  \n",
       "50  18.21  15.41  \n",
       "51  15.03  16.74  \n",
       "52  17.13  18.38  \n",
       "53  18.28  19.11  \n",
       "54  11.60  11.99  \n",
       "55  13.32  11.43  \n",
       "56  11.36  12.23  \n",
       "57  17.76  12.83  \n",
       "58  12.62  16.43  \n",
       "59  16.19  17.51  "
      ]
     },
     "execution_count": 217,
     "metadata": {},
     "output_type": "execute_result"
    }
   ],
   "source": [
    "aug = df_add[df_add.aug==\"Mixup, LF, RF\"][['model','aug','beta_param','lowpass','highpass','ranfilter2','mask','blur']]\n",
    "aug"
   ]
  },
  {
   "cell_type": "code",
   "execution_count": 218,
   "id": "534a59ee",
   "metadata": {},
   "outputs": [
    {
     "data": {
      "text/plain": [
       "Ttest_indResult(statistic=-0.04022059799776446, pvalue=0.9682800337272712)"
      ]
     },
     "execution_count": 218,
     "metadata": {},
     "output_type": "execute_result"
    }
   ],
   "source": [
    "# n이 작아서 p-value가 크게나옴\n",
    "ttest_ind(aug[\"mask\"],aug[\"blur\"],equal_var=True)"
   ]
  },
  {
   "cell_type": "code",
   "execution_count": 219,
   "id": "b5ee53c6",
   "metadata": {},
   "outputs": [
    {
     "data": {
      "text/plain": [
       "Ttest_relResult(statistic=-0.06522116344127094, pvalue=0.9491681413916466)"
      ]
     },
     "execution_count": 219,
     "metadata": {},
     "output_type": "execute_result"
    }
   ],
   "source": [
    "ttest_rel(aug[\"mask\"],aug[\"blur\"])"
   ]
  },
  {
   "cell_type": "markdown",
   "id": "c00993a9",
   "metadata": {},
   "source": [
    "### 6. HF, RF"
   ]
  },
  {
   "cell_type": "code",
   "execution_count": 220,
   "id": "729d8ddd",
   "metadata": {},
   "outputs": [
    {
     "data": {
      "text/html": [
       "<div>\n",
       "<style scoped>\n",
       "    .dataframe tbody tr th:only-of-type {\n",
       "        vertical-align: middle;\n",
       "    }\n",
       "\n",
       "    .dataframe tbody tr th {\n",
       "        vertical-align: top;\n",
       "    }\n",
       "\n",
       "    .dataframe thead th {\n",
       "        text-align: right;\n",
       "    }\n",
       "</style>\n",
       "<table border=\"1\" class=\"dataframe\">\n",
       "  <thead>\n",
       "    <tr style=\"text-align: right;\">\n",
       "      <th></th>\n",
       "      <th>model</th>\n",
       "      <th>aug</th>\n",
       "      <th>beta_param</th>\n",
       "      <th>lowpass</th>\n",
       "      <th>highpass</th>\n",
       "      <th>ranfilter2</th>\n",
       "      <th>mask</th>\n",
       "      <th>blur</th>\n",
       "    </tr>\n",
       "  </thead>\n",
       "  <tbody>\n",
       "    <tr>\n",
       "      <th>24</th>\n",
       "      <td>ResMax_ADD_</td>\n",
       "      <td>Mixup, HF, RF</td>\n",
       "      <td>0.7</td>\n",
       "      <td>False</td>\n",
       "      <td>[[0.5, 0.5], [80, 81, 82, 83, 84, 85, 86, 87]]</td>\n",
       "      <td>[2, [8, 9, 10, 11, 12]]</td>\n",
       "      <td>17.20</td>\n",
       "      <td>16.74</td>\n",
       "    </tr>\n",
       "    <tr>\n",
       "      <th>25</th>\n",
       "      <td>ResMax_ADD_</td>\n",
       "      <td>Mixup, HF, RF</td>\n",
       "      <td>0.7</td>\n",
       "      <td>False</td>\n",
       "      <td>[[0.5, 0.5], [80, 81, 82, 83, 84, 85, 86, 87]]</td>\n",
       "      <td>[2, [8, 9, 10, 11, 12]]</td>\n",
       "      <td>17.97</td>\n",
       "      <td>17.83</td>\n",
       "    </tr>\n",
       "    <tr>\n",
       "      <th>26</th>\n",
       "      <td>ResMax_ADD_</td>\n",
       "      <td>Mixup, HF, RF</td>\n",
       "      <td>0.7</td>\n",
       "      <td>False</td>\n",
       "      <td>[[0.5, 0.5], [80, 81, 82, 83, 84, 85, 86, 87]]</td>\n",
       "      <td>[2, [8, 9, 10, 11, 12]]</td>\n",
       "      <td>16.81</td>\n",
       "      <td>14.89</td>\n",
       "    </tr>\n",
       "    <tr>\n",
       "      <th>27</th>\n",
       "      <td>LCNN_ADD_</td>\n",
       "      <td>Mixup, HF, RF</td>\n",
       "      <td>0.7</td>\n",
       "      <td>False</td>\n",
       "      <td>[[0.5, 0.5], [80, 81, 82, 83, 84, 85, 86, 87]]</td>\n",
       "      <td>[2, [8, 9, 10, 11, 12]]</td>\n",
       "      <td>19.86</td>\n",
       "      <td>19.54</td>\n",
       "    </tr>\n",
       "    <tr>\n",
       "      <th>28</th>\n",
       "      <td>LCNN_ADD_</td>\n",
       "      <td>Mixup, HF, RF</td>\n",
       "      <td>0.7</td>\n",
       "      <td>False</td>\n",
       "      <td>[[0.5, 0.5], [80, 81, 82, 83, 84, 85, 86, 87]]</td>\n",
       "      <td>[2, [8, 9, 10, 11, 12]]</td>\n",
       "      <td>20.94</td>\n",
       "      <td>20.87</td>\n",
       "    </tr>\n",
       "    <tr>\n",
       "      <th>29</th>\n",
       "      <td>LCNN_ADD_</td>\n",
       "      <td>Mixup, HF, RF</td>\n",
       "      <td>0.7</td>\n",
       "      <td>False</td>\n",
       "      <td>[[0.5, 0.5], [80, 81, 82, 83, 84, 85, 86, 87]]</td>\n",
       "      <td>[2, [8, 9, 10, 11, 12]]</td>\n",
       "      <td>19.93</td>\n",
       "      <td>19.54</td>\n",
       "    </tr>\n",
       "    <tr>\n",
       "      <th>30</th>\n",
       "      <td>BCResMax_ADD_</td>\n",
       "      <td>Mixup, HF, RF</td>\n",
       "      <td>0.7</td>\n",
       "      <td>False</td>\n",
       "      <td>[[0.5, 0.5], [80, 81, 82, 83, 84, 85, 86, 87]]</td>\n",
       "      <td>[2, [8, 9, 10, 11, 12]]</td>\n",
       "      <td>12.30</td>\n",
       "      <td>14.72</td>\n",
       "    </tr>\n",
       "    <tr>\n",
       "      <th>31</th>\n",
       "      <td>BCResMax_ADD_</td>\n",
       "      <td>Mixup, HF, RF</td>\n",
       "      <td>0.7</td>\n",
       "      <td>False</td>\n",
       "      <td>[[0.5, 0.5], [80, 81, 82, 83, 84, 85, 86, 87]]</td>\n",
       "      <td>[2, [8, 9, 10, 11, 12]]</td>\n",
       "      <td>12.54</td>\n",
       "      <td>14.64</td>\n",
       "    </tr>\n",
       "    <tr>\n",
       "      <th>32</th>\n",
       "      <td>BCResMax_ADD_</td>\n",
       "      <td>Mixup, HF, RF</td>\n",
       "      <td>0.7</td>\n",
       "      <td>False</td>\n",
       "      <td>[[0.5, 0.5], [80, 81, 82, 83, 84, 85, 86, 87]]</td>\n",
       "      <td>[2, [8, 9, 10, 11, 12]]</td>\n",
       "      <td>13.07</td>\n",
       "      <td>14.26</td>\n",
       "    </tr>\n",
       "    <tr>\n",
       "      <th>33</th>\n",
       "      <td>DDWSseq_ADD_</td>\n",
       "      <td>Mixup, HF, RF</td>\n",
       "      <td>0.7</td>\n",
       "      <td>False</td>\n",
       "      <td>[[0.5, 0.5], [80, 81, 82, 83, 84, 85, 86, 87]]</td>\n",
       "      <td>[2, [8, 9, 10, 11, 12]]</td>\n",
       "      <td>15.34</td>\n",
       "      <td>14.96</td>\n",
       "    </tr>\n",
       "    <tr>\n",
       "      <th>34</th>\n",
       "      <td>DDWSseq_ADD_</td>\n",
       "      <td>Mixup, HF, RF</td>\n",
       "      <td>0.7</td>\n",
       "      <td>False</td>\n",
       "      <td>[[0.5, 0.5], [80, 81, 82, 83, 84, 85, 86, 87]]</td>\n",
       "      <td>[2, [8, 9, 10, 11, 12]]</td>\n",
       "      <td>17.13</td>\n",
       "      <td>15.41</td>\n",
       "    </tr>\n",
       "    <tr>\n",
       "      <th>35</th>\n",
       "      <td>DDWSseq_ADD_</td>\n",
       "      <td>Mixup, HF, RF</td>\n",
       "      <td>0.7</td>\n",
       "      <td>False</td>\n",
       "      <td>[[0.5, 0.5], [80, 81, 82, 83, 84, 85, 86, 87]]</td>\n",
       "      <td>[2, [8, 9, 10, 11, 12]]</td>\n",
       "      <td>14.33</td>\n",
       "      <td>14.30</td>\n",
       "    </tr>\n",
       "  </tbody>\n",
       "</table>\n",
       "</div>"
      ],
      "text/plain": [
       "            model            aug  beta_param lowpass  \\\n",
       "24    ResMax_ADD_  Mixup, HF, RF         0.7   False   \n",
       "25    ResMax_ADD_  Mixup, HF, RF         0.7   False   \n",
       "26    ResMax_ADD_  Mixup, HF, RF         0.7   False   \n",
       "27      LCNN_ADD_  Mixup, HF, RF         0.7   False   \n",
       "28      LCNN_ADD_  Mixup, HF, RF         0.7   False   \n",
       "29      LCNN_ADD_  Mixup, HF, RF         0.7   False   \n",
       "30  BCResMax_ADD_  Mixup, HF, RF         0.7   False   \n",
       "31  BCResMax_ADD_  Mixup, HF, RF         0.7   False   \n",
       "32  BCResMax_ADD_  Mixup, HF, RF         0.7   False   \n",
       "33   DDWSseq_ADD_  Mixup, HF, RF         0.7   False   \n",
       "34   DDWSseq_ADD_  Mixup, HF, RF         0.7   False   \n",
       "35   DDWSseq_ADD_  Mixup, HF, RF         0.7   False   \n",
       "\n",
       "                                          highpass               ranfilter2  \\\n",
       "24  [[0.5, 0.5], [80, 81, 82, 83, 84, 85, 86, 87]]  [2, [8, 9, 10, 11, 12]]   \n",
       "25  [[0.5, 0.5], [80, 81, 82, 83, 84, 85, 86, 87]]  [2, [8, 9, 10, 11, 12]]   \n",
       "26  [[0.5, 0.5], [80, 81, 82, 83, 84, 85, 86, 87]]  [2, [8, 9, 10, 11, 12]]   \n",
       "27  [[0.5, 0.5], [80, 81, 82, 83, 84, 85, 86, 87]]  [2, [8, 9, 10, 11, 12]]   \n",
       "28  [[0.5, 0.5], [80, 81, 82, 83, 84, 85, 86, 87]]  [2, [8, 9, 10, 11, 12]]   \n",
       "29  [[0.5, 0.5], [80, 81, 82, 83, 84, 85, 86, 87]]  [2, [8, 9, 10, 11, 12]]   \n",
       "30  [[0.5, 0.5], [80, 81, 82, 83, 84, 85, 86, 87]]  [2, [8, 9, 10, 11, 12]]   \n",
       "31  [[0.5, 0.5], [80, 81, 82, 83, 84, 85, 86, 87]]  [2, [8, 9, 10, 11, 12]]   \n",
       "32  [[0.5, 0.5], [80, 81, 82, 83, 84, 85, 86, 87]]  [2, [8, 9, 10, 11, 12]]   \n",
       "33  [[0.5, 0.5], [80, 81, 82, 83, 84, 85, 86, 87]]  [2, [8, 9, 10, 11, 12]]   \n",
       "34  [[0.5, 0.5], [80, 81, 82, 83, 84, 85, 86, 87]]  [2, [8, 9, 10, 11, 12]]   \n",
       "35  [[0.5, 0.5], [80, 81, 82, 83, 84, 85, 86, 87]]  [2, [8, 9, 10, 11, 12]]   \n",
       "\n",
       "     mask   blur  \n",
       "24  17.20  16.74  \n",
       "25  17.97  17.83  \n",
       "26  16.81  14.89  \n",
       "27  19.86  19.54  \n",
       "28  20.94  20.87  \n",
       "29  19.93  19.54  \n",
       "30  12.30  14.72  \n",
       "31  12.54  14.64  \n",
       "32  13.07  14.26  \n",
       "33  15.34  14.96  \n",
       "34  17.13  15.41  \n",
       "35  14.33  14.30  "
      ]
     },
     "execution_count": 220,
     "metadata": {},
     "output_type": "execute_result"
    }
   ],
   "source": [
    "aug = df_add[df_add.aug==\"Mixup, HF, RF\"][['model','aug','beta_param','lowpass','highpass','ranfilter2','mask','blur']]\n",
    "aug"
   ]
  },
  {
   "cell_type": "code",
   "execution_count": 221,
   "id": "39c183ef",
   "metadata": {},
   "outputs": [
    {
     "data": {
      "text/plain": [
       "Ttest_indResult(statistic=-0.021255986206008028, pvalue=0.9832330656881638)"
      ]
     },
     "execution_count": 221,
     "metadata": {},
     "output_type": "execute_result"
    }
   ],
   "source": [
    "# n이 작아서 p-value가 크게나옴\n",
    "ttest_ind(aug[\"mask\"],aug[\"blur\"],equal_var=True)"
   ]
  },
  {
   "cell_type": "code",
   "execution_count": 222,
   "id": "a360b1e8",
   "metadata": {},
   "outputs": [
    {
     "data": {
      "text/plain": [
       "Ttest_relResult(statistic=-0.0615719295986966, pvalue=0.9520082354358823)"
      ]
     },
     "execution_count": 222,
     "metadata": {},
     "output_type": "execute_result"
    }
   ],
   "source": [
    "ttest_rel(aug[\"mask\"],aug[\"blur\"])"
   ]
  },
  {
   "cell_type": "markdown",
   "id": "ce6f4c12",
   "metadata": {},
   "source": [
    "### 7. LF, HF, RF"
   ]
  },
  {
   "cell_type": "code",
   "execution_count": 201,
   "id": "c313d968",
   "metadata": {},
   "outputs": [
    {
     "data": {
      "text/html": [
       "<div>\n",
       "<style scoped>\n",
       "    .dataframe tbody tr th:only-of-type {\n",
       "        vertical-align: middle;\n",
       "    }\n",
       "\n",
       "    .dataframe tbody tr th {\n",
       "        vertical-align: top;\n",
       "    }\n",
       "\n",
       "    .dataframe thead th {\n",
       "        text-align: right;\n",
       "    }\n",
       "</style>\n",
       "<table border=\"1\" class=\"dataframe\">\n",
       "  <thead>\n",
       "    <tr style=\"text-align: right;\">\n",
       "      <th></th>\n",
       "      <th>model</th>\n",
       "      <th>aug</th>\n",
       "      <th>beta_param</th>\n",
       "      <th>lowpass</th>\n",
       "      <th>highpass</th>\n",
       "      <th>ranfilter2</th>\n",
       "      <th>mask</th>\n",
       "      <th>blur</th>\n",
       "    </tr>\n",
       "  </thead>\n",
       "  <tbody>\n",
       "    <tr>\n",
       "      <th>72</th>\n",
       "      <td>ResMax_ADD_</td>\n",
       "      <td>Mixup, LF, HF, RF</td>\n",
       "      <td>0.7</td>\n",
       "      <td>[[0.5, 0.5], [7, 8, 9, 10, 11, 12]]</td>\n",
       "      <td>[[0.5, 0.5], [80, 81, 82, 83, 84, 85, 86, 87]]</td>\n",
       "      <td>[2, [8, 9, 10, 11, 12]]</td>\n",
       "      <td>18.38</td>\n",
       "      <td>16.43</td>\n",
       "    </tr>\n",
       "    <tr>\n",
       "      <th>73</th>\n",
       "      <td>ResMax_ADD_</td>\n",
       "      <td>Mixup, LF, HF, RF</td>\n",
       "      <td>0.7</td>\n",
       "      <td>[[0.5, 0.5], [7, 8, 9, 10, 11, 12]]</td>\n",
       "      <td>[[0.5, 0.5], [80, 81, 82, 83, 84, 85, 86, 87]]</td>\n",
       "      <td>[2, [8, 9, 10, 11, 12]]</td>\n",
       "      <td>15.59</td>\n",
       "      <td>15.20</td>\n",
       "    </tr>\n",
       "    <tr>\n",
       "      <th>74</th>\n",
       "      <td>ResMax_ADD_</td>\n",
       "      <td>Mixup, LF, HF, RF</td>\n",
       "      <td>0.7</td>\n",
       "      <td>[[0.5, 0.5], [7, 8, 9, 10, 11, 12]]</td>\n",
       "      <td>[[0.5, 0.5], [80, 81, 82, 83, 84, 85, 86, 87]]</td>\n",
       "      <td>[2, [8, 9, 10, 11, 12]]</td>\n",
       "      <td>18.46</td>\n",
       "      <td>18.46</td>\n",
       "    </tr>\n",
       "    <tr>\n",
       "      <th>75</th>\n",
       "      <td>LCNN_ADD_</td>\n",
       "      <td>Mixup, LF, HF, RF</td>\n",
       "      <td>0.7</td>\n",
       "      <td>[[0.5, 0.5], [7, 8, 9, 10, 11, 12]]</td>\n",
       "      <td>[[0.5, 0.5], [80, 81, 82, 83, 84, 85, 86, 87]]</td>\n",
       "      <td>[2, [8, 9, 10, 11, 12]]</td>\n",
       "      <td>18.91</td>\n",
       "      <td>17.37</td>\n",
       "    </tr>\n",
       "    <tr>\n",
       "      <th>76</th>\n",
       "      <td>LCNN_ADD_</td>\n",
       "      <td>Mixup, LF, HF, RF</td>\n",
       "      <td>0.7</td>\n",
       "      <td>[[0.5, 0.5], [7, 8, 9, 10, 11, 12]]</td>\n",
       "      <td>[[0.5, 0.5], [80, 81, 82, 83, 84, 85, 86, 87]]</td>\n",
       "      <td>[2, [8, 9, 10, 11, 12]]</td>\n",
       "      <td>19.01</td>\n",
       "      <td>19.16</td>\n",
       "    </tr>\n",
       "    <tr>\n",
       "      <th>77</th>\n",
       "      <td>LCNN_ADD_</td>\n",
       "      <td>Mixup, LF, HF, RF</td>\n",
       "      <td>0.7</td>\n",
       "      <td>[[0.5, 0.5], [7, 8, 9, 10, 11, 12]]</td>\n",
       "      <td>[[0.5, 0.5], [80, 81, 82, 83, 84, 85, 86, 87]]</td>\n",
       "      <td>[2, [8, 9, 10, 11, 12]]</td>\n",
       "      <td>19.08</td>\n",
       "      <td>18.46</td>\n",
       "    </tr>\n",
       "    <tr>\n",
       "      <th>78</th>\n",
       "      <td>BCResMax_ADD_</td>\n",
       "      <td>Mixup, LF, HF, RF</td>\n",
       "      <td>0.7</td>\n",
       "      <td>[[0.5, 0.5], [7, 8, 9, 10, 11, 12]]</td>\n",
       "      <td>[[0.5, 0.5], [80, 81, 82, 83, 84, 85, 86, 87]]</td>\n",
       "      <td>[2, [8, 9, 10, 11, 12]]</td>\n",
       "      <td>13.32</td>\n",
       "      <td>14.57</td>\n",
       "    </tr>\n",
       "    <tr>\n",
       "      <th>79</th>\n",
       "      <td>BCResMax_ADD_</td>\n",
       "      <td>Mixup, LF, HF, RF</td>\n",
       "      <td>0.7</td>\n",
       "      <td>[[0.5, 0.5], [7, 8, 9, 10, 11, 12]]</td>\n",
       "      <td>[[0.5, 0.5], [80, 81, 82, 83, 84, 85, 86, 87]]</td>\n",
       "      <td>[2, [8, 9, 10, 11, 12]]</td>\n",
       "      <td>13.32</td>\n",
       "      <td>13.77</td>\n",
       "    </tr>\n",
       "    <tr>\n",
       "      <th>80</th>\n",
       "      <td>BCResMax_ADD_</td>\n",
       "      <td>Mixup, LF, HF, RF</td>\n",
       "      <td>0.7</td>\n",
       "      <td>[[0.5, 0.5], [7, 8, 9, 10, 11, 12]]</td>\n",
       "      <td>[[0.5, 0.5], [80, 81, 82, 83, 84, 85, 86, 87]]</td>\n",
       "      <td>[2, [8, 9, 10, 11, 12]]</td>\n",
       "      <td>11.67</td>\n",
       "      <td>14.64</td>\n",
       "    </tr>\n",
       "    <tr>\n",
       "      <th>81</th>\n",
       "      <td>DDWSseq_ADD_</td>\n",
       "      <td>Mixup, LF, HF, RF</td>\n",
       "      <td>0.7</td>\n",
       "      <td>[[0.5, 0.5], [7, 8, 9, 10, 11, 12]]</td>\n",
       "      <td>[[0.5, 0.5], [80, 81, 82, 83, 84, 85, 86, 87]]</td>\n",
       "      <td>[2, [8, 9, 10, 11, 12]]</td>\n",
       "      <td>16.36</td>\n",
       "      <td>15.41</td>\n",
       "    </tr>\n",
       "    <tr>\n",
       "      <th>82</th>\n",
       "      <td>DDWSseq_ADD_</td>\n",
       "      <td>Mixup, LF, HF, RF</td>\n",
       "      <td>0.7</td>\n",
       "      <td>[[0.5, 0.5], [7, 8, 9, 10, 11, 12]]</td>\n",
       "      <td>[[0.5, 0.5], [80, 81, 82, 83, 84, 85, 86, 87]]</td>\n",
       "      <td>[2, [8, 9, 10, 11, 12]]</td>\n",
       "      <td>17.76</td>\n",
       "      <td>14.47</td>\n",
       "    </tr>\n",
       "    <tr>\n",
       "      <th>83</th>\n",
       "      <td>DDWSseq_ADD_</td>\n",
       "      <td>Mixup, LF, HF, RF</td>\n",
       "      <td>0.7</td>\n",
       "      <td>[[0.5, 0.5], [7, 8, 9, 10, 11, 12]]</td>\n",
       "      <td>[[0.5, 0.5], [80, 81, 82, 83, 84, 85, 86, 87]]</td>\n",
       "      <td>[2, [8, 9, 10, 11, 12]]</td>\n",
       "      <td>15.97</td>\n",
       "      <td>14.33</td>\n",
       "    </tr>\n",
       "  </tbody>\n",
       "</table>\n",
       "</div>"
      ],
      "text/plain": [
       "            model                aug  beta_param  \\\n",
       "72    ResMax_ADD_  Mixup, LF, HF, RF         0.7   \n",
       "73    ResMax_ADD_  Mixup, LF, HF, RF         0.7   \n",
       "74    ResMax_ADD_  Mixup, LF, HF, RF         0.7   \n",
       "75      LCNN_ADD_  Mixup, LF, HF, RF         0.7   \n",
       "76      LCNN_ADD_  Mixup, LF, HF, RF         0.7   \n",
       "77      LCNN_ADD_  Mixup, LF, HF, RF         0.7   \n",
       "78  BCResMax_ADD_  Mixup, LF, HF, RF         0.7   \n",
       "79  BCResMax_ADD_  Mixup, LF, HF, RF         0.7   \n",
       "80  BCResMax_ADD_  Mixup, LF, HF, RF         0.7   \n",
       "81   DDWSseq_ADD_  Mixup, LF, HF, RF         0.7   \n",
       "82   DDWSseq_ADD_  Mixup, LF, HF, RF         0.7   \n",
       "83   DDWSseq_ADD_  Mixup, LF, HF, RF         0.7   \n",
       "\n",
       "                                lowpass  \\\n",
       "72  [[0.5, 0.5], [7, 8, 9, 10, 11, 12]]   \n",
       "73  [[0.5, 0.5], [7, 8, 9, 10, 11, 12]]   \n",
       "74  [[0.5, 0.5], [7, 8, 9, 10, 11, 12]]   \n",
       "75  [[0.5, 0.5], [7, 8, 9, 10, 11, 12]]   \n",
       "76  [[0.5, 0.5], [7, 8, 9, 10, 11, 12]]   \n",
       "77  [[0.5, 0.5], [7, 8, 9, 10, 11, 12]]   \n",
       "78  [[0.5, 0.5], [7, 8, 9, 10, 11, 12]]   \n",
       "79  [[0.5, 0.5], [7, 8, 9, 10, 11, 12]]   \n",
       "80  [[0.5, 0.5], [7, 8, 9, 10, 11, 12]]   \n",
       "81  [[0.5, 0.5], [7, 8, 9, 10, 11, 12]]   \n",
       "82  [[0.5, 0.5], [7, 8, 9, 10, 11, 12]]   \n",
       "83  [[0.5, 0.5], [7, 8, 9, 10, 11, 12]]   \n",
       "\n",
       "                                          highpass               ranfilter2  \\\n",
       "72  [[0.5, 0.5], [80, 81, 82, 83, 84, 85, 86, 87]]  [2, [8, 9, 10, 11, 12]]   \n",
       "73  [[0.5, 0.5], [80, 81, 82, 83, 84, 85, 86, 87]]  [2, [8, 9, 10, 11, 12]]   \n",
       "74  [[0.5, 0.5], [80, 81, 82, 83, 84, 85, 86, 87]]  [2, [8, 9, 10, 11, 12]]   \n",
       "75  [[0.5, 0.5], [80, 81, 82, 83, 84, 85, 86, 87]]  [2, [8, 9, 10, 11, 12]]   \n",
       "76  [[0.5, 0.5], [80, 81, 82, 83, 84, 85, 86, 87]]  [2, [8, 9, 10, 11, 12]]   \n",
       "77  [[0.5, 0.5], [80, 81, 82, 83, 84, 85, 86, 87]]  [2, [8, 9, 10, 11, 12]]   \n",
       "78  [[0.5, 0.5], [80, 81, 82, 83, 84, 85, 86, 87]]  [2, [8, 9, 10, 11, 12]]   \n",
       "79  [[0.5, 0.5], [80, 81, 82, 83, 84, 85, 86, 87]]  [2, [8, 9, 10, 11, 12]]   \n",
       "80  [[0.5, 0.5], [80, 81, 82, 83, 84, 85, 86, 87]]  [2, [8, 9, 10, 11, 12]]   \n",
       "81  [[0.5, 0.5], [80, 81, 82, 83, 84, 85, 86, 87]]  [2, [8, 9, 10, 11, 12]]   \n",
       "82  [[0.5, 0.5], [80, 81, 82, 83, 84, 85, 86, 87]]  [2, [8, 9, 10, 11, 12]]   \n",
       "83  [[0.5, 0.5], [80, 81, 82, 83, 84, 85, 86, 87]]  [2, [8, 9, 10, 11, 12]]   \n",
       "\n",
       "     mask   blur  \n",
       "72  18.38  16.43  \n",
       "73  15.59  15.20  \n",
       "74  18.46  18.46  \n",
       "75  18.91  17.37  \n",
       "76  19.01  19.16  \n",
       "77  19.08  18.46  \n",
       "78  13.32  14.57  \n",
       "79  13.32  13.77  \n",
       "80  11.67  14.64  \n",
       "81  16.36  15.41  \n",
       "82  17.76  14.47  \n",
       "83  15.97  14.33  "
      ]
     },
     "execution_count": 201,
     "metadata": {},
     "output_type": "execute_result"
    }
   ],
   "source": [
    "aug = df_add[df_add.aug==\"Mixup, LF, HF, RF\"][['model','aug','beta_param','lowpass','highpass','ranfilter2','mask','blur']]\n",
    "aug"
   ]
  },
  {
   "cell_type": "code",
   "execution_count": 202,
   "id": "0adef481",
   "metadata": {},
   "outputs": [
    {
     "data": {
      "text/plain": [
       "Ttest_indResult(statistic=0.5040449256574198, pvalue=0.6192403962464913)"
      ]
     },
     "execution_count": 202,
     "metadata": {},
     "output_type": "execute_result"
    }
   ],
   "source": [
    "# n이 작아서 p-value가 크게나옴\n",
    "ttest_ind(aug[\"mask\"],aug[\"blur\"],equal_var=True)"
   ]
  },
  {
   "cell_type": "code",
   "execution_count": 203,
   "id": "3aafaaaf",
   "metadata": {},
   "outputs": [
    {
     "data": {
      "text/plain": [
       "Ttest_relResult(statistic=0.9858110950663664, pvalue=0.345413310996709)"
      ]
     },
     "execution_count": 203,
     "metadata": {},
     "output_type": "execute_result"
    }
   ],
   "source": [
    "ttest_rel(aug[\"mask\"],aug[\"blur\"])"
   ]
  },
  {
   "cell_type": "code",
   "execution_count": null,
   "id": "54a4977c",
   "metadata": {},
   "outputs": [],
   "source": []
  }
 ],
 "metadata": {
  "kernelspec": {
   "display_name": "Environment (conda_tensorflow2.4_p37)",
   "language": "python",
   "name": "conda_tensorflow2.4_p37"
  },
  "language_info": {
   "codemirror_mode": {
    "name": "ipython",
    "version": 3
   },
   "file_extension": ".py",
   "mimetype": "text/x-python",
   "name": "python",
   "nbconvert_exporter": "python",
   "pygments_lexer": "ipython3",
   "version": "3.7.10"
  }
 },
 "nbformat": 4,
 "nbformat_minor": 5
}
